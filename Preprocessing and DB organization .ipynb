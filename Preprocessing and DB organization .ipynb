{
 "cells": [
  {
   "cell_type": "code",
   "execution_count": null,
   "id": "2ab3ab7c",
   "metadata": {},
   "outputs": [],
   "source": [
    "#pip install pandas"
   ]
  },
  {
   "cell_type": "code",
   "execution_count": null,
   "id": "5f6539c1",
   "metadata": {},
   "outputs": [],
   "source": [
    "from platform import python_version\n",
    "print(python_version())\n",
    "import pandas as pd \n",
    "import numpy as np\n",
    "import gc"
   ]
  },
  {
   "cell_type": "code",
   "execution_count": null,
   "id": "2014bfee",
   "metadata": {},
   "outputs": [],
   "source": [
    "Dataset_folder = \"./ml-25m\""
   ]
  },
  {
   "cell_type": "code",
   "execution_count": null,
   "id": "871e2469",
   "metadata": {},
   "outputs": [],
   "source": [
    "#movies = pd.read_csv(f\"{Dataset_folder}/movies.csv\")\n",
    "#ratings = pd.read_csv(f\"{Dataset_folder}/ratings.csv\", chunksize=1000, usecols = ['userId','movieId', 'rating'])\n",
    "#tags = pd.read_csv(f\"{Dataset_folder}/tags.csv\", usecols = ['userId','movieId', 'tag'])"
   ]
  },
  {
   "cell_type": "code",
   "execution_count": null,
   "id": "9779e80e",
   "metadata": {},
   "outputs": [],
   "source": []
  },
  {
   "cell_type": "code",
   "execution_count": null,
   "id": "45c45ba7",
   "metadata": {},
   "outputs": [],
   "source": [
    "#converts each users reviews to a list of tuples including the movieID and the \n",
    "def extract_users (fn):\n",
    "    users = {}\n",
    "    count = 0 \n",
    "    header = True\n",
    "    with pd.read_csv(fn, chunksize=10000) as reader:\n",
    "        for chunk in reader:\n",
    "            for index, row in chunk.iterrows():\n",
    "                count +=1 \n",
    "                if (row['userId'] not in users.keys()):\n",
    "                    users [row['userId']] = [(row['movieId'], row['rating'])]\n",
    "                else:\n",
    "                    users [row['userId']].append((row['movieId'], row['rating']))\n",
    "                if (count % 100000 == 0 ):\n",
    "                    tempdict = {\"userId\":list(users.keys())[:-1], \"ratings_list\":list(users.values())[:-1]}\n",
    "                    #print (tempdict)\n",
    "                    tempDF = pd.DataFrame.from_dict(tempdict)\n",
    "\n",
    "                    tempDF.to_csv(\"ratings_organized.csv\",header=header, mode='a')\n",
    "\n",
    "                    header = False\n",
    "                    \n",
    "                    for i, key in enumerate(list(users.keys())[:-1]):\n",
    "                        del users [key]\n",
    "                    del tempDF\n",
    "                    gc.collect()\n",
    "                    \n",
    "    \n",
    "    return users\n",
    "\n",
    "            \n",
    "    \n",
    "    "
   ]
  },
  {
   "cell_type": "code",
   "execution_count": null,
   "id": "abc9a154",
   "metadata": {},
   "outputs": [],
   "source": [
    "extract_users(f\"{Dataset_folder}/ratings.csv\")"
   ]
  },
  {
   "cell_type": "code",
   "execution_count": null,
   "id": "229a5d3b",
   "metadata": {},
   "outputs": [],
   "source": [
    "#organized_reviews.to_csv(\"organized_reviews.csv\", index=False, chunksize=10000 encoding='utf-8')"
   ]
  },
  {
   "cell_type": "code",
   "execution_count": null,
   "id": "3e79ac92",
   "metadata": {},
   "outputs": [],
   "source": []
  },
  {
   "cell_type": "markdown",
   "id": "3d87f6b0",
   "metadata": {},
   "source": [
    "## Mesuring user simillarity:\n",
    "\n",
    "### Case 1: Number of overlapping movies watched \n",
    "\n",
    "- going on a point based system we will add 100 points in the simillarity metric for every movie that both users have watched\n",
    "- we must later account for movies that they both watched but had different opinions of \n",
    "\n",
    "### Case 2: rating similarity for movies both users have watched\n",
    "\n",
    "- to properly mesure simillarity in taste we must also account for differences in opinions on movies two users have both watched \n",
    "- So we will subtract points based on a percentage of difference between the two users\n",
    "    - simillarity = simillarity - 100* (1-(rating user1/rating user 2))\n",
    "```\n",
    "Ex. \n",
    "movie: shawshank redemption\n",
    "user 1 rating: 1\n",
    "user 2 rating: 5 \n",
    "Case 1 :similarity = 100 for sharing the same film, \n",
    "Case 2: similarity = 100 - 100 *(1 - (1/5))  = 100 - 100(0.8) = 100 - 80 = 20 \n",
    "new simillarity is now 20 after it has been balenced for ratings\n",
    "```\n",
    "\n",
    "### Case 3:  overall genre prefrences of the users\n",
    "\n",
    "- We should also take into account general genre preferences as a mesure of simillarity. \n",
    "- we will also consider genre simillarity as a dividend of the percentage of each genre the user has watched \n",
    "- if 1000 points is the total afforded to each genre, simillarity will be incrmented by the following expression\n",
    "- for each genre\n",
    "    - similarity += 1000 * (precent of movies in certain genre for user 1/ percent for user 2)* the smaller percent from the two   users\n",
    "    \n",
    "    \n",
    "## final step:\n",
    "#### we will normalize all simillarity values between 0 and 1 using z normalization\n"
   ]
  },
  {
   "cell_type": "code",
   "execution_count": 1,
   "id": "cbc3f937",
   "metadata": {},
   "outputs": [
    {
     "name": "stdout",
     "output_type": "stream",
     "text": [
      "3.8.1\n"
     ]
    }
   ],
   "source": [
    "from platform import python_version\n",
    "print(python_version())\n",
    "import pandas as pd \n",
    "import numpy as np\n",
    "import gc"
   ]
  },
  {
   "cell_type": "code",
   "execution_count": 2,
   "id": "2563eb08",
   "metadata": {},
   "outputs": [],
   "source": [
    "Dataset_folder = \"./ml-25m\""
   ]
  },
  {
   "cell_type": "code",
   "execution_count": 3,
   "id": "f4a2ab9f",
   "metadata": {},
   "outputs": [],
   "source": [
    "Userratings = pd.read_csv(f\"./ratings_organized.csv\", usecols = ['userId', 'ratings_list'])"
   ]
  },
  {
   "cell_type": "code",
   "execution_count": 4,
   "id": "8490d216",
   "metadata": {},
   "outputs": [],
   "source": [
    "#Userratings"
   ]
  },
  {
   "cell_type": "code",
   "execution_count": 5,
   "id": "143b7ee2",
   "metadata": {},
   "outputs": [],
   "source": [
    "from pickle import dump,load"
   ]
  },
  {
   "cell_type": "code",
   "execution_count": 6,
   "id": "aa345a21",
   "metadata": {},
   "outputs": [],
   "source": [
    "movies = pd.read_csv(f\"{Dataset_folder}/movies.csv\",usecols = ['movieId','genres'])"
   ]
  },
  {
   "cell_type": "code",
   "execution_count": 7,
   "id": "ae66872f",
   "metadata": {},
   "outputs": [],
   "source": [
    "## only need to do this once \n",
    "# \"banana|apple\".split(\"|\")\n",
    "# genres = []\n",
    "# for index, row in movies.iterrows():\n",
    "#     gs = row['genres'].split(\"|\")\n",
    "#     for g in gs:\n",
    "#         if (g not in genres):\n",
    "#             genres.append(g)\n",
    "            \n",
    "# print(len(genres))\n",
    "# dump(genres, open(\"genresList.pkl\",\"wb\"))\n"
   ]
  },
  {
   "cell_type": "code",
   "execution_count": 8,
   "id": "432ade15",
   "metadata": {},
   "outputs": [],
   "source": [
    "file = open(\"genresList.pkl\",'rb')\n",
    "genres = load(file)\n",
    "file.close()"
   ]
  },
  {
   "cell_type": "code",
   "execution_count": 9,
   "id": "d52d16b7",
   "metadata": {},
   "outputs": [],
   "source": [
    "def create_genre_tracker ():\n",
    "    gt = {}\n",
    "    for g in genres:\n",
    "        gt[g] = 0 \n",
    "    return gt\n"
   ]
  },
  {
   "cell_type": "code",
   "execution_count": 10,
   "id": "b12a74a3",
   "metadata": {},
   "outputs": [
    {
     "name": "stdout",
     "output_type": "stream",
     "text": [
      "Adventure|Animation|Children|Comedy|Fantasy\n"
     ]
    }
   ],
   "source": [
    "result =movies.loc[movies['movieId'] == 1 ,'genres'].values[0]\n",
    "print(result)"
   ]
  },
  {
   "cell_type": "code",
   "execution_count": 11,
   "id": "31edbff3",
   "metadata": {},
   "outputs": [],
   "source": [
    "import ast\n",
    "def compute_simillarity_ratings (l1,l2):\n",
    "    l1_dict = dict(l1)\n",
    "    l2_dict = dict(l2)\n",
    "    simillarity = 0 \n",
    "    \n",
    "    genre_tracker1 = create_genre_tracker ()\n",
    "    genre_tracker2 = create_genre_tracker ()\n",
    "    \n",
    "    l2_keys = list(l2_dict.keys())\n",
    "    for key in l1_dict.keys():\n",
    "        m1_genres = movies.loc[movies['movieId'] == key  ,'genres'].values[0].split(\"|\")\n",
    "        for mg in m1_genres:\n",
    "            genre_tracker1 [mg] +=1\n",
    "        if key in l2_keys:\n",
    "            r1 = l1_dict [key]\n",
    "            r2 = l2_dict [key]\n",
    "            if (r1 < r2):\n",
    "                simillarity += 100*(r1/r2)\n",
    "            else:\n",
    "                simillarity+= 100*(r2/r1) \n",
    "                \n",
    "    for key in l2_keys:\n",
    "        m2_genres = movies.loc[movies['movieId'] == key  ,'genres'].values[0].split(\"|\")\n",
    "        for mg in m2_genres:\n",
    "            genre_tracker2 [mg] +=1\n",
    "            \n",
    "    genre_simillarity =  0 \n",
    "    for g in genres:\n",
    "        tempg1 = genre_tracker1 [g]\n",
    "        tempg2 = genre_tracker2 [g]\n",
    "        if (tempg1 > 0 or tempg2 >0):\n",
    "            genre_simillarity += (1000* (min(tempg1,tempg2)/max(tempg1,tempg2))* min (tempg1,tempg2))\n",
    "        \n",
    "    return genre_simillarity + simillarity\n",
    "                \n",
    "        \n",
    "        "
   ]
  },
  {
   "cell_type": "code",
   "execution_count": 12,
   "id": "8917ed35",
   "metadata": {},
   "outputs": [
    {
     "name": "stdout",
     "output_type": "stream",
     "text": [
      "100000\n"
     ]
    }
   ],
   "source": [
    "num_users = len(Userratings.sample(n=100000).index)\n",
    "del Userratings\n",
    "gc.collect()\n",
    "print(num_users)"
   ]
  },
  {
   "cell_type": "code",
   "execution_count": 13,
   "id": "cd66c77a",
   "metadata": {},
   "outputs": [],
   "source": [
    "#converts each users reviews to a list of tuples including the movieID and the \n",
    "def save_simillarity (fn,numsamples):\n",
    "    user_similarity = {}\n",
    "    df = pd.read_csv(fn).sample(n=numsamples)\n",
    "    header = True\n",
    "    for index, row in df.iterrows():\n",
    "        for i in range (0,len(df.index)):\n",
    "            rev1 = ast.literal_eval (row[\"ratings_list\"])\n",
    "            rev2 = ast.literal_eval(df.iloc[[i]] [\"ratings_list\"].tolist()[0])\n",
    "            if (row['userId'] not in user_similarity.keys()):\n",
    "                user_similarity [row['userId']] = [compute_simillarity_ratings(rev1,rev2)]\n",
    "            else:\n",
    "                user_similarity [row['userId']].append(compute_simillarity_ratings(rev1,rev2))\n",
    "\n",
    "        if (index % 100 == 0 or index == len(df.index)-1 ):\n",
    "            print(index)\n",
    "            tempdict = {\"userId\":list(user_similarity.keys())[:-1], \"simillarity_vector\":list(user_similarity.values())[:-1]}\n",
    "            #print (tempdict)\n",
    "            tempDF = pd.DataFrame.from_dict(tempdict)\n",
    "\n",
    "            tempDF.to_csv(\"simillarity_matrix.csv\",header=header, mode='a')\n",
    "\n",
    "            header = False\n",
    "\n",
    "            for i, key in enumerate(list(user_similarity.keys())[:-1]):\n",
    "                del user_similarity [key]\n",
    "            del tempDF\n",
    "            gc.collect()\n",
    "\n",
    "    \n",
    "    return"
   ]
  },
  {
   "cell_type": "code",
   "execution_count": null,
   "id": "7d92aee4",
   "metadata": {},
   "outputs": [],
   "source": [
    "save_simillarity(f\"./ratings_organized.csv\",100000)"
   ]
  },
  {
   "cell_type": "code",
   "execution_count": null,
   "id": "b590bd17",
   "metadata": {},
   "outputs": [],
   "source": [
    "print(type([1,2,3]))"
   ]
  },
  {
   "cell_type": "code",
   "execution_count": null,
   "id": "0e7f7d79",
   "metadata": {},
   "outputs": [],
   "source": []
  },
  {
   "cell_type": "code",
   "execution_count": null,
   "id": "39767bf8",
   "metadata": {},
   "outputs": [],
   "source": []
  },
  {
   "cell_type": "code",
   "execution_count": null,
   "id": "5fc3f920",
   "metadata": {},
   "outputs": [],
   "source": []
  }
 ],
 "metadata": {
  "kernelspec": {
   "display_name": "Python 3",
   "language": "python",
   "name": "python3"
  },
  "language_info": {
   "codemirror_mode": {
    "name": "ipython",
    "version": 3
   },
   "file_extension": ".py",
   "mimetype": "text/x-python",
   "name": "python",
   "nbconvert_exporter": "python",
   "pygments_lexer": "ipython3",
   "version": "3.8.1"
  }
 },
 "nbformat": 4,
 "nbformat_minor": 5
}
