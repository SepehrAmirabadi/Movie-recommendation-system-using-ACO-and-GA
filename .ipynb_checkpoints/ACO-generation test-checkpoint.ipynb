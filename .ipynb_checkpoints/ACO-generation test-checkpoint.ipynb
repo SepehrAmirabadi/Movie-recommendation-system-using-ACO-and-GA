{
 "cells": [
  {
   "cell_type": "markdown",
   "id": "3c3d430d",
   "metadata": {},
   "source": [
    "# Ant Colony Optimization\n",
    "\n",
    "### Ant class: the “agents” that will be traversing the graph.\n",
    "\n",
    "\n",
    "### Ant colony: a colony of ants. It is responsible for moving ants to their starting node as well as prompting the ants to move to the next node on their “journey”.\n",
    "\n",
    "\n",
    "### Ant graph: the graph our agents will be traversing over\n",
    "\n",
    "\n",
    "### Task: the task the ants will complete (\"watch\" movies and rate them)"
   ]
  },
  {
   "cell_type": "code",
   "execution_count": 1,
   "id": "dae87c01",
   "metadata": {},
   "outputs": [],
   "source": [
    "import ast \n",
    "import random \n",
    "import numpy as np\n",
    "import pandas as pd\n",
    "import copy\n",
    "import gc\n",
    "from tqdm import tqdm"
   ]
  },
  {
   "cell_type": "code",
   "execution_count": 2,
   "id": "1e9147f9",
   "metadata": {},
   "outputs": [],
   "source": [
    "#lets think about our cost function for a bit\n",
    "# we want to use the users ratings to "
   ]
  },
  {
   "cell_type": "code",
   "execution_count": 3,
   "id": "4cb61d8a",
   "metadata": {},
   "outputs": [],
   "source": [
    "class Ant: \n",
    "    \n",
    "    def __init__(self, review_list):\n",
    "        self.trail = []\n",
    "        self.visited_jobs = []\n",
    "        self.review_list = []\n",
    "        self.current_film = 0;\n",
    "        self.review_list = sorted(self.review_list, key=lambda x: x[1])\n",
    "    \n",
    "    def trail_len(self):\n",
    "        return len(self.trail)\n",
    "    \n",
    "    def get_trail(self):\n",
    "        return self.trail\n",
    "    \n",
    "    def get_current(self):\n",
    "        return self.current_film\n",
    "    \n",
    "    def has_visited (self,i):\n",
    "        self.visited_jobs[i]\n",
    "        \n",
    "    def watch_movie (self,movieID):\n",
    "        self.current_film = movieID\n",
    "        self.trail.append(movieID)\n",
    "        \n",
    "    def clear (self):\n",
    "        del self.trail[:]\n",
    "        self.visited_jobs = []\n",
    "        self.current_film = 0;\n",
    "        \n",
    "        \n",
    "    #get user review for specific movie returns a neutral rating of 2.5 if it does not exist\n",
    "    def get_task_cost(self,movieID):\n",
    "        cost = [y for x, y in self.review_list if x == movieID ]\n",
    "        return  2.5 if cost == [] else cost[0]    "
   ]
  },
  {
   "cell_type": "code",
   "execution_count": 4,
   "id": "8950c088",
   "metadata": {},
   "outputs": [],
   "source": [
    "class AntColony:\n",
    "    \n",
    "    \n",
    "    def __init__(self,antID_list,filename,alpha =0.5,beta = 0.4 ):\n",
    "        user_reviews =  pd.read_csv(filename)\n",
    "        self.ants = []\n",
    "        self.alpha = alpha\n",
    "        self.beta = beta\n",
    "        \n",
    "        for ID in antID_list:\n",
    "            rev = ast.literal_eval(user_reviews.loc[user_reviews['userId'] == ID][\"ratings_list\"].tolist()[0])\n",
    "            new_ant = Ant(rev)\n",
    "            self.ants.append(new_ant)\n",
    "    \n",
    "        \n",
    "        \n",
    "    def prob_fx (self,rating, current_weight,sum_weights):\n",
    "        prob = ((current_weight ** self.alpha) * (rating ** self.beta)) / sum_weights\n",
    "        return prob\n",
    "            \n",
    "        \n",
    "    def move_all_ants (self,edge_weights):\n",
    "#         print(\"moving all ants\")\n",
    "#         print(f\"num ants: {len(self.ants)}\")\n",
    "        for ant in self.ants:\n",
    "            movie_id = self.determine_next_movie(ant,edge_weights[ant.get_current ()])\n",
    "            ant.watch_movie(movie_id)\n",
    "\n",
    "    def prep_for_test (self): \n",
    "        self.alpha = 0.9 \n",
    "        self.beta = 0.1\n",
    "        \n",
    "    def return_all_tours(self):\n",
    "        t = []\n",
    "        #print(f\"Num ants : {len(self.ants)}\")\n",
    "        for ant in self.ants:\n",
    "            #print(len(ant.get_trail()))\n",
    "            if (len(ant.get_trail()) > 20):\n",
    "                print(ant.get_trail())\n",
    "            \n",
    "            t.append(ant.get_trail())\n",
    "        \n",
    "        ## will be used for global pheremone updating \n",
    "        \n",
    "        #print(len(t))\n",
    "        return t\n",
    "    \n",
    "    #here we use the index of the ant rather than its ID \n",
    "    def get_ant_rating (self,antIndex,movieID):\n",
    "        return self.ants[antIndex].get_task_cost(movieID)\n",
    "    \n",
    "    def clear (self):\n",
    "        for ant in self.ants:\n",
    "            ant.clear()\n",
    "        \n",
    "            \n",
    "    def determine_next_movie(self,ant,edge_weights):\n",
    "        current_movie = ant.get_current ()\n",
    "        trail = ant.trail\n",
    "        temp_weights = {}\n",
    "        probs = {}\n",
    "        sum_cost = 0 \n",
    "        \n",
    "        #removes all nodes we have already visited\n",
    "        for ew in edge_weights.keys():\n",
    "            if (ew not in ant.trail):\n",
    "                temp_weights [ew] = edge_weights[ew]\n",
    "\n",
    "        # getting sum cost\n",
    "        for vertex in temp_weights.keys():\n",
    "            if (vertex not in ant.get_trail()):\n",
    "                rating = ant.get_task_cost(vertex)\n",
    "                weight = temp_weights[vertex]\n",
    "                sum_cost += ((weight ** self.alpha) * (rating ** self.beta))\n",
    "            \n",
    "        for vertex in temp_weights.keys():\n",
    "            if (vertex not in ant.get_trail() and vertex != 0 ):\n",
    "                rating = ant.get_task_cost(vertex)\n",
    "                weight = temp_weights[vertex]\n",
    "                probs[vertex] = self.prob_fx(rating,weight,sum_cost)\n",
    "            \n",
    "            \n",
    "#         print(f\"Probs : {probs.keys()}\")\n",
    "        #Chooses the next film based on probabilities \n",
    "        #print (random.choices(list(probs.keys()), weights= list(probs.values()), k=1)[0])\n",
    "        try:\n",
    "            choice = random.choices(list(probs.keys()), weights= list(probs.values()), k=1)\n",
    "        except:\n",
    "            temp = [k for k in edge_weights.keys()] \n",
    "            choice = random.choice(temp)\n",
    "        return 0 if choice == [] else choice[0]\n",
    "        \n",
    "                "
   ]
  },
  {
   "cell_type": "code",
   "execution_count": 5,
   "id": "6508bb6d",
   "metadata": {},
   "outputs": [],
   "source": [
    "class Task:\n",
    "    title = \"\"\n",
    "    genres = \"\"\n",
    "    mID = None\n",
    "    \n",
    "    def __init__(self, movie,movie_details):\n",
    "        self.mId = movie\n",
    "        self.title = movie_details[\"title\"]\n",
    "        self.genres = movie_details[\"genres\"]\n",
    "    \n",
    "    "
   ]
  },
  {
   "cell_type": "code",
   "execution_count": 6,
   "id": "080ebc30",
   "metadata": {},
   "outputs": [],
   "source": [
    "class Ant_Graph:\n",
    "    \n",
    "    best_recommendations = []\n",
    "    \n",
    "    def __init__(self, movie_list,task_list, num_ants,num_movies_wanted,antID_list, filename = \"./generation_saves/ratings_gen_50.csv\", alpha =0.6, beta= 0.4, decay = 0.05):\n",
    "        self.num_ants = num_ants\n",
    "        self.trail_max_len = num_movies_wanted\n",
    "        self.vertices = task_list\n",
    "        self.decay = decay\n",
    "        self.graph_edge_weights = {}\n",
    "        \n",
    "        for movieID in movie_list:\n",
    "            if (movieID not in self.graph_edge_weights.keys()):\n",
    "                self.graph_edge_weights[movieID] = {}\n",
    "            for m in movie_list:\n",
    "                if (m != movieID):\n",
    "                    self.graph_edge_weights[movieID][m] = 0.5\n",
    "        \n",
    "        #creating a start node that does not belong to a movie, all agents will start there\n",
    "        self.graph_edge_weights[0] = {}\n",
    "        for movieID in movie_list:\n",
    "            if (movieID != 0):\n",
    "                self.graph_edge_weights[0][movieID] = 0.5\n",
    "            \n",
    "        self.ants = AntColony(antID_list,filename,alpha,beta)\n",
    "            \n",
    "    def clear(self): \n",
    "        self.graph_edge_weights = {}\n",
    "        self.verticies   = None\n",
    "        self.trail_max_len = 0\n",
    "        self.num_ants = 0 \n",
    "        self.decay = 0 \n",
    "        self.ants.clear()\n",
    "        self.ants = None\n",
    "        self.best_recommendations = []\n",
    "                    \n",
    "                    \n",
    "    def update_edge_weights (self):\n",
    "        \n",
    "        # we will chqnge the pheremones based on how much the user enjoyed that set (\"trail\") of movies\n",
    "        # it will be calculated as   cumulative_trail_Raitings/ total_possible ratings, bound between 0 and 1 \n",
    "        cumulative_ratings =  {}\n",
    "        tours = self.ants.return_all_tours()\n",
    "        for i,tour in enumerate(tours):\n",
    "            prev = 0 \n",
    "            for movie in tour:\n",
    "#                 print(len(tour))\n",
    "                curr = movie\n",
    "                rating = self.ants.get_ant_rating(i,movie)\n",
    "                if (prev not in list(cumulative_ratings.keys()) ):\n",
    "                     cumulative_ratings[prev] = {}\n",
    "                if (curr not in list(cumulative_ratings [prev].keys())):\n",
    "                    cumulative_ratings [prev][curr] = rating\n",
    "                else:\n",
    "                    cumulative_ratings [prev][curr] += rating\n",
    "                \n",
    "                prev = curr\n",
    "            \n",
    "        for startnode in cumulative_ratings.keys():\n",
    "            for nextnode in cumulative_ratings[startnode].keys():\n",
    "                self.graph_edge_weights[startnode][nextnode] *= (1- self.decay)\n",
    "                self.graph_edge_weights[startnode][nextnode] += (cumulative_ratings[startnode][nextnode] / (5* self.trail_max_len))\n",
    "                \n",
    "        del cumulative_ratings\n",
    "    \n",
    "\n",
    "    def compute_best_rec (self,exclude_list):\n",
    "        temp_list = []\n",
    "        self.ants.prep_for_test()\n",
    "        while (len(temp_list)< self.trail_max_len):\n",
    "            test_ant = Ant([])\n",
    "            nextid = self.ants.determine_next_movie(test_ant,self.graph_edge_weights [test_ant.get_current()])\n",
    "            test_ant.watch_movie(nextid)\n",
    "            if (nextid not in exclude_list):\n",
    "                temp_list.append(nextid)\n",
    "        test_ant.clear()\n",
    "        print(len(test_ant.trail))\n",
    "        del test_ant\n",
    "        \n",
    "        return temp_list\n",
    "    \n",
    "    def best_recomendations (self):\n",
    "        return self.best_recommendations\n",
    "    \n",
    "    def one_iter (self): \n",
    "#         print(\"running one iteration: \\n -------------------------------\")\n",
    "        #print(f\" trail max len : {self.trail_max_len}\")\n",
    "        self.ants.clear()\n",
    "        for step in range(0,self.trail_max_len):\n",
    "            #print(\"test\")\n",
    "            self.ants.move_all_ants(self.graph_edge_weights)\n",
    "            \n",
    "        self.update_edge_weights()\n",
    "        self.ants.clear()\n",
    "        \n",
    "                \n",
    "        \n",
    "        "
   ]
  },
  {
   "cell_type": "code",
   "execution_count": 7,
   "id": "9a3c0130",
   "metadata": {},
   "outputs": [],
   "source": [
    "from pickle import load\n",
    "file = open(\"genresList.pkl\",'rb')\n",
    "genres = load(file)\n",
    "file.close()\n",
    "\n",
    "def create_genre_tracker ():\n",
    "    gt = {}\n",
    "    for g in genres:\n",
    "        gt[g] = 0 \n",
    "    return gt\n",
    "\n",
    "\n",
    "sim_df =  pd.read_csv(\"./simillarity_matrix.csv\")\n",
    "all_vals = []\n",
    "\n",
    "for index, row in sim_df.iterrows():\n",
    "    sim_list = ast.literal_eval(row[\"simillarity_vector\"])\n",
    "    all_vals += sim_list\n",
    "\n",
    "max_sim = max(all_vals)\n",
    "min_Sim = min(all_vals)\n",
    "\n",
    "def z_normalization (val):\n",
    "    return (val-min_Sim)/(max_sim - min_Sim)\n",
    "\n"
   ]
  },
  {
   "cell_type": "code",
   "execution_count": 8,
   "id": "8580bc25",
   "metadata": {},
   "outputs": [],
   "source": [
    "def compute_simillarity_ratings (l1,l2,movies):\n",
    "    l1_dict = dict(l1)\n",
    "    l2_dict = dict(l2)\n",
    "    simillarity = 0 \n",
    "    \n",
    "    genre_tracker1 = create_genre_tracker ()\n",
    "    genre_tracker2 = create_genre_tracker ()\n",
    "    \n",
    "    l2_keys = list(l2_dict.keys())\n",
    "    for key in l1_dict.keys():\n",
    "        m1_genres = movies.loc[movies['movieId'] == key  ,'genres'].values[0].split(\"|\")\n",
    "        for mg in m1_genres:\n",
    "            genre_tracker1 [mg] +=1\n",
    "        if key in l2_keys:\n",
    "            r1 = l1_dict [key]\n",
    "            r2 = l2_dict [key]\n",
    "            if (r1 < r2):\n",
    "                simillarity += 100*(r1/r2)\n",
    "            else:\n",
    "                simillarity+= 100*(r2/r1) \n",
    "                \n",
    "    for key in l2_keys:\n",
    "        try: \n",
    "            m2_genres = movies.loc[movies['movieId'] == key  ,'genres'].values[0].split(\"|\")\n",
    "            for mg in m2_genres:\n",
    "                genre_tracker2 [mg] +=1\n",
    "        except:\n",
    "            continue\n",
    "            \n",
    "    genre_simillarity =  0 \n",
    "    for g in genres:\n",
    "        tempg1 = genre_tracker1 [g]\n",
    "        tempg2 = genre_tracker2 [g]\n",
    "        if (tempg1 > 0 or tempg2 >0):\n",
    "            genre_simillarity += (1000* (min(tempg1,tempg2)/max(tempg1,tempg2))* min (tempg1,tempg2))\n",
    "        \n",
    "    return z_normalization(genre_simillarity + simillarity)"
   ]
  },
  {
   "cell_type": "code",
   "execution_count": 9,
   "id": "d4586604",
   "metadata": {},
   "outputs": [],
   "source": [
    "def compute_simillarity_vector (ratings_df, userlist,movies,exclude_users):\n",
    "    simillarity_dict = {}\n",
    "    \n",
    "    for index, row in ratings_df.iterrows():\n",
    "        user2list = ast.literal_eval (row[\"ratings_list\"])\n",
    "        simillarity_dict [row[\"userId\"]] = compute_simillarity_ratings (userlist,user2list,movies)\n",
    "        \n",
    "    for u in exclude_users:\n",
    "        if (u in simillarity_dict.keys()):\n",
    "            del simillarity_dict[u]\n",
    "        \n",
    "    return [(k,v) for k ,v in simillarity_dict.items()]"
   ]
  },
  {
   "cell_type": "code",
   "execution_count": 10,
   "id": "06a097b1",
   "metadata": {},
   "outputs": [],
   "source": [
    "def select_similar_users(num_agents,user_ratings,exclude_users, userlist,movies, randomize = False):\n",
    "    if ( not randomize):\n",
    "        sim_vec = compute_simillarity_vector (user_ratings, userlist,movies,exclude_users) \n",
    "    \n",
    "            \n",
    "        sim_vec.sort(key=lambda pair: pair[1])\n",
    "        return [a[0] for a in sim_vec[-num_agents:]]\n",
    "    else: \n",
    "        userids = list (range(1,len(user_ratings.index)))\n",
    "        return random.sample(userids, num_agents);"
   ]
  },
  {
   "cell_type": "code",
   "execution_count": 11,
   "id": "be8e7640",
   "metadata": {},
   "outputs": [],
   "source": [
    "def main (num_agents, num_iter, num_movies,exclude_users =[], userlist = [],rating_fn = \"./generation_saves/ratings_gen_50.csv\", simillarility_fn = \"./simillarity_matrix_normalized.csv\", alpha= 0.7,beta =0.3,decay=0.05):\n",
    "    # import datasets\n",
    "    print (\"importing datasets....\")\n",
    "    sim_df  = pd.read_csv(simillarility_fn)\n",
    "    movies  = pd.read_csv(f\"./ml-latest-small/movies.csv\")\n",
    "    user_ratings = pd.read_csv(rating_fn)\n",
    "    \n",
    "    ## if userlist is empty pick 50 random users as agents\n",
    "    rand = (len(userlist) == 0)\n",
    "        \n",
    "    ## if not empty userlist will be the most simillar users \n",
    "    print(f\"selecting {num_agents} simillar users...\")\n",
    "    users = select_similar_users(num_agents, user_ratings,exclude_users, userlist,movies, randomize = rand)\n",
    "    \n",
    "    ## determining all the movies that these users watched\n",
    "    print(\"configuring movie formatting...\")\n",
    "    movie_list = []\n",
    "    tasks = []\n",
    "    for uID in users:\n",
    "        film_list = ast.literal_eval(user_ratings.loc[user_ratings['userId'] == uID][\"ratings_list\"].tolist()[0])\n",
    "        for film,rating in film_list:\n",
    "            if (film not in movie_list):\n",
    "                movie_list.append(film)\n",
    "                tasks.append(Task(film,movies.loc[movies['movieId'] == film]))\n",
    "    \n",
    "    ## define the graph\n",
    "    print(\"creating the Graph...\")\n",
    "    graph = Ant_Graph(movie_list,tasks, num_agents ,num_movies, users, filename = rating_fn , alpha=alpha , beta= beta, decay = decay)\n",
    "    print(f\"Staring training fo {num_iter} iterations...\")\n",
    "    for i in tqdm(range (0,num_iter)):\n",
    "        graph.one_iter()\n",
    "        \n",
    "    movies_user_already_watched = [mid for mid,rate in userlist ]\n",
    "    recs = graph.compute_best_rec (movies_user_already_watched)\n",
    "    print(f\"Recommended ID's: {recs}\")\n",
    "    \n",
    "    \n",
    "    ## Adding some cleanup code to clear all vars because for some reason every second call to main was failing \n",
    "    graph.clear()\n",
    "    del graph, movie_list, tasks, rand, users, user_ratings,sim_df,movies\n",
    "    gc.collect()\n",
    "    \n",
    "    return recs"
   ]
  },
  {
   "cell_type": "markdown",
   "id": "2db822e7",
   "metadata": {},
   "source": [
    "## Training and testing \n",
    "\n",
    "### training \n",
    "\n",
    "Training is rather trivial, all weneed to do is make an appropriate call to main()\n",
    "\n",
    "### testing\n",
    "\n",
    "Testing is a bit more difficult. We do not have a list of people who have volunteered to test the system by watching the recomendations and rating them so we have to get creative. We can set a few users in our existing dataset as \"test users\" then we will take the first k ratings of the user as input/\"user history\" and the n-k as \"test ratings\" . We will determine how good the recomendations are using the percentage of the reccomendations that appear in the \"test ratings list and by comparing the ratings for movies that are in both. "
   ]
  },
  {
   "cell_type": "code",
   "execution_count": 12,
   "id": "2dad2c33",
   "metadata": {},
   "outputs": [],
   "source": [
    "# evaluation metric\n",
    "def evaluate_reccomendations (recs, test_set):\n",
    "    missing_recs =0 \n",
    "    ratings = []\n",
    "    for movieID in recs: \n",
    "        rating = next((y for x, y in test_set if x == movieID ), None)\n",
    "        if (rating == None):\n",
    "            missing_recs+=1\n",
    "        else: \n",
    "            ratings.append(rating)\n",
    "            \n",
    "    percent_overlap = (len(recs) - missing_recs) / len(recs)\n",
    "    \n",
    "    rating_accuracy = 0.5\n",
    "    if (len(ratings) > 0):\n",
    "        rating_accuracy = sum(ratings) / (5*len(ratings))\n",
    "    \n",
    "    return percent_overlap, rating_accuracy"
   ]
  },
  {
   "cell_type": "code",
   "execution_count": 13,
   "id": "fd2c34a5",
   "metadata": {},
   "outputs": [],
   "source": [
    "### get 50 test users \n",
    "user_ratings = pd.read_csv(\"./ratings_organized.csv\")\n",
    "chosen_users = random.sample (list(range (0, len(user_ratings.index))),50)  ## we will pass this to main to make sure our train data does not include it \n",
    "\n",
    "train_revs, test_revs = [], []\n",
    "for i in chosen_users:\n",
    "    user_rev  = ast.literal_eval(user_ratings.iloc[[i]] [\"ratings_list\"].tolist()[0])\n",
    "    split_index = int (len(user_rev) * 0.5)\n",
    "    train_revs.append(user_rev[:split_index])\n",
    "    test_revs.append(user_rev[split_index:])\n",
    "    \n"
   ]
  },
  {
   "cell_type": "markdown",
   "id": "305015fd",
   "metadata": {},
   "source": [
    "# Testing now with different Configs "
   ]
  },
  {
   "cell_type": "markdown",
   "id": "35da543d",
   "metadata": {},
   "source": [
    "## test different generation to observe impact of Genetic algorithm"
   ]
  },
  {
   "cell_type": "code",
   "execution_count": 14,
   "id": "d529b513",
   "metadata": {},
   "outputs": [
    {
     "name": "stdout",
     "output_type": "stream",
     "text": [
      "running training and testing for user 0\n",
      " --------------------------------------------\n",
      "importing datasets....\n",
      "selecting 30 simillar users...\n",
      "configuring movie formatting...\n",
      "creating the Graph...\n",
      "Staring training fo 30 iterations...\n"
     ]
    },
    {
     "name": "stderr",
     "output_type": "stream",
     "text": [
      "100%|████████████████████████████████████████████████████████████████████████████████████████████████████| 30/30 [00:08<00:00,  3.43it/s]\n"
     ]
    },
    {
     "name": "stdout",
     "output_type": "stream",
     "text": [
      "0\n",
      "Recommended ID's: [3826.0, 2511.0, 3510.0, 8950.0, 550.0]\n",
      "running training and testing for user 1\n",
      " --------------------------------------------\n",
      "importing datasets....\n",
      "selecting 30 simillar users...\n",
      "configuring movie formatting...\n",
      "creating the Graph...\n",
      "Staring training fo 30 iterations...\n"
     ]
    },
    {
     "name": "stderr",
     "output_type": "stream",
     "text": [
      "100%|████████████████████████████████████████████████████████████████████████████████████████████████████| 30/30 [00:03<00:00,  8.69it/s]\n"
     ]
    },
    {
     "name": "stdout",
     "output_type": "stream",
     "text": [
      "0\n",
      "Recommended ID's: [5816.0, 1188.0, 2136.0, 2605.0, 96606.0]\n",
      "running training and testing for user 2\n",
      " --------------------------------------------\n",
      "importing datasets....\n",
      "selecting 30 simillar users...\n",
      "configuring movie formatting...\n",
      "creating the Graph...\n",
      "Staring training fo 30 iterations...\n"
     ]
    },
    {
     "name": "stderr",
     "output_type": "stream",
     "text": [
      "100%|████████████████████████████████████████████████████████████████████████████████████████████████████| 30/30 [00:02<00:00, 11.07it/s]\n"
     ]
    },
    {
     "name": "stdout",
     "output_type": "stream",
     "text": [
      "0\n",
      "Recommended ID's: [261.0, 2490.0, 2167.0, 2762.0, 1213.0]\n",
      "running training and testing for user 3\n",
      " --------------------------------------------\n",
      "importing datasets....\n",
      "selecting 30 simillar users...\n",
      "configuring movie formatting...\n",
      "creating the Graph...\n",
      "Staring training fo 30 iterations...\n"
     ]
    },
    {
     "name": "stderr",
     "output_type": "stream",
     "text": [
      "100%|████████████████████████████████████████████████████████████████████████████████████████████████████| 30/30 [00:22<00:00,  1.36it/s]\n"
     ]
    },
    {
     "name": "stdout",
     "output_type": "stream",
     "text": [
      "0\n",
      "Recommended ID's: [128908.0, 3418.0, 1608.0, 111800.0, 182297.0]\n",
      "running training and testing for user 4\n",
      " --------------------------------------------\n",
      "importing datasets....\n",
      "selecting 30 simillar users...\n",
      "configuring movie formatting...\n",
      "creating the Graph...\n",
      "Staring training fo 30 iterations...\n"
     ]
    },
    {
     "name": "stderr",
     "output_type": "stream",
     "text": [
      "100%|████████████████████████████████████████████████████████████████████████████████████████████████████| 30/30 [00:03<00:00,  8.02it/s]\n"
     ]
    },
    {
     "name": "stdout",
     "output_type": "stream",
     "text": [
      "0\n",
      "Recommended ID's: [4744.0, 1438.0, 7293.0, 3408.0, 527.0]\n",
      "running training and testing for user 5\n",
      " --------------------------------------------\n",
      "importing datasets....\n",
      "selecting 30 simillar users...\n",
      "configuring movie formatting...\n",
      "creating the Graph...\n",
      "Staring training fo 30 iterations...\n"
     ]
    },
    {
     "name": "stderr",
     "output_type": "stream",
     "text": [
      "100%|████████████████████████████████████████████████████████████████████████████████████████████████████| 30/30 [00:03<00:00,  9.63it/s]\n"
     ]
    },
    {
     "name": "stdout",
     "output_type": "stream",
     "text": [
      "0\n",
      "Recommended ID's: [2395.0, 115713.0, 440.0, 6539.0, 8961.0]\n",
      "running training and testing for user 6\n",
      " --------------------------------------------\n",
      "importing datasets....\n",
      "selecting 30 simillar users...\n",
      "configuring movie formatting...\n",
      "creating the Graph...\n",
      "Staring training fo 30 iterations...\n"
     ]
    },
    {
     "name": "stderr",
     "output_type": "stream",
     "text": [
      "100%|████████████████████████████████████████████████████████████████████████████████████████████████████| 30/30 [00:10<00:00,  2.85it/s]\n"
     ]
    },
    {
     "name": "stdout",
     "output_type": "stream",
     "text": [
      "0\n",
      "Recommended ID's: [1127.0, 2321.0, 7325.0, 2010.0, 85.0]\n",
      "running training and testing for user 7\n",
      " --------------------------------------------\n",
      "importing datasets....\n",
      "selecting 30 simillar users...\n",
      "configuring movie formatting...\n",
      "creating the Graph...\n",
      "Staring training fo 30 iterations...\n"
     ]
    },
    {
     "name": "stderr",
     "output_type": "stream",
     "text": [
      "100%|████████████████████████████████████████████████████████████████████████████████████████████████████| 30/30 [00:04<00:00,  6.20it/s]\n"
     ]
    },
    {
     "name": "stdout",
     "output_type": "stream",
     "text": [
      "0\n",
      "Recommended ID's: [112623.0, 33493.0, 44022.0, 24.0, 1207.0]\n",
      "running training and testing for user 8\n",
      " --------------------------------------------\n",
      "importing datasets....\n",
      "selecting 30 simillar users...\n",
      "configuring movie formatting...\n",
      "creating the Graph...\n",
      "Staring training fo 30 iterations...\n"
     ]
    },
    {
     "name": "stderr",
     "output_type": "stream",
     "text": [
      "100%|████████████████████████████████████████████████████████████████████████████████████████████████████| 30/30 [00:04<00:00,  6.48it/s]\n"
     ]
    },
    {
     "name": "stdout",
     "output_type": "stream",
     "text": [
      "0\n",
      "Recommended ID's: [1719.0, 5991.0, 2961.0, 6936.0, 2805.0]\n",
      "running training and testing for user 9\n",
      " --------------------------------------------\n",
      "importing datasets....\n",
      "selecting 30 simillar users...\n",
      "configuring movie formatting...\n",
      "creating the Graph...\n",
      "Staring training fo 30 iterations...\n"
     ]
    },
    {
     "name": "stderr",
     "output_type": "stream",
     "text": [
      "100%|████████████████████████████████████████████████████████████████████████████████████████████████████| 30/30 [00:04<00:00,  6.40it/s]\n"
     ]
    },
    {
     "name": "stdout",
     "output_type": "stream",
     "text": [
      "0\n",
      "Recommended ID's: [3745.0, 1641.0, 613.0, 2053.0, 2359.0]\n",
      "running training and testing for user 10\n",
      " --------------------------------------------\n",
      "importing datasets....\n",
      "selecting 30 simillar users...\n",
      "configuring movie formatting...\n",
      "creating the Graph...\n",
      "Staring training fo 30 iterations...\n"
     ]
    },
    {
     "name": "stderr",
     "output_type": "stream",
     "text": [
      "100%|████████████████████████████████████████████████████████████████████████████████████████████████████| 30/30 [00:37<00:00,  1.26s/it]\n"
     ]
    },
    {
     "name": "stdout",
     "output_type": "stream",
     "text": [
      "0\n",
      "Recommended ID's: [49910.0, 1419.0, 5309.0, 714.0, 79357.0]\n",
      "running training and testing for user 11\n",
      " --------------------------------------------\n",
      "importing datasets....\n",
      "selecting 30 simillar users...\n",
      "configuring movie formatting...\n",
      "creating the Graph...\n",
      "Staring training fo 30 iterations...\n"
     ]
    },
    {
     "name": "stderr",
     "output_type": "stream",
     "text": [
      "100%|████████████████████████████████████████████████████████████████████████████████████████████████████| 30/30 [00:10<00:00,  2.92it/s]\n"
     ]
    },
    {
     "name": "stdout",
     "output_type": "stream",
     "text": [
      "0\n",
      "Recommended ID's: [922.0, 3421.0, 49651.0, 1544.0, 3949.0]\n",
      "running training and testing for user 12\n",
      " --------------------------------------------\n",
      "importing datasets....\n",
      "selecting 30 simillar users...\n",
      "configuring movie formatting...\n",
      "creating the Graph...\n",
      "Staring training fo 30 iterations...\n"
     ]
    },
    {
     "name": "stderr",
     "output_type": "stream",
     "text": [
      "100%|████████████████████████████████████████████████████████████████████████████████████████████████████| 30/30 [00:03<00:00,  8.41it/s]\n"
     ]
    },
    {
     "name": "stdout",
     "output_type": "stream",
     "text": [
      "0\n",
      "Recommended ID's: [1393.0, 55765.0, 5843.0, 3957.0, 380.0]\n",
      "running training and testing for user 13\n",
      " --------------------------------------------\n",
      "importing datasets....\n",
      "selecting 30 simillar users...\n",
      "configuring movie formatting...\n",
      "creating the Graph...\n",
      "Staring training fo 30 iterations...\n"
     ]
    },
    {
     "name": "stderr",
     "output_type": "stream",
     "text": [
      "100%|████████████████████████████████████████████████████████████████████████████████████████████████████| 30/30 [00:02<00:00, 11.15it/s]\n"
     ]
    },
    {
     "name": "stdout",
     "output_type": "stream",
     "text": [
      "0\n",
      "Recommended ID's: [51662.0, 784.0, 748.0, 1022.0, 1409.0]\n",
      "running training and testing for user 14\n",
      " --------------------------------------------\n",
      "importing datasets....\n",
      "selecting 30 simillar users...\n",
      "configuring movie formatting...\n",
      "creating the Graph...\n",
      "Staring training fo 30 iterations...\n"
     ]
    },
    {
     "name": "stderr",
     "output_type": "stream",
     "text": [
      "100%|████████████████████████████████████████████████████████████████████████████████████████████████████| 30/30 [00:07<00:00,  4.00it/s]\n"
     ]
    },
    {
     "name": "stdout",
     "output_type": "stream",
     "text": [
      "0\n",
      "Recommended ID's: [154.0, 528.0, 6654.0, 374.0, 2311.0]\n",
      "running training and testing for user 15\n",
      " --------------------------------------------\n",
      "importing datasets....\n",
      "selecting 30 simillar users...\n",
      "configuring movie formatting...\n",
      "creating the Graph...\n",
      "Staring training fo 30 iterations...\n"
     ]
    },
    {
     "name": "stderr",
     "output_type": "stream",
     "text": [
      "100%|████████████████████████████████████████████████████████████████████████████████████████████████████| 30/30 [00:03<00:00,  8.19it/s]\n"
     ]
    },
    {
     "name": "stdout",
     "output_type": "stream",
     "text": [
      "0\n",
      "Recommended ID's: [51662.0, 99149.0, 4973.0, 329.0, 1036.0]\n",
      "running training and testing for user 16\n",
      " --------------------------------------------\n",
      "importing datasets....\n",
      "selecting 30 simillar users...\n",
      "configuring movie formatting...\n",
      "creating the Graph...\n",
      "Staring training fo 30 iterations...\n"
     ]
    },
    {
     "name": "stderr",
     "output_type": "stream",
     "text": [
      "100%|████████████████████████████████████████████████████████████████████████████████████████████████████| 30/30 [00:16<00:00,  1.86it/s]\n"
     ]
    },
    {
     "name": "stdout",
     "output_type": "stream",
     "text": [
      "0\n",
      "Recommended ID's: [4054.0, 34523.0, 81847.0, 42723.0, 8910.0]\n",
      "running training and testing for user 17\n",
      " --------------------------------------------\n",
      "importing datasets....\n",
      "selecting 30 simillar users...\n",
      "configuring movie formatting...\n",
      "creating the Graph...\n",
      "Staring training fo 30 iterations...\n"
     ]
    },
    {
     "name": "stderr",
     "output_type": "stream",
     "text": [
      "100%|████████████████████████████████████████████████████████████████████████████████████████████████████| 30/30 [00:04<00:00,  6.28it/s]\n"
     ]
    },
    {
     "name": "stdout",
     "output_type": "stream",
     "text": [
      "0\n",
      "Recommended ID's: [2387.0, 474.0, 6711.0, 3082.0, 79132.0]\n",
      "running training and testing for user 18\n",
      " --------------------------------------------\n",
      "importing datasets....\n",
      "selecting 30 simillar users...\n",
      "configuring movie formatting...\n",
      "creating the Graph...\n",
      "Staring training fo 30 iterations...\n"
     ]
    },
    {
     "name": "stderr",
     "output_type": "stream",
     "text": [
      "100%|████████████████████████████████████████████████████████████████████████████████████████████████████| 30/30 [00:10<00:00,  2.76it/s]\n"
     ]
    },
    {
     "name": "stdout",
     "output_type": "stream",
     "text": [
      "0\n",
      "Recommended ID's: [1289.0, 1321.0, 2364.0, 27822.0, 2502.0]\n",
      "running training and testing for user 19\n",
      " --------------------------------------------\n",
      "importing datasets....\n",
      "selecting 30 simillar users...\n",
      "configuring movie formatting...\n",
      "creating the Graph...\n",
      "Staring training fo 30 iterations...\n"
     ]
    },
    {
     "name": "stderr",
     "output_type": "stream",
     "text": [
      "100%|████████████████████████████████████████████████████████████████████████████████████████████████████| 30/30 [00:02<00:00, 10.30it/s]\n"
     ]
    },
    {
     "name": "stdout",
     "output_type": "stream",
     "text": [
      "0\n",
      "Recommended ID's: [216.0, 367.0, 1345.0, 2761.0, 6561.0]\n",
      "running training and testing for user 20\n",
      " --------------------------------------------\n",
      "importing datasets....\n",
      "selecting 30 simillar users...\n",
      "configuring movie formatting...\n",
      "creating the Graph...\n",
      "Staring training fo 30 iterations...\n"
     ]
    },
    {
     "name": "stderr",
     "output_type": "stream",
     "text": [
      "100%|████████████████████████████████████████████████████████████████████████████████████████████████████| 30/30 [00:03<00:00,  9.87it/s]\n"
     ]
    },
    {
     "name": "stdout",
     "output_type": "stream",
     "text": [
      "0\n",
      "Recommended ID's: [1394.0, 2716.0, 81845.0, 1647.0, 91500.0]\n",
      "running training and testing for user 21\n",
      " --------------------------------------------\n",
      "importing datasets....\n",
      "selecting 30 simillar users...\n",
      "configuring movie formatting...\n",
      "creating the Graph...\n",
      "Staring training fo 30 iterations...\n"
     ]
    },
    {
     "name": "stderr",
     "output_type": "stream",
     "text": [
      "100%|████████████████████████████████████████████████████████████████████████████████████████████████████| 30/30 [00:06<00:00,  4.61it/s]\n"
     ]
    },
    {
     "name": "stdout",
     "output_type": "stream",
     "text": [
      "0\n",
      "Recommended ID's: [23.0, 445.0, 2427.0, 112623.0, 1097.0]\n",
      "running training and testing for user 22\n",
      " --------------------------------------------\n",
      "importing datasets....\n",
      "selecting 30 simillar users...\n",
      "configuring movie formatting...\n",
      "creating the Graph...\n",
      "Staring training fo 30 iterations...\n"
     ]
    },
    {
     "name": "stderr",
     "output_type": "stream",
     "text": [
      "100%|████████████████████████████████████████████████████████████████████████████████████████████████████| 30/30 [00:02<00:00, 10.19it/s]\n"
     ]
    },
    {
     "name": "stdout",
     "output_type": "stream",
     "text": [
      "0\n",
      "Recommended ID's: [410.0, 741.0, 593.0, 266.0, 3753.0]\n",
      "running training and testing for user 23\n",
      " --------------------------------------------\n",
      "importing datasets....\n",
      "selecting 30 simillar users...\n",
      "configuring movie formatting...\n",
      "creating the Graph...\n",
      "Staring training fo 30 iterations...\n"
     ]
    },
    {
     "name": "stderr",
     "output_type": "stream",
     "text": [
      "100%|████████████████████████████████████████████████████████████████████████████████████████████████████| 30/30 [00:03<00:00,  9.96it/s]\n"
     ]
    },
    {
     "name": "stdout",
     "output_type": "stream",
     "text": [
      "0\n",
      "Recommended ID's: [260.0, 3646.0, 6383.0, 2683.0, 165.0]\n",
      "running training and testing for user 24\n",
      " --------------------------------------------\n",
      "importing datasets....\n",
      "selecting 30 simillar users...\n",
      "configuring movie formatting...\n",
      "creating the Graph...\n",
      "Staring training fo 30 iterations...\n"
     ]
    },
    {
     "name": "stderr",
     "output_type": "stream",
     "text": [
      "100%|████████████████████████████████████████████████████████████████████████████████████████████████████| 30/30 [00:10<00:00,  2.89it/s]\n"
     ]
    },
    {
     "name": "stdout",
     "output_type": "stream",
     "text": [
      "0\n",
      "Recommended ID's: [3107.0, 1207.0, 1201.0, 648.0, 1297.0]\n",
      "running training and testing for user 25\n",
      " --------------------------------------------\n",
      "importing datasets....\n",
      "selecting 30 simillar users...\n",
      "configuring movie formatting...\n",
      "creating the Graph...\n",
      "Staring training fo 30 iterations...\n"
     ]
    },
    {
     "name": "stderr",
     "output_type": "stream",
     "text": [
      "100%|████████████████████████████████████████████████████████████████████████████████████████████████████| 30/30 [00:04<00:00,  6.95it/s]\n"
     ]
    },
    {
     "name": "stdout",
     "output_type": "stream",
     "text": [
      "0\n",
      "Recommended ID's: [3552.0, 2770.0, 1407.0, 590.0, 5989.0]\n",
      "running training and testing for user 26\n",
      " --------------------------------------------\n",
      "importing datasets....\n",
      "selecting 30 simillar users...\n",
      "configuring movie formatting...\n",
      "creating the Graph...\n",
      "Staring training fo 30 iterations...\n"
     ]
    },
    {
     "name": "stderr",
     "output_type": "stream",
     "text": [
      "100%|████████████████████████████████████████████████████████████████████████████████████████████████████| 30/30 [00:02<00:00, 10.31it/s]\n"
     ]
    },
    {
     "name": "stdout",
     "output_type": "stream",
     "text": [
      "0\n",
      "Recommended ID's: [780.0, 432.0, 45.0, 153.0, 509.0]\n",
      "running training and testing for user 27\n",
      " --------------------------------------------\n",
      "importing datasets....\n",
      "selecting 30 simillar users...\n",
      "configuring movie formatting...\n",
      "creating the Graph...\n",
      "Staring training fo 30 iterations...\n"
     ]
    },
    {
     "name": "stderr",
     "output_type": "stream",
     "text": [
      "100%|████████████████████████████████████████████████████████████████████████████████████████████████████| 30/30 [00:05<00:00,  5.68it/s]\n"
     ]
    },
    {
     "name": "stdout",
     "output_type": "stream",
     "text": [
      "0\n",
      "Recommended ID's: [105.0, 92259.0, 60684.0, 1203.0, 1704.0]\n",
      "running training and testing for user 28\n",
      " --------------------------------------------\n",
      "importing datasets....\n",
      "selecting 30 simillar users...\n",
      "configuring movie formatting...\n",
      "creating the Graph...\n",
      "Staring training fo 30 iterations...\n"
     ]
    },
    {
     "name": "stderr",
     "output_type": "stream",
     "text": [
      "100%|████████████████████████████████████████████████████████████████████████████████████████████████████| 30/30 [00:02<00:00, 10.13it/s]\n"
     ]
    },
    {
     "name": "stdout",
     "output_type": "stream",
     "text": [
      "0\n",
      "Recommended ID's: [45.0, 84374.0, 2707.0, 2028.0, 3681.0]\n",
      "running training and testing for user 29\n",
      " --------------------------------------------\n",
      "importing datasets....\n",
      "selecting 30 simillar users...\n",
      "configuring movie formatting...\n",
      "creating the Graph...\n",
      "Staring training fo 30 iterations...\n"
     ]
    },
    {
     "name": "stderr",
     "output_type": "stream",
     "text": [
      "100%|████████████████████████████████████████████████████████████████████████████████████████████████████| 30/30 [00:03<00:00,  7.64it/s]\n"
     ]
    },
    {
     "name": "stdout",
     "output_type": "stream",
     "text": [
      "0\n",
      "Recommended ID's: [1037.0, 2959.0, 345.0, 64969.0, 8874.0]\n",
      "running training and testing for user 30\n",
      " --------------------------------------------\n",
      "importing datasets....\n",
      "selecting 30 simillar users...\n",
      "configuring movie formatting...\n",
      "creating the Graph...\n",
      "Staring training fo 30 iterations...\n"
     ]
    },
    {
     "name": "stderr",
     "output_type": "stream",
     "text": [
      "100%|████████████████████████████████████████████████████████████████████████████████████████████████████| 30/30 [00:03<00:00,  8.60it/s]\n"
     ]
    },
    {
     "name": "stdout",
     "output_type": "stream",
     "text": [
      "0\n",
      "Recommended ID's: [1214.0, 225.0, 2840.0, 509.0, 79132.0]\n",
      "running training and testing for user 31\n",
      " --------------------------------------------\n",
      "importing datasets....\n",
      "selecting 30 simillar users...\n",
      "configuring movie formatting...\n",
      "creating the Graph...\n",
      "Staring training fo 30 iterations...\n"
     ]
    },
    {
     "name": "stderr",
     "output_type": "stream",
     "text": [
      "100%|████████████████████████████████████████████████████████████████████████████████████████████████████| 30/30 [00:05<00:00,  5.27it/s]\n"
     ]
    },
    {
     "name": "stdout",
     "output_type": "stream",
     "text": [
      "0\n",
      "Recommended ID's: [1035.0, 357.0, 3298.0, 1307.0, 111.0]\n",
      "running training and testing for user 32\n",
      " --------------------------------------------\n",
      "importing datasets....\n",
      "selecting 30 simillar users...\n",
      "configuring movie formatting...\n",
      "creating the Graph...\n",
      "Staring training fo 30 iterations...\n"
     ]
    },
    {
     "name": "stderr",
     "output_type": "stream",
     "text": [
      "100%|████████████████████████████████████████████████████████████████████████████████████████████████████| 30/30 [00:04<00:00,  7.01it/s]\n"
     ]
    },
    {
     "name": "stdout",
     "output_type": "stream",
     "text": [
      "0\n",
      "Recommended ID's: [440.0, 440.0, 1590.0, 98961.0, 737.0]\n",
      "running training and testing for user 33\n",
      " --------------------------------------------\n",
      "importing datasets....\n",
      "selecting 30 simillar users...\n",
      "configuring movie formatting...\n",
      "creating the Graph...\n",
      "Staring training fo 30 iterations...\n"
     ]
    },
    {
     "name": "stderr",
     "output_type": "stream",
     "text": [
      "100%|████████████████████████████████████████████████████████████████████████████████████████████████████| 30/30 [00:05<00:00,  5.45it/s]\n"
     ]
    },
    {
     "name": "stdout",
     "output_type": "stream",
     "text": [
      "0\n",
      "Recommended ID's: [111364.0, 207.0, 1731.0, 93272.0, 2792.0]\n",
      "running training and testing for user 34\n",
      " --------------------------------------------\n",
      "importing datasets....\n",
      "selecting 30 simillar users...\n",
      "configuring movie formatting...\n",
      "creating the Graph...\n",
      "Staring training fo 30 iterations...\n"
     ]
    },
    {
     "name": "stderr",
     "output_type": "stream",
     "text": [
      "100%|████████████████████████████████████████████████████████████████████████████████████████████████████| 30/30 [00:02<00:00, 10.11it/s]\n"
     ]
    },
    {
     "name": "stdout",
     "output_type": "stream",
     "text": [
      "0\n",
      "Recommended ID's: [232.0, 6.0, 1221.0, 55247.0, 33669.0]\n",
      "running training and testing for user 35\n",
      " --------------------------------------------\n",
      "importing datasets....\n",
      "selecting 30 simillar users...\n",
      "configuring movie formatting...\n",
      "creating the Graph...\n",
      "Staring training fo 30 iterations...\n"
     ]
    },
    {
     "name": "stderr",
     "output_type": "stream",
     "text": [
      "100%|████████████████████████████████████████████████████████████████████████████████████████████████████| 30/30 [00:21<00:00,  1.42it/s]\n"
     ]
    },
    {
     "name": "stdout",
     "output_type": "stream",
     "text": [
      "0\n",
      "Recommended ID's: [60766.0, 58293.0, 8965.0, 4973.0, 6104.0]\n",
      "running training and testing for user 36\n",
      " --------------------------------------------\n",
      "importing datasets....\n",
      "selecting 30 simillar users...\n",
      "configuring movie formatting...\n",
      "creating the Graph...\n",
      "Staring training fo 30 iterations...\n"
     ]
    },
    {
     "name": "stderr",
     "output_type": "stream",
     "text": [
      "100%|████████████████████████████████████████████████████████████████████████████████████████████████████| 30/30 [00:02<00:00, 10.30it/s]\n"
     ]
    },
    {
     "name": "stdout",
     "output_type": "stream",
     "text": [
      "0\n",
      "Recommended ID's: [3977.0, 533.0, 1411.0, 48082.0, 3988.0]\n",
      "running training and testing for user 37\n",
      " --------------------------------------------\n",
      "importing datasets....\n",
      "selecting 30 simillar users...\n",
      "configuring movie formatting...\n",
      "creating the Graph...\n",
      "Staring training fo 30 iterations...\n"
     ]
    },
    {
     "name": "stderr",
     "output_type": "stream",
     "text": [
      "100%|████████████████████████████████████████████████████████████████████████████████████████████████████| 30/30 [00:15<00:00,  1.91it/s]\n"
     ]
    },
    {
     "name": "stdout",
     "output_type": "stream",
     "text": [
      "0\n",
      "Recommended ID's: [849.0, 427.0, 137857.0, 79091.0, 68954.0]\n",
      "running training and testing for user 38\n",
      " --------------------------------------------\n",
      "importing datasets....\n",
      "selecting 30 simillar users...\n",
      "configuring movie formatting...\n",
      "creating the Graph...\n",
      "Staring training fo 30 iterations...\n"
     ]
    },
    {
     "name": "stderr",
     "output_type": "stream",
     "text": [
      "100%|████████████████████████████████████████████████████████████████████████████████████████████████████| 30/30 [00:03<00:00,  8.29it/s]\n"
     ]
    },
    {
     "name": "stdout",
     "output_type": "stream",
     "text": [
      "0\n",
      "Recommended ID's: [4718.0, 1210.0, 586.0, 520.0, 4886.0]\n",
      "running training and testing for user 39\n",
      " --------------------------------------------\n",
      "importing datasets....\n",
      "selecting 30 simillar users...\n",
      "configuring movie formatting...\n",
      "creating the Graph...\n",
      "Staring training fo 30 iterations...\n"
     ]
    },
    {
     "name": "stderr",
     "output_type": "stream",
     "text": [
      "100%|████████████████████████████████████████████████████████████████████████████████████████████████████| 30/30 [00:08<00:00,  3.61it/s]\n"
     ]
    },
    {
     "name": "stdout",
     "output_type": "stream",
     "text": [
      "0\n",
      "Recommended ID's: [8533.0, 27692.0, 6807.0, 1717.0, 3863.0]\n",
      "running training and testing for user 40\n",
      " --------------------------------------------\n",
      "importing datasets....\n",
      "selecting 30 simillar users...\n",
      "configuring movie formatting...\n",
      "creating the Graph...\n",
      "Staring training fo 30 iterations...\n"
     ]
    },
    {
     "name": "stderr",
     "output_type": "stream",
     "text": [
      "100%|████████████████████████████████████████████████████████████████████████████████████████████████████| 30/30 [00:03<00:00,  8.26it/s]\n"
     ]
    },
    {
     "name": "stdout",
     "output_type": "stream",
     "text": [
      "0\n",
      "Recommended ID's: [296.0, 4641.0, 748.0, 502.0, 361.0]\n",
      "running training and testing for user 41\n",
      " --------------------------------------------\n",
      "importing datasets....\n",
      "selecting 30 simillar users...\n",
      "configuring movie formatting...\n",
      "creating the Graph...\n",
      "Staring training fo 30 iterations...\n"
     ]
    },
    {
     "name": "stderr",
     "output_type": "stream",
     "text": [
      "100%|████████████████████████████████████████████████████████████████████████████████████████████████████| 30/30 [00:03<00:00,  8.63it/s]\n"
     ]
    },
    {
     "name": "stdout",
     "output_type": "stream",
     "text": [
      "0\n",
      "Recommended ID's: [380.0, 104913.0, 1694.0, 858.0, 858.0]\n",
      "running training and testing for user 42\n",
      " --------------------------------------------\n",
      "importing datasets....\n",
      "selecting 30 simillar users...\n",
      "configuring movie formatting...\n",
      "creating the Graph...\n",
      "Staring training fo 30 iterations...\n"
     ]
    },
    {
     "name": "stderr",
     "output_type": "stream",
     "text": [
      "100%|████████████████████████████████████████████████████████████████████████████████████████████████████| 30/30 [00:03<00:00,  9.91it/s]\n"
     ]
    },
    {
     "name": "stdout",
     "output_type": "stream",
     "text": [
      "0\n",
      "Recommended ID's: [1097.0, 1090.0, 36.0, 2427.0, 1350.0]\n",
      "running training and testing for user 43\n",
      " --------------------------------------------\n",
      "importing datasets....\n",
      "selecting 30 simillar users...\n",
      "configuring movie formatting...\n",
      "creating the Graph...\n",
      "Staring training fo 30 iterations...\n"
     ]
    },
    {
     "name": "stderr",
     "output_type": "stream",
     "text": [
      "100%|████████████████████████████████████████████████████████████████████████████████████████████████████| 30/30 [00:18<00:00,  1.61it/s]\n"
     ]
    },
    {
     "name": "stdout",
     "output_type": "stream",
     "text": [
      "0\n",
      "Recommended ID's: [41569.0, 94959.0, 3268.0, 40148.0, 4887.0]\n",
      "running training and testing for user 44\n",
      " --------------------------------------------\n",
      "importing datasets....\n",
      "selecting 30 simillar users...\n",
      "configuring movie formatting...\n",
      "creating the Graph...\n",
      "Staring training fo 30 iterations...\n"
     ]
    },
    {
     "name": "stderr",
     "output_type": "stream",
     "text": [
      "100%|████████████████████████████████████████████████████████████████████████████████████████████████████| 30/30 [00:04<00:00,  6.55it/s]\n"
     ]
    },
    {
     "name": "stdout",
     "output_type": "stream",
     "text": [
      "0\n",
      "Recommended ID's: [1202.0, 2572.0, 442.0, 1006.0, 3330.0]\n",
      "running training and testing for user 45\n",
      " --------------------------------------------\n",
      "importing datasets....\n",
      "selecting 30 simillar users...\n",
      "configuring movie formatting...\n",
      "creating the Graph...\n",
      "Staring training fo 30 iterations...\n"
     ]
    },
    {
     "name": "stderr",
     "output_type": "stream",
     "text": [
      "100%|████████████████████████████████████████████████████████████████████████████████████████████████████| 30/30 [00:09<00:00,  3.16it/s]\n"
     ]
    },
    {
     "name": "stdout",
     "output_type": "stream",
     "text": [
      "0\n",
      "Recommended ID's: [86298.0, 103141.0, 2762.0, 1917.0, 84601.0]\n",
      "running training and testing for user 46\n",
      " --------------------------------------------\n",
      "importing datasets....\n",
      "selecting 30 simillar users...\n",
      "configuring movie formatting...\n",
      "creating the Graph...\n",
      "Staring training fo 30 iterations...\n"
     ]
    },
    {
     "name": "stderr",
     "output_type": "stream",
     "text": [
      "100%|████████████████████████████████████████████████████████████████████████████████████████████████████| 30/30 [00:07<00:00,  3.80it/s]\n"
     ]
    },
    {
     "name": "stdout",
     "output_type": "stream",
     "text": [
      "0\n",
      "Recommended ID's: [68358.0, 8577.0, 7845.0, 4022.0, 5903.0]\n",
      "running training and testing for user 47\n",
      " --------------------------------------------\n",
      "importing datasets....\n",
      "selecting 30 simillar users...\n",
      "configuring movie formatting...\n",
      "creating the Graph...\n",
      "Staring training fo 30 iterations...\n"
     ]
    },
    {
     "name": "stderr",
     "output_type": "stream",
     "text": [
      "100%|████████████████████████████████████████████████████████████████████████████████████████████████████| 30/30 [00:35<00:00,  1.17s/it]\n"
     ]
    },
    {
     "name": "stdout",
     "output_type": "stream",
     "text": [
      "0\n",
      "Recommended ID's: [26184.0, 5.0, 8121.0, 708.0, 4054.0]\n",
      "running training and testing for user 48\n",
      " --------------------------------------------\n",
      "importing datasets....\n",
      "selecting 30 simillar users...\n",
      "configuring movie formatting...\n",
      "creating the Graph...\n",
      "Staring training fo 30 iterations...\n"
     ]
    },
    {
     "name": "stderr",
     "output_type": "stream",
     "text": [
      "100%|████████████████████████████████████████████████████████████████████████████████████████████████████| 30/30 [00:02<00:00, 10.11it/s]\n"
     ]
    },
    {
     "name": "stdout",
     "output_type": "stream",
     "text": [
      "0\n",
      "Recommended ID's: [1748.0, 3623.0, 64.0, 4226.0, 926.0]\n",
      "running training and testing for user 49\n",
      " --------------------------------------------\n",
      "importing datasets....\n",
      "selecting 30 simillar users...\n",
      "configuring movie formatting...\n",
      "creating the Graph...\n",
      "Staring training fo 30 iterations...\n"
     ]
    },
    {
     "name": "stderr",
     "output_type": "stream",
     "text": [
      "100%|████████████████████████████████████████████████████████████████████████████████████████████████████| 30/30 [00:02<00:00, 11.83it/s]"
     ]
    },
    {
     "name": "stdout",
     "output_type": "stream",
     "text": [
      "0\n",
      "Recommended ID's: [2411.0, 1682.0, 1704.0, 5650.0, 47.0]\n",
      "overall accuracy is 0.7363636363636363\n"
     ]
    },
    {
     "name": "stderr",
     "output_type": "stream",
     "text": [
      "\n"
     ]
    }
   ],
   "source": [
    "## no Genetic algorithm evolution\n",
    "ra_list = []\n",
    "for i,rev_list in enumerate(train_revs):\n",
    "    print(f\"running training and testing for user {i}\\n --------------------------------------------\")\n",
    "    recs = main (num_agents =30 , num_iter = 30, num_movies = 5 ,exclude_users = chosen_users , userlist = rev_list ,rating_fn = \"./ratings_organized.csv\", simillarility_fn = \"./simillarity_matrix_normalized.csv\", alpha= 0.7,beta =0.3,decay=0.05)\n",
    "    precent_overlap, ra = evaluate_reccomendations(recs,test_revs[i])\n",
    "    if (precent_overlap != 0 ):\n",
    "        ra_list.append(ra)\n",
    "        \n",
    "print (f\"overall accuracy is {sum(ra_list)/len(ra_list)}\")"
   ]
  },
  {
   "cell_type": "code",
   "execution_count": 15,
   "id": "63f154f4",
   "metadata": {},
   "outputs": [
    {
     "name": "stdout",
     "output_type": "stream",
     "text": [
      "running training and testing for user 0\n",
      " --------------------------------------------\n",
      "importing datasets....\n",
      "selecting 30 simillar users...\n",
      "configuring movie formatting...\n",
      "creating the Graph...\n",
      "Staring training fo 30 iterations...\n"
     ]
    },
    {
     "name": "stderr",
     "output_type": "stream",
     "text": [
      "100%|████████████████████████████████████████████████████████████████████████████████████████████████████| 30/30 [00:10<00:00,  2.92it/s]\n"
     ]
    },
    {
     "name": "stdout",
     "output_type": "stream",
     "text": [
      "0\n",
      "Recommended ID's: [2716.0, 2706.0, 858.0, 30825.0, 102481.0]\n",
      "running training and testing for user 1\n",
      " --------------------------------------------\n",
      "importing datasets....\n",
      "selecting 30 simillar users...\n",
      "configuring movie formatting...\n",
      "creating the Graph...\n",
      "Staring training fo 30 iterations...\n"
     ]
    },
    {
     "name": "stderr",
     "output_type": "stream",
     "text": [
      "100%|████████████████████████████████████████████████████████████████████████████████████████████████████| 30/30 [00:09<00:00,  3.23it/s]\n"
     ]
    },
    {
     "name": "stdout",
     "output_type": "stream",
     "text": [
      "0\n",
      "Recommended ID's: [56152.0, 784.0, 2064.0, 5995.0, 112.0]\n",
      "running training and testing for user 2\n",
      " --------------------------------------------\n",
      "importing datasets....\n",
      "selecting 30 simillar users...\n",
      "configuring movie formatting...\n",
      "creating the Graph...\n",
      "Staring training fo 30 iterations...\n"
     ]
    },
    {
     "name": "stderr",
     "output_type": "stream",
     "text": [
      "100%|████████████████████████████████████████████████████████████████████████████████████████████████████| 30/30 [00:08<00:00,  3.37it/s]\n"
     ]
    },
    {
     "name": "stdout",
     "output_type": "stream",
     "text": [
      "0\n",
      "Recommended ID's: [3424.0, 954.0, 6378.0, 1027.0, 908.0]\n",
      "running training and testing for user 3\n",
      " --------------------------------------------\n",
      "importing datasets....\n",
      "selecting 30 simillar users...\n",
      "configuring movie formatting...\n",
      "creating the Graph...\n",
      "Staring training fo 30 iterations...\n"
     ]
    },
    {
     "name": "stderr",
     "output_type": "stream",
     "text": [
      "100%|████████████████████████████████████████████████████████████████████████████████████████████████████| 30/30 [00:10<00:00,  2.97it/s]\n"
     ]
    },
    {
     "name": "stdout",
     "output_type": "stream",
     "text": [
      "0\n",
      "Recommended ID's: [3702.0, 109487.0, 216.0, 97913.0, 46559.0]\n",
      "running training and testing for user 4\n",
      " --------------------------------------------\n",
      "importing datasets....\n",
      "selecting 30 simillar users...\n",
      "configuring movie formatting...\n",
      "creating the Graph...\n",
      "Staring training fo 30 iterations...\n"
     ]
    },
    {
     "name": "stderr",
     "output_type": "stream",
     "text": [
      "100%|████████████████████████████████████████████████████████████████████████████████████████████████████| 30/30 [00:09<00:00,  3.06it/s]\n"
     ]
    },
    {
     "name": "stdout",
     "output_type": "stream",
     "text": [
      "0\n",
      "Recommended ID's: [2875.0, 40815.0, 81591.0, 1445.0, 99112.0]\n",
      "running training and testing for user 5\n",
      " --------------------------------------------\n",
      "importing datasets....\n",
      "selecting 30 simillar users...\n",
      "configuring movie formatting...\n",
      "creating the Graph...\n",
      "Staring training fo 30 iterations...\n"
     ]
    },
    {
     "name": "stderr",
     "output_type": "stream",
     "text": [
      "100%|████████████████████████████████████████████████████████████████████████████████████████████████████| 30/30 [00:09<00:00,  3.07it/s]\n"
     ]
    },
    {
     "name": "stdout",
     "output_type": "stream",
     "text": [
      "0\n",
      "Recommended ID's: [1251.0, 2875.0, 266.0, 48783.0, 2599.0]\n",
      "running training and testing for user 6\n",
      " --------------------------------------------\n",
      "importing datasets....\n",
      "selecting 30 simillar users...\n",
      "configuring movie formatting...\n",
      "creating the Graph...\n",
      "Staring training fo 30 iterations...\n"
     ]
    },
    {
     "name": "stderr",
     "output_type": "stream",
     "text": [
      "100%|████████████████████████████████████████████████████████████████████████████████████████████████████| 30/30 [00:09<00:00,  3.10it/s]\n"
     ]
    },
    {
     "name": "stdout",
     "output_type": "stream",
     "text": [
      "0\n",
      "Recommended ID's: [1405.0, 3270.0, 1954.0, 7022.0, 2729.0]\n",
      "running training and testing for user 7\n",
      " --------------------------------------------\n",
      "importing datasets....\n",
      "selecting 30 simillar users...\n",
      "configuring movie formatting...\n",
      "creating the Graph...\n",
      "Staring training fo 30 iterations...\n"
     ]
    },
    {
     "name": "stderr",
     "output_type": "stream",
     "text": [
      "100%|████████████████████████████████████████████████████████████████████████████████████████████████████| 30/30 [00:09<00:00,  3.16it/s]\n"
     ]
    },
    {
     "name": "stdout",
     "output_type": "stream",
     "text": [
      "0\n",
      "Recommended ID's: [180.0, 432.0, 543.0, 4079.0, 3385.0]\n",
      "running training and testing for user 8\n",
      " --------------------------------------------\n",
      "importing datasets....\n",
      "selecting 30 simillar users...\n",
      "configuring movie formatting...\n",
      "creating the Graph...\n",
      "Staring training fo 30 iterations...\n"
     ]
    },
    {
     "name": "stderr",
     "output_type": "stream",
     "text": [
      "100%|████████████████████████████████████████████████████████████████████████████████████████████████████| 30/30 [00:09<00:00,  3.09it/s]\n"
     ]
    },
    {
     "name": "stdout",
     "output_type": "stream",
     "text": [
      "0\n",
      "Recommended ID's: [3102.0, 68954.0, 141.0, 7046.0, 59501.0]\n",
      "running training and testing for user 9\n",
      " --------------------------------------------\n",
      "importing datasets....\n",
      "selecting 30 simillar users...\n",
      "configuring movie formatting...\n",
      "creating the Graph...\n",
      "Staring training fo 30 iterations...\n"
     ]
    },
    {
     "name": "stderr",
     "output_type": "stream",
     "text": [
      "100%|████████████████████████████████████████████████████████████████████████████████████████████████████| 30/30 [00:09<00:00,  3.14it/s]\n"
     ]
    },
    {
     "name": "stdout",
     "output_type": "stream",
     "text": [
      "0\n",
      "Recommended ID's: [8464.0, 74754.0, 65261.0, 24.0, 173619.0]\n",
      "running training and testing for user 10\n",
      " --------------------------------------------\n",
      "importing datasets....\n",
      "selecting 30 simillar users...\n",
      "configuring movie formatting...\n",
      "creating the Graph...\n",
      "Staring training fo 30 iterations...\n"
     ]
    },
    {
     "name": "stderr",
     "output_type": "stream",
     "text": [
      "100%|████████████████████████████████████████████████████████████████████████████████████████████████████| 30/30 [00:09<00:00,  3.08it/s]\n"
     ]
    },
    {
     "name": "stdout",
     "output_type": "stream",
     "text": [
      "0\n",
      "Recommended ID's: [4246.0, 2843.0, 4432.0, 34334.0, 44972.0]\n",
      "running training and testing for user 11\n",
      " --------------------------------------------\n",
      "importing datasets....\n",
      "selecting 30 simillar users...\n",
      "configuring movie formatting...\n",
      "creating the Graph...\n",
      "Staring training fo 30 iterations...\n"
     ]
    },
    {
     "name": "stderr",
     "output_type": "stream",
     "text": [
      "100%|████████████████████████████████████████████████████████████████████████████████████████████████████| 30/30 [00:09<00:00,  3.17it/s]\n"
     ]
    },
    {
     "name": "stdout",
     "output_type": "stream",
     "text": [
      "0\n",
      "Recommended ID's: [104879.0, 3698.0, 78620.0, 1466.0, 5110.0]\n",
      "running training and testing for user 12\n",
      " --------------------------------------------\n",
      "importing datasets....\n",
      "selecting 30 simillar users...\n",
      "configuring movie formatting...\n",
      "creating the Graph...\n",
      "Staring training fo 30 iterations...\n"
     ]
    },
    {
     "name": "stderr",
     "output_type": "stream",
     "text": [
      "100%|████████████████████████████████████████████████████████████████████████████████████████████████████| 30/30 [00:09<00:00,  3.07it/s]\n"
     ]
    },
    {
     "name": "stdout",
     "output_type": "stream",
     "text": [
      "0\n",
      "Recommended ID's: [4396.0, 2253.0, 597.0, 72011.0, 59315.0]\n",
      "running training and testing for user 13\n",
      " --------------------------------------------\n",
      "importing datasets....\n",
      "selecting 30 simillar users...\n",
      "configuring movie formatting...\n",
      "creating the Graph...\n",
      "Staring training fo 30 iterations...\n"
     ]
    },
    {
     "name": "stderr",
     "output_type": "stream",
     "text": [
      "100%|████████████████████████████████████████████████████████████████████████████████████████████████████| 30/30 [00:09<00:00,  3.10it/s]\n"
     ]
    },
    {
     "name": "stdout",
     "output_type": "stream",
     "text": [
      "0\n",
      "Recommended ID's: [6786.0, 66.0, 6440.0, 177763.0, 1569.0]\n",
      "running training and testing for user 14\n",
      " --------------------------------------------\n",
      "importing datasets....\n",
      "selecting 30 simillar users...\n",
      "configuring movie formatting...\n",
      "creating the Graph...\n",
      "Staring training fo 30 iterations...\n"
     ]
    },
    {
     "name": "stderr",
     "output_type": "stream",
     "text": [
      "100%|████████████████████████████████████████████████████████████████████████████████████████████████████| 30/30 [00:09<00:00,  3.26it/s]\n"
     ]
    },
    {
     "name": "stdout",
     "output_type": "stream",
     "text": [
      "0\n",
      "Recommended ID's: [1252.0, 2012.0, 3433.0, 186.0, 5988.0]\n",
      "running training and testing for user 15\n",
      " --------------------------------------------\n",
      "importing datasets....\n",
      "selecting 30 simillar users...\n",
      "configuring movie formatting...\n",
      "creating the Graph...\n",
      "Staring training fo 30 iterations...\n"
     ]
    },
    {
     "name": "stderr",
     "output_type": "stream",
     "text": [
      "100%|████████████████████████████████████████████████████████████████████████████████████████████████████| 30/30 [00:09<00:00,  3.04it/s]\n"
     ]
    },
    {
     "name": "stdout",
     "output_type": "stream",
     "text": [
      "0\n",
      "Recommended ID's: [157296.0, 6001.0, 109941.0, 52435.0, 1614.0]\n",
      "running training and testing for user 16\n",
      " --------------------------------------------\n",
      "importing datasets....\n",
      "selecting 30 simillar users...\n",
      "configuring movie formatting...\n",
      "creating the Graph...\n",
      "Staring training fo 30 iterations...\n"
     ]
    },
    {
     "name": "stderr",
     "output_type": "stream",
     "text": [
      "100%|████████████████████████████████████████████████████████████████████████████████████████████████████| 30/30 [00:09<00:00,  3.22it/s]\n"
     ]
    },
    {
     "name": "stdout",
     "output_type": "stream",
     "text": [
      "0\n",
      "Recommended ID's: [1711.0, 1873.0, 1219.0, 2819.0, 167634.0]\n",
      "running training and testing for user 17\n",
      " --------------------------------------------\n",
      "importing datasets....\n",
      "selecting 30 simillar users...\n",
      "configuring movie formatting...\n",
      "creating the Graph...\n",
      "Staring training fo 30 iterations...\n"
     ]
    },
    {
     "name": "stderr",
     "output_type": "stream",
     "text": [
      "100%|████████████████████████████████████████████████████████████████████████████████████████████████████| 30/30 [00:09<00:00,  3.14it/s]\n"
     ]
    },
    {
     "name": "stdout",
     "output_type": "stream",
     "text": [
      "0\n",
      "Recommended ID's: [2525.0, 546.0, 3081.0, 3250.0, 111.0]\n",
      "running training and testing for user 18\n",
      " --------------------------------------------\n",
      "importing datasets....\n",
      "selecting 30 simillar users...\n",
      "configuring movie formatting...\n",
      "creating the Graph...\n",
      "Staring training fo 30 iterations...\n"
     ]
    },
    {
     "name": "stderr",
     "output_type": "stream",
     "text": [
      "100%|████████████████████████████████████████████████████████████████████████████████████████████████████| 30/30 [00:10<00:00,  2.97it/s]\n"
     ]
    },
    {
     "name": "stdout",
     "output_type": "stream",
     "text": [
      "0\n",
      "Recommended ID's: [71530.0, 58025.0, 85213.0, 88125.0, 3039.0]\n",
      "running training and testing for user 19\n",
      " --------------------------------------------\n",
      "importing datasets....\n",
      "selecting 30 simillar users...\n",
      "configuring movie formatting...\n",
      "creating the Graph...\n",
      "Staring training fo 30 iterations...\n"
     ]
    },
    {
     "name": "stderr",
     "output_type": "stream",
     "text": [
      "100%|████████████████████████████████████████████████████████████████████████████████████████████████████| 30/30 [00:09<00:00,  3.14it/s]\n"
     ]
    },
    {
     "name": "stdout",
     "output_type": "stream",
     "text": [
      "0\n",
      "Recommended ID's: [5445.0, 2872.0, 367.0, 6037.0, 6874.0]\n",
      "running training and testing for user 20\n",
      " --------------------------------------------\n",
      "importing datasets....\n",
      "selecting 30 simillar users...\n",
      "configuring movie formatting...\n",
      "creating the Graph...\n",
      "Staring training fo 30 iterations...\n"
     ]
    },
    {
     "name": "stderr",
     "output_type": "stream",
     "text": [
      "100%|████████████████████████████████████████████████████████████████████████████████████████████████████| 30/30 [00:09<00:00,  3.00it/s]\n"
     ]
    },
    {
     "name": "stdout",
     "output_type": "stream",
     "text": [
      "0\n",
      "Recommended ID's: [4255.0, 34323.0, 161044.0, 70293.0, 3999.0]\n",
      "running training and testing for user 21\n",
      " --------------------------------------------\n",
      "importing datasets....\n",
      "selecting 30 simillar users...\n",
      "configuring movie formatting...\n",
      "creating the Graph...\n",
      "Staring training fo 30 iterations...\n"
     ]
    },
    {
     "name": "stderr",
     "output_type": "stream",
     "text": [
      "100%|████████████████████████████████████████████████████████████████████████████████████████████████████| 30/30 [00:09<00:00,  3.06it/s]\n"
     ]
    },
    {
     "name": "stdout",
     "output_type": "stream",
     "text": [
      "0\n",
      "Recommended ID's: [2027.0, 515.0, 126.0, 30894.0, 4035.0]\n",
      "running training and testing for user 22\n",
      " --------------------------------------------\n",
      "importing datasets....\n",
      "selecting 30 simillar users...\n",
      "configuring movie formatting...\n",
      "creating the Graph...\n",
      "Staring training fo 30 iterations...\n"
     ]
    },
    {
     "name": "stderr",
     "output_type": "stream",
     "text": [
      "100%|████████████████████████████████████████████████████████████████████████████████████████████████████| 30/30 [00:09<00:00,  3.23it/s]\n"
     ]
    },
    {
     "name": "stdout",
     "output_type": "stream",
     "text": [
      "0\n",
      "Recommended ID's: [5267.0, 5636.0, 1285.0, 328.0, 442.0]\n",
      "running training and testing for user 23\n",
      " --------------------------------------------\n",
      "importing datasets....\n",
      "selecting 30 simillar users...\n",
      "configuring movie formatting...\n",
      "creating the Graph...\n",
      "Staring training fo 30 iterations...\n"
     ]
    },
    {
     "name": "stderr",
     "output_type": "stream",
     "text": [
      "100%|████████████████████████████████████████████████████████████████████████████████████████████████████| 30/30 [00:09<00:00,  3.08it/s]\n"
     ]
    },
    {
     "name": "stdout",
     "output_type": "stream",
     "text": [
      "0\n",
      "Recommended ID's: [149354.0, 4848.0, 5464.0, 5128.0, 1278.0]\n",
      "running training and testing for user 24\n",
      " --------------------------------------------\n",
      "importing datasets....\n",
      "selecting 30 simillar users...\n",
      "configuring movie formatting...\n",
      "creating the Graph...\n",
      "Staring training fo 30 iterations...\n"
     ]
    },
    {
     "name": "stderr",
     "output_type": "stream",
     "text": [
      "100%|████████████████████████████████████████████████████████████████████████████████████████████████████| 30/30 [00:09<00:00,  3.19it/s]\n"
     ]
    },
    {
     "name": "stdout",
     "output_type": "stream",
     "text": [
      "0\n",
      "Recommended ID's: [1673.0, 2951.0, 1379.0, 8718.0, 786.0]\n",
      "running training and testing for user 25\n",
      " --------------------------------------------\n",
      "importing datasets....\n",
      "selecting 30 simillar users...\n",
      "configuring movie formatting...\n",
      "creating the Graph...\n",
      "Staring training fo 30 iterations...\n"
     ]
    },
    {
     "name": "stderr",
     "output_type": "stream",
     "text": [
      "100%|████████████████████████████████████████████████████████████████████████████████████████████████████| 30/30 [00:09<00:00,  3.26it/s]\n"
     ]
    },
    {
     "name": "stdout",
     "output_type": "stream",
     "text": [
      "0\n",
      "Recommended ID's: [597.0, 2269.0, 3082.0, 88125.0, 685.0]\n",
      "running training and testing for user 26\n",
      " --------------------------------------------\n",
      "importing datasets....\n",
      "selecting 30 simillar users...\n",
      "configuring movie formatting...\n",
      "creating the Graph...\n",
      "Staring training fo 30 iterations...\n"
     ]
    },
    {
     "name": "stderr",
     "output_type": "stream",
     "text": [
      "100%|████████████████████████████████████████████████████████████████████████████████████████████████████| 30/30 [00:09<00:00,  3.26it/s]\n"
     ]
    },
    {
     "name": "stdout",
     "output_type": "stream",
     "text": [
      "0\n",
      "Recommended ID's: [53519.0, 26471.0, 1017.0, 10.0, 30707.0]\n",
      "running training and testing for user 27\n",
      " --------------------------------------------\n",
      "importing datasets....\n",
      "selecting 30 simillar users...\n",
      "configuring movie formatting...\n",
      "creating the Graph...\n",
      "Staring training fo 30 iterations...\n"
     ]
    },
    {
     "name": "stderr",
     "output_type": "stream",
     "text": [
      "100%|████████████████████████████████████████████████████████████████████████████████████████████████████| 30/30 [00:09<00:00,  3.28it/s]\n"
     ]
    },
    {
     "name": "stdout",
     "output_type": "stream",
     "text": [
      "0\n",
      "Recommended ID's: [109941.0, 82852.0, 2248.0, 7218.0, 640.0]\n",
      "running training and testing for user 28\n",
      " --------------------------------------------\n",
      "importing datasets....\n",
      "selecting 30 simillar users...\n",
      "configuring movie formatting...\n",
      "creating the Graph...\n",
      "Staring training fo 30 iterations...\n"
     ]
    },
    {
     "name": "stderr",
     "output_type": "stream",
     "text": [
      "100%|████████████████████████████████████████████████████████████████████████████████████████████████████| 30/30 [00:09<00:00,  3.25it/s]\n"
     ]
    },
    {
     "name": "stdout",
     "output_type": "stream",
     "text": [
      "0\n",
      "Recommended ID's: [1673.0, 34334.0, 344.0, 374.0, 60040.0]\n",
      "running training and testing for user 29\n",
      " --------------------------------------------\n",
      "importing datasets....\n",
      "selecting 30 simillar users...\n",
      "configuring movie formatting...\n",
      "creating the Graph...\n",
      "Staring training fo 30 iterations...\n"
     ]
    },
    {
     "name": "stderr",
     "output_type": "stream",
     "text": [
      "100%|████████████████████████████████████████████████████████████████████████████████████████████████████| 30/30 [00:09<00:00,  3.13it/s]\n"
     ]
    },
    {
     "name": "stdout",
     "output_type": "stream",
     "text": [
      "0\n",
      "Recommended ID's: [151.0, 1476.0, 2346.0, 317.0, 8784.0]\n",
      "running training and testing for user 30\n",
      " --------------------------------------------\n",
      "importing datasets....\n",
      "selecting 30 simillar users...\n",
      "configuring movie formatting...\n",
      "creating the Graph...\n",
      "Staring training fo 30 iterations...\n"
     ]
    },
    {
     "name": "stderr",
     "output_type": "stream",
     "text": [
      "100%|████████████████████████████████████████████████████████████████████████████████████████████████████| 30/30 [00:09<00:00,  3.17it/s]\n"
     ]
    },
    {
     "name": "stdout",
     "output_type": "stream",
     "text": [
      "0\n",
      "Recommended ID's: [4131.0, 8405.0, 5294.0, 7022.0, 59615.0]\n",
      "running training and testing for user 31\n",
      " --------------------------------------------\n",
      "importing datasets....\n",
      "selecting 30 simillar users...\n",
      "configuring movie formatting...\n",
      "creating the Graph...\n",
      "Staring training fo 30 iterations...\n"
     ]
    },
    {
     "name": "stderr",
     "output_type": "stream",
     "text": [
      "100%|████████████████████████████████████████████████████████████████████████████████████████████████████| 30/30 [00:09<00:00,  3.27it/s]\n"
     ]
    },
    {
     "name": "stdout",
     "output_type": "stream",
     "text": [
      "0\n",
      "Recommended ID's: [2058.0, 1219.0, 8798.0, 100.0, 2600.0]\n",
      "running training and testing for user 32\n",
      " --------------------------------------------\n",
      "importing datasets....\n",
      "selecting 30 simillar users...\n",
      "configuring movie formatting...\n",
      "creating the Graph...\n",
      "Staring training fo 30 iterations...\n"
     ]
    },
    {
     "name": "stderr",
     "output_type": "stream",
     "text": [
      "100%|████████████████████████████████████████████████████████████████████████████████████████████████████| 30/30 [00:09<00:00,  3.14it/s]\n"
     ]
    },
    {
     "name": "stdout",
     "output_type": "stream",
     "text": [
      "0\n",
      "Recommended ID's: [55118.0, 54286.0, 2997.0, 8157.0, 86295.0]\n",
      "running training and testing for user 33\n",
      " --------------------------------------------\n",
      "importing datasets....\n",
      "selecting 30 simillar users...\n",
      "configuring movie formatting...\n",
      "creating the Graph...\n",
      "Staring training fo 30 iterations...\n"
     ]
    },
    {
     "name": "stderr",
     "output_type": "stream",
     "text": [
      "100%|████████████████████████████████████████████████████████████████████████████████████████████████████| 30/30 [00:09<00:00,  3.24it/s]\n"
     ]
    },
    {
     "name": "stdout",
     "output_type": "stream",
     "text": [
      "0\n",
      "Recommended ID's: [454.0, 2948.0, 32587.0, 97923.0, 25771.0]\n",
      "running training and testing for user 34\n",
      " --------------------------------------------\n",
      "importing datasets....\n",
      "selecting 30 simillar users...\n",
      "configuring movie formatting...\n",
      "creating the Graph...\n",
      "Staring training fo 30 iterations...\n"
     ]
    },
    {
     "name": "stderr",
     "output_type": "stream",
     "text": [
      "100%|████████████████████████████████████████████████████████████████████████████████████████████████████| 30/30 [00:09<00:00,  3.22it/s]\n"
     ]
    },
    {
     "name": "stdout",
     "output_type": "stream",
     "text": [
      "0\n",
      "Recommended ID's: [1097.0, 8908, 589.0, 6934.0, 48385.0]\n",
      "running training and testing for user 35\n",
      " --------------------------------------------\n",
      "importing datasets....\n",
      "selecting 30 simillar users...\n",
      "configuring movie formatting...\n",
      "creating the Graph...\n",
      "Staring training fo 30 iterations...\n"
     ]
    },
    {
     "name": "stderr",
     "output_type": "stream",
     "text": [
      "100%|████████████████████████████████████████████████████████████████████████████████████████████████████| 30/30 [00:09<00:00,  3.23it/s]\n"
     ]
    },
    {
     "name": "stdout",
     "output_type": "stream",
     "text": [
      "0\n",
      "Recommended ID's: [3755.0, 6031.0, 81847.0, 2384.0, 127096.0]\n",
      "running training and testing for user 36\n",
      " --------------------------------------------\n",
      "importing datasets....\n",
      "selecting 30 simillar users...\n",
      "configuring movie formatting...\n",
      "creating the Graph...\n",
      "Staring training fo 30 iterations...\n"
     ]
    },
    {
     "name": "stderr",
     "output_type": "stream",
     "text": [
      "100%|████████████████████████████████████████████████████████████████████████████████████████████████████| 30/30 [00:09<00:00,  3.26it/s]\n"
     ]
    },
    {
     "name": "stdout",
     "output_type": "stream",
     "text": [
      "0\n",
      "Recommended ID's: [1726.0, 586.0, 6299.0, 3578.0, 3257.0]\n",
      "running training and testing for user 37\n",
      " --------------------------------------------\n",
      "importing datasets....\n",
      "selecting 30 simillar users...\n",
      "configuring movie formatting...\n",
      "creating the Graph...\n",
      "Staring training fo 30 iterations...\n"
     ]
    },
    {
     "name": "stderr",
     "output_type": "stream",
     "text": [
      "100%|████████████████████████████████████████████████████████████████████████████████████████████████████| 30/30 [00:09<00:00,  3.31it/s]\n"
     ]
    },
    {
     "name": "stdout",
     "output_type": "stream",
     "text": [
      "0\n",
      "Recommended ID's: [2571.0, 48.0, 5988.0, 7027.0, 2929.0]\n",
      "running training and testing for user 38\n",
      " --------------------------------------------\n",
      "importing datasets....\n",
      "selecting 30 simillar users...\n",
      "configuring movie formatting...\n",
      "creating the Graph...\n",
      "Staring training fo 30 iterations...\n"
     ]
    },
    {
     "name": "stderr",
     "output_type": "stream",
     "text": [
      "100%|████████████████████████████████████████████████████████████████████████████████████████████████████| 30/30 [00:08<00:00,  3.35it/s]\n"
     ]
    },
    {
     "name": "stdout",
     "output_type": "stream",
     "text": [
      "0\n",
      "Recommended ID's: [5225.0, 36401.0, 7293.0, 2027.0, 5255.0]\n",
      "running training and testing for user 39\n",
      " --------------------------------------------\n",
      "importing datasets....\n",
      "selecting 30 simillar users...\n",
      "configuring movie formatting...\n",
      "creating the Graph...\n",
      "Staring training fo 30 iterations...\n"
     ]
    },
    {
     "name": "stderr",
     "output_type": "stream",
     "text": [
      "100%|████████████████████████████████████████████████████████████████████████████████████████████████████| 30/30 [00:09<00:00,  3.22it/s]\n"
     ]
    },
    {
     "name": "stdout",
     "output_type": "stream",
     "text": [
      "0\n",
      "Recommended ID's: [8783.0, 3858.0, 1674.0, 84152.0, 4406.0]\n",
      "running training and testing for user 40\n",
      " --------------------------------------------\n",
      "importing datasets....\n",
      "selecting 30 simillar users...\n",
      "configuring movie formatting...\n",
      "creating the Graph...\n",
      "Staring training fo 30 iterations...\n"
     ]
    },
    {
     "name": "stderr",
     "output_type": "stream",
     "text": [
      "100%|████████████████████████████████████████████████████████████████████████████████████████████████████| 30/30 [00:09<00:00,  3.21it/s]\n"
     ]
    },
    {
     "name": "stdout",
     "output_type": "stream",
     "text": [
      "0\n",
      "Recommended ID's: [60074.0, 1377.0, 1978.0, 177765.0, 132.0]\n",
      "running training and testing for user 41\n",
      " --------------------------------------------\n",
      "importing datasets....\n",
      "selecting 30 simillar users...\n",
      "configuring movie formatting...\n",
      "creating the Graph...\n",
      "Staring training fo 30 iterations...\n"
     ]
    },
    {
     "name": "stderr",
     "output_type": "stream",
     "text": [
      "100%|████████████████████████████████████████████████████████████████████████████████████████████████████| 30/30 [00:08<00:00,  3.42it/s]\n"
     ]
    },
    {
     "name": "stdout",
     "output_type": "stream",
     "text": [
      "0\n",
      "Recommended ID's: [94780.0, 6993.0, 19.0, 1293.0, 5900.0]\n",
      "running training and testing for user 42\n",
      " --------------------------------------------\n",
      "importing datasets....\n",
      "selecting 30 simillar users...\n",
      "configuring movie formatting...\n",
      "creating the Graph...\n",
      "Staring training fo 30 iterations...\n"
     ]
    },
    {
     "name": "stderr",
     "output_type": "stream",
     "text": [
      "100%|████████████████████████████████████████████████████████████████████████████████████████████████████| 30/30 [00:09<00:00,  3.22it/s]\n"
     ]
    },
    {
     "name": "stdout",
     "output_type": "stream",
     "text": [
      "0\n",
      "Recommended ID's: [2640.0, 27441.0, 82854.0, 3450.0, 4016.0]\n",
      "running training and testing for user 43\n",
      " --------------------------------------------\n",
      "importing datasets....\n",
      "selecting 30 simillar users...\n",
      "configuring movie formatting...\n",
      "creating the Graph...\n",
      "Staring training fo 30 iterations...\n"
     ]
    },
    {
     "name": "stderr",
     "output_type": "stream",
     "text": [
      "100%|████████████████████████████████████████████████████████████████████████████████████████████████████| 30/30 [00:09<00:00,  3.14it/s]\n"
     ]
    },
    {
     "name": "stdout",
     "output_type": "stream",
     "text": [
      "0\n",
      "Recommended ID's: [3618.0, 2009.0, 81591.0, 109483.0, 1299.0]\n",
      "running training and testing for user 44\n",
      " --------------------------------------------\n",
      "importing datasets....\n",
      "selecting 30 simillar users...\n",
      "configuring movie formatting...\n",
      "creating the Graph...\n",
      "Staring training fo 30 iterations...\n"
     ]
    },
    {
     "name": "stderr",
     "output_type": "stream",
     "text": [
      "100%|████████████████████████████████████████████████████████████████████████████████████████████████████| 30/30 [00:09<00:00,  3.31it/s]\n"
     ]
    },
    {
     "name": "stdout",
     "output_type": "stream",
     "text": [
      "0\n",
      "Recommended ID's: [4022.0, 5679.0, 1552.0, 116977.0, 546.0]\n",
      "running training and testing for user 45\n",
      " --------------------------------------------\n",
      "importing datasets....\n",
      "selecting 30 simillar users...\n",
      "configuring movie formatting...\n",
      "creating the Graph...\n",
      "Staring training fo 30 iterations...\n"
     ]
    },
    {
     "name": "stderr",
     "output_type": "stream",
     "text": [
      "100%|████████████████████████████████████████████████████████████████████████████████████████████████████| 30/30 [00:09<00:00,  3.17it/s]\n"
     ]
    },
    {
     "name": "stdout",
     "output_type": "stream",
     "text": [
      "0\n",
      "Recommended ID's: [837.0, 6222.0, 2418.0, 1281.0, 1408.0]\n",
      "running training and testing for user 46\n",
      " --------------------------------------------\n",
      "importing datasets....\n",
      "selecting 30 simillar users...\n",
      "configuring movie formatting...\n",
      "creating the Graph...\n",
      "Staring training fo 30 iterations...\n"
     ]
    },
    {
     "name": "stderr",
     "output_type": "stream",
     "text": [
      "100%|████████████████████████████████████████████████████████████████████████████████████████████████████| 30/30 [00:09<00:00,  3.17it/s]\n"
     ]
    },
    {
     "name": "stdout",
     "output_type": "stream",
     "text": [
      "0\n",
      "Recommended ID's: [1059.0, 126548.0, 8360.0, 56367.0, 9348.0]\n",
      "running training and testing for user 47\n",
      " --------------------------------------------\n",
      "importing datasets....\n",
      "selecting 30 simillar users...\n",
      "configuring movie formatting...\n",
      "creating the Graph...\n",
      "Staring training fo 30 iterations...\n"
     ]
    },
    {
     "name": "stderr",
     "output_type": "stream",
     "text": [
      "100%|████████████████████████████████████████████████████████████████████████████████████████████████████| 30/30 [00:09<00:00,  3.18it/s]\n"
     ]
    },
    {
     "name": "stdout",
     "output_type": "stream",
     "text": [
      "0\n",
      "Recommended ID's: [48043.0, 3684.0, 1848.0, 86833.0, 7926.0]\n",
      "running training and testing for user 48\n",
      " --------------------------------------------\n",
      "importing datasets....\n",
      "selecting 30 simillar users...\n",
      "configuring movie formatting...\n",
      "creating the Graph...\n",
      "Staring training fo 30 iterations...\n"
     ]
    },
    {
     "name": "stderr",
     "output_type": "stream",
     "text": [
      "100%|████████████████████████████████████████████████████████████████████████████████████████████████████| 30/30 [00:09<00:00,  3.16it/s]\n"
     ]
    },
    {
     "name": "stdout",
     "output_type": "stream",
     "text": [
      "0\n",
      "Recommended ID's: [58295.0, 2410.0, 2467.0, 176.0, 65225.0]\n",
      "running training and testing for user 49\n",
      " --------------------------------------------\n",
      "importing datasets....\n",
      "selecting 30 simillar users...\n",
      "configuring movie formatting...\n",
      "creating the Graph...\n",
      "Staring training fo 30 iterations...\n"
     ]
    },
    {
     "name": "stderr",
     "output_type": "stream",
     "text": [
      "100%|████████████████████████████████████████████████████████████████████████████████████████████████████| 30/30 [00:09<00:00,  3.22it/s]"
     ]
    },
    {
     "name": "stdout",
     "output_type": "stream",
     "text": [
      "0\n",
      "Recommended ID's: [64983.0, 110.0, 2989.0, 2989.0, 3521.0]\n",
      "overall accuracy is 0.7\n"
     ]
    },
    {
     "name": "stderr",
     "output_type": "stream",
     "text": [
      "\n"
     ]
    }
   ],
   "source": [
    "## 50 generations of GA\n",
    "ra_list = []\n",
    "for i,rev_list in enumerate(train_revs):\n",
    "    print(f\"running training and testing for user {i}\\n --------------------------------------------\")\n",
    "    recs = main (num_agents =30 , num_iter = 30, num_movies = 5 ,exclude_users = chosen_users , userlist = rev_list ,rating_fn = \"./generation_saves/ratings_gen_50.csv\", simillarility_fn = \"./simillarity_matrix_normalized.csv\", alpha= 0.7,beta =0.3,decay=0.05)\n",
    "    precent_overlap, ra = evaluate_reccomendations(recs,test_revs[i])\n",
    "    if (precent_overlap != 0 ):\n",
    "        ra_list.append(ra)\n",
    "        \n",
    "print (f\"overall accuracy is {sum(ra_list)/len(ra_list)}\")"
   ]
  },
  {
   "cell_type": "code",
   "execution_count": 16,
   "id": "77ac7da9",
   "metadata": {},
   "outputs": [
    {
     "name": "stdout",
     "output_type": "stream",
     "text": [
      "running training and testing for user 0\n",
      " --------------------------------------------\n",
      "importing datasets....\n",
      "selecting 30 simillar users...\n",
      "configuring movie formatting...\n",
      "creating the Graph...\n",
      "Staring training fo 30 iterations...\n"
     ]
    },
    {
     "name": "stderr",
     "output_type": "stream",
     "text": [
      "100%|████████████████████████████████████████████████████████████████████████████████████████████████████| 30/30 [00:06<00:00,  4.40it/s]\n"
     ]
    },
    {
     "name": "stdout",
     "output_type": "stream",
     "text": [
      "0\n",
      "Recommended ID's: [91529.0, 4148.0, 2316.0, 1556.0, 1520.0]\n",
      "running training and testing for user 1\n",
      " --------------------------------------------\n",
      "importing datasets....\n",
      "selecting 30 simillar users...\n",
      "configuring movie formatting...\n",
      "creating the Graph...\n",
      "Staring training fo 30 iterations...\n"
     ]
    },
    {
     "name": "stderr",
     "output_type": "stream",
     "text": [
      "100%|████████████████████████████████████████████████████████████████████████████████████████████████████| 30/30 [00:06<00:00,  4.45it/s]\n"
     ]
    },
    {
     "name": "stdout",
     "output_type": "stream",
     "text": [
      "0\n",
      "Recommended ID's: [1769.0, 1021.0, 33493.0, 2253.0, 122433.0]\n",
      "running training and testing for user 2\n",
      " --------------------------------------------\n",
      "importing datasets....\n",
      "selecting 30 simillar users...\n",
      "configuring movie formatting...\n",
      "creating the Graph...\n",
      "Staring training fo 30 iterations...\n"
     ]
    },
    {
     "name": "stderr",
     "output_type": "stream",
     "text": [
      "100%|████████████████████████████████████████████████████████████████████████████████████████████████████| 30/30 [00:06<00:00,  4.42it/s]\n"
     ]
    },
    {
     "name": "stdout",
     "output_type": "stream",
     "text": [
      "0\n",
      "Recommended ID's: [7390.0, 3461.0, 922.0, 4308.0, 2320.0]\n",
      "running training and testing for user 3\n",
      " --------------------------------------------\n",
      "importing datasets....\n",
      "selecting 30 simillar users...\n",
      "configuring movie formatting...\n",
      "creating the Graph...\n",
      "Staring training fo 30 iterations...\n"
     ]
    },
    {
     "name": "stderr",
     "output_type": "stream",
     "text": [
      "100%|████████████████████████████████████████████████████████████████████████████████████████████████████| 30/30 [00:06<00:00,  4.47it/s]\n"
     ]
    },
    {
     "name": "stdout",
     "output_type": "stream",
     "text": [
      "0\n",
      "Recommended ID's: [61350.0, 5878.0, 3300.0, 27.0, 27674.0]\n",
      "running training and testing for user 4\n",
      " --------------------------------------------\n",
      "importing datasets....\n",
      "selecting 30 simillar users...\n",
      "configuring movie formatting...\n",
      "creating the Graph...\n",
      "Staring training fo 30 iterations...\n"
     ]
    },
    {
     "name": "stderr",
     "output_type": "stream",
     "text": [
      "100%|████████████████████████████████████████████████████████████████████████████████████████████████████| 30/30 [00:06<00:00,  4.37it/s]\n"
     ]
    },
    {
     "name": "stdout",
     "output_type": "stream",
     "text": [
      "0\n",
      "Recommended ID's: [109487.0, 356.0, 2796.0, 813.0, 46559.0]\n",
      "running training and testing for user 5\n",
      " --------------------------------------------\n",
      "importing datasets....\n",
      "selecting 30 simillar users...\n",
      "configuring movie formatting...\n",
      "creating the Graph...\n",
      "Staring training fo 30 iterations...\n"
     ]
    },
    {
     "name": "stderr",
     "output_type": "stream",
     "text": [
      "100%|████████████████████████████████████████████████████████████████████████████████████████████████████| 30/30 [00:06<00:00,  4.50it/s]\n"
     ]
    },
    {
     "name": "stdout",
     "output_type": "stream",
     "text": [
      "0\n",
      "Recommended ID's: [266.0, 1884.0, 48043.0, 2026.0, 109487.0]\n",
      "running training and testing for user 6\n",
      " --------------------------------------------\n",
      "importing datasets....\n",
      "selecting 30 simillar users...\n",
      "configuring movie formatting...\n",
      "creating the Graph...\n",
      "Staring training fo 30 iterations...\n"
     ]
    },
    {
     "name": "stderr",
     "output_type": "stream",
     "text": [
      "100%|████████████████████████████████████████████████████████████████████████████████████████████████████| 30/30 [00:06<00:00,  4.43it/s]\n"
     ]
    },
    {
     "name": "stdout",
     "output_type": "stream",
     "text": [
      "0\n",
      "Recommended ID's: [2291.0, 7438.0, 27879.0, 48516.0, 8870.0]\n",
      "running training and testing for user 7\n",
      " --------------------------------------------\n",
      "importing datasets....\n",
      "selecting 30 simillar users...\n",
      "configuring movie formatting...\n",
      "creating the Graph...\n",
      "Staring training fo 30 iterations...\n"
     ]
    },
    {
     "name": "stderr",
     "output_type": "stream",
     "text": [
      "100%|████████████████████████████████████████████████████████████████████████████████████████████████████| 30/30 [00:06<00:00,  4.49it/s]\n"
     ]
    },
    {
     "name": "stdout",
     "output_type": "stream",
     "text": [
      "0\n",
      "Recommended ID's: [1680.0, 5444.0, 143859.0, 55118.0, 3624.0]\n",
      "running training and testing for user 8\n",
      " --------------------------------------------\n",
      "importing datasets....\n",
      "selecting 30 simillar users...\n",
      "configuring movie formatting...\n",
      "creating the Graph...\n",
      "Staring training fo 30 iterations...\n"
     ]
    },
    {
     "name": "stderr",
     "output_type": "stream",
     "text": [
      "100%|████████████████████████████████████████████████████████████████████████████████████████████████████| 30/30 [00:06<00:00,  4.42it/s]\n"
     ]
    },
    {
     "name": "stdout",
     "output_type": "stream",
     "text": [
      "0\n",
      "Recommended ID's: [2325.0, 2294.0, 3633.0, 84152.0, 3751.0]\n",
      "running training and testing for user 9\n",
      " --------------------------------------------\n",
      "importing datasets....\n",
      "selecting 30 simillar users...\n",
      "configuring movie formatting...\n",
      "creating the Graph...\n",
      "Staring training fo 30 iterations...\n"
     ]
    },
    {
     "name": "stderr",
     "output_type": "stream",
     "text": [
      "100%|████████████████████████████████████████████████████████████████████████████████████████████████████| 30/30 [00:06<00:00,  4.47it/s]\n"
     ]
    },
    {
     "name": "stdout",
     "output_type": "stream",
     "text": [
      "0\n",
      "Recommended ID's: [60069.0, 3035.0, 1584.0, 1832.0, 852.0]\n",
      "running training and testing for user 10\n",
      " --------------------------------------------\n",
      "importing datasets....\n",
      "selecting 30 simillar users...\n",
      "configuring movie formatting...\n",
      "creating the Graph...\n",
      "Staring training fo 30 iterations...\n"
     ]
    },
    {
     "name": "stderr",
     "output_type": "stream",
     "text": [
      "100%|████████████████████████████████████████████████████████████████████████████████████████████████████| 30/30 [00:06<00:00,  4.35it/s]\n"
     ]
    },
    {
     "name": "stdout",
     "output_type": "stream",
     "text": [
      "0\n",
      "Recommended ID's: [34150.0, 2599.0, 4896.0, 8059.0, 1722.0]\n",
      "running training and testing for user 11\n",
      " --------------------------------------------\n",
      "importing datasets....\n",
      "selecting 30 simillar users...\n",
      "configuring movie formatting...\n",
      "creating the Graph...\n",
      "Staring training fo 30 iterations...\n"
     ]
    },
    {
     "name": "stderr",
     "output_type": "stream",
     "text": [
      "100%|████████████████████████████████████████████████████████████████████████████████████████████████████| 30/30 [00:06<00:00,  4.46it/s]\n"
     ]
    },
    {
     "name": "stdout",
     "output_type": "stream",
     "text": [
      "0\n",
      "Recommended ID's: [69529.0, 42007.0, 95170.0, 3409.0, 1269.0]\n",
      "running training and testing for user 12\n",
      " --------------------------------------------\n",
      "importing datasets....\n",
      "selecting 30 simillar users...\n",
      "configuring movie formatting...\n",
      "creating the Graph...\n",
      "Staring training fo 30 iterations...\n"
     ]
    },
    {
     "name": "stderr",
     "output_type": "stream",
     "text": [
      "100%|████████████████████████████████████████████████████████████████████████████████████████████████████| 30/30 [00:06<00:00,  4.33it/s]\n"
     ]
    },
    {
     "name": "stdout",
     "output_type": "stream",
     "text": [
      "0\n",
      "Recommended ID's: [64957.0, 6380.0, 1089.0, 3424.0, 543.0]\n",
      "running training and testing for user 13\n",
      " --------------------------------------------\n",
      "importing datasets....\n",
      "selecting 30 simillar users...\n",
      "configuring movie formatting...\n",
      "creating the Graph...\n",
      "Staring training fo 30 iterations...\n"
     ]
    },
    {
     "name": "stderr",
     "output_type": "stream",
     "text": [
      "100%|████████████████████████████████████████████████████████████████████████████████████████████████████| 30/30 [00:06<00:00,  4.50it/s]\n"
     ]
    },
    {
     "name": "stdout",
     "output_type": "stream",
     "text": [
      "0\n",
      "Recommended ID's: [1135.0, 61350.0, 27.0, 68791.0, 1674.0]\n",
      "running training and testing for user 14\n",
      " --------------------------------------------\n",
      "importing datasets....\n",
      "selecting 30 simillar users...\n",
      "configuring movie formatting...\n",
      "creating the Graph...\n",
      "Staring training fo 30 iterations...\n"
     ]
    },
    {
     "name": "stderr",
     "output_type": "stream",
     "text": [
      "100%|████████████████████████████████████████████████████████████████████████████████████████████████████| 30/30 [00:06<00:00,  4.36it/s]\n"
     ]
    },
    {
     "name": "stdout",
     "output_type": "stream",
     "text": [
      "0\n",
      "Recommended ID's: [159.0, 4239.0, 49647.0, 38886.0, 2616.0]\n",
      "running training and testing for user 15\n",
      " --------------------------------------------\n",
      "importing datasets....\n",
      "selecting 30 simillar users...\n",
      "configuring movie formatting...\n",
      "creating the Graph...\n",
      "Staring training fo 30 iterations...\n"
     ]
    },
    {
     "name": "stderr",
     "output_type": "stream",
     "text": [
      "100%|████████████████████████████████████████████████████████████████████████████████████████████████████| 30/30 [00:06<00:00,  4.44it/s]\n"
     ]
    },
    {
     "name": "stdout",
     "output_type": "stream",
     "text": [
      "0\n",
      "Recommended ID's: [63082.0, 1971.0, 2706.0, 91485.0, 1904.0]\n",
      "running training and testing for user 16\n",
      " --------------------------------------------\n",
      "importing datasets....\n",
      "selecting 30 simillar users...\n",
      "configuring movie formatting...\n",
      "creating the Graph...\n",
      "Staring training fo 30 iterations...\n"
     ]
    },
    {
     "name": "stderr",
     "output_type": "stream",
     "text": [
      "100%|████████████████████████████████████████████████████████████████████████████████████████████████████| 30/30 [00:06<00:00,  4.37it/s]\n"
     ]
    },
    {
     "name": "stdout",
     "output_type": "stream",
     "text": [
      "0\n",
      "Recommended ID's: [91947.0, 923.0, 111.0, 94.0, 2174.0]\n",
      "running training and testing for user 17\n",
      " --------------------------------------------\n",
      "importing datasets....\n",
      "selecting 30 simillar users...\n",
      "configuring movie formatting...\n",
      "creating the Graph...\n",
      "Staring training fo 30 iterations...\n"
     ]
    },
    {
     "name": "stderr",
     "output_type": "stream",
     "text": [
      "100%|████████████████████████████████████████████████████████████████████████████████████████████████████| 30/30 [00:06<00:00,  4.45it/s]\n"
     ]
    },
    {
     "name": "stdout",
     "output_type": "stream",
     "text": [
      "0\n",
      "Recommended ID's: [59315.0, 54503.0, 55.0, 60487.0, 616.0]\n",
      "running training and testing for user 18\n",
      " --------------------------------------------\n",
      "importing datasets....\n",
      "selecting 30 simillar users...\n",
      "configuring movie formatting...\n",
      "creating the Graph...\n",
      "Staring training fo 30 iterations...\n"
     ]
    },
    {
     "name": "stderr",
     "output_type": "stream",
     "text": [
      "100%|████████████████████████████████████████████████████████████████████████████████████████████████████| 30/30 [00:06<00:00,  4.35it/s]\n"
     ]
    },
    {
     "name": "stdout",
     "output_type": "stream",
     "text": [
      "0\n",
      "Recommended ID's: [2989.0, 166492.0, 3186.0, 2797.0, 122.0]\n",
      "running training and testing for user 19\n",
      " --------------------------------------------\n",
      "importing datasets....\n",
      "selecting 30 simillar users...\n",
      "configuring movie formatting...\n",
      "creating the Graph...\n",
      "Staring training fo 30 iterations...\n"
     ]
    },
    {
     "name": "stderr",
     "output_type": "stream",
     "text": [
      "100%|████████████████████████████████████████████████████████████████████████████████████████████████████| 30/30 [00:06<00:00,  4.46it/s]\n"
     ]
    },
    {
     "name": "stdout",
     "output_type": "stream",
     "text": [
      "0\n",
      "Recommended ID's: [1208.0, 33836.0, 26776.0, 148626.0, 195.0]\n",
      "running training and testing for user 20\n",
      " --------------------------------------------\n",
      "importing datasets....\n",
      "selecting 30 simillar users...\n",
      "configuring movie formatting...\n",
      "creating the Graph...\n",
      "Staring training fo 30 iterations...\n"
     ]
    },
    {
     "name": "stderr",
     "output_type": "stream",
     "text": [
      "100%|████████████████████████████████████████████████████████████████████████████████████████████████████| 30/30 [00:06<00:00,  4.37it/s]\n"
     ]
    },
    {
     "name": "stdout",
     "output_type": "stream",
     "text": [
      "0\n",
      "Recommended ID's: [3479.0, 260.0, 1645.0, 5812.0, 8464.0]\n",
      "running training and testing for user 21\n",
      " --------------------------------------------\n",
      "importing datasets....\n",
      "selecting 30 simillar users...\n",
      "configuring movie formatting...\n",
      "creating the Graph...\n",
      "Staring training fo 30 iterations...\n"
     ]
    },
    {
     "name": "stderr",
     "output_type": "stream",
     "text": [
      "100%|████████████████████████████████████████████████████████████████████████████████████████████████████| 30/30 [00:06<00:00,  4.39it/s]\n"
     ]
    },
    {
     "name": "stdout",
     "output_type": "stream",
     "text": [
      "0\n",
      "Recommended ID's: [2188.0, 55247.0, 2384.0, 2525.0, 81834.0]\n",
      "running training and testing for user 22\n",
      " --------------------------------------------\n",
      "importing datasets....\n",
      "selecting 30 simillar users...\n",
      "configuring movie formatting...\n",
      "creating the Graph...\n",
      "Staring training fo 30 iterations...\n"
     ]
    },
    {
     "name": "stderr",
     "output_type": "stream",
     "text": [
      "100%|████████████████████████████████████████████████████████████████████████████████████████████████████| 30/30 [00:06<00:00,  4.32it/s]\n"
     ]
    },
    {
     "name": "stdout",
     "output_type": "stream",
     "text": [
      "0\n",
      "Recommended ID's: [4927.0, 94780.0, 62434.0, 2391.0, 114074.0]\n",
      "running training and testing for user 23\n",
      " --------------------------------------------\n",
      "importing datasets....\n",
      "selecting 30 simillar users...\n",
      "configuring movie formatting...\n",
      "creating the Graph...\n",
      "Staring training fo 30 iterations...\n"
     ]
    },
    {
     "name": "stderr",
     "output_type": "stream",
     "text": [
      "100%|████████████████████████████████████████████████████████████████████████████████████████████████████| 30/30 [00:06<00:00,  4.38it/s]\n"
     ]
    },
    {
     "name": "stdout",
     "output_type": "stream",
     "text": [
      "0\n",
      "Recommended ID's: [2606.0, 9238.0, 7373.0, 2605.0, 1866.0]\n",
      "running training and testing for user 24\n",
      " --------------------------------------------\n",
      "importing datasets....\n",
      "selecting 30 simillar users...\n",
      "configuring movie formatting...\n",
      "creating the Graph...\n",
      "Staring training fo 30 iterations...\n"
     ]
    },
    {
     "name": "stderr",
     "output_type": "stream",
     "text": [
      "100%|████████████████████████████████████████████████████████████████████████████████████████████████████| 30/30 [00:06<00:00,  4.29it/s]\n"
     ]
    },
    {
     "name": "stdout",
     "output_type": "stream",
     "text": [
      "0\n",
      "Recommended ID's: [1960.0, 1997.0, 69227.0, 3793.0, 9404.0]\n",
      "running training and testing for user 25\n",
      " --------------------------------------------\n",
      "importing datasets....\n",
      "selecting 30 simillar users...\n",
      "configuring movie formatting...\n",
      "creating the Graph...\n",
      "Staring training fo 30 iterations...\n"
     ]
    },
    {
     "name": "stderr",
     "output_type": "stream",
     "text": [
      "100%|████████████████████████████████████████████████████████████████████████████████████████████████████| 30/30 [00:06<00:00,  4.46it/s]\n"
     ]
    },
    {
     "name": "stdout",
     "output_type": "stream",
     "text": [
      "0\n",
      "Recommended ID's: [3054.0, 105504.0, 149352.0, 2247.0, 1588.0]\n",
      "running training and testing for user 26\n",
      " --------------------------------------------\n",
      "importing datasets....\n",
      "selecting 30 simillar users...\n",
      "configuring movie formatting...\n",
      "creating the Graph...\n",
      "Staring training fo 30 iterations...\n"
     ]
    },
    {
     "name": "stderr",
     "output_type": "stream",
     "text": [
      "100%|████████████████████████████████████████████████████████████████████████████████████████████████████| 30/30 [00:06<00:00,  4.45it/s]\n"
     ]
    },
    {
     "name": "stdout",
     "output_type": "stream",
     "text": [
      "0\n",
      "Recommended ID's: [1474.0, 2763.0, 57368.0, 2294.0, 640.0]\n",
      "running training and testing for user 27\n",
      " --------------------------------------------\n",
      "importing datasets....\n",
      "selecting 30 simillar users...\n",
      "configuring movie formatting...\n",
      "creating the Graph...\n",
      "Staring training fo 30 iterations...\n"
     ]
    },
    {
     "name": "stderr",
     "output_type": "stream",
     "text": [
      "100%|████████████████████████████████████████████████████████████████████████████████████████████████████| 30/30 [00:06<00:00,  4.47it/s]\n"
     ]
    },
    {
     "name": "stdout",
     "output_type": "stream",
     "text": [
      "0\n",
      "Recommended ID's: [333.0, 7149.0, 2683.0, 8949.0, 45447.0]\n",
      "running training and testing for user 28\n",
      " --------------------------------------------\n",
      "importing datasets....\n",
      "selecting 30 simillar users...\n",
      "configuring movie formatting...\n",
      "creating the Graph...\n",
      "Staring training fo 30 iterations...\n"
     ]
    },
    {
     "name": "stderr",
     "output_type": "stream",
     "text": [
      "100%|████████████████████████████████████████████████████████████████████████████████████████████████████| 30/30 [00:06<00:00,  4.45it/s]\n"
     ]
    },
    {
     "name": "stdout",
     "output_type": "stream",
     "text": [
      "0\n",
      "Recommended ID's: [8369.0, 6001.0, 3510.0, 440.0, 3283.0]\n",
      "running training and testing for user 29\n",
      " --------------------------------------------\n",
      "importing datasets....\n",
      "selecting 30 simillar users...\n",
      "configuring movie formatting...\n",
      "creating the Graph...\n",
      "Staring training fo 30 iterations...\n"
     ]
    },
    {
     "name": "stderr",
     "output_type": "stream",
     "text": [
      "100%|████████████████████████████████████████████████████████████████████████████████████████████████████| 30/30 [00:06<00:00,  4.50it/s]\n"
     ]
    },
    {
     "name": "stdout",
     "output_type": "stream",
     "text": [
      "0\n",
      "Recommended ID's: [48744.0, 1464.0, 130490.0, 103335.0, 97752.0]\n",
      "running training and testing for user 30\n",
      " --------------------------------------------\n",
      "importing datasets....\n",
      "selecting 30 simillar users...\n",
      "configuring movie formatting...\n",
      "creating the Graph...\n",
      "Staring training fo 30 iterations...\n"
     ]
    },
    {
     "name": "stderr",
     "output_type": "stream",
     "text": [
      "100%|████████████████████████████████████████████████████████████████████████████████████████████████████| 30/30 [00:06<00:00,  4.48it/s]\n"
     ]
    },
    {
     "name": "stdout",
     "output_type": "stream",
     "text": [
      "0\n",
      "Recommended ID's: [2683.0, 5502.0, 1663.0, 5225.0, 1126.0]\n",
      "running training and testing for user 31\n",
      " --------------------------------------------\n",
      "importing datasets....\n",
      "selecting 30 simillar users...\n",
      "configuring movie formatting...\n",
      "creating the Graph...\n",
      "Staring training fo 30 iterations...\n"
     ]
    },
    {
     "name": "stderr",
     "output_type": "stream",
     "text": [
      "100%|████████████████████████████████████████████████████████████████████████████████████████████████████| 30/30 [00:06<00:00,  4.46it/s]\n"
     ]
    },
    {
     "name": "stdout",
     "output_type": "stream",
     "text": [
      "0\n",
      "Recommended ID's: [2245.0, 5267.0, 90600.0, 6538.0, 5218.0]\n",
      "running training and testing for user 32\n",
      " --------------------------------------------\n",
      "importing datasets....\n",
      "selecting 30 simillar users...\n",
      "configuring movie formatting...\n",
      "creating the Graph...\n",
      "Staring training fo 30 iterations...\n"
     ]
    },
    {
     "name": "stderr",
     "output_type": "stream",
     "text": [
      "100%|████████████████████████████████████████████████████████████████████████████████████████████████████| 30/30 [00:06<00:00,  4.54it/s]\n"
     ]
    },
    {
     "name": "stdout",
     "output_type": "stream",
     "text": [
      "0\n",
      "Recommended ID's: [6538.0, 708.0, 196.0, 26510.0, 6223.0]\n",
      "running training and testing for user 33\n",
      " --------------------------------------------\n",
      "importing datasets....\n",
      "selecting 30 simillar users...\n",
      "configuring movie formatting...\n",
      "creating the Graph...\n",
      "Staring training fo 30 iterations...\n"
     ]
    },
    {
     "name": "stderr",
     "output_type": "stream",
     "text": [
      "100%|████████████████████████████████████████████████████████████████████████████████████████████████████| 30/30 [00:06<00:00,  4.40it/s]\n"
     ]
    },
    {
     "name": "stdout",
     "output_type": "stream",
     "text": [
      "0\n",
      "Recommended ID's: [53460.0, 282.0, 5110.0, 3361.0, 54286.0]\n",
      "running training and testing for user 34\n",
      " --------------------------------------------\n",
      "importing datasets....\n",
      "selecting 30 simillar users...\n",
      "configuring movie formatting...\n",
      "creating the Graph...\n",
      "Staring training fo 30 iterations...\n"
     ]
    },
    {
     "name": "stderr",
     "output_type": "stream",
     "text": [
      "100%|████████████████████████████████████████████████████████████████████████████████████████████████████| 30/30 [00:06<00:00,  4.48it/s]\n"
     ]
    },
    {
     "name": "stdout",
     "output_type": "stream",
     "text": [
      "0\n",
      "Recommended ID's: [1027.0, 257.0, 3503.0, 5669.0, 130490.0]\n",
      "running training and testing for user 35\n",
      " --------------------------------------------\n",
      "importing datasets....\n",
      "selecting 30 simillar users...\n",
      "configuring movie formatting...\n",
      "creating the Graph...\n",
      "Staring training fo 30 iterations...\n"
     ]
    },
    {
     "name": "stderr",
     "output_type": "stream",
     "text": [
      "100%|████████████████████████████████████████████████████████████████████████████████████████████████████| 30/30 [00:06<00:00,  4.41it/s]\n"
     ]
    },
    {
     "name": "stdout",
     "output_type": "stream",
     "text": [
      "0\n",
      "Recommended ID's: [3134.0, 54995.0, 122918.0, 2324.0, 45672.0]\n",
      "running training and testing for user 36\n",
      " --------------------------------------------\n",
      "importing datasets....\n",
      "selecting 30 simillar users...\n",
      "configuring movie formatting...\n",
      "creating the Graph...\n",
      "Staring training fo 30 iterations...\n"
     ]
    },
    {
     "name": "stderr",
     "output_type": "stream",
     "text": [
      "100%|████████████████████████████████████████████████████████████████████████████████████████████████████| 30/30 [00:06<00:00,  4.41it/s]\n"
     ]
    },
    {
     "name": "stdout",
     "output_type": "stream",
     "text": [
      "0\n",
      "Recommended ID's: [1498.0, 54259.0, 6377.0, 1036.0, 1797.0]\n",
      "running training and testing for user 37\n",
      " --------------------------------------------\n",
      "importing datasets....\n",
      "selecting 30 simillar users...\n",
      "configuring movie formatting...\n",
      "creating the Graph...\n",
      "Staring training fo 30 iterations...\n"
     ]
    },
    {
     "name": "stderr",
     "output_type": "stream",
     "text": [
      "100%|████████████████████████████████████████████████████████████████████████████████████████████████████| 30/30 [00:06<00:00,  4.47it/s]\n"
     ]
    },
    {
     "name": "stdout",
     "output_type": "stream",
     "text": [
      "0\n",
      "Recommended ID's: [88125.0, 1960.0, 4889.0, 4974.0, 69122.0]\n",
      "running training and testing for user 38\n",
      " --------------------------------------------\n",
      "importing datasets....\n",
      "selecting 30 simillar users...\n",
      "configuring movie formatting...\n",
      "creating the Graph...\n",
      "Staring training fo 30 iterations...\n"
     ]
    },
    {
     "name": "stderr",
     "output_type": "stream",
     "text": [
      "100%|████████████████████████████████████████████████████████████████████████████████████████████████████| 30/30 [00:06<00:00,  4.30it/s]\n"
     ]
    },
    {
     "name": "stdout",
     "output_type": "stream",
     "text": [
      "0\n",
      "Recommended ID's: [432.0, 4593.0, 1084.0, 8361.0, 1961.0]\n",
      "running training and testing for user 39\n",
      " --------------------------------------------\n",
      "importing datasets....\n",
      "selecting 30 simillar users...\n",
      "configuring movie formatting...\n",
      "creating the Graph...\n",
      "Staring training fo 30 iterations...\n"
     ]
    },
    {
     "name": "stderr",
     "output_type": "stream",
     "text": [
      "100%|████████████████████████████████████████████████████████████████████████████████████████████████████| 30/30 [00:06<00:00,  4.57it/s]\n"
     ]
    },
    {
     "name": "stdout",
     "output_type": "stream",
     "text": [
      "0\n",
      "Recommended ID's: [177765.0, 195.0, 247.0, 95510.0, 26510.0]\n",
      "running training and testing for user 40\n",
      " --------------------------------------------\n",
      "importing datasets....\n",
      "selecting 30 simillar users...\n",
      "configuring movie formatting...\n",
      "creating the Graph...\n",
      "Staring training fo 30 iterations...\n"
     ]
    },
    {
     "name": "stderr",
     "output_type": "stream",
     "text": [
      "100%|████████████████████████████████████████████████████████████████████████████████████████████████████| 30/30 [00:06<00:00,  4.45it/s]\n"
     ]
    },
    {
     "name": "stdout",
     "output_type": "stream",
     "text": [
      "0\n",
      "Recommended ID's: [2987.0, 60040.0, 719.0, 27611.0, 70015.0]\n",
      "running training and testing for user 41\n",
      " --------------------------------------------\n",
      "importing datasets....\n",
      "selecting 30 simillar users...\n",
      "configuring movie formatting...\n",
      "creating the Graph...\n",
      "Staring training fo 30 iterations...\n"
     ]
    },
    {
     "name": "stderr",
     "output_type": "stream",
     "text": [
      "100%|████████████████████████████████████████████████████████████████████████████████████████████████████| 30/30 [00:06<00:00,  4.47it/s]\n"
     ]
    },
    {
     "name": "stdout",
     "output_type": "stream",
     "text": [
      "0\n",
      "Recommended ID's: [3617.0, 357.0, 4963.0, 252.0, 1193.0]\n",
      "running training and testing for user 42\n",
      " --------------------------------------------\n",
      "importing datasets....\n",
      "selecting 30 simillar users...\n",
      "configuring movie formatting...\n",
      "creating the Graph...\n",
      "Staring training fo 30 iterations...\n"
     ]
    },
    {
     "name": "stderr",
     "output_type": "stream",
     "text": [
      "100%|████████████████████████████████████████████████████████████████████████████████████████████████████| 30/30 [00:06<00:00,  4.43it/s]\n"
     ]
    },
    {
     "name": "stdout",
     "output_type": "stream",
     "text": [
      "0\n",
      "Recommended ID's: [5625.0, 1721.0, 8528.0, 80219.0, 2985.0]\n",
      "running training and testing for user 43\n",
      " --------------------------------------------\n",
      "importing datasets....\n",
      "selecting 30 simillar users...\n",
      "configuring movie formatting...\n",
      "creating the Graph...\n",
      "Staring training fo 30 iterations...\n"
     ]
    },
    {
     "name": "stderr",
     "output_type": "stream",
     "text": [
      "100%|████████████████████████████████████████████████████████████████████████████████████████████████████| 30/30 [00:06<00:00,  4.32it/s]\n"
     ]
    },
    {
     "name": "stdout",
     "output_type": "stream",
     "text": [
      "0\n",
      "Recommended ID's: [31297.0, 57368.0, 7373.0, 52973.0, 6686.0]\n",
      "running training and testing for user 44\n",
      " --------------------------------------------\n",
      "importing datasets....\n",
      "selecting 30 simillar users...\n",
      "configuring movie formatting...\n",
      "creating the Graph...\n",
      "Staring training fo 30 iterations...\n"
     ]
    },
    {
     "name": "stderr",
     "output_type": "stream",
     "text": [
      "100%|████████████████████████████████████████████████████████████████████████████████████████████████████| 30/30 [00:06<00:00,  4.48it/s]\n"
     ]
    },
    {
     "name": "stdout",
     "output_type": "stream",
     "text": [
      "0\n",
      "Recommended ID's: [2085.0, 76293.0, 30894.0, 87520.0, 2599.0]\n",
      "running training and testing for user 45\n",
      " --------------------------------------------\n",
      "importing datasets....\n",
      "selecting 30 simillar users...\n",
      "configuring movie formatting...\n",
      "creating the Graph...\n",
      "Staring training fo 30 iterations...\n"
     ]
    },
    {
     "name": "stderr",
     "output_type": "stream",
     "text": [
      "100%|████████████████████████████████████████████████████████████████████████████████████████████████████| 30/30 [00:06<00:00,  4.49it/s]\n"
     ]
    },
    {
     "name": "stdout",
     "output_type": "stream",
     "text": [
      "0\n",
      "Recommended ID's: [72407.0, 1047.0, 3812.0, 5459.0, 2482.0]\n",
      "running training and testing for user 46\n",
      " --------------------------------------------\n",
      "importing datasets....\n",
      "selecting 30 simillar users...\n",
      "configuring movie formatting...\n",
      "creating the Graph...\n",
      "Staring training fo 30 iterations...\n"
     ]
    },
    {
     "name": "stderr",
     "output_type": "stream",
     "text": [
      "100%|████████████████████████████████████████████████████████████████████████████████████████████████████| 30/30 [00:06<00:00,  4.51it/s]\n"
     ]
    },
    {
     "name": "stdout",
     "output_type": "stream",
     "text": [
      "0\n",
      "Recommended ID's: [937.0, 55247.0, 2706.0, 1093.0, 168252.0]\n",
      "running training and testing for user 47\n",
      " --------------------------------------------\n",
      "importing datasets....\n",
      "selecting 30 simillar users...\n",
      "configuring movie formatting...\n",
      "creating the Graph...\n",
      "Staring training fo 30 iterations...\n"
     ]
    },
    {
     "name": "stderr",
     "output_type": "stream",
     "text": [
      "100%|████████████████████████████████████████████████████████████████████████████████████████████████████| 30/30 [00:06<00:00,  4.34it/s]\n"
     ]
    },
    {
     "name": "stdout",
     "output_type": "stream",
     "text": [
      "0\n",
      "Recommended ID's: [4265.0, 5625.0, 3152.0, 5075.0, 9005.0]\n",
      "running training and testing for user 48\n",
      " --------------------------------------------\n",
      "importing datasets....\n",
      "selecting 30 simillar users...\n",
      "configuring movie formatting...\n",
      "creating the Graph...\n",
      "Staring training fo 30 iterations...\n"
     ]
    },
    {
     "name": "stderr",
     "output_type": "stream",
     "text": [
      "100%|████████████████████████████████████████████████████████████████████████████████████████████████████| 30/30 [00:07<00:00,  4.17it/s]\n"
     ]
    },
    {
     "name": "stdout",
     "output_type": "stream",
     "text": [
      "0\n",
      "Recommended ID's: [5225.0, 380.0, 3409.0, 135861.0, 4344.0]\n",
      "running training and testing for user 49\n",
      " --------------------------------------------\n",
      "importing datasets....\n",
      "selecting 30 simillar users...\n",
      "configuring movie formatting...\n",
      "creating the Graph...\n",
      "Staring training fo 30 iterations...\n"
     ]
    },
    {
     "name": "stderr",
     "output_type": "stream",
     "text": [
      "100%|████████████████████████████████████████████████████████████████████████████████████████████████████| 30/30 [00:06<00:00,  4.42it/s]"
     ]
    },
    {
     "name": "stdout",
     "output_type": "stream",
     "text": [
      "0\n",
      "Recommended ID's: [32289.0, 318.0, 3593.0, 788.0, 5225.0]\n",
      "overall accuracy is 0.6714285714285715\n"
     ]
    },
    {
     "name": "stderr",
     "output_type": "stream",
     "text": [
      "\n"
     ]
    }
   ],
   "source": [
    "## 100 generations of GA\n",
    "ra_list = []\n",
    "for i,rev_list in enumerate(train_revs):\n",
    "    print(f\"running training and testing for user {i}\\n --------------------------------------------\")\n",
    "    recs = main (num_agents =30 , num_iter = 30, num_movies = 5 ,exclude_users = chosen_users , userlist = rev_list ,rating_fn = \"./generation_saves/ratings_gen_100.csv\", simillarility_fn = \"./simillarity_matrix_normalized.csv\", alpha= 0.7,beta =0.3,decay=0.05)\n",
    "    precent_overlap, ra = evaluate_reccomendations(recs,test_revs[i])\n",
    "    if (precent_overlap != 0 ):\n",
    "        ra_list.append(ra)\n",
    "        \n",
    "print (f\"overall accuracy is {sum(ra_list)/len(ra_list)}\")"
   ]
  },
  {
   "cell_type": "code",
   "execution_count": 17,
   "id": "0ddb421d",
   "metadata": {},
   "outputs": [
    {
     "name": "stdout",
     "output_type": "stream",
     "text": [
      "running training and testing for user 0\n",
      " --------------------------------------------\n",
      "importing datasets....\n",
      "selecting 30 simillar users...\n",
      "configuring movie formatting...\n",
      "creating the Graph...\n",
      "Staring training fo 30 iterations...\n"
     ]
    },
    {
     "name": "stderr",
     "output_type": "stream",
     "text": [
      "100%|████████████████████████████████████████████████████████████████████████████████████████████████████| 30/30 [00:02<00:00, 12.07it/s]\n"
     ]
    },
    {
     "name": "stdout",
     "output_type": "stream",
     "text": [
      "0\n",
      "Recommended ID's: [1960.0, 2291.0, 2571.0, 3967.0, 4406.0]\n",
      "running training and testing for user 1\n",
      " --------------------------------------------\n",
      "importing datasets....\n",
      "selecting 30 simillar users...\n",
      "configuring movie formatting...\n",
      "creating the Graph...\n",
      "Staring training fo 30 iterations...\n"
     ]
    },
    {
     "name": "stderr",
     "output_type": "stream",
     "text": [
      "100%|████████████████████████████████████████████████████████████████████████████████████████████████████| 30/30 [00:02<00:00, 12.76it/s]\n"
     ]
    },
    {
     "name": "stdout",
     "output_type": "stream",
     "text": [
      "0\n",
      "Recommended ID's: [57669.0, 2364.0, 68791.0, 6156.0, 3213.0]\n",
      "running training and testing for user 2\n",
      " --------------------------------------------\n",
      "importing datasets....\n",
      "selecting 30 simillar users...\n",
      "configuring movie formatting...\n",
      "creating the Graph...\n",
      "Staring training fo 30 iterations...\n"
     ]
    },
    {
     "name": "stderr",
     "output_type": "stream",
     "text": [
      "100%|████████████████████████████████████████████████████████████████████████████████████████████████████| 30/30 [00:02<00:00, 12.68it/s]\n"
     ]
    },
    {
     "name": "stdout",
     "output_type": "stream",
     "text": [
      "0\n",
      "Recommended ID's: [38886.0, 3668.0, 76293.0, 4011.0, 5402.0]\n",
      "running training and testing for user 3\n",
      " --------------------------------------------\n",
      "importing datasets....\n",
      "selecting 30 simillar users...\n",
      "configuring movie formatting...\n",
      "creating the Graph...\n",
      "Staring training fo 30 iterations...\n"
     ]
    },
    {
     "name": "stderr",
     "output_type": "stream",
     "text": [
      "100%|████████████████████████████████████████████████████████████████████████████████████████████████████| 30/30 [00:02<00:00, 11.66it/s]\n"
     ]
    },
    {
     "name": "stdout",
     "output_type": "stream",
     "text": [
      "0\n",
      "Recommended ID's: [316.0, 1950.0, 6686.0, 48560.0, 3946.0]\n",
      "running training and testing for user 4\n",
      " --------------------------------------------\n",
      "importing datasets....\n",
      "selecting 30 simillar users...\n",
      "configuring movie formatting...\n",
      "creating the Graph...\n",
      "Staring training fo 30 iterations...\n"
     ]
    },
    {
     "name": "stderr",
     "output_type": "stream",
     "text": [
      "100%|████████████████████████████████████████████████████████████████████████████████████████████████████| 30/30 [00:02<00:00, 11.68it/s]\n"
     ]
    },
    {
     "name": "stdout",
     "output_type": "stream",
     "text": [
      "0\n",
      "Recommended ID's: [2363.0, 1644.0, 1276.0, 8360.0, 47099.0]\n",
      "running training and testing for user 5\n",
      " --------------------------------------------\n",
      "importing datasets....\n",
      "selecting 30 simillar users...\n",
      "configuring movie formatting...\n",
      "creating the Graph...\n",
      "Staring training fo 30 iterations...\n"
     ]
    },
    {
     "name": "stderr",
     "output_type": "stream",
     "text": [
      "100%|████████████████████████████████████████████████████████████████████████████████████████████████████| 30/30 [00:02<00:00, 12.77it/s]\n"
     ]
    },
    {
     "name": "stdout",
     "output_type": "stream",
     "text": [
      "0\n",
      "Recommended ID's: [44199.0, 2794.0, 3671.0, 471.0, 193.0]\n",
      "running training and testing for user 6\n",
      " --------------------------------------------\n",
      "importing datasets....\n",
      "selecting 30 simillar users...\n",
      "configuring movie formatting...\n",
      "creating the Graph...\n",
      "Staring training fo 30 iterations...\n"
     ]
    },
    {
     "name": "stderr",
     "output_type": "stream",
     "text": [
      "100%|████████████████████████████████████████████████████████████████████████████████████████████████████| 30/30 [00:02<00:00, 12.01it/s]\n"
     ]
    },
    {
     "name": "stdout",
     "output_type": "stream",
     "text": [
      "0\n",
      "Recommended ID's: [2599.0, 78620.0, 8529.0, 1608.0, 8161.0]\n",
      "running training and testing for user 7\n",
      " --------------------------------------------\n",
      "importing datasets....\n",
      "selecting 30 simillar users...\n",
      "configuring movie formatting...\n",
      "creating the Graph...\n",
      "Staring training fo 30 iterations...\n"
     ]
    },
    {
     "name": "stderr",
     "output_type": "stream",
     "text": [
      "100%|████████████████████████████████████████████████████████████████████████████████████████████████████| 30/30 [00:02<00:00, 12.29it/s]\n"
     ]
    },
    {
     "name": "stdout",
     "output_type": "stream",
     "text": [
      "0\n",
      "Recommended ID's: [4179.0, 33493.0, 736.0, 5450.0, 1660.0]\n",
      "running training and testing for user 8\n",
      " --------------------------------------------\n",
      "importing datasets....\n",
      "selecting 30 simillar users...\n",
      "configuring movie formatting...\n",
      "creating the Graph...\n",
      "Staring training fo 30 iterations...\n"
     ]
    },
    {
     "name": "stderr",
     "output_type": "stream",
     "text": [
      "100%|████████████████████████████████████████████████████████████████████████████████████████████████████| 30/30 [00:02<00:00, 12.25it/s]\n"
     ]
    },
    {
     "name": "stdout",
     "output_type": "stream",
     "text": [
      "0\n",
      "Recommended ID's: [902.0, 54259.0, 44199.0, 7536.0, 4406.0]\n",
      "running training and testing for user 9\n",
      " --------------------------------------------\n",
      "importing datasets....\n",
      "selecting 30 simillar users...\n",
      "configuring movie formatting...\n",
      "creating the Graph...\n",
      "Staring training fo 30 iterations...\n"
     ]
    },
    {
     "name": "stderr",
     "output_type": "stream",
     "text": [
      "100%|████████████████████████████████████████████████████████████████████████████████████████████████████| 30/30 [00:02<00:00, 12.55it/s]\n"
     ]
    },
    {
     "name": "stdout",
     "output_type": "stream",
     "text": [
      "0\n",
      "Recommended ID's: [1711.0, 1674.0, 1474.0, 640.0, 230.0]\n",
      "running training and testing for user 10\n",
      " --------------------------------------------\n",
      "importing datasets....\n",
      "selecting 30 simillar users...\n",
      "configuring movie formatting...\n",
      "creating the Graph...\n",
      "Staring training fo 30 iterations...\n"
     ]
    },
    {
     "name": "stderr",
     "output_type": "stream",
     "text": [
      "100%|████████████████████████████████████████████████████████████████████████████████████████████████████| 30/30 [00:02<00:00, 11.76it/s]\n"
     ]
    },
    {
     "name": "stdout",
     "output_type": "stream",
     "text": [
      "0\n",
      "Recommended ID's: [1593.0, 8528.0, 5176.0, 3334.0, 94959.0]\n",
      "running training and testing for user 11\n",
      " --------------------------------------------\n",
      "importing datasets....\n",
      "selecting 30 simillar users...\n",
      "configuring movie formatting...\n",
      "creating the Graph...\n",
      "Staring training fo 30 iterations...\n"
     ]
    },
    {
     "name": "stderr",
     "output_type": "stream",
     "text": [
      "100%|████████████████████████████████████████████████████████████████████████████████████████████████████| 30/30 [00:02<00:00, 12.27it/s]\n"
     ]
    },
    {
     "name": "stdout",
     "output_type": "stream",
     "text": [
      "0\n",
      "Recommended ID's: [8360.0, 6542.0, 3255.0, 4457.0, 1126.0]\n",
      "running training and testing for user 12\n",
      " --------------------------------------------\n",
      "importing datasets....\n",
      "selecting 30 simillar users...\n",
      "configuring movie formatting...\n",
      "creating the Graph...\n",
      "Staring training fo 30 iterations...\n"
     ]
    },
    {
     "name": "stderr",
     "output_type": "stream",
     "text": [
      "100%|████████████████████████████████████████████████████████████████████████████████████████████████████| 30/30 [00:02<00:00, 12.37it/s]\n"
     ]
    },
    {
     "name": "stdout",
     "output_type": "stream",
     "text": [
      "0\n",
      "Recommended ID's: [159.0, 3967.0, 37384.0, 2028.0, 809.0]\n",
      "running training and testing for user 13\n",
      " --------------------------------------------\n",
      "importing datasets....\n",
      "selecting 30 simillar users...\n",
      "configuring movie formatting...\n",
      "creating the Graph...\n",
      "Staring training fo 30 iterations...\n"
     ]
    },
    {
     "name": "stderr",
     "output_type": "stream",
     "text": [
      "100%|████████████████████████████████████████████████████████████████████████████████████████████████████| 30/30 [00:02<00:00, 12.36it/s]\n"
     ]
    },
    {
     "name": "stdout",
     "output_type": "stream",
     "text": [
      "0\n",
      "Recommended ID's: [4308.0, 54259.0, 208.0, 7078.0, 6963.0]\n",
      "running training and testing for user 14\n",
      " --------------------------------------------\n",
      "importing datasets....\n",
      "selecting 30 simillar users...\n",
      "configuring movie formatting...\n",
      "creating the Graph...\n",
      "Staring training fo 30 iterations...\n"
     ]
    },
    {
     "name": "stderr",
     "output_type": "stream",
     "text": [
      "100%|████████████████████████████████████████████████████████████████████████████████████████████████████| 30/30 [00:02<00:00, 12.50it/s]\n"
     ]
    },
    {
     "name": "stdout",
     "output_type": "stream",
     "text": [
      "0\n",
      "Recommended ID's: [4029.0, 107406.0, 3334.0, 3363.0, 2144.0]\n",
      "running training and testing for user 15\n",
      " --------------------------------------------\n",
      "importing datasets....\n",
      "selecting 30 simillar users...\n",
      "configuring movie formatting...\n",
      "creating the Graph...\n",
      "Staring training fo 30 iterations...\n"
     ]
    },
    {
     "name": "stderr",
     "output_type": "stream",
     "text": [
      "100%|████████████████████████████████████████████████████████████████████████████████████████████████████| 30/30 [00:02<00:00, 12.25it/s]\n"
     ]
    },
    {
     "name": "stdout",
     "output_type": "stream",
     "text": [
      "0\n",
      "Recommended ID's: [2100.0, 9013.0, 2000.0, 2599.0, 2259.0]\n",
      "running training and testing for user 16\n",
      " --------------------------------------------\n",
      "importing datasets....\n",
      "selecting 30 simillar users...\n",
      "configuring movie formatting...\n",
      "creating the Graph...\n",
      "Staring training fo 30 iterations...\n"
     ]
    },
    {
     "name": "stderr",
     "output_type": "stream",
     "text": [
      "100%|████████████████████████████████████████████████████████████████████████████████████████████████████| 30/30 [00:02<00:00, 11.70it/s]\n"
     ]
    },
    {
     "name": "stdout",
     "output_type": "stream",
     "text": [
      "0\n",
      "Recommended ID's: [6410, 47099.0, 1956.0, 5299.0, 3255.0]\n",
      "running training and testing for user 17\n",
      " --------------------------------------------\n",
      "importing datasets....\n",
      "selecting 30 simillar users...\n",
      "configuring movie formatting...\n",
      "creating the Graph...\n",
      "Staring training fo 30 iterations...\n"
     ]
    },
    {
     "name": "stderr",
     "output_type": "stream",
     "text": [
      "100%|████████████████████████████████████████████████████████████████████████████████████████████████████| 30/30 [00:02<00:00, 12.46it/s]\n"
     ]
    },
    {
     "name": "stdout",
     "output_type": "stream",
     "text": [
      "0\n",
      "Recommended ID's: [48394.0, 6188.0, 139385.0, 1089.0, 1213.0]\n",
      "running training and testing for user 18\n",
      " --------------------------------------------\n",
      "importing datasets....\n",
      "selecting 30 simillar users...\n",
      "configuring movie formatting...\n",
      "creating the Graph...\n",
      "Staring training fo 30 iterations...\n"
     ]
    },
    {
     "name": "stderr",
     "output_type": "stream",
     "text": [
      "100%|████████████████████████████████████████████████████████████████████████████████████████████████████| 30/30 [00:02<00:00, 11.99it/s]\n"
     ]
    },
    {
     "name": "stdout",
     "output_type": "stream",
     "text": [
      "0\n",
      "Recommended ID's: [8161.0, 77561.0, 2324.0, 3998.0, 53125.0]\n",
      "running training and testing for user 19\n",
      " --------------------------------------------\n",
      "importing datasets....\n",
      "selecting 30 simillar users...\n",
      "configuring movie formatting...\n",
      "creating the Graph...\n",
      "Staring training fo 30 iterations...\n"
     ]
    },
    {
     "name": "stderr",
     "output_type": "stream",
     "text": [
      "100%|████████████████████████████████████████████████████████████████████████████████████████████████████| 30/30 [00:02<00:00, 12.31it/s]\n"
     ]
    },
    {
     "name": "stdout",
     "output_type": "stream",
     "text": [
      "0\n",
      "Recommended ID's: [466.0, 3353.0, 1921.0, 922.0, 2525.0]\n",
      "running training and testing for user 20\n",
      " --------------------------------------------\n",
      "importing datasets....\n",
      "selecting 30 simillar users...\n",
      "configuring movie formatting...\n",
      "creating the Graph...\n",
      "Staring training fo 30 iterations...\n"
     ]
    },
    {
     "name": "stderr",
     "output_type": "stream",
     "text": [
      "100%|████████████████████████████████████████████████████████████████████████████████████████████████████| 30/30 [00:02<00:00, 12.31it/s]\n"
     ]
    },
    {
     "name": "stdout",
     "output_type": "stream",
     "text": [
      "0\n",
      "Recommended ID's: [1062.0, 103141.0, 317.0, 1274.0, 2295.0]\n",
      "running training and testing for user 21\n",
      " --------------------------------------------\n",
      "importing datasets....\n",
      "selecting 30 simillar users...\n",
      "configuring movie formatting...\n",
      "creating the Graph...\n",
      "Staring training fo 30 iterations...\n"
     ]
    },
    {
     "name": "stderr",
     "output_type": "stream",
     "text": [
      "100%|████████████████████████████████████████████████████████████████████████████████████████████████████| 30/30 [00:02<00:00, 12.29it/s]\n"
     ]
    },
    {
     "name": "stdout",
     "output_type": "stream",
     "text": [
      "0\n",
      "Recommended ID's: [6156.0, 2081.0, 3998.0, 6763.0, 8818.0]\n",
      "running training and testing for user 22\n",
      " --------------------------------------------\n",
      "importing datasets....\n",
      "selecting 30 simillar users...\n",
      "configuring movie formatting...\n",
      "creating the Graph...\n",
      "Staring training fo 30 iterations...\n"
     ]
    },
    {
     "name": "stderr",
     "output_type": "stream",
     "text": [
      "100%|████████████████████████████████████████████████████████████████████████████████████████████████████| 30/30 [00:02<00:00, 12.55it/s]\n"
     ]
    },
    {
     "name": "stdout",
     "output_type": "stream",
     "text": [
      "0\n",
      "Recommended ID's: [8705.0, 2858.0, 317.0, 785.0, 41566.0]\n",
      "running training and testing for user 23\n",
      " --------------------------------------------\n",
      "importing datasets....\n",
      "selecting 30 simillar users...\n",
      "configuring movie formatting...\n",
      "creating the Graph...\n",
      "Staring training fo 30 iterations...\n"
     ]
    },
    {
     "name": "stderr",
     "output_type": "stream",
     "text": [
      "100%|████████████████████████████████████████████████████████████████████████████████████████████████████| 30/30 [00:02<00:00, 12.13it/s]\n"
     ]
    },
    {
     "name": "stdout",
     "output_type": "stream",
     "text": [
      "0\n",
      "Recommended ID's: [7438.0, 8961.0, 1126.0, 88140.0, 30793.0]\n",
      "running training and testing for user 24\n",
      " --------------------------------------------\n",
      "importing datasets....\n",
      "selecting 30 simillar users...\n",
      "configuring movie formatting...\n",
      "creating the Graph...\n",
      "Staring training fo 30 iterations...\n"
     ]
    },
    {
     "name": "stderr",
     "output_type": "stream",
     "text": [
      "100%|████████████████████████████████████████████████████████████████████████████████████████████████████| 30/30 [00:02<00:00, 11.90it/s]\n"
     ]
    },
    {
     "name": "stdout",
     "output_type": "stream",
     "text": [
      "0\n",
      "Recommended ID's: [8221.0, 316.0, 1210.0, 2394.0, 8136.0]\n",
      "running training and testing for user 25\n",
      " --------------------------------------------\n",
      "importing datasets....\n",
      "selecting 30 simillar users...\n",
      "configuring movie formatting...\n",
      "creating the Graph...\n",
      "Staring training fo 30 iterations...\n"
     ]
    },
    {
     "name": "stderr",
     "output_type": "stream",
     "text": [
      "100%|████████████████████████████████████████████████████████████████████████████████████████████████████| 30/30 [00:02<00:00, 12.30it/s]\n"
     ]
    },
    {
     "name": "stdout",
     "output_type": "stream",
     "text": [
      "0\n",
      "Recommended ID's: [461.0, 5878.0, 195.0, 2599.0, 2248.0]\n",
      "running training and testing for user 26\n",
      " --------------------------------------------\n",
      "importing datasets....\n",
      "selecting 30 simillar users...\n",
      "configuring movie formatting...\n",
      "creating the Graph...\n",
      "Staring training fo 30 iterations...\n"
     ]
    },
    {
     "name": "stderr",
     "output_type": "stream",
     "text": [
      "100%|████████████████████████████████████████████████████████████████████████████████████████████████████| 30/30 [00:02<00:00, 12.20it/s]\n"
     ]
    },
    {
     "name": "stdout",
     "output_type": "stream",
     "text": [
      "0\n",
      "Recommended ID's: [86644.0, 9192.0, 912.0, 1637.0, 3363.0]\n",
      "running training and testing for user 27\n",
      " --------------------------------------------\n",
      "importing datasets....\n",
      "selecting 30 simillar users...\n",
      "configuring movie formatting...\n",
      "creating the Graph...\n",
      "Staring training fo 30 iterations...\n"
     ]
    },
    {
     "name": "stderr",
     "output_type": "stream",
     "text": [
      "100%|████████████████████████████████████████████████████████████████████████████████████████████████████| 30/30 [00:02<00:00, 12.14it/s]\n"
     ]
    },
    {
     "name": "stdout",
     "output_type": "stream",
     "text": [
      "0\n",
      "Recommended ID's: [1968.0, 4040.0, 920.0, 2539.0, 148626.0]\n",
      "running training and testing for user 28\n",
      " --------------------------------------------\n",
      "importing datasets....\n",
      "selecting 30 simillar users...\n",
      "configuring movie formatting...\n",
      "creating the Graph...\n",
      "Staring training fo 30 iterations...\n"
     ]
    },
    {
     "name": "stderr",
     "output_type": "stream",
     "text": [
      "100%|████████████████████████████████████████████████████████████████████████████████████████████████████| 30/30 [00:02<00:00, 12.34it/s]\n"
     ]
    },
    {
     "name": "stdout",
     "output_type": "stream",
     "text": [
      "0\n",
      "Recommended ID's: [4040.0, 3263.0, 4107.0, 4179.0, 902.0]\n",
      "running training and testing for user 29\n",
      " --------------------------------------------\n",
      "importing datasets....\n",
      "selecting 30 simillar users...\n",
      "configuring movie formatting...\n",
      "creating the Graph...\n",
      "Staring training fo 30 iterations...\n"
     ]
    },
    {
     "name": "stderr",
     "output_type": "stream",
     "text": [
      "100%|████████████████████████████████████████████████████████████████████████████████████████████████████| 30/30 [00:02<00:00, 12.35it/s]\n"
     ]
    },
    {
     "name": "stdout",
     "output_type": "stream",
     "text": [
      "0\n",
      "Recommended ID's: [344.0, 1617.0, 1196.0, 5296.0, 2692.0]\n",
      "running training and testing for user 30\n",
      " --------------------------------------------\n",
      "importing datasets....\n",
      "selecting 30 simillar users...\n",
      "configuring movie formatting...\n",
      "creating the Graph...\n",
      "Staring training fo 30 iterations...\n"
     ]
    },
    {
     "name": "stderr",
     "output_type": "stream",
     "text": [
      "100%|████████████████████████████████████████████████████████████████████████████████████████████████████| 30/30 [00:02<00:00, 12.12it/s]\n"
     ]
    },
    {
     "name": "stdout",
     "output_type": "stream",
     "text": [
      "0\n",
      "Recommended ID's: [107406.0, 3827.0, 1520.0, 3624.0, 6069.0]\n",
      "running training and testing for user 31\n",
      " --------------------------------------------\n",
      "importing datasets....\n",
      "selecting 30 simillar users...\n",
      "configuring movie formatting...\n",
      "creating the Graph...\n",
      "Staring training fo 30 iterations...\n"
     ]
    },
    {
     "name": "stderr",
     "output_type": "stream",
     "text": [
      "100%|████████████████████████████████████████████████████████████████████████████████████████████████████| 30/30 [00:02<00:00, 12.43it/s]\n"
     ]
    },
    {
     "name": "stdout",
     "output_type": "stream",
     "text": [
      "0\n",
      "Recommended ID's: [78499.0, 664.0, 1474.0, 6539.0, 4467.0]\n",
      "running training and testing for user 32\n",
      " --------------------------------------------\n",
      "importing datasets....\n",
      "selecting 30 simillar users...\n",
      "configuring movie formatting...\n",
      "creating the Graph...\n",
      "Staring training fo 30 iterations...\n"
     ]
    },
    {
     "name": "stderr",
     "output_type": "stream",
     "text": [
      "100%|████████████████████████████████████████████████████████████████████████████████████████████████████| 30/30 [00:02<00:00, 12.53it/s]\n"
     ]
    },
    {
     "name": "stdout",
     "output_type": "stream",
     "text": [
      "0\n",
      "Recommended ID's: [38038.0, 1219.0, 2000.0, 6542.0, 7255.0]\n",
      "running training and testing for user 33\n",
      " --------------------------------------------\n",
      "importing datasets....\n",
      "selecting 30 simillar users...\n",
      "configuring movie formatting...\n",
      "creating the Graph...\n",
      "Staring training fo 30 iterations...\n"
     ]
    },
    {
     "name": "stderr",
     "output_type": "stream",
     "text": [
      "100%|████████████████████████████████████████████████████████████████████████████████████████████████████| 30/30 [00:02<00:00, 12.32it/s]\n"
     ]
    },
    {
     "name": "stdout",
     "output_type": "stream",
     "text": [
      "0\n",
      "Recommended ID's: [6188.0, 4029.0, 1637.0, 7559.0, 7529.0]\n",
      "running training and testing for user 34\n",
      " --------------------------------------------\n",
      "importing datasets....\n",
      "selecting 30 simillar users...\n",
      "configuring movie formatting...\n",
      "creating the Graph...\n",
      "Staring training fo 30 iterations...\n"
     ]
    },
    {
     "name": "stderr",
     "output_type": "stream",
     "text": [
      "100%|████████████████████████████████████████████████████████████████████████████████████████████████████| 30/30 [00:02<00:00, 12.34it/s]\n"
     ]
    },
    {
     "name": "stdout",
     "output_type": "stream",
     "text": [
      "0\n",
      "Recommended ID's: [6992.0, 50.0, 9296.0, 3681.0, 160.0]\n",
      "running training and testing for user 35\n",
      " --------------------------------------------\n",
      "importing datasets....\n",
      "selecting 30 simillar users...\n",
      "configuring movie formatting...\n",
      "creating the Graph...\n",
      "Staring training fo 30 iterations...\n"
     ]
    },
    {
     "name": "stderr",
     "output_type": "stream",
     "text": [
      "100%|████████████████████████████████████████████████████████████████████████████████████████████████████| 30/30 [00:02<00:00, 11.89it/s]\n"
     ]
    },
    {
     "name": "stdout",
     "output_type": "stream",
     "text": [
      "0\n",
      "Recommended ID's: [8136.0, 38886.0, 2640.0, 4309.0, 4308.0]\n",
      "running training and testing for user 36\n",
      " --------------------------------------------\n",
      "importing datasets....\n",
      "selecting 30 simillar users...\n",
      "configuring movie formatting...\n",
      "creating the Graph...\n",
      "Staring training fo 30 iterations...\n"
     ]
    },
    {
     "name": "stderr",
     "output_type": "stream",
     "text": [
      "100%|████████████████████████████████████████████████████████████████████████████████████████████████████| 30/30 [00:02<00:00, 12.77it/s]\n"
     ]
    },
    {
     "name": "stdout",
     "output_type": "stream",
     "text": [
      "0\n",
      "Recommended ID's: [701.0, 7448.0, 3671.0, 8783.0, 11.0]\n",
      "running training and testing for user 37\n",
      " --------------------------------------------\n",
      "importing datasets....\n",
      "selecting 30 simillar users...\n",
      "configuring movie formatting...\n",
      "creating the Graph...\n",
      "Staring training fo 30 iterations...\n"
     ]
    },
    {
     "name": "stderr",
     "output_type": "stream",
     "text": [
      "100%|████████████████████████████████████████████████████████████████████████████████████████████████████| 30/30 [00:02<00:00, 11.85it/s]\n"
     ]
    },
    {
     "name": "stdout",
     "output_type": "stream",
     "text": [
      "0\n",
      "Recommended ID's: [1101.0, 1584.0, 2706.0, 1078.0, 2011.0]\n",
      "running training and testing for user 38\n",
      " --------------------------------------------\n",
      "importing datasets....\n",
      "selecting 30 simillar users...\n",
      "configuring movie formatting...\n",
      "creating the Graph...\n",
      "Staring training fo 30 iterations...\n"
     ]
    },
    {
     "name": "stderr",
     "output_type": "stream",
     "text": [
      "100%|████████████████████████████████████████████████████████████████████████████████████████████████████| 30/30 [00:02<00:00, 12.87it/s]\n"
     ]
    },
    {
     "name": "stdout",
     "output_type": "stream",
     "text": [
      "0\n",
      "Recommended ID's: [66097.0, 1956.0, 461.0, 3105.0, 1584.0]\n",
      "running training and testing for user 39\n",
      " --------------------------------------------\n",
      "importing datasets....\n",
      "selecting 30 simillar users...\n",
      "configuring movie formatting...\n",
      "creating the Graph...\n",
      "Staring training fo 30 iterations...\n"
     ]
    },
    {
     "name": "stderr",
     "output_type": "stream",
     "text": [
      "100%|████████████████████████████████████████████████████████████████████████████████████████████████████| 30/30 [00:02<00:00, 12.51it/s]\n"
     ]
    },
    {
     "name": "stdout",
     "output_type": "stream",
     "text": [
      "0\n",
      "Recommended ID's: [3120.0, 44972.0, 103335.0, 1520.0, 100390.0]\n",
      "running training and testing for user 40\n",
      " --------------------------------------------\n",
      "importing datasets....\n",
      "selecting 30 simillar users...\n",
      "configuring movie formatting...\n",
      "creating the Graph...\n",
      "Staring training fo 30 iterations...\n"
     ]
    },
    {
     "name": "stderr",
     "output_type": "stream",
     "text": [
      "100%|████████████████████████████████████████████████████████████████████████████████████████████████████| 30/30 [00:02<00:00, 12.59it/s]\n"
     ]
    },
    {
     "name": "stdout",
     "output_type": "stream",
     "text": [
      "0\n",
      "Recommended ID's: [69481.0, 361.0, 485.0, 186.0, 6303.0]\n",
      "running training and testing for user 41\n",
      " --------------------------------------------\n",
      "importing datasets....\n",
      "selecting 30 simillar users...\n",
      "configuring movie formatting...\n",
      "creating the Graph...\n",
      "Staring training fo 30 iterations...\n"
     ]
    },
    {
     "name": "stderr",
     "output_type": "stream",
     "text": [
      "100%|████████████████████████████████████████████████████████████████████████████████████████████████████| 30/30 [00:02<00:00, 12.31it/s]\n"
     ]
    },
    {
     "name": "stdout",
     "output_type": "stream",
     "text": [
      "0\n",
      "Recommended ID's: [4011.0, 1036.0, 3624.0, 193.0, 648.0]\n",
      "running training and testing for user 42\n",
      " --------------------------------------------\n",
      "importing datasets....\n",
      "selecting 30 simillar users...\n",
      "configuring movie formatting...\n",
      "creating the Graph...\n",
      "Staring training fo 30 iterations...\n"
     ]
    },
    {
     "name": "stderr",
     "output_type": "stream",
     "text": [
      "100%|████████████████████████████████████████████████████████████████████████████████████████████████████| 30/30 [00:02<00:00, 12.45it/s]\n"
     ]
    },
    {
     "name": "stdout",
     "output_type": "stream",
     "text": [
      "0\n",
      "Recommended ID's: [648.0, 447.0, 494.0, 6188.0, 2081.0]\n",
      "running training and testing for user 43\n",
      " --------------------------------------------\n",
      "importing datasets....\n",
      "selecting 30 simillar users...\n",
      "configuring movie formatting...\n",
      "creating the Graph...\n",
      "Staring training fo 30 iterations...\n"
     ]
    },
    {
     "name": "stderr",
     "output_type": "stream",
     "text": [
      "100%|████████████████████████████████████████████████████████████████████████████████████████████████████| 30/30 [00:02<00:00, 11.81it/s]\n"
     ]
    },
    {
     "name": "stdout",
     "output_type": "stream",
     "text": [
      "0\n",
      "Recommended ID's: [57669.0, 3119.0, 106696.0, 2858.0, 920.0]\n",
      "running training and testing for user 44\n",
      " --------------------------------------------\n",
      "importing datasets....\n",
      "selecting 30 simillar users...\n",
      "configuring movie formatting...\n",
      "creating the Graph...\n",
      "Staring training fo 30 iterations...\n"
     ]
    },
    {
     "name": "stderr",
     "output_type": "stream",
     "text": [
      "100%|████████████████████████████████████████████████████████████████████████████████████████████████████| 30/30 [00:02<00:00, 12.78it/s]\n"
     ]
    },
    {
     "name": "stdout",
     "output_type": "stream",
     "text": [
      "0\n",
      "Recommended ID's: [3334.0, 78499.0, 5168.0, 4668.0, 539.0]\n",
      "running training and testing for user 45\n",
      " --------------------------------------------\n",
      "importing datasets....\n",
      "selecting 30 simillar users...\n",
      "configuring movie formatting...\n",
      "creating the Graph...\n",
      "Staring training fo 30 iterations...\n"
     ]
    },
    {
     "name": "stderr",
     "output_type": "stream",
     "text": [
      "100%|████████████████████████████████████████████████████████████████████████████████████████████████████| 30/30 [00:02<00:00, 12.04it/s]\n"
     ]
    },
    {
     "name": "stdout",
     "output_type": "stream",
     "text": [
      "0\n",
      "Recommended ID's: [6628.0, 103141.0, 736.0, 150.0, 7438.0]\n",
      "running training and testing for user 46\n",
      " --------------------------------------------\n",
      "importing datasets....\n",
      "selecting 30 simillar users...\n",
      "configuring movie formatting...\n",
      "creating the Graph...\n",
      "Staring training fo 30 iterations...\n"
     ]
    },
    {
     "name": "stderr",
     "output_type": "stream",
     "text": [
      "100%|████████████████████████████████████████████████████████████████████████████████████████████████████| 30/30 [00:02<00:00, 12.20it/s]\n"
     ]
    },
    {
     "name": "stdout",
     "output_type": "stream",
     "text": [
      "0\n",
      "Recommended ID's: [89087.0, 1921.0, 7968.0, 3120.0, 701.0]\n",
      "running training and testing for user 47\n",
      " --------------------------------------------\n",
      "importing datasets....\n",
      "selecting 30 simillar users...\n",
      "configuring movie formatting...\n",
      "creating the Graph...\n",
      "Staring training fo 30 iterations...\n"
     ]
    },
    {
     "name": "stderr",
     "output_type": "stream",
     "text": [
      "100%|████████████████████████████████████████████████████████████████████████████████████████████████████| 30/30 [00:02<00:00, 11.57it/s]\n"
     ]
    },
    {
     "name": "stdout",
     "output_type": "stream",
     "text": [
      "0\n",
      "Recommended ID's: [1939.0, 2501.0, 4461, 148626.0, 66097.0]\n",
      "running training and testing for user 48\n",
      " --------------------------------------------\n",
      "importing datasets....\n",
      "selecting 30 simillar users...\n",
      "configuring movie formatting...\n",
      "creating the Graph...\n",
      "Staring training fo 30 iterations...\n"
     ]
    },
    {
     "name": "stderr",
     "output_type": "stream",
     "text": [
      "100%|████████████████████████████████████████████████████████████████████████████████████████████████████| 30/30 [00:02<00:00, 12.26it/s]\n"
     ]
    },
    {
     "name": "stdout",
     "output_type": "stream",
     "text": [
      "0\n",
      "Recommended ID's: [2012.0, 54259.0, 195.0, 4304.0, 30812.0]\n",
      "running training and testing for user 49\n",
      " --------------------------------------------\n",
      "importing datasets....\n",
      "selecting 30 simillar users...\n",
      "configuring movie formatting...\n",
      "creating the Graph...\n",
      "Staring training fo 30 iterations...\n"
     ]
    },
    {
     "name": "stderr",
     "output_type": "stream",
     "text": [
      "100%|████████████████████████████████████████████████████████████████████████████████████████████████████| 30/30 [00:02<00:00, 12.30it/s]\n"
     ]
    },
    {
     "name": "stdout",
     "output_type": "stream",
     "text": [
      "0\n",
      "Recommended ID's: [6589.0, 8161.0, 7401.0, 6188.0, 1474.0]\n",
      "overall accuracy is 0.7\n"
     ]
    }
   ],
   "source": [
    "## 500 generations of GA\n",
    "ra_list = []\n",
    "for i,rev_list in enumerate(train_revs):\n",
    "    print(f\"running training and testing for user {i}\\n --------------------------------------------\")\n",
    "    recs = main (num_agents =30 , num_iter = 30, num_movies = 5 ,exclude_users = chosen_users , userlist = rev_list ,rating_fn = \"./generation_saves/ratings_gen_500.csv\", simillarility_fn = \"./simillarity_matrix_normalized.csv\", alpha= 0.7,beta =0.3,decay=0.05)\n",
    "    precent_overlap, ra = evaluate_reccomendations(recs,test_revs[i])\n",
    "    if (precent_overlap != 0 ):\n",
    "        ra_list.append(ra)\n",
    "        \n",
    "print (f\"overall accuracy is {sum(ra_list)/len(ra_list)}\")"
   ]
  },
  {
   "cell_type": "code",
   "execution_count": 18,
   "id": "cda7cea2",
   "metadata": {},
   "outputs": [
    {
     "name": "stdout",
     "output_type": "stream",
     "text": [
      "running training and testing for user 0\n",
      " --------------------------------------------\n",
      "importing datasets....\n",
      "selecting 30 simillar users...\n",
      "configuring movie formatting...\n",
      "creating the Graph...\n",
      "Staring training fo 30 iterations...\n"
     ]
    },
    {
     "name": "stderr",
     "output_type": "stream",
     "text": [
      "100%|████████████████████████████████████████████████████████████████████████████████████████████████████| 30/30 [00:01<00:00, 17.20it/s]\n"
     ]
    },
    {
     "name": "stdout",
     "output_type": "stream",
     "text": [
      "0\n",
      "Recommended ID's: [161044.0, 2862.0, 8360.0, 3253.0, 2097.0]\n",
      "running training and testing for user 1\n",
      " --------------------------------------------\n",
      "importing datasets....\n",
      "selecting 30 simillar users...\n",
      "configuring movie formatting...\n",
      "creating the Graph...\n",
      "Staring training fo 30 iterations...\n"
     ]
    },
    {
     "name": "stderr",
     "output_type": "stream",
     "text": [
      "100%|████████████████████████████████████████████████████████████████████████████████████████████████████| 30/30 [00:01<00:00, 18.07it/s]\n"
     ]
    },
    {
     "name": "stdout",
     "output_type": "stream",
     "text": [
      "0\n",
      "Recommended ID's: [1639.0, 4040.0, 6373.0, 7011.0, 3782.0]\n",
      "running training and testing for user 2\n",
      " --------------------------------------------\n",
      "importing datasets....\n",
      "selecting 30 simillar users...\n",
      "configuring movie formatting...\n",
      "creating the Graph...\n",
      "Staring training fo 30 iterations...\n"
     ]
    },
    {
     "name": "stderr",
     "output_type": "stream",
     "text": [
      "100%|████████████████████████████████████████████████████████████████████████████████████████████████████| 30/30 [00:01<00:00, 15.95it/s]\n"
     ]
    },
    {
     "name": "stdout",
     "output_type": "stream",
     "text": [
      "0\n",
      "Recommended ID's: [7109.0, 1921.0, 3663.0, 2567.0, 9222.0]\n",
      "running training and testing for user 3\n",
      " --------------------------------------------\n",
      "importing datasets....\n",
      "selecting 30 simillar users...\n",
      "configuring movie formatting...\n",
      "creating the Graph...\n",
      "Staring training fo 30 iterations...\n"
     ]
    },
    {
     "name": "stderr",
     "output_type": "stream",
     "text": [
      "100%|████████████████████████████████████████████████████████████████████████████████████████████████████| 30/30 [00:01<00:00, 16.64it/s]\n"
     ]
    },
    {
     "name": "stdout",
     "output_type": "stream",
     "text": [
      "0\n",
      "Recommended ID's: [139385.0, 5973.0, 3450.0, 2730.0, 2730.0]\n",
      "running training and testing for user 4\n",
      " --------------------------------------------\n",
      "importing datasets....\n",
      "selecting 30 simillar users...\n",
      "configuring movie formatting...\n",
      "creating the Graph...\n",
      "Staring training fo 30 iterations...\n"
     ]
    },
    {
     "name": "stderr",
     "output_type": "stream",
     "text": [
      "100%|████████████████████████████████████████████████████████████████████████████████████████████████████| 30/30 [00:01<00:00, 16.84it/s]\n"
     ]
    },
    {
     "name": "stdout",
     "output_type": "stream",
     "text": [
      "0\n",
      "Recommended ID's: [1278.0, 6477.0, 2571.0, 919.0, 377.0]\n",
      "running training and testing for user 5\n",
      " --------------------------------------------\n",
      "importing datasets....\n",
      "selecting 30 simillar users...\n",
      "configuring movie formatting...\n",
      "creating the Graph...\n",
      "Staring training fo 30 iterations...\n"
     ]
    },
    {
     "name": "stderr",
     "output_type": "stream",
     "text": [
      "100%|████████████████████████████████████████████████████████████████████████████████████████████████████| 30/30 [00:01<00:00, 17.59it/s]\n"
     ]
    },
    {
     "name": "stdout",
     "output_type": "stream",
     "text": [
      "0\n",
      "Recommended ID's: [3856.0, 593.0, 2957.0, 6303.0, 1037.0]\n",
      "running training and testing for user 6\n",
      " --------------------------------------------\n",
      "importing datasets....\n",
      "selecting 30 simillar users...\n",
      "configuring movie formatting...\n",
      "creating the Graph...\n",
      "Staring training fo 30 iterations...\n"
     ]
    },
    {
     "name": "stderr",
     "output_type": "stream",
     "text": [
      "100%|████████████████████████████████████████████████████████████████████████████████████████████████████| 30/30 [00:01<00:00, 16.68it/s]\n"
     ]
    },
    {
     "name": "stdout",
     "output_type": "stream",
     "text": [
      "0\n",
      "Recommended ID's: [745.0, 3411.0, 2862.0, 1956.0, 86644.0]\n",
      "running training and testing for user 7\n",
      " --------------------------------------------\n",
      "importing datasets....\n",
      "selecting 30 simillar users...\n",
      "configuring movie formatting...\n",
      "creating the Graph...\n",
      "Staring training fo 30 iterations...\n"
     ]
    },
    {
     "name": "stderr",
     "output_type": "stream",
     "text": [
      "100%|████████████████████████████████████████████████████████████████████████████████████████████████████| 30/30 [00:01<00:00, 17.69it/s]\n"
     ]
    },
    {
     "name": "stdout",
     "output_type": "stream",
     "text": [
      "0\n",
      "Recommended ID's: [103335.0, 5999.0, 1372.0, 59315.0, 7804.0]\n",
      "running training and testing for user 8\n",
      " --------------------------------------------\n",
      "importing datasets....\n",
      "selecting 30 simillar users...\n",
      "configuring movie formatting...\n",
      "creating the Graph...\n",
      "Staring training fo 30 iterations...\n"
     ]
    },
    {
     "name": "stderr",
     "output_type": "stream",
     "text": [
      "100%|████████████████████████████████████████████████████████████████████████████████████████████████████| 30/30 [00:01<00:00, 17.30it/s]\n"
     ]
    },
    {
     "name": "stdout",
     "output_type": "stream",
     "text": [
      "0\n",
      "Recommended ID's: [3988.0, 4273.0, 5492, 3663.0, 7707.0]\n",
      "running training and testing for user 9\n",
      " --------------------------------------------\n",
      "importing datasets....\n",
      "selecting 30 simillar users...\n",
      "configuring movie formatting...\n",
      "creating the Graph...\n",
      "Staring training fo 30 iterations...\n"
     ]
    },
    {
     "name": "stderr",
     "output_type": "stream",
     "text": [
      "100%|████████████████████████████████████████████████████████████████████████████████████████████████████| 30/30 [00:01<00:00, 17.43it/s]\n"
     ]
    },
    {
     "name": "stdout",
     "output_type": "stream",
     "text": [
      "0\n",
      "Recommended ID's: [107406.0, 309.0, 2467.0, 6157.0, 1201.0]\n",
      "running training and testing for user 10\n",
      " --------------------------------------------\n",
      "importing datasets....\n",
      "selecting 30 simillar users...\n",
      "configuring movie formatting...\n",
      "creating the Graph...\n",
      "Staring training fo 30 iterations...\n"
     ]
    },
    {
     "name": "stderr",
     "output_type": "stream",
     "text": [
      "100%|████████████████████████████████████████████████████████████████████████████████████████████████████| 30/30 [00:01<00:00, 16.41it/s]\n"
     ]
    },
    {
     "name": "stdout",
     "output_type": "stream",
     "text": [
      "0\n",
      "Recommended ID's: [9683.0, 9709.0, 4406.0, 94780.0, 59315.0]\n",
      "running training and testing for user 11\n",
      " --------------------------------------------\n",
      "importing datasets....\n",
      "selecting 30 simillar users...\n",
      "configuring movie formatting...\n",
      "creating the Graph...\n",
      "Staring training fo 30 iterations...\n"
     ]
    },
    {
     "name": "stderr",
     "output_type": "stream",
     "text": [
      "100%|████████████████████████████████████████████████████████████████████████████████████████████████████| 30/30 [00:01<00:00, 16.96it/s]\n"
     ]
    },
    {
     "name": "stdout",
     "output_type": "stream",
     "text": [
      "0\n",
      "Recommended ID's: [3042.0, 583.0, 4029.0, 112.0, 39.0]\n",
      "running training and testing for user 12\n",
      " --------------------------------------------\n",
      "importing datasets....\n",
      "selecting 30 simillar users...\n",
      "configuring movie formatting...\n",
      "creating the Graph...\n",
      "Staring training fo 30 iterations...\n"
     ]
    },
    {
     "name": "stderr",
     "output_type": "stream",
     "text": [
      "100%|████████████████████████████████████████████████████████████████████████████████████████████████████| 30/30 [00:01<00:00, 17.55it/s]\n"
     ]
    },
    {
     "name": "stdout",
     "output_type": "stream",
     "text": [
      "0\n",
      "Recommended ID's: [5617.0, 587.0, 43744.0, 4084.0, 5257.0]\n",
      "running training and testing for user 13\n",
      " --------------------------------------------\n",
      "importing datasets....\n",
      "selecting 30 simillar users...\n",
      "configuring movie formatting...\n",
      "creating the Graph...\n",
      "Staring training fo 30 iterations...\n"
     ]
    },
    {
     "name": "stderr",
     "output_type": "stream",
     "text": [
      "100%|████████████████████████████████████████████████████████████████████████████████████████████████████| 30/30 [00:01<00:00, 17.91it/s]\n"
     ]
    },
    {
     "name": "stdout",
     "output_type": "stream",
     "text": [
      "0\n",
      "Recommended ID's: [1711.0, 3411.0, 2294.0, 3080.0, 8356.0]\n",
      "running training and testing for user 14\n",
      " --------------------------------------------\n",
      "importing datasets....\n",
      "selecting 30 simillar users...\n",
      "configuring movie formatting...\n",
      "creating the Graph...\n",
      "Staring training fo 30 iterations...\n"
     ]
    },
    {
     "name": "stderr",
     "output_type": "stream",
     "text": [
      "100%|████████████████████████████████████████████████████████████████████████████████████████████████████| 30/30 [00:01<00:00, 17.45it/s]\n"
     ]
    },
    {
     "name": "stdout",
     "output_type": "stream",
     "text": [
      "0\n",
      "Recommended ID's: [461.0, 2394.0, 7438.0, 361.0, 112.0]\n",
      "running training and testing for user 15\n",
      " --------------------------------------------\n",
      "importing datasets....\n",
      "selecting 30 simillar users...\n",
      "configuring movie formatting...\n",
      "creating the Graph...\n",
      "Staring training fo 30 iterations...\n"
     ]
    },
    {
     "name": "stderr",
     "output_type": "stream",
     "text": [
      "100%|████████████████████████████████████████████████████████████████████████████████████████████████████| 30/30 [00:01<00:00, 17.02it/s]\n"
     ]
    },
    {
     "name": "stdout",
     "output_type": "stream",
     "text": [
      "0\n",
      "Recommended ID's: [3794.0, 1214.0, 57669.0, 2012.0, 2692.0]\n",
      "running training and testing for user 16\n",
      " --------------------------------------------\n",
      "importing datasets....\n",
      "selecting 30 simillar users...\n",
      "configuring movie formatting...\n",
      "creating the Graph...\n",
      "Staring training fo 30 iterations...\n"
     ]
    },
    {
     "name": "stderr",
     "output_type": "stream",
     "text": [
      "100%|████████████████████████████████████████████████████████████████████████████████████████████████████| 30/30 [00:01<00:00, 16.42it/s]\n"
     ]
    },
    {
     "name": "stdout",
     "output_type": "stream",
     "text": [
      "0\n",
      "Recommended ID's: [1674.0, 866.0, 5946.0, 2567.0, 7562.0]\n",
      "running training and testing for user 17\n",
      " --------------------------------------------\n",
      "importing datasets....\n",
      "selecting 30 simillar users...\n",
      "configuring movie formatting...\n",
      "creating the Graph...\n",
      "Staring training fo 30 iterations...\n"
     ]
    },
    {
     "name": "stderr",
     "output_type": "stream",
     "text": [
      "100%|████████████████████████████████████████████████████████████████████████████████████████████████████| 30/30 [00:01<00:00, 17.51it/s]\n"
     ]
    },
    {
     "name": "stdout",
     "output_type": "stream",
     "text": [
      "0\n",
      "Recommended ID's: [4406.0, 30793.0, 1478.0, 5329.0, 2599.0]\n",
      "running training and testing for user 18\n",
      " --------------------------------------------\n",
      "importing datasets....\n",
      "selecting 30 simillar users...\n",
      "configuring movie formatting...\n",
      "creating the Graph...\n",
      "Staring training fo 30 iterations...\n"
     ]
    },
    {
     "name": "stderr",
     "output_type": "stream",
     "text": [
      "100%|████████████████████████████████████████████████████████████████████████████████████████████████████| 30/30 [00:01<00:00, 16.69it/s]\n"
     ]
    },
    {
     "name": "stdout",
     "output_type": "stream",
     "text": [
      "0\n",
      "Recommended ID's: [4140.0, 1285.0, 94780.0, 3730.0, 2952.0]\n",
      "running training and testing for user 19\n",
      " --------------------------------------------\n",
      "importing datasets....\n",
      "selecting 30 simillar users...\n",
      "configuring movie formatting...\n",
      "creating the Graph...\n",
      "Staring training fo 30 iterations...\n"
     ]
    },
    {
     "name": "stderr",
     "output_type": "stream",
     "text": [
      "100%|████████████████████████████████████████████████████████████████████████████████████████████████████| 30/30 [00:01<00:00, 17.90it/s]\n"
     ]
    },
    {
     "name": "stdout",
     "output_type": "stream",
     "text": [
      "0\n",
      "Recommended ID's: [2259.0, 9683.0, 1777.0, 485.0, 2411.0]\n",
      "running training and testing for user 20\n",
      " --------------------------------------------\n",
      "importing datasets....\n",
      "selecting 30 simillar users...\n",
      "configuring movie formatting...\n",
      "creating the Graph...\n",
      "Staring training fo 30 iterations...\n"
     ]
    },
    {
     "name": "stderr",
     "output_type": "stream",
     "text": [
      "100%|████████████████████████████████████████████████████████████████████████████████████████████████████| 30/30 [00:01<00:00, 17.40it/s]\n"
     ]
    },
    {
     "name": "stdout",
     "output_type": "stream",
     "text": [
      "0\n",
      "Recommended ID's: [3105.0, 2842.0, 6216.0, 546.0, 4413.0]\n",
      "running training and testing for user 21\n",
      " --------------------------------------------\n",
      "importing datasets....\n",
      "selecting 30 simillar users...\n",
      "configuring movie formatting...\n",
      "creating the Graph...\n",
      "Staring training fo 30 iterations...\n"
     ]
    },
    {
     "name": "stderr",
     "output_type": "stream",
     "text": [
      "100%|████████████████████████████████████████████████████████████████████████████████████████████████████| 30/30 [00:01<00:00, 17.18it/s]\n"
     ]
    },
    {
     "name": "stdout",
     "output_type": "stream",
     "text": [
      "0\n",
      "Recommended ID's: [4029.0, 43744.0, 208.0, 76293.0, 7297.0]\n",
      "running training and testing for user 22\n",
      " --------------------------------------------\n",
      "importing datasets....\n",
      "selecting 30 simillar users...\n",
      "configuring movie formatting...\n",
      "creating the Graph...\n",
      "Staring training fo 30 iterations...\n"
     ]
    },
    {
     "name": "stderr",
     "output_type": "stream",
     "text": [
      "100%|████████████████████████████████████████████████████████████████████████████████████████████████████| 30/30 [00:01<00:00, 17.19it/s]\n"
     ]
    },
    {
     "name": "stdout",
     "output_type": "stream",
     "text": [
      "0\n",
      "Recommended ID's: [9709.0, 5257.0, 7804.0, 485.0, 6680.0]\n",
      "running training and testing for user 23\n",
      " --------------------------------------------\n",
      "importing datasets....\n",
      "selecting 30 simillar users...\n",
      "configuring movie formatting...\n",
      "creating the Graph...\n",
      "Staring training fo 30 iterations...\n"
     ]
    },
    {
     "name": "stderr",
     "output_type": "stream",
     "text": [
      "100%|████████████████████████████████████████████████████████████████████████████████████████████████████| 30/30 [00:01<00:00, 17.07it/s]\n"
     ]
    },
    {
     "name": "stdout",
     "output_type": "stream",
     "text": [
      "0\n",
      "Recommended ID's: [148626.0, 6763.0, 94959.0, 6680.0, 2295.0]\n",
      "running training and testing for user 24\n",
      " --------------------------------------------\n",
      "importing datasets....\n",
      "selecting 30 simillar users...\n",
      "configuring movie formatting...\n",
      "creating the Graph...\n",
      "Staring training fo 30 iterations...\n"
     ]
    },
    {
     "name": "stderr",
     "output_type": "stream",
     "text": [
      "100%|████████████████████████████████████████████████████████████████████████████████████████████████████| 30/30 [00:01<00:00, 17.02it/s]\n"
     ]
    },
    {
     "name": "stdout",
     "output_type": "stream",
     "text": [
      "0\n",
      "Recommended ID's: [9692.0, 139385.0, 4350.0, 9623.0, 2021.0]\n",
      "running training and testing for user 25\n",
      " --------------------------------------------\n",
      "importing datasets....\n",
      "selecting 30 simillar users...\n",
      "configuring movie formatting...\n",
      "creating the Graph...\n",
      "Staring training fo 30 iterations...\n"
     ]
    },
    {
     "name": "stderr",
     "output_type": "stream",
     "text": [
      "100%|████████████████████████████████████████████████████████████████████████████████████████████████████| 30/30 [00:01<00:00, 17.14it/s]\n"
     ]
    },
    {
     "name": "stdout",
     "output_type": "stream",
     "text": [
      "0\n",
      "Recommended ID's: [59784.0, 8014.0, 2081.0, 7707.0, 148626.0]\n",
      "running training and testing for user 26\n",
      " --------------------------------------------\n",
      "importing datasets....\n",
      "selecting 30 simillar users...\n",
      "configuring movie formatting...\n",
      "creating the Graph...\n",
      "Staring training fo 30 iterations...\n"
     ]
    },
    {
     "name": "stderr",
     "output_type": "stream",
     "text": [
      "100%|████████████████████████████████████████████████████████████████████████████████████████████████████| 30/30 [00:01<00:00, 17.11it/s]\n"
     ]
    },
    {
     "name": "stdout",
     "output_type": "stream",
     "text": [
      "0\n",
      "Recommended ID's: [1300.0, 36519.0, 3681.0, 4040.0, 708.0]\n",
      "running training and testing for user 27\n",
      " --------------------------------------------\n",
      "importing datasets....\n",
      "selecting 30 simillar users...\n",
      "configuring movie formatting...\n",
      "creating the Graph...\n",
      "Staring training fo 30 iterations...\n"
     ]
    },
    {
     "name": "stderr",
     "output_type": "stream",
     "text": [
      "100%|████████████████████████████████████████████████████████████████████████████████████████████████████| 30/30 [00:01<00:00, 17.11it/s]\n"
     ]
    },
    {
     "name": "stdout",
     "output_type": "stream",
     "text": [
      "0\n",
      "Recommended ID's: [103335.0, 1356.0, 7231.0, 1637.0, 48560.0]\n",
      "running training and testing for user 28\n",
      " --------------------------------------------\n",
      "importing datasets....\n",
      "selecting 30 simillar users...\n",
      "configuring movie formatting...\n",
      "creating the Graph...\n",
      "Staring training fo 30 iterations...\n"
     ]
    },
    {
     "name": "stderr",
     "output_type": "stream",
     "text": [
      "100%|████████████████████████████████████████████████████████████████████████████████████████████████████| 30/30 [00:01<00:00, 18.15it/s]\n"
     ]
    },
    {
     "name": "stdout",
     "output_type": "stream",
     "text": [
      "0\n",
      "Recommended ID's: [2722.0, 4304.0, 485.0, 1101.0, 5189.0]\n",
      "running training and testing for user 29\n",
      " --------------------------------------------\n",
      "importing datasets....\n",
      "selecting 30 simillar users...\n",
      "configuring movie formatting...\n",
      "creating the Graph...\n",
      "Staring training fo 30 iterations...\n"
     ]
    },
    {
     "name": "stderr",
     "output_type": "stream",
     "text": [
      "100%|████████████████████████████████████████████████████████████████████████████████████████████████████| 30/30 [00:01<00:00, 17.36it/s]\n"
     ]
    },
    {
     "name": "stdout",
     "output_type": "stream",
     "text": [
      "0\n",
      "Recommended ID's: [5660.0, 3042.0, 1674.0, 3856.0, 4304.0]\n",
      "running training and testing for user 30\n",
      " --------------------------------------------\n",
      "importing datasets....\n",
      "selecting 30 simillar users...\n",
      "configuring movie formatting...\n",
      "creating the Graph...\n",
      "Staring training fo 30 iterations...\n"
     ]
    },
    {
     "name": "stderr",
     "output_type": "stream",
     "text": [
      "100%|████████████████████████████████████████████████████████████████████████████████████████████████████| 30/30 [00:01<00:00, 17.04it/s]\n"
     ]
    },
    {
     "name": "stdout",
     "output_type": "stream",
     "text": [
      "0\n",
      "Recommended ID's: [1206.0, 1082.0, 6327.0, 2097.0, 902.0]\n",
      "running training and testing for user 31\n",
      " --------------------------------------------\n",
      "importing datasets....\n",
      "selecting 30 simillar users...\n",
      "configuring movie formatting...\n",
      "creating the Graph...\n",
      "Staring training fo 30 iterations...\n"
     ]
    },
    {
     "name": "stderr",
     "output_type": "stream",
     "text": [
      "100%|████████████████████████████████████████████████████████████████████████████████████████████████████| 30/30 [00:01<00:00, 16.62it/s]\n"
     ]
    },
    {
     "name": "stdout",
     "output_type": "stream",
     "text": [
      "0\n",
      "Recommended ID's: [7707.0, 6863.0, 5444.0, 1269.0, 7185.0]\n",
      "running training and testing for user 32\n",
      " --------------------------------------------\n",
      "importing datasets....\n",
      "selecting 30 simillar users...\n",
      "configuring movie formatting...\n",
      "creating the Graph...\n",
      "Staring training fo 30 iterations...\n"
     ]
    },
    {
     "name": "stderr",
     "output_type": "stream",
     "text": [
      "100%|████████████████████████████████████████████████████████████████████████████████████████████████████| 30/30 [00:01<00:00, 17.23it/s]\n"
     ]
    },
    {
     "name": "stdout",
     "output_type": "stream",
     "text": [
      "0\n",
      "Recommended ID's: [919.0, 1274.0, 6971.0, 2081.0, 208.0]\n",
      "running training and testing for user 33\n",
      " --------------------------------------------\n",
      "importing datasets....\n",
      "selecting 30 simillar users...\n",
      "configuring movie formatting...\n",
      "creating the Graph...\n",
      "Staring training fo 30 iterations...\n"
     ]
    },
    {
     "name": "stderr",
     "output_type": "stream",
     "text": [
      "100%|████████████████████████████████████████████████████████████████████████████████████████████████████| 30/30 [00:01<00:00, 17.44it/s]\n"
     ]
    },
    {
     "name": "stdout",
     "output_type": "stream",
     "text": [
      "0\n",
      "Recommended ID's: [4027.0, 60069.0, 9709.0, 3397.0, 6477.0]\n",
      "running training and testing for user 34\n",
      " --------------------------------------------\n",
      "importing datasets....\n",
      "selecting 30 simillar users...\n",
      "configuring movie formatting...\n",
      "creating the Graph...\n",
      "Staring training fo 30 iterations...\n"
     ]
    },
    {
     "name": "stderr",
     "output_type": "stream",
     "text": [
      "100%|████████████████████████████████████████████████████████████████████████████████████████████████████| 30/30 [00:01<00:00, 17.18it/s]\n"
     ]
    },
    {
     "name": "stdout",
     "output_type": "stream",
     "text": [
      "0\n",
      "Recommended ID's: [3213.0, 7438.0, 8356.0, 3052.0, 4769.0]\n",
      "running training and testing for user 35\n",
      " --------------------------------------------\n",
      "importing datasets....\n",
      "selecting 30 simillar users...\n",
      "configuring movie formatting...\n",
      "creating the Graph...\n",
      "Staring training fo 30 iterations...\n"
     ]
    },
    {
     "name": "stderr",
     "output_type": "stream",
     "text": [
      "100%|████████████████████████████████████████████████████████████████████████████████████████████████████| 30/30 [00:01<00:00, 16.21it/s]\n"
     ]
    },
    {
     "name": "stdout",
     "output_type": "stream",
     "text": [
      "0\n",
      "Recommended ID's: [6157.0, 2017.0, 36519.0, 2030.0, 8514.0]\n",
      "running training and testing for user 36\n",
      " --------------------------------------------\n",
      "importing datasets....\n",
      "selecting 30 simillar users...\n",
      "configuring movie formatting...\n",
      "creating the Graph...\n",
      "Staring training fo 30 iterations...\n"
     ]
    },
    {
     "name": "stderr",
     "output_type": "stream",
     "text": [
      "100%|████████████████████████████████████████████████████████████████████████████████████████████████████| 30/30 [00:01<00:00, 17.13it/s]\n"
     ]
    },
    {
     "name": "stdout",
     "output_type": "stream",
     "text": [
      "0\n",
      "Recommended ID's: [9096.0, 581.0, 919.0, 1082.0, 2259.0]\n",
      "running training and testing for user 37\n",
      " --------------------------------------------\n",
      "importing datasets....\n",
      "selecting 30 simillar users...\n",
      "configuring movie formatting...\n",
      "creating the Graph...\n",
      "Staring training fo 30 iterations...\n"
     ]
    },
    {
     "name": "stderr",
     "output_type": "stream",
     "text": [
      "100%|████████████████████████████████████████████████████████████████████████████████████████████████████| 30/30 [00:01<00:00, 16.91it/s]\n"
     ]
    },
    {
     "name": "stdout",
     "output_type": "stream",
     "text": [
      "0\n",
      "Recommended ID's: [139385.0, 5075.0, 4306.0, 5694.0, 6992.0]\n",
      "running training and testing for user 38\n",
      " --------------------------------------------\n",
      "importing datasets....\n",
      "selecting 30 simillar users...\n",
      "configuring movie formatting...\n",
      "creating the Graph...\n",
      "Staring training fo 30 iterations...\n"
     ]
    },
    {
     "name": "stderr",
     "output_type": "stream",
     "text": [
      "100%|████████████████████████████████████████████████████████████████████████████████████████████████████| 30/30 [00:01<00:00, 16.92it/s]\n"
     ]
    },
    {
     "name": "stdout",
     "output_type": "stream",
     "text": [
      "0\n",
      "Recommended ID's: [3782.0, 5444.0, 8514.0, 9740.0, 4027.0]\n",
      "running training and testing for user 39\n",
      " --------------------------------------------\n",
      "importing datasets....\n",
      "selecting 30 simillar users...\n",
      "configuring movie formatting...\n",
      "creating the Graph...\n",
      "Staring training fo 30 iterations...\n"
     ]
    },
    {
     "name": "stderr",
     "output_type": "stream",
     "text": [
      "100%|████████████████████████████████████████████████████████████████████████████████████████████████████| 30/30 [00:01<00:00, 17.32it/s]\n"
     ]
    },
    {
     "name": "stdout",
     "output_type": "stream",
     "text": [
      "0\n",
      "Recommended ID's: [3353.0, 2467.0, 4769.0, 2640.0, 780.0]\n",
      "running training and testing for user 40\n",
      " --------------------------------------------\n",
      "importing datasets....\n",
      "selecting 30 simillar users...\n",
      "configuring movie formatting...\n",
      "creating the Graph...\n",
      "Staring training fo 30 iterations...\n"
     ]
    },
    {
     "name": "stderr",
     "output_type": "stream",
     "text": [
      "100%|████████████████████████████████████████████████████████████████████████████████████████████████████| 30/30 [00:01<00:00, 16.87it/s]\n"
     ]
    },
    {
     "name": "stdout",
     "output_type": "stream",
     "text": [
      "0\n",
      "Recommended ID's: [802.0, 2017.0, 2794.0, 8161.0, 4304.0]\n",
      "running training and testing for user 41\n",
      " --------------------------------------------\n",
      "importing datasets....\n",
      "selecting 30 simillar users...\n",
      "configuring movie formatting...\n",
      "creating the Graph...\n",
      "Staring training fo 30 iterations...\n"
     ]
    },
    {
     "name": "stderr",
     "output_type": "stream",
     "text": [
      "100%|████████████████████████████████████████████████████████████████████████████████████████████████████| 30/30 [00:01<00:00, 17.40it/s]\n"
     ]
    },
    {
     "name": "stdout",
     "output_type": "stream",
     "text": [
      "0\n",
      "Recommended ID's: [3213.0, 4029.0, 2411.0, 5065.0, 3782.0]\n",
      "running training and testing for user 42\n",
      " --------------------------------------------\n",
      "importing datasets....\n",
      "selecting 30 simillar users...\n",
      "configuring movie formatting...\n",
      "creating the Graph...\n",
      "Staring training fo 30 iterations...\n"
     ]
    },
    {
     "name": "stderr",
     "output_type": "stream",
     "text": [
      "100%|████████████████████████████████████████████████████████████████████████████████████████████████████| 30/30 [00:01<00:00, 17.80it/s]\n"
     ]
    },
    {
     "name": "stdout",
     "output_type": "stream",
     "text": [
      "0\n",
      "Recommended ID's: [9683.0, 1269.0, 3353.0, 2842.0, 2485.0]\n",
      "running training and testing for user 43\n",
      " --------------------------------------------\n",
      "importing datasets....\n",
      "selecting 30 simillar users...\n",
      "configuring movie formatting...\n",
      "creating the Graph...\n",
      "Staring training fo 30 iterations...\n"
     ]
    },
    {
     "name": "stderr",
     "output_type": "stream",
     "text": [
      "100%|████████████████████████████████████████████████████████████████████████████████████████████████████| 30/30 [00:01<00:00, 16.37it/s]\n"
     ]
    },
    {
     "name": "stdout",
     "output_type": "stream",
     "text": [
      "0\n",
      "Recommended ID's: [6916.0, 9035.0, 4406.0, 9610.0, 6992.0]\n",
      "running training and testing for user 44\n",
      " --------------------------------------------\n",
      "importing datasets....\n",
      "selecting 30 simillar users...\n",
      "configuring movie formatting...\n",
      "creating the Graph...\n",
      "Staring training fo 30 iterations...\n"
     ]
    },
    {
     "name": "stderr",
     "output_type": "stream",
     "text": [
      "100%|████████████████████████████████████████████████████████████████████████████████████████████████████| 30/30 [00:01<00:00, 17.46it/s]\n"
     ]
    },
    {
     "name": "stdout",
     "output_type": "stream",
     "text": [
      "0\n",
      "Recommended ID's: [30793.0, 7662.0, 2692.0, 1956.0, 6043.0]\n",
      "running training and testing for user 45\n",
      " --------------------------------------------\n",
      "importing datasets....\n",
      "selecting 30 simillar users...\n",
      "configuring movie formatting...\n",
      "creating the Graph...\n",
      "Staring training fo 30 iterations...\n"
     ]
    },
    {
     "name": "stderr",
     "output_type": "stream",
     "text": [
      "100%|████████████████████████████████████████████████████████████████████████████████████████████████████| 30/30 [00:01<00:00, 16.48it/s]\n"
     ]
    },
    {
     "name": "stdout",
     "output_type": "stream",
     "text": [
      "0\n",
      "Recommended ID's: [6754.0, 858.0, 1036.0, 182823.0, 8964.0]\n",
      "running training and testing for user 46\n",
      " --------------------------------------------\n",
      "importing datasets....\n",
      "selecting 30 simillar users...\n",
      "configuring movie formatting...\n",
      "creating the Graph...\n",
      "Staring training fo 30 iterations...\n"
     ]
    },
    {
     "name": "stderr",
     "output_type": "stream",
     "text": [
      "100%|████████████████████████████████████████████████████████████████████████████████████████████████████| 30/30 [00:01<00:00, 17.30it/s]\n"
     ]
    },
    {
     "name": "stdout",
     "output_type": "stream",
     "text": [
      "0\n",
      "Recommended ID's: [86644.0, 5946.0, 66097.0, 8992.0, 6492.0]\n",
      "running training and testing for user 47\n",
      " --------------------------------------------\n",
      "importing datasets....\n",
      "selecting 30 simillar users...\n",
      "configuring movie formatting...\n",
      "creating the Graph...\n",
      "Staring training fo 30 iterations...\n"
     ]
    },
    {
     "name": "stderr",
     "output_type": "stream",
     "text": [
      "100%|████████████████████████████████████████████████████████████████████████████████████████████████████| 30/30 [00:01<00:00, 16.99it/s]\n"
     ]
    },
    {
     "name": "stdout",
     "output_type": "stream",
     "text": [
      "0\n",
      "Recommended ID's: [1361.0, 1464.0, 2842.0, 4428.0, 5040.0]\n",
      "running training and testing for user 48\n",
      " --------------------------------------------\n",
      "importing datasets....\n",
      "selecting 30 simillar users...\n",
      "configuring movie formatting...\n",
      "creating the Graph...\n",
      "Staring training fo 30 iterations...\n"
     ]
    },
    {
     "name": "stderr",
     "output_type": "stream",
     "text": [
      "100%|████████████████████████████████████████████████████████████████████████████████████████████████████| 30/30 [00:01<00:00, 17.85it/s]\n"
     ]
    },
    {
     "name": "stdout",
     "output_type": "stream",
     "text": [
      "0\n",
      "Recommended ID's: [7109.0, 143859.0, 6477.0, 7707.0, 5128.0]\n",
      "running training and testing for user 49\n",
      " --------------------------------------------\n",
      "importing datasets....\n",
      "selecting 30 simillar users...\n",
      "configuring movie formatting...\n",
      "creating the Graph...\n",
      "Staring training fo 30 iterations...\n"
     ]
    },
    {
     "name": "stderr",
     "output_type": "stream",
     "text": [
      "100%|████████████████████████████████████████████████████████████████████████████████████████████████████| 30/30 [00:01<00:00, 17.50it/s]"
     ]
    },
    {
     "name": "stdout",
     "output_type": "stream",
     "text": [
      "0\n",
      "Recommended ID's: [2442.0, 2248.0, 3856.0, 587.0, 6537.0]\n",
      "overall accuracy is 0.7285714285714285\n"
     ]
    },
    {
     "name": "stderr",
     "output_type": "stream",
     "text": [
      "\n"
     ]
    }
   ],
   "source": [
    "## 1000 generations of GA\n",
    "ra_list = []\n",
    "for i,rev_list in enumerate(train_revs):\n",
    "    print(f\"running training and testing for user {i}\\n --------------------------------------------\")\n",
    "    recs = main (num_agents =30 , num_iter = 30, num_movies = 5 ,exclude_users = chosen_users , userlist = rev_list ,rating_fn = \"./generation_saves/ratings_gen_1000.csv\", simillarility_fn = \"./simillarity_matrix_normalized.csv\", alpha= 0.7,beta =0.3,decay=0.05)\n",
    "    precent_overlap, ra = evaluate_reccomendations(recs,test_revs[i])\n",
    "    if (precent_overlap != 0 ):\n",
    "        ra_list.append(ra)\n",
    "        \n",
    "print (f\"overall accuracy is {sum(ra_list)/len(ra_list)}\")"
   ]
  },
  {
   "cell_type": "code",
   "execution_count": null,
   "id": "7e731f39",
   "metadata": {},
   "outputs": [],
   "source": []
  },
  {
   "cell_type": "code",
   "execution_count": null,
   "id": "3db99881",
   "metadata": {},
   "outputs": [],
   "source": []
  },
  {
   "cell_type": "code",
   "execution_count": null,
   "id": "d755a9e1",
   "metadata": {},
   "outputs": [],
   "source": []
  }
 ],
 "metadata": {
  "kernelspec": {
   "display_name": "Python 3 (ipykernel)",
   "language": "python",
   "name": "python3"
  },
  "language_info": {
   "codemirror_mode": {
    "name": "ipython",
    "version": 3
   },
   "file_extension": ".py",
   "mimetype": "text/x-python",
   "name": "python",
   "nbconvert_exporter": "python",
   "pygments_lexer": "ipython3",
   "version": "3.9.13"
  }
 },
 "nbformat": 4,
 "nbformat_minor": 5
}
