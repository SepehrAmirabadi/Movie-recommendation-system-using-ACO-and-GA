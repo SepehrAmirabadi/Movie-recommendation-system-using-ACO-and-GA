{
 "cells": [
  {
   "cell_type": "markdown",
   "id": "3c3d430d",
   "metadata": {},
   "source": [
    "# Ant Colony Optimization\n",
    "\n",
    "### Ant class: the “agents” that will be traversing the graph.\n",
    "\n",
    "\n",
    "### Ant colony: a colony of ants. It is responsible for moving ants to their starting node as well as prompting the ants to move to the next node on their “journey”.\n",
    "\n",
    "\n",
    "### Ant graph: the graph our agents will be traversing over\n",
    "\n",
    "\n",
    "### Task: the task the ants will complete (\"watch\" movies and rate them)"
   ]
  },
  {
   "cell_type": "code",
   "execution_count": 1,
   "id": "dae87c01",
   "metadata": {},
   "outputs": [],
   "source": [
    "import ast \n",
    "import random \n",
    "import numpy as np\n",
    "import pandas as pd\n",
    "import copy\n",
    "import gc\n",
    "from tqdm import tqdm"
   ]
  },
  {
   "cell_type": "code",
   "execution_count": 2,
   "id": "1e9147f9",
   "metadata": {},
   "outputs": [],
   "source": [
    "#lets think about our cost function for a bit\n",
    "# we want to use the users ratings to "
   ]
  },
  {
   "cell_type": "code",
   "execution_count": 3,
   "id": "4cb61d8a",
   "metadata": {},
   "outputs": [],
   "source": [
    "class Ant: \n",
    "    \n",
    "    def __init__(self, review_list):\n",
    "        self.trail = []\n",
    "        self.visited_jobs = []\n",
    "        self.review_list = []\n",
    "        self.current_film = 0;\n",
    "        self.review_list = sorted(self.review_list, key=lambda x: x[1])\n",
    "    \n",
    "    def trail_len(self):\n",
    "        return len(self.trail)\n",
    "    \n",
    "    def get_trail(self):\n",
    "        return self.trail\n",
    "    \n",
    "    def get_current(self):\n",
    "        return self.current_film\n",
    "    \n",
    "    def has_visited (self,i):\n",
    "        self.visited_jobs[i]\n",
    "        \n",
    "    def watch_movie (self,movieID):\n",
    "        self.current_film = movieID\n",
    "        self.trail.append(movieID)\n",
    "        \n",
    "    def clear (self):\n",
    "        del self.trail[:]\n",
    "        self.visited_jobs = []\n",
    "        self.current_film = 0;\n",
    "        \n",
    "        \n",
    "    #get user review for specific movie returns a neutral rating of 2.5 if it does not exist\n",
    "    def get_task_cost(self,movieID):\n",
    "        cost = [y for x, y in self.review_list if x == movieID ]\n",
    "        return  2.5 if cost == [] else cost[0]    "
   ]
  },
  {
   "cell_type": "code",
   "execution_count": 4,
   "id": "8950c088",
   "metadata": {},
   "outputs": [],
   "source": [
    "class AntColony:\n",
    "    \n",
    "    \n",
    "    def __init__(self,antID_list,filename,alpha =0.5,beta = 0.4 ):\n",
    "        user_reviews =  pd.read_csv(filename)\n",
    "        self.ants = []\n",
    "        self.alpha = alpha\n",
    "        self.beta = beta\n",
    "        \n",
    "        for ID in antID_list:\n",
    "            rev = ast.literal_eval(user_reviews.loc[user_reviews['userId'] == ID][\"ratings_list\"].tolist()[0])\n",
    "            new_ant = Ant(rev)\n",
    "            self.ants.append(new_ant)\n",
    "    \n",
    "        \n",
    "        \n",
    "    def prob_fx (self,rating, current_weight,sum_weights):\n",
    "        prob = ((current_weight ** self.alpha) * (rating ** self.beta)) / sum_weights\n",
    "        return prob\n",
    "            \n",
    "        \n",
    "    def move_all_ants (self,edge_weights):\n",
    "#         print(\"moving all ants\")\n",
    "#         print(f\"num ants: {len(self.ants)}\")\n",
    "        for ant in self.ants:\n",
    "            movie_id = self.determine_next_movie(ant,edge_weights[ant.get_current ()])\n",
    "            ant.watch_movie(movie_id)\n",
    "\n",
    "    def prep_for_test (self): \n",
    "        self.alpha = 0.9 \n",
    "        self.beta = 0.1\n",
    "        \n",
    "    def return_all_tours(self):\n",
    "        t = []\n",
    "        #print(f\"Num ants : {len(self.ants)}\")\n",
    "        for ant in self.ants:\n",
    "            #print(len(ant.get_trail()))\n",
    "            if (len(ant.get_trail()) > 20):\n",
    "                print(ant.get_trail())\n",
    "            \n",
    "            t.append(ant.get_trail())\n",
    "        \n",
    "        ## will be used for global pheremone updating \n",
    "        \n",
    "        #print(len(t))\n",
    "        return t\n",
    "    \n",
    "    #here we use the index of the ant rather than its ID \n",
    "    def get_ant_rating (self,antIndex,movieID):\n",
    "        return self.ants[antIndex].get_task_cost(movieID)\n",
    "    \n",
    "    def clear (self):\n",
    "        for ant in self.ants:\n",
    "            ant.clear()\n",
    "        \n",
    "            \n",
    "    def determine_next_movie(self,ant,edge_weights):\n",
    "        current_movie = ant.get_current ()\n",
    "        trail = ant.trail\n",
    "        temp_weights = {}\n",
    "        probs = {}\n",
    "        sum_cost = 0 \n",
    "        \n",
    "        #removes all nodes we have already visited\n",
    "        for ew in edge_weights.keys():\n",
    "            if (ew not in ant.trail):\n",
    "                temp_weights [ew] = edge_weights[ew]\n",
    "\n",
    "        # getting sum cost\n",
    "        for vertex in temp_weights.keys():\n",
    "            if (vertex not in ant.get_trail()):\n",
    "                rating = ant.get_task_cost(vertex)\n",
    "                weight = temp_weights[vertex]\n",
    "                sum_cost += ((weight ** self.alpha) * (rating ** self.beta))\n",
    "            \n",
    "        for vertex in temp_weights.keys():\n",
    "            if (vertex not in ant.get_trail() and vertex != 0 ):\n",
    "                rating = ant.get_task_cost(vertex)\n",
    "                weight = temp_weights[vertex]\n",
    "                probs[vertex] = self.prob_fx(rating,weight,sum_cost)\n",
    "            \n",
    "            \n",
    "#         print(f\"Probs : {probs.keys()}\")\n",
    "        #Chooses the next film based on probabilities \n",
    "        #print (random.choices(list(probs.keys()), weights= list(probs.values()), k=1)[0])\n",
    "        try:\n",
    "            choice = random.choices(list(probs.keys()), weights= list(probs.values()), k=1)\n",
    "        except:\n",
    "            temp = [k for k in edge_weights.keys()] \n",
    "            choice = random.choice(temp)\n",
    "        return 0 if choice == [] else choice[0]\n",
    "    \n",
    "\n",
    "            \n",
    "                \n",
    "        \n",
    "                "
   ]
  },
  {
   "cell_type": "code",
   "execution_count": 5,
   "id": "6508bb6d",
   "metadata": {},
   "outputs": [],
   "source": [
    "class Task:\n",
    "    title = \"\"\n",
    "    genres = \"\"\n",
    "    mID = None\n",
    "    \n",
    "    def __init__(self, movie,movie_details):\n",
    "        self.mId = movie\n",
    "        self.title = movie_details[\"title\"].to_string(index= False)\n",
    "        self.genres = movie_details[\"genres\"].to_string(index= False)\n",
    "    \n",
    "    "
   ]
  },
  {
   "cell_type": "code",
   "execution_count": 6,
   "id": "080ebc30",
   "metadata": {},
   "outputs": [],
   "source": [
    "class Ant_Graph:\n",
    "    \n",
    "    best_recommendations = []\n",
    "    \n",
    "    def __init__(self, movie_list,task_list, num_ants,num_movies_wanted,antID_list, filename = \"./generation_saves/ratings_gen_50.csv\", alpha =0.6, beta= 0.4, decay = 0.05):\n",
    "        self.num_ants = num_ants\n",
    "        self.trail_max_len = num_movies_wanted\n",
    "        self.vertices = task_list\n",
    "        self.decay = decay\n",
    "        self.graph_edge_weights = {}\n",
    "        \n",
    "        for movieID in movie_list:\n",
    "            if (movieID not in self.graph_edge_weights.keys()):\n",
    "                self.graph_edge_weights[movieID] = {}\n",
    "            for m in movie_list:\n",
    "                if (m != movieID):\n",
    "                    self.graph_edge_weights[movieID][m] = 0.5\n",
    "        \n",
    "        #creating a start node that does not belong to a movie, all agents will start there\n",
    "        self.graph_edge_weights[0] = {}\n",
    "        for movieID in movie_list:\n",
    "            if (movieID != 0):\n",
    "                self.graph_edge_weights[0][movieID] = 0.5\n",
    "            \n",
    "        self.ants = AntColony(antID_list,filename,alpha,beta)\n",
    "            \n",
    "    def clear(self): \n",
    "        self.graph_edge_weights = {}\n",
    "        self.verticies   = None\n",
    "        self.trail_max_len = 0\n",
    "        self.num_ants = 0 \n",
    "        self.decay = 0 \n",
    "        self.ants.clear()\n",
    "        self.ants = None\n",
    "        self.best_recommendations = []\n",
    "                    \n",
    "                    \n",
    "    def update_edge_weights (self):\n",
    "        \n",
    "        # we will chqnge the pheremones based on how much the user enjoyed that set (\"trail\") of movies\n",
    "        # it will be calculated as   cumulative_trail_Raitings/ total_possible ratings, bound between 0 and 1 \n",
    "        cumulative_ratings =  {}\n",
    "        tours = self.ants.return_all_tours()\n",
    "        for i,tour in enumerate(tours):\n",
    "            prev = 0 \n",
    "            for movie in tour:\n",
    "#                 print(len(tour))\n",
    "                curr = movie\n",
    "                rating = self.ants.get_ant_rating(i,movie)\n",
    "                if (prev not in list(cumulative_ratings.keys()) ):\n",
    "                     cumulative_ratings[prev] = {}\n",
    "                if (curr not in list(cumulative_ratings [prev].keys())):\n",
    "                    cumulative_ratings [prev][curr] = rating\n",
    "                else:\n",
    "                    cumulative_ratings [prev][curr] += rating\n",
    "                \n",
    "                prev = curr\n",
    "            \n",
    "        for startnode in cumulative_ratings.keys():\n",
    "            for nextnode in cumulative_ratings[startnode].keys():\n",
    "                self.graph_edge_weights[startnode][nextnode] *= (1- self.decay)\n",
    "                self.graph_edge_weights[startnode][nextnode] += (cumulative_ratings[startnode][nextnode] / (5* self.trail_max_len))\n",
    "                \n",
    "        del cumulative_ratings\n",
    "    \n",
    "\n",
    "    def compute_best_rec (self,exclude_list):\n",
    "        temp_list = []\n",
    "        self.ants.prep_for_test()\n",
    "        while (len(temp_list)< self.trail_max_len):\n",
    "            test_ant = Ant([])\n",
    "            nextid = self.ants.determine_next_movie(test_ant,self.graph_edge_weights [test_ant.get_current()])\n",
    "            test_ant.watch_movie(nextid)\n",
    "            if (nextid not in exclude_list):\n",
    "                temp_list.append(nextid)\n",
    "        test_ant.clear()\n",
    "        print(len(test_ant.trail))\n",
    "        del test_ant\n",
    "        \n",
    "        return temp_list\n",
    "    \n",
    "    def best_recomendations (self):\n",
    "        return self.best_recommendations\n",
    "    \n",
    "    def one_iter (self): \n",
    "#         print(\"running one iteration: \\n -------------------------------\")\n",
    "        #print(f\" trail max len : {self.trail_max_len}\")\n",
    "        self.ants.clear()\n",
    "        for step in range(0,self.trail_max_len):\n",
    "            #print(\"test\")\n",
    "            self.ants.move_all_ants(self.graph_edge_weights)\n",
    "            \n",
    "        self.update_edge_weights()\n",
    "        self.ants.clear()\n",
    "        \n",
    "            \n",
    "                \n",
    "        \n",
    "        "
   ]
  },
  {
   "cell_type": "code",
   "execution_count": 7,
   "id": "9a3c0130",
   "metadata": {},
   "outputs": [],
   "source": [
    "from pickle import load\n",
    "file = open(\"genresList.pkl\",'rb')\n",
    "genres = load(file)\n",
    "file.close()\n",
    "\n",
    "def create_genre_tracker ():\n",
    "    gt = {}\n",
    "    for g in genres:\n",
    "        gt[g] = 0 \n",
    "    return gt\n",
    "\n",
    "\n",
    "sim_df =  pd.read_csv(\"./simillarity_matrix.csv\")\n",
    "all_vals = []\n",
    "\n",
    "for index, row in sim_df.iterrows():\n",
    "    sim_list = ast.literal_eval(row[\"simillarity_vector\"])\n",
    "    all_vals += sim_list\n",
    "\n",
    "max_sim = max(all_vals)\n",
    "min_Sim = min(all_vals)\n",
    "\n",
    "def z_normalization (val):\n",
    "    return (val-min_Sim)/(max_sim - min_Sim)\n",
    "\n"
   ]
  },
  {
   "cell_type": "code",
   "execution_count": 8,
   "id": "8580bc25",
   "metadata": {},
   "outputs": [],
   "source": [
    "def compute_simillarity_ratings (l1,l2,movies):\n",
    "    l1_dict = dict(l1)\n",
    "    l2_dict = dict(l2)\n",
    "    simillarity = 0 \n",
    "    \n",
    "    genre_tracker1 = create_genre_tracker ()\n",
    "    genre_tracker2 = create_genre_tracker ()\n",
    "    \n",
    "    l2_keys = list(l2_dict.keys())\n",
    "    for key in l1_dict.keys():\n",
    "        m1_genres = movies.loc[movies['movieId'] == key  ,'genres'].values[0].split(\"|\")\n",
    "        for mg in m1_genres:\n",
    "            genre_tracker1 [mg] +=1\n",
    "        if key in l2_keys:\n",
    "            r1 = l1_dict [key]\n",
    "            r2 = l2_dict [key]\n",
    "            if (r1 < r2):\n",
    "                simillarity += 100*(r1/r2)\n",
    "            else:\n",
    "                simillarity+= 100*(r2/r1) \n",
    "                \n",
    "    for key in l2_keys:\n",
    "        try: \n",
    "            m2_genres = movies.loc[movies['movieId'] == key  ,'genres'].values[0].split(\"|\")\n",
    "            for mg in m2_genres:\n",
    "                genre_tracker2 [mg] +=1\n",
    "        except:\n",
    "            continue\n",
    "            \n",
    "    genre_simillarity =  0 \n",
    "    for g in genres:\n",
    "        tempg1 = genre_tracker1 [g]\n",
    "        tempg2 = genre_tracker2 [g]\n",
    "        if (tempg1 > 0 or tempg2 >0):\n",
    "            genre_simillarity += (1000* (min(tempg1,tempg2)/max(tempg1,tempg2))* min (tempg1,tempg2))\n",
    "        \n",
    "    return z_normalization(genre_simillarity + simillarity)"
   ]
  },
  {
   "cell_type": "code",
   "execution_count": 9,
   "id": "d4586604",
   "metadata": {},
   "outputs": [],
   "source": [
    "def compute_simillarity_vector (ratings_df, userlist,movies,exclude_users):\n",
    "    simillarity_dict = {}\n",
    "    \n",
    "    for index, row in ratings_df.iterrows():\n",
    "        user2list = ast.literal_eval (row[\"ratings_list\"])\n",
    "        simillarity_dict [row[\"userId\"]] = compute_simillarity_ratings (userlist,user2list,movies)\n",
    "        \n",
    "    for u in exclude_users:\n",
    "        if (u in simillarity_dict.keys()):\n",
    "            del simillarity_dict[u]\n",
    "        \n",
    "    return [(k,v) for k ,v in simillarity_dict.items()]"
   ]
  },
  {
   "cell_type": "code",
   "execution_count": 10,
   "id": "06a097b1",
   "metadata": {},
   "outputs": [],
   "source": [
    "def select_similar_users(num_agents,user_ratings,exclude_users, userlist,movies, randomize = False):\n",
    "    if ( not randomize):\n",
    "        sim_vec = compute_simillarity_vector (user_ratings, userlist,movies,exclude_users) \n",
    "    \n",
    "            \n",
    "        sim_vec.sort(key=lambda pair: pair[1])\n",
    "        return [a[0] for a in sim_vec[-num_agents:]]\n",
    "    else: \n",
    "        userids = list (range(1,len(user_ratings.index)))\n",
    "        return random.sample(userids, num_agents);"
   ]
  },
  {
   "cell_type": "code",
   "execution_count": 11,
   "id": "be8e7640",
   "metadata": {},
   "outputs": [],
   "source": [
    "def main (num_agents, num_iter, num_movies, genre=[],genre_exclude=[],exclude_users =[], userlist = [],rating_fn = \"./generation_saves/ratings_gen_50.csv\", simillarility_fn = \"./simillarity_matrix_normalized.csv\", alpha= 0.7,beta =0.3,decay=0.05):\n",
    "    # import datasets\n",
    "    print (\"importing datasets....\")\n",
    "    sim_df  = pd.read_csv(simillarility_fn)\n",
    "    movies  = pd.read_csv(f\"./ml-latest-small/movies.csv\")\n",
    "    user_ratings = pd.read_csv(rating_fn)\n",
    "    \n",
    "    ## if userlist is empty pick 50 random users as agents\n",
    "    rand = (len(userlist) == 0)\n",
    "        \n",
    "    ## if not empty userlist will be the most simillar users \n",
    "    print(f\"selecting {num_agents} simillar users...\")\n",
    "    users = select_similar_users(num_agents, user_ratings,exclude_users, userlist,movies, randomize = rand)\n",
    "    \n",
    "    ## determining all the movies that these users watched\n",
    "    print(\"configuring movie formatting...\")\n",
    "    movie_list = []\n",
    "    tasks = []\n",
    "    for uID in users:\n",
    "        film_list = ast.literal_eval(user_ratings.loc[user_ratings['userId'] == uID][\"ratings_list\"].tolist()[0])\n",
    "        for film,rating in film_list:\n",
    "            if (film not in movie_list):\n",
    "                t = Task(film,movies.loc[movies['movieId'] == film])\n",
    "                movgens = t.genres.split(\"|\")\n",
    "                \n",
    "                skip = True\n",
    "                for g in genre:\n",
    "                    if (g in movgens ):\n",
    "                        skip = False\n",
    "                for g in genre_exclude:\n",
    "                    if (g in movgens ):\n",
    "                        skip = True\n",
    "                if (not skip):\n",
    "                    movie_list.append(film)\n",
    "                tasks.append(t)\n",
    "    \n",
    "    ## define the graph\n",
    "    print(\"creating the Graph...\")\n",
    "    graph = Ant_Graph(movie_list,tasks, num_agents ,num_movies, users, filename = rating_fn , alpha=alpha , beta= beta, decay = decay)\n",
    "    print(f\"Staring training fo {num_iter} iterations...\")\n",
    "    for i in tqdm(range (0,num_iter)):\n",
    "        graph.one_iter()\n",
    "        \n",
    "    movies_user_already_watched = [mid for mid,rate in userlist ]\n",
    "    recs = graph.compute_best_rec (movies_user_already_watched)\n",
    "    print(f\"Recommended ID's: {recs}\")\n",
    "    \n",
    "    \n",
    "    ## Adding some cleanup code to clear all vars because for some reason every second call to main was failing \n",
    "    graph.clear()\n",
    "    del graph, movie_list, tasks, rand, users, user_ratings,sim_df,movies\n",
    "    gc.collect()\n",
    "    \n",
    "    return recs"
   ]
  },
  {
   "cell_type": "markdown",
   "id": "2db822e7",
   "metadata": {},
   "source": [
    "## Training and testing \n",
    "\n",
    "### training \n",
    "\n",
    "Training is rather trivial, all weneed to do is make an appropriate call to main()\n",
    "\n",
    "### testing\n",
    "\n",
    "Testing is a bit more difficult. We do not have a list of people who have volunteered to test the system by watching the recomendations and rating them so we have to get creative. We can set a few users in our existing dataset as \"test users\" then we will take the first k ratings of the user as input/\"user history\" and the n-k as \"test ratings\" . We will determine how good the recomendations are using the percentage of the reccomendations that appear in the \"test ratings list and by comparing the ratings for movies that are in both. "
   ]
  },
  {
   "cell_type": "code",
   "execution_count": 12,
   "id": "2dad2c33",
   "metadata": {},
   "outputs": [],
   "source": [
    "# evaluation metric\n",
    "def evaluate_reccomendations (recs, test_set):\n",
    "    missing_recs =0 \n",
    "    ratings = []\n",
    "    for movieID in recs: \n",
    "        rating = next((y for x, y in test_set if x == movieID ), None)\n",
    "        if (rating == None):\n",
    "            missing_recs+=1\n",
    "        else: \n",
    "            ratings.append(rating)\n",
    "            \n",
    "    percent_overlap = (len(recs) - missing_recs) / len(recs)\n",
    "    \n",
    "    rating_accuracy = 0.5\n",
    "    if (len(ratings) > 0):\n",
    "        rating_accuracy = sum(ratings) / (5*len(ratings))\n",
    "    \n",
    "    return percent_overlap, rating_accuracy"
   ]
  },
  {
   "cell_type": "code",
   "execution_count": 13,
   "id": "fd2c34a5",
   "metadata": {},
   "outputs": [],
   "source": [
    "### get 50 test users \n",
    "user_ratings = pd.read_csv(\"./ratings_organized.csv\")\n",
    "chosen_users = random.sample (list(range (0, len(user_ratings.index))),50)  ## we will pass this to main to make sure our train data does not include it \n",
    "\n",
    "train_revs, test_revs = [], []\n",
    "for i in chosen_users:\n",
    "    user_rev  = ast.literal_eval(user_ratings.iloc[[i]] [\"ratings_list\"].tolist()[0])\n",
    "    split_index = int (len(user_rev) * 0.5)\n",
    "    train_revs.append(user_rev[:split_index])\n",
    "    test_revs.append(user_rev[split_index:])\n",
    "    \n"
   ]
  },
  {
   "cell_type": "markdown",
   "id": "305015fd",
   "metadata": {},
   "source": [
    "# Testing now with different Configs "
   ]
  },
  {
   "cell_type": "markdown",
   "id": "35da543d",
   "metadata": {},
   "source": [
    "## test preds on different genres"
   ]
  },
  {
   "cell_type": "code",
   "execution_count": 14,
   "id": "815910d7",
   "metadata": {},
   "outputs": [],
   "source": [
    "from pickle import load\n",
    "file = open(\"genresList.pkl\",'rb')\n",
    "genres = load(file)\n",
    "file.close()"
   ]
  },
  {
   "cell_type": "code",
   "execution_count": 15,
   "id": "cda7cea2",
   "metadata": {},
   "outputs": [
    {
     "name": "stdout",
     "output_type": "stream",
     "text": [
      "running training and testing for user 0\n",
      " --------------------------------------------\n",
      "importing datasets....\n",
      "selecting 30 simillar users...\n",
      "configuring movie formatting...\n",
      "creating the Graph...\n",
      "Staring training fo 30 iterations...\n"
     ]
    },
    {
     "name": "stderr",
     "output_type": "stream",
     "text": [
      "100%|███████████████████████████████████████████████████████████████████████████████████████████████████| 30/30 [00:00<00:00, 123.79it/s]\n"
     ]
    },
    {
     "name": "stdout",
     "output_type": "stream",
     "text": [
      "0\n",
      "Recommended ID's: [1356.0, 1196.0, 780.0, 78499.0, 139385.0]\n",
      "running training and testing for user 1\n",
      " --------------------------------------------\n",
      "importing datasets....\n",
      "selecting 30 simillar users...\n",
      "configuring movie formatting...\n",
      "creating the Graph...\n",
      "Staring training fo 30 iterations...\n"
     ]
    },
    {
     "name": "stderr",
     "output_type": "stream",
     "text": [
      "100%|███████████████████████████████████████████████████████████████████████████████████████████████████| 30/30 [00:00<00:00, 120.24it/s]\n"
     ]
    },
    {
     "name": "stdout",
     "output_type": "stream",
     "text": [
      "0\n",
      "Recommended ID's: [2950.0, 2950.0, 1030.0, 5040.0, 485.0]\n",
      "running training and testing for user 2\n",
      " --------------------------------------------\n",
      "importing datasets....\n",
      "selecting 30 simillar users...\n",
      "configuring movie formatting...\n",
      "creating the Graph...\n",
      "Staring training fo 30 iterations...\n"
     ]
    },
    {
     "name": "stderr",
     "output_type": "stream",
     "text": [
      "100%|███████████████████████████████████████████████████████████████████████████████████████████████████| 30/30 [00:00<00:00, 121.70it/s]\n"
     ]
    },
    {
     "name": "stdout",
     "output_type": "stream",
     "text": [
      "0\n",
      "Recommended ID's: [2794.0, 45722.0, 4306.0, 1527.0, 2640.0]\n",
      "running training and testing for user 3\n",
      " --------------------------------------------\n",
      "importing datasets....\n",
      "selecting 30 simillar users...\n",
      "configuring movie formatting...\n",
      "creating the Graph...\n",
      "Staring training fo 30 iterations...\n"
     ]
    },
    {
     "name": "stderr",
     "output_type": "stream",
     "text": [
      "100%|███████████████████████████████████████████████████████████████████████████████████████████████████| 30/30 [00:00<00:00, 124.34it/s]\n"
     ]
    },
    {
     "name": "stdout",
     "output_type": "stream",
     "text": [
      "0\n",
      "Recommended ID's: [2950.0, 2021.0, 2294.0, 6537.0, 6537.0]\n",
      "running training and testing for user 4\n",
      " --------------------------------------------\n",
      "importing datasets....\n",
      "selecting 30 simillar users...\n",
      "configuring movie formatting...\n",
      "creating the Graph...\n",
      "Staring training fo 30 iterations...\n"
     ]
    },
    {
     "name": "stderr",
     "output_type": "stream",
     "text": [
      "100%|███████████████████████████████████████████████████████████████████████████████████████████████████| 30/30 [00:00<00:00, 109.65it/s]\n"
     ]
    },
    {
     "name": "stdout",
     "output_type": "stream",
     "text": [
      "0\n",
      "Recommended ID's: [5444.0, 139385.0, 60069.0, 68954.0, 208.0]\n",
      "running training and testing for user 5\n",
      " --------------------------------------------\n",
      "importing datasets....\n",
      "selecting 30 simillar users...\n",
      "configuring movie formatting...\n",
      "creating the Graph...\n",
      "Staring training fo 30 iterations...\n"
     ]
    },
    {
     "name": "stderr",
     "output_type": "stream",
     "text": [
      "100%|███████████████████████████████████████████████████████████████████████████████████████████████████| 30/30 [00:00<00:00, 111.25it/s]\n"
     ]
    },
    {
     "name": "stdout",
     "output_type": "stream",
     "text": [
      "0\n",
      "Recommended ID's: [1274.0, 546.0, 1527.0, 5999.0, 6537.0]\n",
      "running training and testing for user 6\n",
      " --------------------------------------------\n",
      "importing datasets....\n",
      "selecting 30 simillar users...\n",
      "configuring movie formatting...\n",
      "creating the Graph...\n",
      "Staring training fo 30 iterations...\n"
     ]
    },
    {
     "name": "stderr",
     "output_type": "stream",
     "text": [
      "100%|███████████████████████████████████████████████████████████████████████████████████████████████████| 30/30 [00:00<00:00, 110.24it/s]\n"
     ]
    },
    {
     "name": "stdout",
     "output_type": "stream",
     "text": [
      "0\n",
      "Recommended ID's: [2948.0, 3052.0, 68791.0, 2021.0, 54259.0]\n",
      "running training and testing for user 7\n",
      " --------------------------------------------\n",
      "importing datasets....\n",
      "selecting 30 simillar users...\n",
      "configuring movie formatting...\n",
      "creating the Graph...\n",
      "Staring training fo 30 iterations...\n"
     ]
    },
    {
     "name": "stderr",
     "output_type": "stream",
     "text": [
      "100%|███████████████████████████████████████████████████████████████████████████████████████████████████| 30/30 [00:00<00:00, 121.89it/s]\n"
     ]
    },
    {
     "name": "stdout",
     "output_type": "stream",
     "text": [
      "0\n",
      "Recommended ID's: [3633.0, 4886.0, 2794.0, 54259.0, 1030.0]\n",
      "running training and testing for user 8\n",
      " --------------------------------------------\n",
      "importing datasets....\n",
      "selecting 30 simillar users...\n",
      "configuring movie formatting...\n",
      "creating the Graph...\n",
      "Staring training fo 30 iterations...\n"
     ]
    },
    {
     "name": "stderr",
     "output_type": "stream",
     "text": [
      "100%|███████████████████████████████████████████████████████████████████████████████████████████████████| 30/30 [00:00<00:00, 116.00it/s]\n"
     ]
    },
    {
     "name": "stdout",
     "output_type": "stream",
     "text": [
      "0\n",
      "Recommended ID's: [45722.0, 4027.0, 112.0, 8961.0, 68954.0]\n",
      "running training and testing for user 9\n",
      " --------------------------------------------\n",
      "importing datasets....\n",
      "selecting 30 simillar users...\n",
      "configuring movie formatting...\n",
      "creating the Graph...\n",
      "Staring training fo 30 iterations...\n"
     ]
    },
    {
     "name": "stderr",
     "output_type": "stream",
     "text": [
      "100%|███████████████████████████████████████████████████████████████████████████████████████████████████| 30/30 [00:00<00:00, 112.75it/s]\n"
     ]
    },
    {
     "name": "stdout",
     "output_type": "stream",
     "text": [
      "0\n",
      "Recommended ID's: [5040.0, 809.0, 2948.0, 546.0, 4027.0]\n",
      "running training and testing for user 10\n",
      " --------------------------------------------\n",
      "importing datasets....\n",
      "selecting 30 simillar users...\n",
      "configuring movie formatting...\n",
      "creating the Graph...\n",
      "Staring training fo 30 iterations...\n"
     ]
    },
    {
     "name": "stderr",
     "output_type": "stream",
     "text": [
      "100%|███████████████████████████████████████████████████████████████████████████████████████████████████| 30/30 [00:00<00:00, 121.82it/s]\n"
     ]
    },
    {
     "name": "stdout",
     "output_type": "stream",
     "text": [
      "0\n",
      "Recommended ID's: [546.0, 45722.0, 919.0, 54259.0, 5444.0]\n",
      "running training and testing for user 11\n",
      " --------------------------------------------\n",
      "importing datasets....\n",
      "selecting 30 simillar users...\n",
      "configuring movie formatting...\n",
      "creating the Graph...\n",
      "Staring training fo 30 iterations...\n"
     ]
    },
    {
     "name": "stderr",
     "output_type": "stream",
     "text": [
      "100%|███████████████████████████████████████████████████████████████████████████████████████████████████| 30/30 [00:00<00:00, 120.72it/s]\n"
     ]
    },
    {
     "name": "stdout",
     "output_type": "stream",
     "text": [
      "0\n",
      "Recommended ID's: [54259.0, 4886.0, 1527.0, 60069.0, 780.0]\n",
      "running training and testing for user 12\n",
      " --------------------------------------------\n",
      "importing datasets....\n",
      "selecting 30 simillar users...\n",
      "configuring movie formatting...\n",
      "creating the Graph...\n",
      "Staring training fo 30 iterations...\n"
     ]
    },
    {
     "name": "stderr",
     "output_type": "stream",
     "text": [
      "100%|███████████████████████████████████████████████████████████████████████████████████████████████████| 30/30 [00:00<00:00, 121.73it/s]\n"
     ]
    },
    {
     "name": "stdout",
     "output_type": "stream",
     "text": [
      "0\n",
      "Recommended ID's: [2794.0, 485.0, 1274.0, 30793.0, 2761.0]\n",
      "running training and testing for user 13\n",
      " --------------------------------------------\n",
      "importing datasets....\n",
      "selecting 30 simillar users...\n",
      "configuring movie formatting...\n",
      "creating the Graph...\n",
      "Staring training fo 30 iterations...\n"
     ]
    },
    {
     "name": "stderr",
     "output_type": "stream",
     "text": [
      "100%|███████████████████████████████████████████████████████████████████████████████████████████████████| 30/30 [00:00<00:00, 117.62it/s]\n"
     ]
    },
    {
     "name": "stdout",
     "output_type": "stream",
     "text": [
      "0\n",
      "Recommended ID's: [2794.0, 1527.0, 780.0, 6537.0, 2294.0]\n",
      "running training and testing for user 14\n",
      " --------------------------------------------\n",
      "importing datasets....\n",
      "selecting 30 simillar users...\n",
      "configuring movie formatting...\n",
      "creating the Graph...\n",
      "Staring training fo 30 iterations...\n"
     ]
    },
    {
     "name": "stderr",
     "output_type": "stream",
     "text": [
      "100%|███████████████████████████████████████████████████████████████████████████████████████████████████| 30/30 [00:00<00:00, 110.18it/s]\n"
     ]
    },
    {
     "name": "stdout",
     "output_type": "stream",
     "text": [
      "0\n",
      "Recommended ID's: [91529.0, 30793.0, 68791.0, 780.0, 4306.0]\n",
      "running training and testing for user 15\n",
      " --------------------------------------------\n",
      "importing datasets....\n",
      "selecting 30 simillar users...\n",
      "configuring movie formatting...\n",
      "creating the Graph...\n",
      "Staring training fo 30 iterations...\n"
     ]
    },
    {
     "name": "stderr",
     "output_type": "stream",
     "text": [
      "100%|███████████████████████████████████████████████████████████████████████████████████████████████████| 30/30 [00:00<00:00, 113.94it/s]\n"
     ]
    },
    {
     "name": "stdout",
     "output_type": "stream",
     "text": [
      "0\n",
      "Recommended ID's: [8961.0, 919.0, 60069.0, 30793.0, 5999.0]\n",
      "running training and testing for user 16\n",
      " --------------------------------------------\n",
      "importing datasets....\n",
      "selecting 30 simillar users...\n",
      "configuring movie formatting...\n",
      "creating the Graph...\n",
      "Staring training fo 30 iterations...\n"
     ]
    },
    {
     "name": "stderr",
     "output_type": "stream",
     "text": [
      "100%|███████████████████████████████████████████████████████████████████████████████████████████████████| 30/30 [00:00<00:00, 121.09it/s]\n"
     ]
    },
    {
     "name": "stdout",
     "output_type": "stream",
     "text": [
      "0\n",
      "Recommended ID's: [1274.0, 112.0, 2794.0, 49396.0, 2794.0]\n",
      "running training and testing for user 17\n",
      " --------------------------------------------\n",
      "importing datasets....\n",
      "selecting 30 simillar users...\n",
      "configuring movie formatting...\n",
      "creating the Graph...\n",
      "Staring training fo 30 iterations...\n"
     ]
    },
    {
     "name": "stderr",
     "output_type": "stream",
     "text": [
      "100%|███████████████████████████████████████████████████████████████████████████████████████████████████| 30/30 [00:00<00:00, 114.34it/s]\n"
     ]
    },
    {
     "name": "stdout",
     "output_type": "stream",
     "text": [
      "0\n",
      "Recommended ID's: [5444.0, 809.0, 2021.0, 49396.0, 1274.0]\n",
      "running training and testing for user 18\n",
      " --------------------------------------------\n",
      "importing datasets....\n",
      "selecting 30 simillar users...\n",
      "configuring movie formatting...\n",
      "creating the Graph...\n",
      "Staring training fo 30 iterations...\n"
     ]
    },
    {
     "name": "stderr",
     "output_type": "stream",
     "text": [
      "100%|███████████████████████████████████████████████████████████████████████████████████████████████████| 30/30 [00:00<00:00, 115.47it/s]\n"
     ]
    },
    {
     "name": "stdout",
     "output_type": "stream",
     "text": [
      "0\n",
      "Recommended ID's: [2294.0, 8961.0, 2683.0, 68954.0, 94780.0]\n",
      "running training and testing for user 19\n",
      " --------------------------------------------\n",
      "importing datasets....\n",
      "selecting 30 simillar users...\n",
      "configuring movie formatting...\n",
      "creating the Graph...\n",
      "Staring training fo 30 iterations...\n"
     ]
    },
    {
     "name": "stderr",
     "output_type": "stream",
     "text": [
      "100%|███████████████████████████████████████████████████████████████████████████████████████████████████| 30/30 [00:00<00:00, 121.25it/s]\n"
     ]
    },
    {
     "name": "stdout",
     "output_type": "stream",
     "text": [
      "0\n",
      "Recommended ID's: [1274.0, 5999.0, 78499.0, 45722.0, 94780.0]\n",
      "running training and testing for user 20\n",
      " --------------------------------------------\n",
      "importing datasets....\n",
      "selecting 30 simillar users...\n",
      "configuring movie formatting...\n",
      "creating the Graph...\n",
      "Staring training fo 30 iterations...\n"
     ]
    },
    {
     "name": "stderr",
     "output_type": "stream",
     "text": [
      "100%|███████████████████████████████████████████████████████████████████████████████████████████████████| 30/30 [00:00<00:00, 109.72it/s]\n"
     ]
    },
    {
     "name": "stdout",
     "output_type": "stream",
     "text": [
      "0\n",
      "Recommended ID's: [68791.0, 2012.0, 809.0, 78499.0, 919.0]\n",
      "running training and testing for user 21\n",
      " --------------------------------------------\n",
      "importing datasets....\n",
      "selecting 30 simillar users...\n",
      "configuring movie formatting...\n",
      "creating the Graph...\n",
      "Staring training fo 30 iterations...\n"
     ]
    },
    {
     "name": "stderr",
     "output_type": "stream",
     "text": [
      "100%|███████████████████████████████████████████████████████████████████████████████████████████████████| 30/30 [00:00<00:00, 115.31it/s]\n"
     ]
    },
    {
     "name": "stdout",
     "output_type": "stream",
     "text": [
      "0\n",
      "Recommended ID's: [1030.0, 5040.0, 2294.0, 68791.0, 5040.0]\n",
      "running training and testing for user 22\n",
      " --------------------------------------------\n",
      "importing datasets....\n",
      "selecting 30 simillar users...\n",
      "configuring movie formatting...\n",
      "creating the Graph...\n",
      "Staring training fo 30 iterations...\n"
     ]
    },
    {
     "name": "stderr",
     "output_type": "stream",
     "text": [
      "100%|███████████████████████████████████████████████████████████████████████████████████████████████████| 30/30 [00:00<00:00, 114.87it/s]\n"
     ]
    },
    {
     "name": "stdout",
     "output_type": "stream",
     "text": [
      "0\n",
      "Recommended ID's: [4027.0, 2021.0, 91529.0, 6537.0, 2294.0]\n",
      "running training and testing for user 23\n",
      " --------------------------------------------\n",
      "importing datasets....\n",
      "selecting 30 simillar users...\n",
      "configuring movie formatting...\n",
      "creating the Graph...\n",
      "Staring training fo 30 iterations...\n"
     ]
    },
    {
     "name": "stderr",
     "output_type": "stream",
     "text": [
      "100%|███████████████████████████████████████████████████████████████████████████████████████████████████| 30/30 [00:00<00:00, 115.31it/s]\n"
     ]
    },
    {
     "name": "stdout",
     "output_type": "stream",
     "text": [
      "0\n",
      "Recommended ID's: [59315.0, 2950.0, 45722.0, 8360.0, 30793.0]\n",
      "running training and testing for user 24\n",
      " --------------------------------------------\n",
      "importing datasets....\n",
      "selecting 30 simillar users...\n",
      "configuring movie formatting...\n",
      "creating the Graph...\n",
      "Staring training fo 30 iterations...\n"
     ]
    },
    {
     "name": "stderr",
     "output_type": "stream",
     "text": [
      "100%|███████████████████████████████████████████████████████████████████████████████████████████████████| 30/30 [00:00<00:00, 117.58it/s]\n"
     ]
    },
    {
     "name": "stdout",
     "output_type": "stream",
     "text": [
      "0\n",
      "Recommended ID's: [89087.0, 2640.0, 68791.0, 485.0, 1356.0]\n",
      "running training and testing for user 25\n",
      " --------------------------------------------\n",
      "importing datasets....\n",
      "selecting 30 simillar users...\n",
      "configuring movie formatting...\n",
      "creating the Graph...\n",
      "Staring training fo 30 iterations...\n"
     ]
    },
    {
     "name": "stderr",
     "output_type": "stream",
     "text": [
      "100%|███████████████████████████████████████████████████████████████████████████████████████████████████| 30/30 [00:00<00:00, 115.72it/s]\n"
     ]
    },
    {
     "name": "stdout",
     "output_type": "stream",
     "text": [
      "0\n",
      "Recommended ID's: [1527.0, 60069.0, 2948.0, 91529.0, 2012.0]\n",
      "running training and testing for user 26\n",
      " --------------------------------------------\n",
      "importing datasets....\n",
      "selecting 30 simillar users...\n",
      "configuring movie formatting...\n",
      "creating the Graph...\n",
      "Staring training fo 30 iterations...\n"
     ]
    },
    {
     "name": "stderr",
     "output_type": "stream",
     "text": [
      "100%|███████████████████████████████████████████████████████████████████████████████████████████████████| 30/30 [00:00<00:00, 122.78it/s]\n"
     ]
    },
    {
     "name": "stdout",
     "output_type": "stream",
     "text": [
      "0\n",
      "Recommended ID's: [2012.0, 208.0, 2683.0, 1527.0, 3052.0]\n",
      "running training and testing for user 27\n",
      " --------------------------------------------\n",
      "importing datasets....\n",
      "selecting 30 simillar users...\n",
      "configuring movie formatting...\n",
      "creating the Graph...\n",
      "Staring training fo 30 iterations...\n"
     ]
    },
    {
     "name": "stderr",
     "output_type": "stream",
     "text": [
      "100%|███████████████████████████████████████████████████████████████████████████████████████████████████| 30/30 [00:00<00:00, 114.99it/s]\n"
     ]
    },
    {
     "name": "stdout",
     "output_type": "stream",
     "text": [
      "0\n",
      "Recommended ID's: [45722.0, 89087.0, 6537.0, 5040.0, 2012.0]\n",
      "running training and testing for user 28\n",
      " --------------------------------------------\n",
      "importing datasets....\n",
      "selecting 30 simillar users...\n",
      "configuring movie formatting...\n",
      "creating the Graph...\n",
      "Staring training fo 30 iterations...\n"
     ]
    },
    {
     "name": "stderr",
     "output_type": "stream",
     "text": [
      "100%|███████████████████████████████████████████████████████████████████████████████████████████████████| 30/30 [00:00<00:00, 120.81it/s]\n"
     ]
    },
    {
     "name": "stdout",
     "output_type": "stream",
     "text": [
      "0\n",
      "Recommended ID's: [2640.0, 30793.0, 2950.0, 89087.0, 94780.0]\n",
      "running training and testing for user 29\n",
      " --------------------------------------------\n",
      "importing datasets....\n",
      "selecting 30 simillar users...\n",
      "configuring movie formatting...\n",
      "creating the Graph...\n",
      "Staring training fo 30 iterations...\n"
     ]
    },
    {
     "name": "stderr",
     "output_type": "stream",
     "text": [
      "100%|███████████████████████████████████████████████████████████████████████████████████████████████████| 30/30 [00:00<00:00, 120.81it/s]\n"
     ]
    },
    {
     "name": "stdout",
     "output_type": "stream",
     "text": [
      "0\n",
      "Recommended ID's: [546.0, 2761.0, 59315.0, 5444.0, 1274.0]\n",
      "running training and testing for user 30\n",
      " --------------------------------------------\n",
      "importing datasets....\n",
      "selecting 30 simillar users...\n",
      "configuring movie formatting...\n",
      "creating the Graph...\n",
      "Staring training fo 30 iterations...\n"
     ]
    },
    {
     "name": "stderr",
     "output_type": "stream",
     "text": [
      "100%|███████████████████████████████████████████████████████████████████████████████████████████████████| 30/30 [00:00<00:00, 116.42it/s]\n"
     ]
    },
    {
     "name": "stdout",
     "output_type": "stream",
     "text": [
      "0\n",
      "Recommended ID's: [2761.0, 485.0, 94780.0, 59315.0, 485.0]\n",
      "running training and testing for user 31\n",
      " --------------------------------------------\n",
      "importing datasets....\n",
      "selecting 30 simillar users...\n",
      "configuring movie formatting...\n",
      "creating the Graph...\n",
      "Staring training fo 30 iterations...\n"
     ]
    },
    {
     "name": "stderr",
     "output_type": "stream",
     "text": [
      "100%|███████████████████████████████████████████████████████████████████████████████████████████████████| 30/30 [00:00<00:00, 115.69it/s]\n"
     ]
    },
    {
     "name": "stdout",
     "output_type": "stream",
     "text": [
      "0\n",
      "Recommended ID's: [68954.0, 2021.0, 4886.0, 2761.0, 4027.0]\n",
      "running training and testing for user 32\n",
      " --------------------------------------------\n",
      "importing datasets....\n",
      "selecting 30 simillar users...\n",
      "configuring movie formatting...\n",
      "creating the Graph...\n",
      "Staring training fo 30 iterations...\n"
     ]
    },
    {
     "name": "stderr",
     "output_type": "stream",
     "text": [
      "100%|███████████████████████████████████████████████████████████████████████████████████████████████████| 30/30 [00:00<00:00, 111.36it/s]\n"
     ]
    },
    {
     "name": "stdout",
     "output_type": "stream",
     "text": [
      "0\n",
      "Recommended ID's: [6537.0, 112.0, 2640.0, 112.0, 6537.0]\n",
      "running training and testing for user 33\n",
      " --------------------------------------------\n",
      "importing datasets....\n",
      "selecting 30 simillar users...\n",
      "configuring movie formatting...\n",
      "creating the Graph...\n",
      "Staring training fo 30 iterations...\n"
     ]
    },
    {
     "name": "stderr",
     "output_type": "stream",
     "text": [
      "100%|███████████████████████████████████████████████████████████████████████████████████████████████████| 30/30 [00:00<00:00, 117.98it/s]\n"
     ]
    },
    {
     "name": "stdout",
     "output_type": "stream",
     "text": [
      "0\n",
      "Recommended ID's: [60069.0, 2683.0, 780.0, 8961.0, 546.0]\n",
      "running training and testing for user 34\n",
      " --------------------------------------------\n",
      "importing datasets....\n",
      "selecting 30 simillar users...\n",
      "configuring movie formatting...\n",
      "creating the Graph...\n",
      "Staring training fo 30 iterations...\n"
     ]
    },
    {
     "name": "stderr",
     "output_type": "stream",
     "text": [
      "100%|███████████████████████████████████████████████████████████████████████████████████████████████████| 30/30 [00:00<00:00, 114.81it/s]\n"
     ]
    },
    {
     "name": "stdout",
     "output_type": "stream",
     "text": [
      "0\n",
      "Recommended ID's: [5444.0, 2794.0, 94780.0, 68791.0, 68954.0]\n",
      "running training and testing for user 35\n",
      " --------------------------------------------\n",
      "importing datasets....\n",
      "selecting 30 simillar users...\n",
      "configuring movie formatting...\n",
      "creating the Graph...\n",
      "Staring training fo 30 iterations...\n"
     ]
    },
    {
     "name": "stderr",
     "output_type": "stream",
     "text": [
      "100%|███████████████████████████████████████████████████████████████████████████████████████████████████| 30/30 [00:00<00:00, 114.96it/s]\n"
     ]
    },
    {
     "name": "stdout",
     "output_type": "stream",
     "text": [
      "0\n",
      "Recommended ID's: [68791.0, 8961.0, 112.0, 809.0, 208.0]\n",
      "running training and testing for user 36\n",
      " --------------------------------------------\n",
      "importing datasets....\n",
      "selecting 30 simillar users...\n",
      "configuring movie formatting...\n",
      "creating the Graph...\n",
      "Staring training fo 30 iterations...\n"
     ]
    },
    {
     "name": "stderr",
     "output_type": "stream",
     "text": [
      "100%|███████████████████████████████████████████████████████████████████████████████████████████████████| 30/30 [00:00<00:00, 114.56it/s]\n"
     ]
    },
    {
     "name": "stdout",
     "output_type": "stream",
     "text": [
      "0\n",
      "Recommended ID's: [8961.0, 60069.0, 5999.0, 112.0, 2012.0]\n",
      "running training and testing for user 37\n",
      " --------------------------------------------\n",
      "importing datasets....\n",
      "selecting 30 simillar users...\n",
      "configuring movie formatting...\n",
      "creating the Graph...\n",
      "Staring training fo 30 iterations...\n"
     ]
    },
    {
     "name": "stderr",
     "output_type": "stream",
     "text": [
      "100%|███████████████████████████████████████████████████████████████████████████████████████████████████| 30/30 [00:00<00:00, 119.43it/s]\n"
     ]
    },
    {
     "name": "stdout",
     "output_type": "stream",
     "text": [
      "0\n",
      "Recommended ID's: [780.0, 208.0, 1030.0, 1274.0, 68791.0]\n",
      "running training and testing for user 38\n",
      " --------------------------------------------\n",
      "importing datasets....\n",
      "selecting 30 simillar users...\n",
      "configuring movie formatting...\n",
      "creating the Graph...\n",
      "Staring training fo 30 iterations...\n"
     ]
    },
    {
     "name": "stderr",
     "output_type": "stream",
     "text": [
      "100%|███████████████████████████████████████████████████████████████████████████████████████████████████| 30/30 [00:00<00:00, 116.01it/s]\n"
     ]
    },
    {
     "name": "stdout",
     "output_type": "stream",
     "text": [
      "0\n",
      "Recommended ID's: [1201.0, 8961.0, 1201.0, 2021.0, 809.0]\n",
      "running training and testing for user 39\n",
      " --------------------------------------------\n",
      "importing datasets....\n",
      "selecting 30 simillar users...\n",
      "configuring movie formatting...\n",
      "creating the Graph...\n",
      "Staring training fo 30 iterations...\n"
     ]
    },
    {
     "name": "stderr",
     "output_type": "stream",
     "text": [
      "100%|███████████████████████████████████████████████████████████████████████████████████████████████████| 30/30 [00:00<00:00, 117.34it/s]\n"
     ]
    },
    {
     "name": "stdout",
     "output_type": "stream",
     "text": [
      "0\n",
      "Recommended ID's: [54259.0, 139385.0, 4306.0, 2761.0, 8360.0]\n",
      "running training and testing for user 40\n",
      " --------------------------------------------\n",
      "importing datasets....\n",
      "selecting 30 simillar users...\n",
      "configuring movie formatting...\n",
      "creating the Graph...\n",
      "Staring training fo 30 iterations...\n"
     ]
    },
    {
     "name": "stderr",
     "output_type": "stream",
     "text": [
      "100%|███████████████████████████████████████████████████████████████████████████████████████████████████| 30/30 [00:00<00:00, 116.10it/s]\n"
     ]
    },
    {
     "name": "stdout",
     "output_type": "stream",
     "text": [
      "0\n",
      "Recommended ID's: [68791.0, 49396.0, 2794.0, 4306.0, 5999.0]\n",
      "running training and testing for user 41\n",
      " --------------------------------------------\n",
      "importing datasets....\n",
      "selecting 30 simillar users...\n",
      "configuring movie formatting...\n",
      "creating the Graph...\n",
      "Staring training fo 30 iterations...\n"
     ]
    },
    {
     "name": "stderr",
     "output_type": "stream",
     "text": [
      "100%|███████████████████████████████████████████████████████████████████████████████████████████████████| 30/30 [00:00<00:00, 116.04it/s]\n"
     ]
    },
    {
     "name": "stdout",
     "output_type": "stream",
     "text": [
      "0\n",
      "Recommended ID's: [68954.0, 1356.0, 89087.0, 485.0, 91529.0]\n",
      "running training and testing for user 42\n",
      " --------------------------------------------\n",
      "importing datasets....\n",
      "selecting 30 simillar users...\n",
      "configuring movie formatting...\n",
      "creating the Graph...\n",
      "Staring training fo 30 iterations...\n"
     ]
    },
    {
     "name": "stderr",
     "output_type": "stream",
     "text": [
      "100%|███████████████████████████████████████████████████████████████████████████████████████████████████| 30/30 [00:00<00:00, 117.05it/s]\n"
     ]
    },
    {
     "name": "stdout",
     "output_type": "stream",
     "text": [
      "0\n",
      "Recommended ID's: [5040.0, 2948.0, 49396.0, 4886.0, 112.0]\n",
      "running training and testing for user 43\n",
      " --------------------------------------------\n",
      "importing datasets....\n",
      "selecting 30 simillar users...\n",
      "configuring movie formatting...\n",
      "creating the Graph...\n",
      "Staring training fo 30 iterations...\n"
     ]
    },
    {
     "name": "stderr",
     "output_type": "stream",
     "text": [
      "100%|███████████████████████████████████████████████████████████████████████████████████████████████████| 30/30 [00:00<00:00, 123.42it/s]\n"
     ]
    },
    {
     "name": "stdout",
     "output_type": "stream",
     "text": [
      "0\n",
      "Recommended ID's: [2012.0, 91529.0, 45722.0, 49396.0, 2950.0]\n",
      "running training and testing for user 44\n",
      " --------------------------------------------\n",
      "importing datasets....\n",
      "selecting 30 simillar users...\n",
      "configuring movie formatting...\n",
      "creating the Graph...\n",
      "Staring training fo 30 iterations...\n"
     ]
    },
    {
     "name": "stderr",
     "output_type": "stream",
     "text": [
      "100%|███████████████████████████████████████████████████████████████████████████████████████████████████| 30/30 [00:00<00:00, 120.27it/s]\n"
     ]
    },
    {
     "name": "stdout",
     "output_type": "stream",
     "text": [
      "0\n",
      "Recommended ID's: [54259.0, 91529.0, 2794.0, 5444.0, 2794.0]\n",
      "running training and testing for user 45\n",
      " --------------------------------------------\n",
      "importing datasets....\n",
      "selecting 30 simillar users...\n",
      "configuring movie formatting...\n",
      "creating the Graph...\n",
      "Staring training fo 30 iterations...\n"
     ]
    },
    {
     "name": "stderr",
     "output_type": "stream",
     "text": [
      "100%|███████████████████████████████████████████████████████████████████████████████████████████████████| 30/30 [00:00<00:00, 123.71it/s]\n"
     ]
    },
    {
     "name": "stdout",
     "output_type": "stream",
     "text": [
      "0\n",
      "Recommended ID's: [1196.0, 49396.0, 2012.0, 2761.0, 485.0]\n",
      "running training and testing for user 46\n",
      " --------------------------------------------\n",
      "importing datasets....\n",
      "selecting 30 simillar users...\n",
      "configuring movie formatting...\n",
      "creating the Graph...\n",
      "Staring training fo 30 iterations...\n"
     ]
    },
    {
     "name": "stderr",
     "output_type": "stream",
     "text": [
      "100%|███████████████████████████████████████████████████████████████████████████████████████████████████| 30/30 [00:00<00:00, 124.65it/s]\n"
     ]
    },
    {
     "name": "stdout",
     "output_type": "stream",
     "text": [
      "0\n",
      "Recommended ID's: [2950.0, 59315.0, 485.0, 1527.0, 94780.0]\n",
      "running training and testing for user 47\n",
      " --------------------------------------------\n",
      "importing datasets....\n",
      "selecting 30 simillar users...\n",
      "configuring movie formatting...\n",
      "creating the Graph...\n",
      "Staring training fo 30 iterations...\n"
     ]
    },
    {
     "name": "stderr",
     "output_type": "stream",
     "text": [
      "100%|███████████████████████████████████████████████████████████████████████████████████████████████████| 30/30 [00:00<00:00, 126.69it/s]\n"
     ]
    },
    {
     "name": "stdout",
     "output_type": "stream",
     "text": [
      "0\n",
      "Recommended ID's: [49396.0, 4306.0, 2640.0, 6537.0, 49396.0]\n",
      "running training and testing for user 48\n",
      " --------------------------------------------\n",
      "importing datasets....\n",
      "selecting 30 simillar users...\n",
      "configuring movie formatting...\n",
      "creating the Graph...\n",
      "Staring training fo 30 iterations...\n"
     ]
    },
    {
     "name": "stderr",
     "output_type": "stream",
     "text": [
      "100%|███████████████████████████████████████████████████████████████████████████████████████████████████| 30/30 [00:00<00:00, 115.96it/s]\n"
     ]
    },
    {
     "name": "stdout",
     "output_type": "stream",
     "text": [
      "0\n",
      "Recommended ID's: [4027.0, 59315.0, 1274.0, 8360.0, 809.0]\n",
      "running training and testing for user 49\n",
      " --------------------------------------------\n",
      "importing datasets....\n",
      "selecting 30 simillar users...\n",
      "configuring movie formatting...\n",
      "creating the Graph...\n",
      "Staring training fo 30 iterations...\n"
     ]
    },
    {
     "name": "stderr",
     "output_type": "stream",
     "text": [
      "100%|███████████████████████████████████████████████████████████████████████████████████████████████████| 30/30 [00:00<00:00, 120.79it/s]\n"
     ]
    },
    {
     "name": "stdout",
     "output_type": "stream",
     "text": [
      "0\n",
      "Recommended ID's: [68791.0, 485.0, 4027.0, 4306.0, 6537.0]\n",
      "genre: Adventure\n",
      "overall accuracy is 0.726923076923077\n",
      "running training and testing for user 0\n",
      " --------------------------------------------\n",
      "importing datasets....\n",
      "selecting 30 simillar users...\n",
      "configuring movie formatting...\n",
      "creating the Graph...\n",
      "Staring training fo 30 iterations...\n"
     ]
    },
    {
     "name": "stderr",
     "output_type": "stream",
     "text": [
      "100%|███████████████████████████████████████████████████████████████████████████████████████████████████| 30/30 [00:00<00:00, 233.96it/s]\n"
     ]
    },
    {
     "name": "stdout",
     "output_type": "stream",
     "text": [
      "0\n",
      "Recommended ID's: [2081.0, 2394.0, 5999.0, 745.0, 3990.0]\n",
      "running training and testing for user 1\n",
      " --------------------------------------------\n",
      "importing datasets....\n",
      "selecting 30 simillar users...\n",
      "configuring movie formatting...\n",
      "creating the Graph...\n",
      "Staring training fo 30 iterations...\n"
     ]
    },
    {
     "name": "stderr",
     "output_type": "stream",
     "text": [
      "100%|███████████████████████████████████████████████████████████████████████████████████████████████████| 30/30 [00:00<00:00, 220.17it/s]\n"
     ]
    },
    {
     "name": "stdout",
     "output_type": "stream",
     "text": [
      "0\n",
      "Recommended ID's: [103335.0, 8360.0, 68954.0, 3990.0, 4306.0]\n",
      "running training and testing for user 2\n",
      " --------------------------------------------\n",
      "importing datasets....\n",
      "selecting 30 simillar users...\n",
      "configuring movie formatting...\n",
      "creating the Graph...\n",
      "Staring training fo 30 iterations...\n"
     ]
    },
    {
     "name": "stderr",
     "output_type": "stream",
     "text": [
      "100%|███████████████████████████████████████████████████████████████████████████████████████████████████| 30/30 [00:00<00:00, 250.78it/s]\n"
     ]
    },
    {
     "name": "stdout",
     "output_type": "stream",
     "text": [
      "0\n",
      "Recommended ID's: [2394.0, 5444.0, 5444.0, 37729.0, 1274.0]\n",
      "running training and testing for user 3\n",
      " --------------------------------------------\n",
      "importing datasets....\n",
      "selecting 30 simillar users...\n",
      "configuring movie formatting...\n",
      "creating the Graph...\n",
      "Staring training fo 30 iterations...\n"
     ]
    },
    {
     "name": "stderr",
     "output_type": "stream",
     "text": [
      "100%|███████████████████████████████████████████████████████████████████████████████████████████████████| 30/30 [00:00<00:00, 233.88it/s]\n"
     ]
    },
    {
     "name": "stdout",
     "output_type": "stream",
     "text": [
      "0\n",
      "Recommended ID's: [2294.0, 2761.0, 2761.0, 59784.0, 4886.0]\n",
      "running training and testing for user 4\n",
      " --------------------------------------------\n",
      "importing datasets....\n",
      "selecting 30 simillar users...\n",
      "configuring movie formatting...\n",
      "creating the Graph...\n",
      "Staring training fo 30 iterations...\n"
     ]
    },
    {
     "name": "stderr",
     "output_type": "stream",
     "text": [
      "100%|███████████████████████████████████████████████████████████████████████████████████████████████████| 30/30 [00:00<00:00, 227.73it/s]\n"
     ]
    },
    {
     "name": "stdout",
     "output_type": "stream",
     "text": [
      "0\n",
      "Recommended ID's: [2294.0, 3213.0, 2394.0, 2761.0, 68954.0]\n",
      "running training and testing for user 5\n",
      " --------------------------------------------\n",
      "importing datasets....\n",
      "selecting 30 simillar users...\n",
      "configuring movie formatting...\n",
      "creating the Graph...\n",
      "Staring training fo 30 iterations...\n"
     ]
    },
    {
     "name": "stderr",
     "output_type": "stream",
     "text": [
      "100%|███████████████████████████████████████████████████████████████████████████████████████████████████| 30/30 [00:00<00:00, 234.16it/s]\n"
     ]
    },
    {
     "name": "stdout",
     "output_type": "stream",
     "text": [
      "0\n",
      "Recommended ID's: [59784.0, 8360.0, 59784.0, 3990.0, 37729.0]\n",
      "running training and testing for user 6\n",
      " --------------------------------------------\n",
      "importing datasets....\n",
      "selecting 30 simillar users...\n",
      "configuring movie formatting...\n",
      "creating the Graph...\n",
      "Staring training fo 30 iterations...\n"
     ]
    },
    {
     "name": "stderr",
     "output_type": "stream",
     "text": [
      "100%|███████████████████████████████████████████████████████████████████████████████████████████████████| 30/30 [00:00<00:00, 220.59it/s]\n"
     ]
    },
    {
     "name": "stdout",
     "output_type": "stream",
     "text": [
      "0\n",
      "Recommended ID's: [66097.0, 3990.0, 37729.0, 1920.0, 745.0]\n",
      "running training and testing for user 7\n",
      " --------------------------------------------\n",
      "importing datasets....\n",
      "selecting 30 simillar users...\n",
      "configuring movie formatting...\n",
      "creating the Graph...\n",
      "Staring training fo 30 iterations...\n"
     ]
    },
    {
     "name": "stderr",
     "output_type": "stream",
     "text": [
      "100%|███████████████████████████████████████████████████████████████████████████████████████████████████| 30/30 [00:00<00:00, 219.88it/s]\n"
     ]
    },
    {
     "name": "stdout",
     "output_type": "stream",
     "text": [
      "0\n",
      "Recommended ID's: [1920.0, 8961.0, 66097.0, 745.0, 4886.0]\n",
      "running training and testing for user 8\n",
      " --------------------------------------------\n",
      "importing datasets....\n",
      "selecting 30 simillar users...\n",
      "configuring movie formatting...\n",
      "creating the Graph...\n",
      "Staring training fo 30 iterations...\n"
     ]
    },
    {
     "name": "stderr",
     "output_type": "stream",
     "text": [
      "100%|███████████████████████████████████████████████████████████████████████████████████████████████████| 30/30 [00:00<00:00, 220.28it/s]\n"
     ]
    },
    {
     "name": "stdout",
     "output_type": "stream",
     "text": [
      "0\n",
      "Recommended ID's: [8360.0, 1030.0, 103335.0, 1274.0, 2081.0]\n",
      "running training and testing for user 9\n",
      " --------------------------------------------\n",
      "importing datasets....\n",
      "selecting 30 simillar users...\n",
      "configuring movie formatting...\n",
      "creating the Graph...\n",
      "Staring training fo 30 iterations...\n"
     ]
    },
    {
     "name": "stderr",
     "output_type": "stream",
     "text": [
      "100%|███████████████████████████████████████████████████████████████████████████████████████████████████| 30/30 [00:00<00:00, 214.99it/s]\n"
     ]
    },
    {
     "name": "stdout",
     "output_type": "stream",
     "text": [
      "0\n",
      "Recommended ID's: [1030.0, 4306.0, 5999.0, 59784.0, 2294.0]\n",
      "running training and testing for user 10\n",
      " --------------------------------------------\n",
      "importing datasets....\n",
      "selecting 30 simillar users...\n",
      "configuring movie formatting...\n",
      "creating the Graph...\n",
      "Staring training fo 30 iterations...\n"
     ]
    },
    {
     "name": "stderr",
     "output_type": "stream",
     "text": [
      "100%|███████████████████████████████████████████████████████████████████████████████████████████████████| 30/30 [00:00<00:00, 220.54it/s]\n"
     ]
    },
    {
     "name": "stdout",
     "output_type": "stream",
     "text": [
      "0\n",
      "Recommended ID's: [4306.0, 103335.0, 2761.0, 4306.0, 5999.0]\n",
      "running training and testing for user 11\n",
      " --------------------------------------------\n",
      "importing datasets....\n",
      "selecting 30 simillar users...\n",
      "configuring movie formatting...\n",
      "creating the Graph...\n",
      "Staring training fo 30 iterations...\n"
     ]
    },
    {
     "name": "stderr",
     "output_type": "stream",
     "text": [
      "100%|███████████████████████████████████████████████████████████████████████████████████████████████████| 30/30 [00:00<00:00, 219.12it/s]\n"
     ]
    },
    {
     "name": "stdout",
     "output_type": "stream",
     "text": [
      "0\n",
      "Recommended ID's: [37729.0, 78499.0, 103335.0, 78499.0, 2761.0]\n",
      "running training and testing for user 12\n",
      " --------------------------------------------\n",
      "importing datasets....\n",
      "selecting 30 simillar users...\n",
      "configuring movie formatting...\n",
      "creating the Graph...\n",
      "Staring training fo 30 iterations...\n"
     ]
    },
    {
     "name": "stderr",
     "output_type": "stream",
     "text": [
      "100%|███████████████████████████████████████████████████████████████████████████████████████████████████| 30/30 [00:00<00:00, 220.26it/s]\n"
     ]
    },
    {
     "name": "stdout",
     "output_type": "stream",
     "text": [
      "0\n",
      "Recommended ID's: [4306.0, 2761.0, 1030.0, 8360.0, 1920.0]\n",
      "running training and testing for user 13\n",
      " --------------------------------------------\n",
      "importing datasets....\n",
      "selecting 30 simillar users...\n",
      "configuring movie formatting...\n",
      "creating the Graph...\n",
      "Staring training fo 30 iterations...\n"
     ]
    },
    {
     "name": "stderr",
     "output_type": "stream",
     "text": [
      "100%|███████████████████████████████████████████████████████████████████████████████████████████████████| 30/30 [00:00<00:00, 214.86it/s]\n"
     ]
    },
    {
     "name": "stdout",
     "output_type": "stream",
     "text": [
      "0\n",
      "Recommended ID's: [1030.0, 745.0, 1920.0, 4886.0, 745.0]\n",
      "running training and testing for user 14\n",
      " --------------------------------------------\n",
      "importing datasets....\n",
      "selecting 30 simillar users...\n",
      "configuring movie formatting...\n",
      "creating the Graph...\n",
      "Staring training fo 30 iterations...\n"
     ]
    },
    {
     "name": "stderr",
     "output_type": "stream",
     "text": [
      "100%|███████████████████████████████████████████████████████████████████████████████████████████████████| 30/30 [00:00<00:00, 220.24it/s]\n"
     ]
    },
    {
     "name": "stdout",
     "output_type": "stream",
     "text": [
      "0\n",
      "Recommended ID's: [2081.0, 60069.0, 2761.0, 745.0, 2294.0]\n",
      "running training and testing for user 15\n",
      " --------------------------------------------\n",
      "importing datasets....\n",
      "selecting 30 simillar users...\n",
      "configuring movie formatting...\n",
      "creating the Graph...\n",
      "Staring training fo 30 iterations...\n"
     ]
    },
    {
     "name": "stderr",
     "output_type": "stream",
     "text": [
      "100%|███████████████████████████████████████████████████████████████████████████████████████████████████| 30/30 [00:00<00:00, 219.95it/s]\n"
     ]
    },
    {
     "name": "stdout",
     "output_type": "stream",
     "text": [
      "0\n",
      "Recommended ID's: [2081.0, 2294.0, 1274.0, 3213.0, 60069.0]\n",
      "running training and testing for user 16\n",
      " --------------------------------------------\n",
      "importing datasets....\n",
      "selecting 30 simillar users...\n",
      "configuring movie formatting...\n",
      "creating the Graph...\n",
      "Staring training fo 30 iterations...\n"
     ]
    },
    {
     "name": "stderr",
     "output_type": "stream",
     "text": [
      "100%|███████████████████████████████████████████████████████████████████████████████████████████████████| 30/30 [00:00<00:00, 234.32it/s]\n"
     ]
    },
    {
     "name": "stdout",
     "output_type": "stream",
     "text": [
      "0\n",
      "Recommended ID's: [2761.0, 2294.0, 5999.0, 1920.0, 5444.0]\n",
      "running training and testing for user 17\n",
      " --------------------------------------------\n",
      "importing datasets....\n",
      "selecting 30 simillar users...\n",
      "configuring movie formatting...\n",
      "creating the Graph...\n",
      "Staring training fo 30 iterations...\n"
     ]
    },
    {
     "name": "stderr",
     "output_type": "stream",
     "text": [
      "100%|███████████████████████████████████████████████████████████████████████████████████████████████████| 30/30 [00:00<00:00, 245.19it/s]\n"
     ]
    },
    {
     "name": "stdout",
     "output_type": "stream",
     "text": [
      "0\n",
      "Recommended ID's: [60069.0, 68954.0, 4306.0, 1920.0, 59784.0]\n",
      "running training and testing for user 18\n",
      " --------------------------------------------\n",
      "importing datasets....\n",
      "selecting 30 simillar users...\n",
      "configuring movie formatting...\n",
      "creating the Graph...\n",
      "Staring training fo 30 iterations...\n"
     ]
    },
    {
     "name": "stderr",
     "output_type": "stream",
     "text": [
      "100%|███████████████████████████████████████████████████████████████████████████████████████████████████| 30/30 [00:00<00:00, 211.96it/s]\n"
     ]
    },
    {
     "name": "stdout",
     "output_type": "stream",
     "text": [
      "0\n",
      "Recommended ID's: [3213.0, 37729.0, 5444.0, 5999.0, 66097.0]\n",
      "running training and testing for user 19\n",
      " --------------------------------------------\n",
      "importing datasets....\n",
      "selecting 30 simillar users...\n",
      "configuring movie formatting...\n",
      "creating the Graph...\n",
      "Staring training fo 30 iterations...\n"
     ]
    },
    {
     "name": "stderr",
     "output_type": "stream",
     "text": [
      "100%|███████████████████████████████████████████████████████████████████████████████████████████████████| 30/30 [00:00<00:00, 234.40it/s]\n"
     ]
    },
    {
     "name": "stdout",
     "output_type": "stream",
     "text": [
      "0\n",
      "Recommended ID's: [8961.0, 3213.0, 1274.0, 59784.0, 3213.0]\n",
      "running training and testing for user 20\n",
      " --------------------------------------------\n",
      "importing datasets....\n",
      "selecting 30 simillar users...\n",
      "configuring movie formatting...\n",
      "creating the Graph...\n",
      "Staring training fo 30 iterations...\n"
     ]
    },
    {
     "name": "stderr",
     "output_type": "stream",
     "text": [
      "100%|███████████████████████████████████████████████████████████████████████████████████████████████████| 30/30 [00:00<00:00, 163.53it/s]\n"
     ]
    },
    {
     "name": "stdout",
     "output_type": "stream",
     "text": [
      "0\n",
      "Recommended ID's: [1030.0, 5999.0, 3990.0, 1274.0, 37729.0]\n",
      "running training and testing for user 21\n",
      " --------------------------------------------\n",
      "importing datasets....\n",
      "selecting 30 simillar users...\n",
      "configuring movie formatting...\n",
      "creating the Graph...\n",
      "Staring training fo 30 iterations...\n"
     ]
    },
    {
     "name": "stderr",
     "output_type": "stream",
     "text": [
      "100%|███████████████████████████████████████████████████████████████████████████████████████████████████| 30/30 [00:00<00:00, 214.69it/s]\n"
     ]
    },
    {
     "name": "stdout",
     "output_type": "stream",
     "text": [
      "0\n",
      "Recommended ID's: [37729.0, 8360.0, 4886.0, 37729.0, 103335.0]\n",
      "running training and testing for user 22\n",
      " --------------------------------------------\n",
      "importing datasets....\n",
      "selecting 30 simillar users...\n",
      "configuring movie formatting...\n",
      "creating the Graph...\n",
      "Staring training fo 30 iterations...\n"
     ]
    },
    {
     "name": "stderr",
     "output_type": "stream",
     "text": [
      "100%|███████████████████████████████████████████████████████████████████████████████████████████████████| 30/30 [00:00<00:00, 232.90it/s]\n"
     ]
    },
    {
     "name": "stdout",
     "output_type": "stream",
     "text": [
      "0\n",
      "Recommended ID's: [4886.0, 3990.0, 66097.0, 8961.0, 37729.0]\n",
      "running training and testing for user 23\n",
      " --------------------------------------------\n",
      "importing datasets....\n",
      "selecting 30 simillar users...\n",
      "configuring movie formatting...\n",
      "creating the Graph...\n",
      "Staring training fo 30 iterations...\n"
     ]
    },
    {
     "name": "stderr",
     "output_type": "stream",
     "text": [
      "100%|███████████████████████████████████████████████████████████████████████████████████████████████████| 30/30 [00:00<00:00, 218.33it/s]\n"
     ]
    },
    {
     "name": "stdout",
     "output_type": "stream",
     "text": [
      "0\n",
      "Recommended ID's: [3990.0, 8961.0, 1274.0, 103335.0, 68954.0]\n",
      "running training and testing for user 24\n",
      " --------------------------------------------\n",
      "importing datasets....\n",
      "selecting 30 simillar users...\n",
      "configuring movie formatting...\n",
      "creating the Graph...\n",
      "Staring training fo 30 iterations...\n"
     ]
    },
    {
     "name": "stderr",
     "output_type": "stream",
     "text": [
      "100%|███████████████████████████████████████████████████████████████████████████████████████████████████| 30/30 [00:00<00:00, 215.58it/s]\n"
     ]
    },
    {
     "name": "stdout",
     "output_type": "stream",
     "text": [
      "0\n",
      "Recommended ID's: [5999.0, 2394.0, 1920.0, 1274.0, 2294.0]\n",
      "running training and testing for user 25\n",
      " --------------------------------------------\n",
      "importing datasets....\n",
      "selecting 30 simillar users...\n",
      "configuring movie formatting...\n",
      "creating the Graph...\n",
      "Staring training fo 30 iterations...\n"
     ]
    },
    {
     "name": "stderr",
     "output_type": "stream",
     "text": [
      "100%|███████████████████████████████████████████████████████████████████████████████████████████████████| 30/30 [00:00<00:00, 219.50it/s]\n"
     ]
    },
    {
     "name": "stdout",
     "output_type": "stream",
     "text": [
      "0\n",
      "Recommended ID's: [4886.0, 5999.0, 2081.0, 3213.0, 2081.0]\n",
      "running training and testing for user 26\n",
      " --------------------------------------------\n",
      "importing datasets....\n",
      "selecting 30 simillar users...\n",
      "configuring movie formatting...\n",
      "creating the Graph...\n",
      "Staring training fo 30 iterations...\n"
     ]
    },
    {
     "name": "stderr",
     "output_type": "stream",
     "text": [
      "100%|███████████████████████████████████████████████████████████████████████████████████████████████████| 30/30 [00:00<00:00, 220.51it/s]\n"
     ]
    },
    {
     "name": "stdout",
     "output_type": "stream",
     "text": [
      "0\n",
      "Recommended ID's: [2294.0, 8961.0, 1920.0, 3990.0, 37729.0]\n",
      "running training and testing for user 27\n",
      " --------------------------------------------\n",
      "importing datasets....\n",
      "selecting 30 simillar users...\n",
      "configuring movie formatting...\n",
      "creating the Graph...\n",
      "Staring training fo 30 iterations...\n"
     ]
    },
    {
     "name": "stderr",
     "output_type": "stream",
     "text": [
      "100%|███████████████████████████████████████████████████████████████████████████████████████████████████| 30/30 [00:00<00:00, 233.05it/s]\n"
     ]
    },
    {
     "name": "stdout",
     "output_type": "stream",
     "text": [
      "0\n",
      "Recommended ID's: [60069.0, 1274.0, 5444.0, 37729.0, 3990.0]\n",
      "running training and testing for user 28\n",
      " --------------------------------------------\n",
      "importing datasets....\n",
      "selecting 30 simillar users...\n",
      "configuring movie formatting...\n",
      "creating the Graph...\n",
      "Staring training fo 30 iterations...\n"
     ]
    },
    {
     "name": "stderr",
     "output_type": "stream",
     "text": [
      "100%|███████████████████████████████████████████████████████████████████████████████████████████████████| 30/30 [00:00<00:00, 222.72it/s]\n"
     ]
    },
    {
     "name": "stdout",
     "output_type": "stream",
     "text": [
      "0\n",
      "Recommended ID's: [60069.0, 60069.0, 1274.0, 59784.0, 5444.0]\n",
      "running training and testing for user 29\n",
      " --------------------------------------------\n",
      "importing datasets....\n",
      "selecting 30 simillar users...\n",
      "configuring movie formatting...\n",
      "creating the Graph...\n",
      "Staring training fo 30 iterations...\n"
     ]
    },
    {
     "name": "stderr",
     "output_type": "stream",
     "text": [
      "100%|███████████████████████████████████████████████████████████████████████████████████████████████████| 30/30 [00:00<00:00, 219.51it/s]\n"
     ]
    },
    {
     "name": "stdout",
     "output_type": "stream",
     "text": [
      "0\n",
      "Recommended ID's: [8360.0, 60069.0, 2081.0, 68954.0, 8360.0]\n",
      "running training and testing for user 30\n",
      " --------------------------------------------\n",
      "importing datasets....\n",
      "selecting 30 simillar users...\n",
      "configuring movie formatting...\n",
      "creating the Graph...\n",
      "Staring training fo 30 iterations...\n"
     ]
    },
    {
     "name": "stderr",
     "output_type": "stream",
     "text": [
      "100%|███████████████████████████████████████████████████████████████████████████████████████████████████| 30/30 [00:00<00:00, 239.00it/s]\n"
     ]
    },
    {
     "name": "stdout",
     "output_type": "stream",
     "text": [
      "0\n",
      "Recommended ID's: [5444.0, 8360.0, 8961.0, 2394.0, 5444.0]\n",
      "running training and testing for user 31\n",
      " --------------------------------------------\n",
      "importing datasets....\n",
      "selecting 30 simillar users...\n",
      "configuring movie formatting...\n",
      "creating the Graph...\n",
      "Staring training fo 30 iterations...\n"
     ]
    },
    {
     "name": "stderr",
     "output_type": "stream",
     "text": [
      "100%|███████████████████████████████████████████████████████████████████████████████████████████████████| 30/30 [00:00<00:00, 217.96it/s]\n"
     ]
    },
    {
     "name": "stdout",
     "output_type": "stream",
     "text": [
      "0\n",
      "Recommended ID's: [2761.0, 103335.0, 2761.0, 2761.0, 59784.0]\n",
      "running training and testing for user 32\n",
      " --------------------------------------------\n",
      "importing datasets....\n",
      "selecting 30 simillar users...\n",
      "configuring movie formatting...\n",
      "creating the Graph...\n",
      "Staring training fo 30 iterations...\n"
     ]
    },
    {
     "name": "stderr",
     "output_type": "stream",
     "text": [
      "100%|███████████████████████████████████████████████████████████████████████████████████████████████████| 30/30 [00:00<00:00, 225.33it/s]\n"
     ]
    },
    {
     "name": "stdout",
     "output_type": "stream",
     "text": [
      "0\n",
      "Recommended ID's: [66097.0, 4306.0, 3990.0, 4306.0, 4306.0]\n",
      "running training and testing for user 33\n",
      " --------------------------------------------\n",
      "importing datasets....\n",
      "selecting 30 simillar users...\n",
      "configuring movie formatting...\n",
      "creating the Graph...\n",
      "Staring training fo 30 iterations...\n"
     ]
    },
    {
     "name": "stderr",
     "output_type": "stream",
     "text": [
      "100%|███████████████████████████████████████████████████████████████████████████████████████████████████| 30/30 [00:00<00:00, 224.34it/s]\n"
     ]
    },
    {
     "name": "stdout",
     "output_type": "stream",
     "text": [
      "0\n",
      "Recommended ID's: [4886.0, 5444.0, 68954.0, 2394.0, 60069.0]\n",
      "running training and testing for user 34\n",
      " --------------------------------------------\n",
      "importing datasets....\n",
      "selecting 30 simillar users...\n",
      "configuring movie formatting...\n",
      "creating the Graph...\n",
      "Staring training fo 30 iterations...\n"
     ]
    },
    {
     "name": "stderr",
     "output_type": "stream",
     "text": [
      "100%|███████████████████████████████████████████████████████████████████████████████████████████████████| 30/30 [00:00<00:00, 218.33it/s]\n"
     ]
    },
    {
     "name": "stdout",
     "output_type": "stream",
     "text": [
      "0\n",
      "Recommended ID's: [103335.0, 4306.0, 37729.0, 2081.0, 3990.0]\n",
      "running training and testing for user 35\n",
      " --------------------------------------------\n",
      "importing datasets....\n",
      "selecting 30 simillar users...\n",
      "configuring movie formatting...\n",
      "creating the Graph...\n",
      "Staring training fo 30 iterations...\n"
     ]
    },
    {
     "name": "stderr",
     "output_type": "stream",
     "text": [
      "100%|███████████████████████████████████████████████████████████████████████████████████████████████████| 30/30 [00:00<00:00, 227.54it/s]\n"
     ]
    },
    {
     "name": "stdout",
     "output_type": "stream",
     "text": [
      "0\n",
      "Recommended ID's: [5444.0, 2761.0, 3213.0, 59784.0, 2761.0]\n",
      "running training and testing for user 36\n",
      " --------------------------------------------\n",
      "importing datasets....\n",
      "selecting 30 simillar users...\n",
      "configuring movie formatting...\n",
      "creating the Graph...\n",
      "Staring training fo 30 iterations...\n"
     ]
    },
    {
     "name": "stderr",
     "output_type": "stream",
     "text": [
      "100%|███████████████████████████████████████████████████████████████████████████████████████████████████| 30/30 [00:00<00:00, 232.34it/s]\n"
     ]
    },
    {
     "name": "stdout",
     "output_type": "stream",
     "text": [
      "0\n",
      "Recommended ID's: [37729.0, 1274.0, 4886.0, 8360.0, 2394.0]\n",
      "running training and testing for user 37\n",
      " --------------------------------------------\n",
      "importing datasets....\n",
      "selecting 30 simillar users...\n",
      "configuring movie formatting...\n",
      "creating the Graph...\n",
      "Staring training fo 30 iterations...\n"
     ]
    },
    {
     "name": "stderr",
     "output_type": "stream",
     "text": [
      "100%|███████████████████████████████████████████████████████████████████████████████████████████████████| 30/30 [00:00<00:00, 232.62it/s]\n"
     ]
    },
    {
     "name": "stdout",
     "output_type": "stream",
     "text": [
      "0\n",
      "Recommended ID's: [1030.0, 2761.0, 2761.0, 3213.0, 2081.0]\n",
      "running training and testing for user 38\n",
      " --------------------------------------------\n",
      "importing datasets....\n",
      "selecting 30 simillar users...\n",
      "configuring movie formatting...\n",
      "creating the Graph...\n",
      "Staring training fo 30 iterations...\n"
     ]
    },
    {
     "name": "stderr",
     "output_type": "stream",
     "text": [
      "100%|███████████████████████████████████████████████████████████████████████████████████████████████████| 30/30 [00:00<00:00, 220.41it/s]\n"
     ]
    },
    {
     "name": "stdout",
     "output_type": "stream",
     "text": [
      "0\n",
      "Recommended ID's: [68954.0, 68954.0, 68954.0, 4306.0, 1920.0]\n",
      "running training and testing for user 39\n",
      " --------------------------------------------\n",
      "importing datasets....\n",
      "selecting 30 simillar users...\n",
      "configuring movie formatting...\n",
      "creating the Graph...\n",
      "Staring training fo 30 iterations...\n"
     ]
    },
    {
     "name": "stderr",
     "output_type": "stream",
     "text": [
      "100%|███████████████████████████████████████████████████████████████████████████████████████████████████| 30/30 [00:00<00:00, 228.83it/s]\n"
     ]
    },
    {
     "name": "stdout",
     "output_type": "stream",
     "text": [
      "0\n",
      "Recommended ID's: [37729.0, 66097.0, 5999.0, 68954.0, 59784.0]\n",
      "running training and testing for user 40\n",
      " --------------------------------------------\n",
      "importing datasets....\n",
      "selecting 30 simillar users...\n",
      "configuring movie formatting...\n",
      "creating the Graph...\n",
      "Staring training fo 30 iterations...\n"
     ]
    },
    {
     "name": "stderr",
     "output_type": "stream",
     "text": [
      "100%|███████████████████████████████████████████████████████████████████████████████████████████████████| 30/30 [00:00<00:00, 227.26it/s]\n"
     ]
    },
    {
     "name": "stdout",
     "output_type": "stream",
     "text": [
      "0\n",
      "Recommended ID's: [745.0, 1030.0, 4886.0, 8961.0, 5999.0]\n",
      "running training and testing for user 41\n",
      " --------------------------------------------\n",
      "importing datasets....\n",
      "selecting 30 simillar users...\n",
      "configuring movie formatting...\n",
      "creating the Graph...\n",
      "Staring training fo 30 iterations...\n"
     ]
    },
    {
     "name": "stderr",
     "output_type": "stream",
     "text": [
      "100%|███████████████████████████████████████████████████████████████████████████████████████████████████| 30/30 [00:00<00:00, 225.50it/s]\n"
     ]
    },
    {
     "name": "stdout",
     "output_type": "stream",
     "text": [
      "0\n",
      "Recommended ID's: [8360.0, 66097.0, 3213.0, 1920.0, 60069.0]\n",
      "running training and testing for user 42\n",
      " --------------------------------------------\n",
      "importing datasets....\n",
      "selecting 30 simillar users...\n",
      "configuring movie formatting...\n",
      "creating the Graph...\n",
      "Staring training fo 30 iterations...\n"
     ]
    },
    {
     "name": "stderr",
     "output_type": "stream",
     "text": [
      "100%|███████████████████████████████████████████████████████████████████████████████████████████████████| 30/30 [00:00<00:00, 219.97it/s]\n"
     ]
    },
    {
     "name": "stdout",
     "output_type": "stream",
     "text": [
      "0\n",
      "Recommended ID's: [3990.0, 745.0, 8961.0, 3213.0, 1920.0]\n",
      "running training and testing for user 43\n",
      " --------------------------------------------\n",
      "importing datasets....\n",
      "selecting 30 simillar users...\n",
      "configuring movie formatting...\n",
      "creating the Graph...\n",
      "Staring training fo 30 iterations...\n"
     ]
    },
    {
     "name": "stderr",
     "output_type": "stream",
     "text": [
      "100%|███████████████████████████████████████████████████████████████████████████████████████████████████| 30/30 [00:00<00:00, 222.79it/s]\n"
     ]
    },
    {
     "name": "stdout",
     "output_type": "stream",
     "text": [
      "0\n",
      "Recommended ID's: [37729.0, 59784.0, 745.0, 3213.0, 2394.0]\n",
      "running training and testing for user 44\n",
      " --------------------------------------------\n",
      "importing datasets....\n",
      "selecting 30 simillar users...\n",
      "configuring movie formatting...\n",
      "creating the Graph...\n",
      "Staring training fo 30 iterations...\n"
     ]
    },
    {
     "name": "stderr",
     "output_type": "stream",
     "text": [
      "100%|███████████████████████████████████████████████████████████████████████████████████████████████████| 30/30 [00:00<00:00, 225.30it/s]\n"
     ]
    },
    {
     "name": "stdout",
     "output_type": "stream",
     "text": [
      "0\n",
      "Recommended ID's: [1920.0, 78499.0, 3990.0, 60069.0, 2394.0]\n",
      "running training and testing for user 45\n",
      " --------------------------------------------\n",
      "importing datasets....\n",
      "selecting 30 simillar users...\n",
      "configuring movie formatting...\n",
      "creating the Graph...\n",
      "Staring training fo 30 iterations...\n"
     ]
    },
    {
     "name": "stderr",
     "output_type": "stream",
     "text": [
      "100%|███████████████████████████████████████████████████████████████████████████████████████████████████| 30/30 [00:00<00:00, 217.34it/s]\n"
     ]
    },
    {
     "name": "stdout",
     "output_type": "stream",
     "text": [
      "0\n",
      "Recommended ID's: [745.0, 2394.0, 1030.0, 1030.0, 4886.0]\n",
      "running training and testing for user 46\n",
      " --------------------------------------------\n",
      "importing datasets....\n",
      "selecting 30 simillar users...\n",
      "configuring movie formatting...\n",
      "creating the Graph...\n",
      "Staring training fo 30 iterations...\n"
     ]
    },
    {
     "name": "stderr",
     "output_type": "stream",
     "text": [
      "100%|███████████████████████████████████████████████████████████████████████████████████████████████████| 30/30 [00:00<00:00, 223.41it/s]\n"
     ]
    },
    {
     "name": "stdout",
     "output_type": "stream",
     "text": [
      "0\n",
      "Recommended ID's: [3990.0, 1030.0, 78499.0, 4886.0, 5999.0]\n",
      "running training and testing for user 47\n",
      " --------------------------------------------\n",
      "importing datasets....\n",
      "selecting 30 simillar users...\n",
      "configuring movie formatting...\n",
      "creating the Graph...\n",
      "Staring training fo 30 iterations...\n"
     ]
    },
    {
     "name": "stderr",
     "output_type": "stream",
     "text": [
      "100%|███████████████████████████████████████████████████████████████████████████████████████████████████| 30/30 [00:00<00:00, 226.33it/s]\n"
     ]
    },
    {
     "name": "stdout",
     "output_type": "stream",
     "text": [
      "0\n",
      "Recommended ID's: [2081.0, 78499.0, 3990.0, 2394.0, 60069.0]\n",
      "running training and testing for user 48\n",
      " --------------------------------------------\n",
      "importing datasets....\n",
      "selecting 30 simillar users...\n",
      "configuring movie formatting...\n",
      "creating the Graph...\n",
      "Staring training fo 30 iterations...\n"
     ]
    },
    {
     "name": "stderr",
     "output_type": "stream",
     "text": [
      "100%|███████████████████████████████████████████████████████████████████████████████████████████████████| 30/30 [00:00<00:00, 214.32it/s]\n"
     ]
    },
    {
     "name": "stdout",
     "output_type": "stream",
     "text": [
      "0\n",
      "Recommended ID's: [1274.0, 1274.0, 3990.0, 2394.0, 2761.0]\n",
      "running training and testing for user 49\n",
      " --------------------------------------------\n",
      "importing datasets....\n",
      "selecting 30 simillar users...\n",
      "configuring movie formatting...\n",
      "creating the Graph...\n",
      "Staring training fo 30 iterations...\n"
     ]
    },
    {
     "name": "stderr",
     "output_type": "stream",
     "text": [
      "100%|███████████████████████████████████████████████████████████████████████████████████████████████████| 30/30 [00:00<00:00, 225.06it/s]\n"
     ]
    },
    {
     "name": "stdout",
     "output_type": "stream",
     "text": [
      "0\n",
      "Recommended ID's: [1274.0, 3990.0, 5444.0, 1920.0, 1274.0]\n",
      "genre: Animation\n",
      "overall accuracy is 0.7000000000000001\n",
      "running training and testing for user 0\n",
      " --------------------------------------------\n",
      "importing datasets....\n",
      "selecting 30 simillar users...\n",
      "configuring movie formatting...\n",
      "creating the Graph...\n",
      "Staring training fo 30 iterations...\n"
     ]
    },
    {
     "name": "stderr",
     "output_type": "stream",
     "text": [
      "100%|███████████████████████████████████████████████████████████████████████████████████████████████████| 30/30 [00:00<00:00, 182.51it/s]\n"
     ]
    },
    {
     "name": "stdout",
     "output_type": "stream",
     "text": [
      "0\n",
      "Recommended ID's: [3988.0, 60069.0, 2017.0, 60069.0, 3213.0]\n",
      "running training and testing for user 1\n",
      " --------------------------------------------\n",
      "importing datasets....\n",
      "selecting 30 simillar users...\n",
      "configuring movie formatting...\n",
      "creating the Graph...\n",
      "Staring training fo 30 iterations...\n"
     ]
    },
    {
     "name": "stderr",
     "output_type": "stream",
     "text": [
      "100%|███████████████████████████████████████████████████████████████████████████████████████████████████| 30/30 [00:00<00:00, 184.95it/s]\n"
     ]
    },
    {
     "name": "stdout",
     "output_type": "stream",
     "text": [
      "0\n",
      "Recommended ID's: [3990.0, 6958.0, 2761.0, 60069.0, 3397.0]\n",
      "running training and testing for user 2\n",
      " --------------------------------------------\n",
      "importing datasets....\n",
      "selecting 30 simillar users...\n",
      "configuring movie formatting...\n",
      "creating the Graph...\n",
      "Staring training fo 30 iterations...\n"
     ]
    },
    {
     "name": "stderr",
     "output_type": "stream",
     "text": [
      "100%|███████████████████████████████████████████████████████████████████████████████████████████████████| 30/30 [00:00<00:00, 180.25it/s]\n"
     ]
    },
    {
     "name": "stdout",
     "output_type": "stream",
     "text": [
      "0\n",
      "Recommended ID's: [2294.0, 3988.0, 60069.0, 1920.0, 3990.0]\n",
      "running training and testing for user 3\n",
      " --------------------------------------------\n",
      "importing datasets....\n",
      "selecting 30 simillar users...\n",
      "configuring movie formatting...\n",
      "creating the Graph...\n",
      "Staring training fo 30 iterations...\n"
     ]
    },
    {
     "name": "stderr",
     "output_type": "stream",
     "text": [
      "100%|███████████████████████████████████████████████████████████████████████████████████████████████████| 30/30 [00:00<00:00, 201.89it/s]\n"
     ]
    },
    {
     "name": "stdout",
     "output_type": "stream",
     "text": [
      "0\n",
      "Recommended ID's: [2761.0, 5444.0, 4886.0, 3988.0, 60069.0]\n",
      "running training and testing for user 4\n",
      " --------------------------------------------\n",
      "importing datasets....\n",
      "selecting 30 simillar users...\n",
      "configuring movie formatting...\n",
      "creating the Graph...\n",
      "Staring training fo 30 iterations...\n"
     ]
    },
    {
     "name": "stderr",
     "output_type": "stream",
     "text": [
      "100%|███████████████████████████████████████████████████████████████████████████████████████████████████| 30/30 [00:00<00:00, 179.57it/s]\n"
     ]
    },
    {
     "name": "stdout",
     "output_type": "stream",
     "text": [
      "0\n",
      "Recommended ID's: [2097.0, 546.0, 546.0, 60069.0, 1920.0]\n",
      "running training and testing for user 5\n",
      " --------------------------------------------\n",
      "importing datasets....\n",
      "selecting 30 simillar users...\n",
      "configuring movie formatting...\n",
      "creating the Graph...\n",
      "Staring training fo 30 iterations...\n"
     ]
    },
    {
     "name": "stderr",
     "output_type": "stream",
     "text": [
      "100%|███████████████████████████████████████████████████████████████████████████████████████████████████| 30/30 [00:00<00:00, 190.51it/s]\n"
     ]
    },
    {
     "name": "stdout",
     "output_type": "stream",
     "text": [
      "0\n",
      "Recommended ID's: [1920.0, 6958.0, 30793.0, 1920.0, 3990.0]\n",
      "running training and testing for user 6\n",
      " --------------------------------------------\n",
      "importing datasets....\n",
      "selecting 30 simillar users...\n",
      "configuring movie formatting...\n",
      "creating the Graph...\n",
      "Staring training fo 30 iterations...\n"
     ]
    },
    {
     "name": "stderr",
     "output_type": "stream",
     "text": [
      "100%|███████████████████████████████████████████████████████████████████████████████████████████████████| 30/30 [00:00<00:00, 175.50it/s]\n"
     ]
    },
    {
     "name": "stdout",
     "output_type": "stream",
     "text": [
      "0\n",
      "Recommended ID's: [30793.0, 2038.0, 78499.0, 1474.0, 4306.0]\n",
      "running training and testing for user 7\n",
      " --------------------------------------------\n",
      "importing datasets....\n",
      "selecting 30 simillar users...\n",
      "configuring movie formatting...\n",
      "creating the Graph...\n",
      "Staring training fo 30 iterations...\n"
     ]
    },
    {
     "name": "stderr",
     "output_type": "stream",
     "text": [
      "100%|███████████████████████████████████████████████████████████████████████████████████████████████████| 30/30 [00:00<00:00, 191.90it/s]\n"
     ]
    },
    {
     "name": "stdout",
     "output_type": "stream",
     "text": [
      "0\n",
      "Recommended ID's: [1030.0, 2081.0, 4886.0, 30793.0, 8961.0]\n",
      "running training and testing for user 8\n",
      " --------------------------------------------\n",
      "importing datasets....\n",
      "selecting 30 simillar users...\n",
      "configuring movie formatting...\n",
      "creating the Graph...\n",
      "Staring training fo 30 iterations...\n"
     ]
    },
    {
     "name": "stderr",
     "output_type": "stream",
     "text": [
      "100%|███████████████████████████████████████████████████████████████████████████████████████████████████| 30/30 [00:00<00:00, 177.56it/s]\n"
     ]
    },
    {
     "name": "stdout",
     "output_type": "stream",
     "text": [
      "0\n",
      "Recommended ID's: [59784.0, 59784.0, 30793.0, 919.0, 3397.0]\n",
      "running training and testing for user 9\n",
      " --------------------------------------------\n",
      "importing datasets....\n",
      "selecting 30 simillar users...\n",
      "configuring movie formatting...\n",
      "creating the Graph...\n",
      "Staring training fo 30 iterations...\n"
     ]
    },
    {
     "name": "stderr",
     "output_type": "stream",
     "text": [
      "100%|███████████████████████████████████████████████████████████████████████████████████████████████████| 30/30 [00:00<00:00, 175.15it/s]\n"
     ]
    },
    {
     "name": "stdout",
     "output_type": "stream",
     "text": [
      "0\n",
      "Recommended ID's: [60069.0, 3213.0, 8360.0, 30793.0, 8961.0]\n",
      "running training and testing for user 10\n",
      " --------------------------------------------\n",
      "importing datasets....\n",
      "selecting 30 simillar users...\n",
      "configuring movie formatting...\n",
      "creating the Graph...\n",
      "Staring training fo 30 iterations...\n"
     ]
    },
    {
     "name": "stderr",
     "output_type": "stream",
     "text": [
      "100%|███████████████████████████████████████████████████████████████████████████████████████████████████| 30/30 [00:00<00:00, 182.55it/s]\n"
     ]
    },
    {
     "name": "stdout",
     "output_type": "stream",
     "text": [
      "0\n",
      "Recommended ID's: [59784.0, 1030.0, 2081.0, 30793.0, 2761.0]\n",
      "running training and testing for user 11\n",
      " --------------------------------------------\n",
      "importing datasets....\n",
      "selecting 30 simillar users...\n",
      "configuring movie formatting...\n",
      "creating the Graph...\n",
      "Staring training fo 30 iterations...\n"
     ]
    },
    {
     "name": "stderr",
     "output_type": "stream",
     "text": [
      "100%|███████████████████████████████████████████████████████████████████████████████████████████████████| 30/30 [00:00<00:00, 178.99it/s]\n"
     ]
    },
    {
     "name": "stdout",
     "output_type": "stream",
     "text": [
      "0\n",
      "Recommended ID's: [60069.0, 745.0, 2804.0, 2098.0, 59784.0]\n",
      "running training and testing for user 12\n",
      " --------------------------------------------\n",
      "importing datasets....\n",
      "selecting 30 simillar users...\n",
      "configuring movie formatting...\n",
      "creating the Graph...\n",
      "Staring training fo 30 iterations...\n"
     ]
    },
    {
     "name": "stderr",
     "output_type": "stream",
     "text": [
      "100%|███████████████████████████████████████████████████████████████████████████████████████████████████| 30/30 [00:00<00:00, 170.90it/s]\n"
     ]
    },
    {
     "name": "stdout",
     "output_type": "stream",
     "text": [
      "0\n",
      "Recommended ID's: [2761.0, 1474.0, 2804.0, 546.0, 5444.0]\n",
      "running training and testing for user 13\n",
      " --------------------------------------------\n",
      "importing datasets....\n",
      "selecting 30 simillar users...\n",
      "configuring movie formatting...\n",
      "creating the Graph...\n",
      "Staring training fo 30 iterations...\n"
     ]
    },
    {
     "name": "stderr",
     "output_type": "stream",
     "text": [
      "100%|███████████████████████████████████████████████████████████████████████████████████████████████████| 30/30 [00:00<00:00, 170.85it/s]\n"
     ]
    },
    {
     "name": "stdout",
     "output_type": "stream",
     "text": [
      "0\n",
      "Recommended ID's: [2038.0, 8961.0, 1474.0, 78499.0, 2081.0]\n",
      "running training and testing for user 14\n",
      " --------------------------------------------\n",
      "importing datasets....\n",
      "selecting 30 simillar users...\n",
      "configuring movie formatting...\n",
      "creating the Graph...\n",
      "Staring training fo 30 iterations...\n"
     ]
    },
    {
     "name": "stderr",
     "output_type": "stream",
     "text": [
      "100%|███████████████████████████████████████████████████████████████████████████████████████████████████| 30/30 [00:00<00:00, 191.26it/s]\n"
     ]
    },
    {
     "name": "stdout",
     "output_type": "stream",
     "text": [
      "0\n",
      "Recommended ID's: [60069.0, 3213.0, 546.0, 2804.0, 68954.0]\n",
      "running training and testing for user 15\n",
      " --------------------------------------------\n",
      "importing datasets....\n",
      "selecting 30 simillar users...\n",
      "configuring movie formatting...\n",
      "creating the Graph...\n",
      "Staring training fo 30 iterations...\n"
     ]
    },
    {
     "name": "stderr",
     "output_type": "stream",
     "text": [
      "100%|███████████████████████████████████████████████████████████████████████████████████████████████████| 30/30 [00:00<00:00, 178.30it/s]\n"
     ]
    },
    {
     "name": "stdout",
     "output_type": "stream",
     "text": [
      "0\n",
      "Recommended ID's: [60069.0, 60069.0, 745.0, 103335.0, 4306.0]\n",
      "running training and testing for user 16\n",
      " --------------------------------------------\n",
      "importing datasets....\n",
      "selecting 30 simillar users...\n",
      "configuring movie formatting...\n",
      "creating the Graph...\n",
      "Staring training fo 30 iterations...\n"
     ]
    },
    {
     "name": "stderr",
     "output_type": "stream",
     "text": [
      "100%|███████████████████████████████████████████████████████████████████████████████████████████████████| 30/30 [00:00<00:00, 202.41it/s]\n"
     ]
    },
    {
     "name": "stdout",
     "output_type": "stream",
     "text": [
      "0\n",
      "Recommended ID's: [3988.0, 2017.0, 60069.0, 6958.0, 59784.0]\n",
      "running training and testing for user 17\n",
      " --------------------------------------------\n",
      "importing datasets....\n",
      "selecting 30 simillar users...\n",
      "configuring movie formatting...\n",
      "creating the Graph...\n",
      "Staring training fo 30 iterations...\n"
     ]
    },
    {
     "name": "stderr",
     "output_type": "stream",
     "text": [
      "100%|███████████████████████████████████████████████████████████████████████████████████████████████████| 30/30 [00:00<00:00, 176.90it/s]\n"
     ]
    },
    {
     "name": "stdout",
     "output_type": "stream",
     "text": [
      "0\n",
      "Recommended ID's: [68954.0, 78499.0, 3988.0, 1474.0, 2804.0]\n",
      "running training and testing for user 18\n",
      " --------------------------------------------\n",
      "importing datasets....\n",
      "selecting 30 simillar users...\n",
      "configuring movie formatting...\n",
      "creating the Graph...\n",
      "Staring training fo 30 iterations...\n"
     ]
    },
    {
     "name": "stderr",
     "output_type": "stream",
     "text": [
      "100%|███████████████████████████████████████████████████████████████████████████████████████████████████| 30/30 [00:00<00:00, 180.22it/s]\n"
     ]
    },
    {
     "name": "stdout",
     "output_type": "stream",
     "text": [
      "0\n",
      "Recommended ID's: [2081.0, 5444.0, 2017.0, 3990.0, 78499.0]\n",
      "running training and testing for user 19\n",
      " --------------------------------------------\n",
      "importing datasets....\n",
      "selecting 30 simillar users...\n",
      "configuring movie formatting...\n",
      "creating the Graph...\n",
      "Staring training fo 30 iterations...\n"
     ]
    },
    {
     "name": "stderr",
     "output_type": "stream",
     "text": [
      "100%|███████████████████████████████████████████████████████████████████████████████████████████████████| 30/30 [00:00<00:00, 180.20it/s]\n"
     ]
    },
    {
     "name": "stdout",
     "output_type": "stream",
     "text": [
      "0\n",
      "Recommended ID's: [6958.0, 8360.0, 8360.0, 3397.0, 59784.0]\n",
      "running training and testing for user 20\n",
      " --------------------------------------------\n",
      "importing datasets....\n",
      "selecting 30 simillar users...\n",
      "configuring movie formatting...\n",
      "creating the Graph...\n",
      "Staring training fo 30 iterations...\n"
     ]
    },
    {
     "name": "stderr",
     "output_type": "stream",
     "text": [
      "100%|███████████████████████████████████████████████████████████████████████████████████████████████████| 30/30 [00:00<00:00, 182.23it/s]\n"
     ]
    },
    {
     "name": "stdout",
     "output_type": "stream",
     "text": [
      "0\n",
      "Recommended ID's: [1920.0, 8360.0, 5444.0, 78499.0, 3988.0]\n",
      "running training and testing for user 21\n",
      " --------------------------------------------\n",
      "importing datasets....\n",
      "selecting 30 simillar users...\n",
      "configuring movie formatting...\n",
      "creating the Graph...\n",
      "Staring training fo 30 iterations...\n"
     ]
    },
    {
     "name": "stderr",
     "output_type": "stream",
     "text": [
      "100%|███████████████████████████████████████████████████████████████████████████████████████████████████| 30/30 [00:00<00:00, 170.64it/s]\n"
     ]
    },
    {
     "name": "stdout",
     "output_type": "stream",
     "text": [
      "0\n",
      "Recommended ID's: [546.0, 8961.0, 919.0, 919.0, 30793.0]\n",
      "running training and testing for user 22\n",
      " --------------------------------------------\n",
      "importing datasets....\n",
      "selecting 30 simillar users...\n",
      "configuring movie formatting...\n",
      "creating the Graph...\n",
      "Staring training fo 30 iterations...\n"
     ]
    },
    {
     "name": "stderr",
     "output_type": "stream",
     "text": [
      "100%|███████████████████████████████████████████████████████████████████████████████████████████████████| 30/30 [00:00<00:00, 179.64it/s]\n"
     ]
    },
    {
     "name": "stdout",
     "output_type": "stream",
     "text": [
      "0\n",
      "Recommended ID's: [4306.0, 4306.0, 2294.0, 8961.0, 2081.0]\n",
      "running training and testing for user 23\n",
      " --------------------------------------------\n",
      "importing datasets....\n",
      "selecting 30 simillar users...\n",
      "configuring movie formatting...\n",
      "creating the Graph...\n",
      "Staring training fo 30 iterations...\n"
     ]
    },
    {
     "name": "stderr",
     "output_type": "stream",
     "text": [
      "100%|███████████████████████████████████████████████████████████████████████████████████████████████████| 30/30 [00:00<00:00, 181.41it/s]\n"
     ]
    },
    {
     "name": "stdout",
     "output_type": "stream",
     "text": [
      "0\n",
      "Recommended ID's: [8961.0, 1030.0, 30793.0, 103335.0, 2038.0]\n",
      "running training and testing for user 24\n",
      " --------------------------------------------\n",
      "importing datasets....\n",
      "selecting 30 simillar users...\n",
      "configuring movie formatting...\n",
      "creating the Graph...\n",
      "Staring training fo 30 iterations...\n"
     ]
    },
    {
     "name": "stderr",
     "output_type": "stream",
     "text": [
      "100%|███████████████████████████████████████████████████████████████████████████████████████████████████| 30/30 [00:00<00:00, 184.44it/s]\n"
     ]
    },
    {
     "name": "stdout",
     "output_type": "stream",
     "text": [
      "0\n",
      "Recommended ID's: [2081.0, 2081.0, 2081.0, 2038.0, 2097.0]\n",
      "running training and testing for user 25\n",
      " --------------------------------------------\n",
      "importing datasets....\n",
      "selecting 30 simillar users...\n",
      "configuring movie formatting...\n",
      "creating the Graph...\n",
      "Staring training fo 30 iterations...\n"
     ]
    },
    {
     "name": "stderr",
     "output_type": "stream",
     "text": [
      "100%|███████████████████████████████████████████████████████████████████████████████████████████████████| 30/30 [00:00<00:00, 178.55it/s]\n"
     ]
    },
    {
     "name": "stdout",
     "output_type": "stream",
     "text": [
      "0\n",
      "Recommended ID's: [78499.0, 4306.0, 8360.0, 2098.0, 2761.0]\n",
      "running training and testing for user 26\n",
      " --------------------------------------------\n",
      "importing datasets....\n",
      "selecting 30 simillar users...\n",
      "configuring movie formatting...\n",
      "creating the Graph...\n",
      "Staring training fo 30 iterations...\n"
     ]
    },
    {
     "name": "stderr",
     "output_type": "stream",
     "text": [
      "100%|███████████████████████████████████████████████████████████████████████████████████████████████████| 30/30 [00:00<00:00, 173.27it/s]\n"
     ]
    },
    {
     "name": "stdout",
     "output_type": "stream",
     "text": [
      "0\n",
      "Recommended ID's: [68954.0, 1920.0, 8961.0, 919.0, 60069.0]\n",
      "running training and testing for user 27\n",
      " --------------------------------------------\n",
      "importing datasets....\n",
      "selecting 30 simillar users...\n",
      "configuring movie formatting...\n",
      "creating the Graph...\n",
      "Staring training fo 30 iterations...\n"
     ]
    },
    {
     "name": "stderr",
     "output_type": "stream",
     "text": [
      "100%|███████████████████████████████████████████████████████████████████████████████████████████████████| 30/30 [00:00<00:00, 177.29it/s]\n"
     ]
    },
    {
     "name": "stdout",
     "output_type": "stream",
     "text": [
      "0\n",
      "Recommended ID's: [1474.0, 59784.0, 1030.0, 6958.0, 745.0]\n",
      "running training and testing for user 28\n",
      " --------------------------------------------\n",
      "importing datasets....\n",
      "selecting 30 simillar users...\n",
      "configuring movie formatting...\n",
      "creating the Graph...\n",
      "Staring training fo 30 iterations...\n"
     ]
    },
    {
     "name": "stderr",
     "output_type": "stream",
     "text": [
      "100%|███████████████████████████████████████████████████████████████████████████████████████████████████| 30/30 [00:00<00:00, 194.23it/s]\n"
     ]
    },
    {
     "name": "stdout",
     "output_type": "stream",
     "text": [
      "0\n",
      "Recommended ID's: [2804.0, 4306.0, 2097.0, 745.0, 103335.0]\n",
      "running training and testing for user 29\n",
      " --------------------------------------------\n",
      "importing datasets....\n",
      "selecting 30 simillar users...\n",
      "configuring movie formatting...\n",
      "creating the Graph...\n",
      "Staring training fo 30 iterations...\n"
     ]
    },
    {
     "name": "stderr",
     "output_type": "stream",
     "text": [
      "100%|███████████████████████████████████████████████████████████████████████████████████████████████████| 30/30 [00:00<00:00, 185.25it/s]\n"
     ]
    },
    {
     "name": "stdout",
     "output_type": "stream",
     "text": [
      "0\n",
      "Recommended ID's: [6958.0, 2294.0, 4886.0, 5444.0, 2081.0]\n",
      "running training and testing for user 30\n",
      " --------------------------------------------\n",
      "importing datasets....\n",
      "selecting 30 simillar users...\n",
      "configuring movie formatting...\n",
      "creating the Graph...\n",
      "Staring training fo 30 iterations...\n"
     ]
    },
    {
     "name": "stderr",
     "output_type": "stream",
     "text": [
      "100%|███████████████████████████████████████████████████████████████████████████████████████████████████| 30/30 [00:00<00:00, 185.96it/s]\n"
     ]
    },
    {
     "name": "stdout",
     "output_type": "stream",
     "text": [
      "0\n",
      "Recommended ID's: [60069.0, 5444.0, 30793.0, 103335.0, 2761.0]\n",
      "running training and testing for user 31\n",
      " --------------------------------------------\n",
      "importing datasets....\n",
      "selecting 30 simillar users...\n",
      "configuring movie formatting...\n",
      "creating the Graph...\n",
      "Staring training fo 30 iterations...\n"
     ]
    },
    {
     "name": "stderr",
     "output_type": "stream",
     "text": [
      "100%|███████████████████████████████████████████████████████████████████████████████████████████████████| 30/30 [00:00<00:00, 179.48it/s]\n"
     ]
    },
    {
     "name": "stdout",
     "output_type": "stream",
     "text": [
      "0\n",
      "Recommended ID's: [2038.0, 3988.0, 1920.0, 3397.0, 60069.0]\n",
      "running training and testing for user 32\n",
      " --------------------------------------------\n",
      "importing datasets....\n",
      "selecting 30 simillar users...\n",
      "configuring movie formatting...\n",
      "creating the Graph...\n",
      "Staring training fo 30 iterations...\n"
     ]
    },
    {
     "name": "stderr",
     "output_type": "stream",
     "text": [
      "100%|███████████████████████████████████████████████████████████████████████████████████████████████████| 30/30 [00:00<00:00, 171.12it/s]\n"
     ]
    },
    {
     "name": "stdout",
     "output_type": "stream",
     "text": [
      "0\n",
      "Recommended ID's: [103335.0, 59784.0, 59784.0, 5444.0, 30793.0]\n",
      "running training and testing for user 33\n",
      " --------------------------------------------\n",
      "importing datasets....\n",
      "selecting 30 simillar users...\n",
      "configuring movie formatting...\n",
      "creating the Graph...\n",
      "Staring training fo 30 iterations...\n"
     ]
    },
    {
     "name": "stderr",
     "output_type": "stream",
     "text": [
      "100%|███████████████████████████████████████████████████████████████████████████████████████████████████| 30/30 [00:00<00:00, 178.14it/s]\n"
     ]
    },
    {
     "name": "stdout",
     "output_type": "stream",
     "text": [
      "0\n",
      "Recommended ID's: [5444.0, 8360.0, 1920.0, 745.0, 546.0]\n",
      "running training and testing for user 34\n",
      " --------------------------------------------\n",
      "importing datasets....\n",
      "selecting 30 simillar users...\n",
      "configuring movie formatting...\n",
      "creating the Graph...\n",
      "Staring training fo 30 iterations...\n"
     ]
    },
    {
     "name": "stderr",
     "output_type": "stream",
     "text": [
      "100%|███████████████████████████████████████████████████████████████████████████████████████████████████| 30/30 [00:00<00:00, 170.28it/s]\n"
     ]
    },
    {
     "name": "stdout",
     "output_type": "stream",
     "text": [
      "0\n",
      "Recommended ID's: [2804.0, 60069.0, 3988.0, 4886.0, 60069.0]\n",
      "running training and testing for user 35\n",
      " --------------------------------------------\n",
      "importing datasets....\n",
      "selecting 30 simillar users...\n",
      "configuring movie formatting...\n",
      "creating the Graph...\n",
      "Staring training fo 30 iterations...\n"
     ]
    },
    {
     "name": "stderr",
     "output_type": "stream",
     "text": [
      "100%|███████████████████████████████████████████████████████████████████████████████████████████████████| 30/30 [00:00<00:00, 172.54it/s]\n"
     ]
    },
    {
     "name": "stdout",
     "output_type": "stream",
     "text": [
      "0\n",
      "Recommended ID's: [3213.0, 59784.0, 6958.0, 103335.0, 919.0]\n",
      "running training and testing for user 36\n",
      " --------------------------------------------\n",
      "importing datasets....\n",
      "selecting 30 simillar users...\n",
      "configuring movie formatting...\n",
      "creating the Graph...\n",
      "Staring training fo 30 iterations...\n"
     ]
    },
    {
     "name": "stderr",
     "output_type": "stream",
     "text": [
      "100%|███████████████████████████████████████████████████████████████████████████████████████████████████| 30/30 [00:00<00:00, 178.26it/s]\n"
     ]
    },
    {
     "name": "stdout",
     "output_type": "stream",
     "text": [
      "0\n",
      "Recommended ID's: [30793.0, 5444.0, 2804.0, 919.0, 6958.0]\n",
      "running training and testing for user 37\n",
      " --------------------------------------------\n",
      "importing datasets....\n",
      "selecting 30 simillar users...\n",
      "configuring movie formatting...\n",
      "creating the Graph...\n",
      "Staring training fo 30 iterations...\n"
     ]
    },
    {
     "name": "stderr",
     "output_type": "stream",
     "text": [
      "100%|███████████████████████████████████████████████████████████████████████████████████████████████████| 30/30 [00:00<00:00, 176.71it/s]\n"
     ]
    },
    {
     "name": "stdout",
     "output_type": "stream",
     "text": [
      "0\n",
      "Recommended ID's: [3213.0, 6958.0, 546.0, 78499.0, 2081.0]\n",
      "running training and testing for user 38\n",
      " --------------------------------------------\n",
      "importing datasets....\n",
      "selecting 30 simillar users...\n",
      "configuring movie formatting...\n",
      "creating the Graph...\n",
      "Staring training fo 30 iterations...\n"
     ]
    },
    {
     "name": "stderr",
     "output_type": "stream",
     "text": [
      "100%|███████████████████████████████████████████████████████████████████████████████████████████████████| 30/30 [00:00<00:00, 183.26it/s]\n"
     ]
    },
    {
     "name": "stdout",
     "output_type": "stream",
     "text": [
      "0\n",
      "Recommended ID's: [745.0, 4306.0, 1030.0, 6958.0, 3990.0]\n",
      "running training and testing for user 39\n",
      " --------------------------------------------\n",
      "importing datasets....\n",
      "selecting 30 simillar users...\n",
      "configuring movie formatting...\n",
      "creating the Graph...\n",
      "Staring training fo 30 iterations...\n"
     ]
    },
    {
     "name": "stderr",
     "output_type": "stream",
     "text": [
      "100%|███████████████████████████████████████████████████████████████████████████████████████████████████| 30/30 [00:00<00:00, 187.52it/s]\n"
     ]
    },
    {
     "name": "stdout",
     "output_type": "stream",
     "text": [
      "0\n",
      "Recommended ID's: [919.0, 2017.0, 6958.0, 8961.0, 78499.0]\n",
      "running training and testing for user 40\n",
      " --------------------------------------------\n",
      "importing datasets....\n",
      "selecting 30 simillar users...\n",
      "configuring movie formatting...\n",
      "creating the Graph...\n",
      "Staring training fo 30 iterations...\n"
     ]
    },
    {
     "name": "stderr",
     "output_type": "stream",
     "text": [
      "100%|███████████████████████████████████████████████████████████████████████████████████████████████████| 30/30 [00:00<00:00, 185.86it/s]\n"
     ]
    },
    {
     "name": "stdout",
     "output_type": "stream",
     "text": [
      "0\n",
      "Recommended ID's: [2804.0, 1920.0, 60069.0, 60069.0, 2761.0]\n",
      "running training and testing for user 41\n",
      " --------------------------------------------\n",
      "importing datasets....\n",
      "selecting 30 simillar users...\n",
      "configuring movie formatting...\n",
      "creating the Graph...\n",
      "Staring training fo 30 iterations...\n"
     ]
    },
    {
     "name": "stderr",
     "output_type": "stream",
     "text": [
      "100%|███████████████████████████████████████████████████████████████████████████████████████████████████| 30/30 [00:00<00:00, 183.66it/s]\n"
     ]
    },
    {
     "name": "stdout",
     "output_type": "stream",
     "text": [
      "0\n",
      "Recommended ID's: [68954.0, 5444.0, 8360.0, 1474.0, 4306.0]\n",
      "running training and testing for user 42\n",
      " --------------------------------------------\n",
      "importing datasets....\n",
      "selecting 30 simillar users...\n",
      "configuring movie formatting...\n",
      "creating the Graph...\n",
      "Staring training fo 30 iterations...\n"
     ]
    },
    {
     "name": "stderr",
     "output_type": "stream",
     "text": [
      "100%|███████████████████████████████████████████████████████████████████████████████████████████████████| 30/30 [00:00<00:00, 170.91it/s]\n"
     ]
    },
    {
     "name": "stdout",
     "output_type": "stream",
     "text": [
      "0\n",
      "Recommended ID's: [2097.0, 2017.0, 919.0, 3988.0, 745.0]\n",
      "running training and testing for user 43\n",
      " --------------------------------------------\n",
      "importing datasets....\n",
      "selecting 30 simillar users...\n",
      "configuring movie formatting...\n",
      "creating the Graph...\n",
      "Staring training fo 30 iterations...\n"
     ]
    },
    {
     "name": "stderr",
     "output_type": "stream",
     "text": [
      "100%|███████████████████████████████████████████████████████████████████████████████████████████████████| 30/30 [00:00<00:00, 174.97it/s]\n"
     ]
    },
    {
     "name": "stdout",
     "output_type": "stream",
     "text": [
      "0\n",
      "Recommended ID's: [103335.0, 30793.0, 3988.0, 2038.0, 919.0]\n",
      "running training and testing for user 44\n",
      " --------------------------------------------\n",
      "importing datasets....\n",
      "selecting 30 simillar users...\n",
      "configuring movie formatting...\n",
      "creating the Graph...\n",
      "Staring training fo 30 iterations...\n"
     ]
    },
    {
     "name": "stderr",
     "output_type": "stream",
     "text": [
      "100%|███████████████████████████████████████████████████████████████████████████████████████████████████| 30/30 [00:00<00:00, 193.82it/s]\n"
     ]
    },
    {
     "name": "stdout",
     "output_type": "stream",
     "text": [
      "0\n",
      "Recommended ID's: [78499.0, 546.0, 59784.0, 3988.0, 4886.0]\n",
      "running training and testing for user 45\n",
      " --------------------------------------------\n",
      "importing datasets....\n",
      "selecting 30 simillar users...\n",
      "configuring movie formatting...\n",
      "creating the Graph...\n",
      "Staring training fo 30 iterations...\n"
     ]
    },
    {
     "name": "stderr",
     "output_type": "stream",
     "text": [
      "100%|███████████████████████████████████████████████████████████████████████████████████████████████████| 30/30 [00:00<00:00, 178.72it/s]\n"
     ]
    },
    {
     "name": "stdout",
     "output_type": "stream",
     "text": [
      "0\n",
      "Recommended ID's: [2098.0, 3990.0, 59784.0, 1474.0, 2081.0]\n",
      "running training and testing for user 46\n",
      " --------------------------------------------\n",
      "importing datasets....\n",
      "selecting 30 simillar users...\n",
      "configuring movie formatting...\n",
      "creating the Graph...\n",
      "Staring training fo 30 iterations...\n"
     ]
    },
    {
     "name": "stderr",
     "output_type": "stream",
     "text": [
      "100%|███████████████████████████████████████████████████████████████████████████████████████████████████| 30/30 [00:00<00:00, 182.98it/s]\n"
     ]
    },
    {
     "name": "stdout",
     "output_type": "stream",
     "text": [
      "0\n",
      "Recommended ID's: [2038.0, 103335.0, 2081.0, 3213.0, 68954.0]\n",
      "running training and testing for user 47\n",
      " --------------------------------------------\n",
      "importing datasets....\n",
      "selecting 30 simillar users...\n",
      "configuring movie formatting...\n",
      "creating the Graph...\n",
      "Staring training fo 30 iterations...\n"
     ]
    },
    {
     "name": "stderr",
     "output_type": "stream",
     "text": [
      "100%|███████████████████████████████████████████████████████████████████████████████████████████████████| 30/30 [00:00<00:00, 194.11it/s]\n"
     ]
    },
    {
     "name": "stdout",
     "output_type": "stream",
     "text": [
      "0\n",
      "Recommended ID's: [2294.0, 3213.0, 4306.0, 2804.0, 2097.0]\n",
      "running training and testing for user 48\n",
      " --------------------------------------------\n",
      "importing datasets....\n",
      "selecting 30 simillar users...\n",
      "configuring movie formatting...\n",
      "creating the Graph...\n",
      "Staring training fo 30 iterations...\n"
     ]
    },
    {
     "name": "stderr",
     "output_type": "stream",
     "text": [
      "100%|███████████████████████████████████████████████████████████████████████████████████████████████████| 30/30 [00:00<00:00, 173.15it/s]\n"
     ]
    },
    {
     "name": "stdout",
     "output_type": "stream",
     "text": [
      "0\n",
      "Recommended ID's: [8961.0, 2804.0, 5444.0, 5444.0, 2017.0]\n",
      "running training and testing for user 49\n",
      " --------------------------------------------\n",
      "importing datasets....\n",
      "selecting 30 simillar users...\n",
      "configuring movie formatting...\n",
      "creating the Graph...\n",
      "Staring training fo 30 iterations...\n"
     ]
    },
    {
     "name": "stderr",
     "output_type": "stream",
     "text": [
      "100%|███████████████████████████████████████████████████████████████████████████████████████████████████| 30/30 [00:00<00:00, 182.29it/s]\n"
     ]
    },
    {
     "name": "stdout",
     "output_type": "stream",
     "text": [
      "0\n",
      "Recommended ID's: [2804.0, 1920.0, 919.0, 919.0, 3990.0]\n",
      "genre: Children\n",
      "overall accuracy is 0.788888888888889\n",
      "running training and testing for user 0\n",
      " --------------------------------------------\n",
      "importing datasets....\n",
      "selecting 30 simillar users...\n",
      "configuring movie formatting...\n",
      "creating the Graph...\n",
      "Staring training fo 30 iterations...\n"
     ]
    },
    {
     "name": "stderr",
     "output_type": "stream",
     "text": [
      "100%|████████████████████████████████████████████████████████████████████████████████████████████████████| 30/30 [00:00<00:00, 52.06it/s]\n"
     ]
    },
    {
     "name": "stdout",
     "output_type": "stream",
     "text": [
      "0\n",
      "Recommended ID's: [708.0, 54259.0, 745.0, 435.0, 485.0]\n",
      "running training and testing for user 1\n",
      " --------------------------------------------\n",
      "importing datasets....\n",
      "selecting 30 simillar users...\n",
      "configuring movie formatting...\n",
      "creating the Graph...\n",
      "Staring training fo 30 iterations...\n"
     ]
    },
    {
     "name": "stderr",
     "output_type": "stream",
     "text": [
      "100%|████████████████████████████████████████████████████████████████████████████████████████████████████| 30/30 [00:00<00:00, 51.67it/s]\n"
     ]
    },
    {
     "name": "stdout",
     "output_type": "stream",
     "text": [
      "0\n",
      "Recommended ID's: [4029.0, 2295.0, 7297.0, 2485.0, 1474.0]\n",
      "running training and testing for user 2\n",
      " --------------------------------------------\n",
      "importing datasets....\n",
      "selecting 30 simillar users...\n",
      "configuring movie formatting...\n",
      "creating the Graph...\n",
      "Staring training fo 30 iterations...\n"
     ]
    },
    {
     "name": "stderr",
     "output_type": "stream",
     "text": [
      "100%|████████████████████████████████████████████████████████████████████████████████████████████████████| 30/30 [00:00<00:00, 51.72it/s]\n"
     ]
    },
    {
     "name": "stdout",
     "output_type": "stream",
     "text": [
      "0\n",
      "Recommended ID's: [1292.0, 1278.0, 5075.0, 2791.0, 4428.0]\n",
      "running training and testing for user 3\n",
      " --------------------------------------------\n",
      "importing datasets....\n",
      "selecting 30 simillar users...\n",
      "configuring movie formatting...\n",
      "creating the Graph...\n",
      "Staring training fo 30 iterations...\n"
     ]
    },
    {
     "name": "stderr",
     "output_type": "stream",
     "text": [
      "100%|████████████████████████████████████████████████████████████████████████████████████████████████████| 30/30 [00:00<00:00, 53.04it/s]\n"
     ]
    },
    {
     "name": "stdout",
     "output_type": "stream",
     "text": [
      "0\n",
      "Recommended ID's: [3450.0, 4084.0, 8529.0, 6188.0, 3526.0]\n",
      "running training and testing for user 4\n",
      " --------------------------------------------\n",
      "importing datasets....\n",
      "selecting 30 simillar users...\n",
      "configuring movie formatting...\n",
      "creating the Graph...\n",
      "Staring training fo 30 iterations...\n"
     ]
    },
    {
     "name": "stderr",
     "output_type": "stream",
     "text": [
      "100%|████████████████████████████████████████████████████████████████████████████████████████████████████| 30/30 [00:00<00:00, 49.43it/s]\n"
     ]
    },
    {
     "name": "stdout",
     "output_type": "stream",
     "text": [
      "0\n",
      "Recommended ID's: [49396.0, 2038.0, 5694.0, 1527.0, 30793.0]\n",
      "running training and testing for user 5\n",
      " --------------------------------------------\n",
      "importing datasets....\n",
      "selecting 30 simillar users...\n",
      "configuring movie formatting...\n",
      "creating the Graph...\n",
      "Staring training fo 30 iterations...\n"
     ]
    },
    {
     "name": "stderr",
     "output_type": "stream",
     "text": [
      "100%|████████████████████████████████████████████████████████████████████████████████████████████████████| 30/30 [00:00<00:00, 52.21it/s]\n"
     ]
    },
    {
     "name": "stdout",
     "output_type": "stream",
     "text": [
      "0\n",
      "Recommended ID's: [485.0, 745.0, 6188.0, 2000.0, 4350.0]\n",
      "running training and testing for user 6\n",
      " --------------------------------------------\n",
      "importing datasets....\n",
      "selecting 30 simillar users...\n",
      "configuring movie formatting...\n",
      "creating the Graph...\n",
      "Staring training fo 30 iterations...\n"
     ]
    },
    {
     "name": "stderr",
     "output_type": "stream",
     "text": [
      "100%|████████████████████████████████████████████████████████████████████████████████████████████████████| 30/30 [00:00<00:00, 50.37it/s]\n"
     ]
    },
    {
     "name": "stdout",
     "output_type": "stream",
     "text": [
      "0\n",
      "Recommended ID's: [2012.0, 3526.0, 6373.0, 750.0, 6958.0]\n",
      "running training and testing for user 7\n",
      " --------------------------------------------\n",
      "importing datasets....\n",
      "selecting 30 simillar users...\n",
      "configuring movie formatting...\n",
      "creating the Graph...\n",
      "Staring training fo 30 iterations...\n"
     ]
    },
    {
     "name": "stderr",
     "output_type": "stream",
     "text": [
      "100%|████████████████████████████████████████████████████████████████████████████████████████████████████| 30/30 [00:00<00:00, 49.95it/s]\n"
     ]
    },
    {
     "name": "stdout",
     "output_type": "stream",
     "text": [
      "0\n",
      "Recommended ID's: [48560.0, 43744.0, 143859.0, 1639.0, 5693.0]\n",
      "running training and testing for user 8\n",
      " --------------------------------------------\n",
      "importing datasets....\n",
      "selecting 30 simillar users...\n",
      "configuring movie formatting...\n",
      "creating the Graph...\n",
      "Staring training fo 30 iterations...\n"
     ]
    },
    {
     "name": "stderr",
     "output_type": "stream",
     "text": [
      "100%|████████████████████████████████████████████████████████████████████████████████████████████████████| 30/30 [00:00<00:00, 49.61it/s]\n"
     ]
    },
    {
     "name": "stdout",
     "output_type": "stream",
     "text": [
      "0\n",
      "Recommended ID's: [4267.0, 3241.0, 1078.0, 5075.0, 3042.0]\n",
      "running training and testing for user 9\n",
      " --------------------------------------------\n",
      "importing datasets....\n",
      "selecting 30 simillar users...\n",
      "configuring movie formatting...\n",
      "creating the Graph...\n",
      "Staring training fo 30 iterations...\n"
     ]
    },
    {
     "name": "stderr",
     "output_type": "stream",
     "text": [
      "100%|████████████████████████████████████████████████████████████████████████████████████████████████████| 30/30 [00:00<00:00, 51.93it/s]\n"
     ]
    },
    {
     "name": "stdout",
     "output_type": "stream",
     "text": [
      "0\n",
      "Recommended ID's: [4350.0, 54259.0, 1278.0, 2716.0, 2248.0]\n",
      "running training and testing for user 10\n",
      " --------------------------------------------\n",
      "importing datasets....\n",
      "selecting 30 simillar users...\n",
      "configuring movie formatting...\n",
      "creating the Graph...\n",
      "Staring training fo 30 iterations...\n"
     ]
    },
    {
     "name": "stderr",
     "output_type": "stream",
     "text": [
      "100%|████████████████████████████████████████████████████████████████████████████████████████████████████| 30/30 [00:00<00:00, 54.41it/s]\n"
     ]
    },
    {
     "name": "stdout",
     "output_type": "stream",
     "text": [
      "0\n",
      "Recommended ID's: [2081.0, 122.0, 3858.0, 1078.0, 2012.0]\n",
      "running training and testing for user 11\n",
      " --------------------------------------------\n",
      "importing datasets....\n",
      "selecting 30 simillar users...\n",
      "configuring movie formatting...\n",
      "creating the Graph...\n",
      "Staring training fo 30 iterations...\n"
     ]
    },
    {
     "name": "stderr",
     "output_type": "stream",
     "text": [
      "100%|████████████████████████████████████████████████████████████████████████████████████████████████████| 30/30 [00:00<00:00, 52.12it/s]\n"
     ]
    },
    {
     "name": "stdout",
     "output_type": "stream",
     "text": [
      "0\n",
      "Recommended ID's: [5075.0, 186.0, 3948.0, 2012.0, 1746.0]\n",
      "running training and testing for user 12\n",
      " --------------------------------------------\n",
      "importing datasets....\n",
      "selecting 30 simillar users...\n",
      "configuring movie formatting...\n",
      "creating the Graph...\n",
      "Staring training fo 30 iterations...\n"
     ]
    },
    {
     "name": "stderr",
     "output_type": "stream",
     "text": [
      "100%|████████████████████████████████████████████████████████████████████████████████████████████████████| 30/30 [00:00<00:00, 51.50it/s]\n"
     ]
    },
    {
     "name": "stdout",
     "output_type": "stream",
     "text": [
      "0\n",
      "Recommended ID's: [122.0, 6373.0, 7707.0, 1777.0, 2098.0]\n",
      "running training and testing for user 13\n",
      " --------------------------------------------\n",
      "importing datasets....\n",
      "selecting 30 simillar users...\n",
      "configuring movie formatting...\n",
      "creating the Graph...\n",
      "Staring training fo 30 iterations...\n"
     ]
    },
    {
     "name": "stderr",
     "output_type": "stream",
     "text": [
      "100%|████████████████████████████████████████████████████████████████████████████████████████████████████| 30/30 [00:00<00:00, 51.21it/s]\n"
     ]
    },
    {
     "name": "stdout",
     "output_type": "stream",
     "text": [
      "0\n",
      "Recommended ID's: [4886.0, 708.0, 485.0, 4350.0, 1078.0]\n",
      "running training and testing for user 14\n",
      " --------------------------------------------\n",
      "importing datasets....\n",
      "selecting 30 simillar users...\n",
      "configuring movie formatting...\n",
      "creating the Graph...\n",
      "Staring training fo 30 iterations...\n"
     ]
    },
    {
     "name": "stderr",
     "output_type": "stream",
     "text": [
      "100%|████████████████████████████████████████████████████████████████████████████████████████████████████| 30/30 [00:00<00:00, 53.65it/s]\n"
     ]
    },
    {
     "name": "stdout",
     "output_type": "stream",
     "text": [
      "0\n",
      "Recommended ID's: [546.0, 4428.0, 7707.0, 3990.0, 597.0]\n",
      "running training and testing for user 15\n",
      " --------------------------------------------\n",
      "importing datasets....\n",
      "selecting 30 simillar users...\n",
      "configuring movie formatting...\n",
      "creating the Graph...\n",
      "Staring training fo 30 iterations...\n"
     ]
    },
    {
     "name": "stderr",
     "output_type": "stream",
     "text": [
      "100%|████████████████████████████████████████████████████████████████████████████████████████████████████| 30/30 [00:00<00:00, 50.81it/s]\n"
     ]
    },
    {
     "name": "stdout",
     "output_type": "stream",
     "text": [
      "0\n",
      "Recommended ID's: [3353.0, 49396.0, 112.0, 4040.0, 1285.0]\n",
      "running training and testing for user 16\n",
      " --------------------------------------------\n",
      "importing datasets....\n",
      "selecting 30 simillar users...\n",
      "configuring movie formatting...\n",
      "creating the Graph...\n",
      "Staring training fo 30 iterations...\n"
     ]
    },
    {
     "name": "stderr",
     "output_type": "stream",
     "text": [
      "100%|████████████████████████████████████████████████████████████████████████████████████████████████████| 30/30 [00:00<00:00, 52.71it/s]\n"
     ]
    },
    {
     "name": "stdout",
     "output_type": "stream",
     "text": [
      "0\n",
      "Recommended ID's: [8695.0, 2567.0, 5693.0, 2485.0, 4563.0]\n",
      "running training and testing for user 17\n",
      " --------------------------------------------\n",
      "importing datasets....\n",
      "selecting 30 simillar users...\n",
      "configuring movie formatting...\n",
      "creating the Graph...\n",
      "Staring training fo 30 iterations...\n"
     ]
    },
    {
     "name": "stderr",
     "output_type": "stream",
     "text": [
      "100%|████████████████████████████████████████████████████████████████████████████████████████████████████| 30/30 [00:00<00:00, 53.65it/s]\n"
     ]
    },
    {
     "name": "stdout",
     "output_type": "stream",
     "text": [
      "0\n",
      "Recommended ID's: [2100.0, 4886.0, 76293.0, 4306.0, 76293.0]\n",
      "running training and testing for user 18\n",
      " --------------------------------------------\n",
      "importing datasets....\n",
      "selecting 30 simillar users...\n",
      "configuring movie formatting...\n",
      "creating the Graph...\n",
      "Staring training fo 30 iterations...\n"
     ]
    },
    {
     "name": "stderr",
     "output_type": "stream",
     "text": [
      "100%|████████████████████████████████████████████████████████████████████████████████████████████████████| 30/30 [00:00<00:00, 51.28it/s]\n"
     ]
    },
    {
     "name": "stdout",
     "output_type": "stream",
     "text": [
      "0\n",
      "Recommended ID's: [7707.0, 587.0, 8695.0, 39.0, 122.0]\n",
      "running training and testing for user 19\n",
      " --------------------------------------------\n",
      "importing datasets....\n",
      "selecting 30 simillar users...\n",
      "configuring movie formatting...\n",
      "creating the Graph...\n",
      "Staring training fo 30 iterations...\n"
     ]
    },
    {
     "name": "stderr",
     "output_type": "stream",
     "text": [
      "100%|████████████████████████████████████████████████████████████████████████████████████████████████████| 30/30 [00:00<00:00, 51.85it/s]\n"
     ]
    },
    {
     "name": "stdout",
     "output_type": "stream",
     "text": [
      "0\n",
      "Recommended ID's: [6958.0, 57669.0, 168144.0, 6373.0, 750.0]\n",
      "running training and testing for user 20\n",
      " --------------------------------------------\n",
      "importing datasets....\n",
      "selecting 30 simillar users...\n",
      "configuring movie formatting...\n",
      "creating the Graph...\n",
      "Staring training fo 30 iterations...\n"
     ]
    },
    {
     "name": "stderr",
     "output_type": "stream",
     "text": [
      "100%|████████████████████████████████████████████████████████████████████████████████████████████████████| 30/30 [00:00<00:00, 50.93it/s]\n"
     ]
    },
    {
     "name": "stdout",
     "output_type": "stream",
     "text": [
      "0\n",
      "Recommended ID's: [43744.0, 8360.0, 5075.0, 4306.0, 597.0]\n",
      "running training and testing for user 21\n",
      " --------------------------------------------\n",
      "importing datasets....\n",
      "selecting 30 simillar users...\n",
      "configuring movie formatting...\n",
      "creating the Graph...\n",
      "Staring training fo 30 iterations...\n"
     ]
    },
    {
     "name": "stderr",
     "output_type": "stream",
     "text": [
      "100%|████████████████████████████████████████████████████████████████████████████████████████████████████| 30/30 [00:00<00:00, 52.10it/s]\n"
     ]
    },
    {
     "name": "stdout",
     "output_type": "stream",
     "text": [
      "0\n",
      "Recommended ID's: [168144.0, 4350.0, 2295.0, 4563.0, 4029.0]\n",
      "running training and testing for user 22\n",
      " --------------------------------------------\n",
      "importing datasets....\n",
      "selecting 30 simillar users...\n",
      "configuring movie formatting...\n",
      "creating the Graph...\n",
      "Staring training fo 30 iterations...\n"
     ]
    },
    {
     "name": "stderr",
     "output_type": "stream",
     "text": [
      "100%|████████████████████████████████████████████████████████████████████████████████████████████████████| 30/30 [00:00<00:00, 49.54it/s]\n"
     ]
    },
    {
     "name": "stdout",
     "output_type": "stream",
     "text": [
      "0\n",
      "Recommended ID's: [435.0, 8695.0, 1285.0, 39.0, 186.0]\n",
      "running training and testing for user 23\n",
      " --------------------------------------------\n",
      "importing datasets....\n",
      "selecting 30 simillar users...\n",
      "configuring movie formatting...\n",
      "creating the Graph...\n",
      "Staring training fo 30 iterations...\n"
     ]
    },
    {
     "name": "stderr",
     "output_type": "stream",
     "text": [
      "100%|████████████████████████████████████████████████████████████████████████████████████████████████████| 30/30 [00:00<00:00, 49.93it/s]\n"
     ]
    },
    {
     "name": "stdout",
     "output_type": "stream",
     "text": [
      "0\n",
      "Recommended ID's: [708.0, 1300.0, 4428.0, 2038.0, 168144.0]\n",
      "running training and testing for user 24\n",
      " --------------------------------------------\n",
      "importing datasets....\n",
      "selecting 30 simillar users...\n",
      "configuring movie formatting...\n",
      "creating the Graph...\n",
      "Staring training fo 30 iterations...\n"
     ]
    },
    {
     "name": "stderr",
     "output_type": "stream",
     "text": [
      "100%|████████████████████████████████████████████████████████████████████████████████████████████████████| 30/30 [00:00<00:00, 51.29it/s]\n"
     ]
    },
    {
     "name": "stdout",
     "output_type": "stream",
     "text": [
      "0\n",
      "Recommended ID's: [1126.0, 6958.0, 8360.0, 5693.0, 4728.0]\n",
      "running training and testing for user 25\n",
      " --------------------------------------------\n",
      "importing datasets....\n",
      "selecting 30 simillar users...\n",
      "configuring movie formatting...\n",
      "creating the Graph...\n",
      "Staring training fo 30 iterations...\n"
     ]
    },
    {
     "name": "stderr",
     "output_type": "stream",
     "text": [
      "100%|████████████████████████████████████████████████████████████████████████████████████████████████████| 30/30 [00:00<00:00, 51.96it/s]\n"
     ]
    },
    {
     "name": "stdout",
     "output_type": "stream",
     "text": [
      "0\n",
      "Recommended ID's: [597.0, 4084.0, 2683.0, 1474.0, 6373.0]\n",
      "running training and testing for user 26\n",
      " --------------------------------------------\n",
      "importing datasets....\n",
      "selecting 30 simillar users...\n",
      "configuring movie formatting...\n",
      "creating the Graph...\n",
      "Staring training fo 30 iterations...\n"
     ]
    },
    {
     "name": "stderr",
     "output_type": "stream",
     "text": [
      "100%|████████████████████████████████████████████████████████████████████████████████████████████████████| 30/30 [00:00<00:00, 52.28it/s]\n"
     ]
    },
    {
     "name": "stdout",
     "output_type": "stream",
     "text": [
      "0\n",
      "Recommended ID's: [112.0, 750.0, 2791.0, 1527.0, 3948.0]\n",
      "running training and testing for user 27\n",
      " --------------------------------------------\n",
      "importing datasets....\n",
      "selecting 30 simillar users...\n",
      "configuring movie formatting...\n",
      "creating the Graph...\n",
      "Staring training fo 30 iterations...\n"
     ]
    },
    {
     "name": "stderr",
     "output_type": "stream",
     "text": [
      "100%|████████████████████████████████████████████████████████████████████████████████████████████████████| 30/30 [00:00<00:00, 49.43it/s]\n"
     ]
    },
    {
     "name": "stdout",
     "output_type": "stream",
     "text": [
      "0\n",
      "Recommended ID's: [3450.0, 485.0, 2000.0, 750.0, 8695.0]\n",
      "running training and testing for user 28\n",
      " --------------------------------------------\n",
      "importing datasets....\n",
      "selecting 30 simillar users...\n",
      "configuring movie formatting...\n",
      "creating the Graph...\n",
      "Staring training fo 30 iterations...\n"
     ]
    },
    {
     "name": "stderr",
     "output_type": "stream",
     "text": [
      "100%|████████████████████████████████████████████████████████████████████████████████████████████████████| 30/30 [00:00<00:00, 52.03it/s]\n"
     ]
    },
    {
     "name": "stdout",
     "output_type": "stream",
     "text": [
      "0\n",
      "Recommended ID's: [4428.0, 6763.0, 4886.0, 5617.0, 2081.0]\n",
      "running training and testing for user 29\n",
      " --------------------------------------------\n",
      "importing datasets....\n",
      "selecting 30 simillar users...\n",
      "configuring movie formatting...\n",
      "creating the Graph...\n",
      "Staring training fo 30 iterations...\n"
     ]
    },
    {
     "name": "stderr",
     "output_type": "stream",
     "text": [
      "100%|████████████████████████████████████████████████████████████████████████████████████████████████████| 30/30 [00:00<00:00, 54.12it/s]\n"
     ]
    },
    {
     "name": "stdout",
     "output_type": "stream",
     "text": [
      "0\n",
      "Recommended ID's: [485.0, 2081.0, 6763.0, 745.0, 4040.0]\n",
      "running training and testing for user 30\n",
      " --------------------------------------------\n",
      "importing datasets....\n",
      "selecting 30 simillar users...\n",
      "configuring movie formatting...\n",
      "creating the Graph...\n",
      "Staring training fo 30 iterations...\n"
     ]
    },
    {
     "name": "stderr",
     "output_type": "stream",
     "text": [
      "100%|████████████████████████████████████████████████████████████████████████████████████████████████████| 30/30 [00:00<00:00, 49.20it/s]\n"
     ]
    },
    {
     "name": "stdout",
     "output_type": "stream",
     "text": [
      "0\n",
      "Recommended ID's: [6286.0, 2081.0, 37729.0, 4040.0, 3990.0]\n",
      "running training and testing for user 31\n",
      " --------------------------------------------\n",
      "importing datasets....\n",
      "selecting 30 simillar users...\n",
      "configuring movie formatting...\n",
      "creating the Graph...\n",
      "Staring training fo 30 iterations...\n"
     ]
    },
    {
     "name": "stderr",
     "output_type": "stream",
     "text": [
      "100%|████████████████████████████████████████████████████████████████████████████████████████████████████| 30/30 [00:00<00:00, 47.94it/s]\n"
     ]
    },
    {
     "name": "stdout",
     "output_type": "stream",
     "text": [
      "0\n",
      "Recommended ID's: [54259.0, 1078.0, 2259.0, 168144.0, 2567.0]\n",
      "running training and testing for user 32\n",
      " --------------------------------------------\n",
      "importing datasets....\n",
      "selecting 30 simillar users...\n",
      "configuring movie formatting...\n",
      "creating the Graph...\n",
      "Staring training fo 30 iterations...\n"
     ]
    },
    {
     "name": "stderr",
     "output_type": "stream",
     "text": [
      "100%|████████████████████████████████████████████████████████████████████████████████████████████████████| 30/30 [00:00<00:00, 50.04it/s]\n"
     ]
    },
    {
     "name": "stdout",
     "output_type": "stream",
     "text": [
      "0\n",
      "Recommended ID's: [2485.0, 3794.0, 708.0, 2794.0, 1257.0]\n",
      "running training and testing for user 33\n",
      " --------------------------------------------\n",
      "importing datasets....\n",
      "selecting 30 simillar users...\n",
      "configuring movie formatting...\n",
      "creating the Graph...\n",
      "Staring training fo 30 iterations...\n"
     ]
    },
    {
     "name": "stderr",
     "output_type": "stream",
     "text": [
      "100%|████████████████████████████████████████████████████████████████████████████████████████████████████| 30/30 [00:00<00:00, 51.86it/s]\n"
     ]
    },
    {
     "name": "stdout",
     "output_type": "stream",
     "text": [
      "0\n",
      "Recommended ID's: [6686.0, 112.0, 750.0, 5694.0, 6958.0]\n",
      "running training and testing for user 34\n",
      " --------------------------------------------\n",
      "importing datasets....\n",
      "selecting 30 simillar users...\n",
      "configuring movie formatting...\n",
      "creating the Graph...\n",
      "Staring training fo 30 iterations...\n"
     ]
    },
    {
     "name": "stderr",
     "output_type": "stream",
     "text": [
      "100%|████████████████████████████████████████████████████████████████████████████████████████████████████| 30/30 [00:00<00:00, 51.45it/s]\n"
     ]
    },
    {
     "name": "stdout",
     "output_type": "stream",
     "text": [
      "0\n",
      "Recommended ID's: [2804.0, 3526.0, 76293.0, 4029.0, 1257.0]\n",
      "running training and testing for user 35\n",
      " --------------------------------------------\n",
      "importing datasets....\n",
      "selecting 30 simillar users...\n",
      "configuring movie formatting...\n",
      "creating the Graph...\n",
      "Staring training fo 30 iterations...\n"
     ]
    },
    {
     "name": "stderr",
     "output_type": "stream",
     "text": [
      "100%|████████████████████████████████████████████████████████████████████████████████████████████████████| 30/30 [00:00<00:00, 48.97it/s]\n"
     ]
    },
    {
     "name": "stdout",
     "output_type": "stream",
     "text": [
      "0\n",
      "Recommended ID's: [3988.0, 1527.0, 8961.0, 8961.0, 103335.0]\n",
      "running training and testing for user 36\n",
      " --------------------------------------------\n",
      "importing datasets....\n",
      "selecting 30 simillar users...\n",
      "configuring movie formatting...\n",
      "creating the Graph...\n",
      "Staring training fo 30 iterations...\n"
     ]
    },
    {
     "name": "stderr",
     "output_type": "stream",
     "text": [
      "100%|████████████████████████████████████████████████████████████████████████████████████████████████████| 30/30 [00:00<00:00, 51.47it/s]\n"
     ]
    },
    {
     "name": "stdout",
     "output_type": "stream",
     "text": [
      "0\n",
      "Recommended ID's: [4306.0, 3052.0, 3042.0, 1474.0, 4350.0]\n",
      "running training and testing for user 37\n",
      " --------------------------------------------\n",
      "importing datasets....\n",
      "selecting 30 simillar users...\n",
      "configuring movie formatting...\n",
      "creating the Graph...\n",
      "Staring training fo 30 iterations...\n"
     ]
    },
    {
     "name": "stderr",
     "output_type": "stream",
     "text": [
      "100%|████████████████████████████████████████████████████████████████████████████████████████████████████| 30/30 [00:00<00:00, 49.63it/s]\n"
     ]
    },
    {
     "name": "stdout",
     "output_type": "stream",
     "text": [
      "0\n",
      "Recommended ID's: [57669.0, 2000.0, 8695.0, 186.0, 3988.0]\n",
      "running training and testing for user 38\n",
      " --------------------------------------------\n",
      "importing datasets....\n",
      "selecting 30 simillar users...\n",
      "configuring movie formatting...\n",
      "creating the Graph...\n",
      "Staring training fo 30 iterations...\n"
     ]
    },
    {
     "name": "stderr",
     "output_type": "stream",
     "text": [
      "100%|████████████████████████████████████████████████████████████████████████████████████████████████████| 30/30 [00:00<00:00, 49.64it/s]\n"
     ]
    },
    {
     "name": "stdout",
     "output_type": "stream",
     "text": [
      "0\n",
      "Recommended ID's: [122.0, 3858.0, 2485.0, 2485.0, 7707.0]\n",
      "running training and testing for user 39\n",
      " --------------------------------------------\n",
      "importing datasets....\n",
      "selecting 30 simillar users...\n",
      "configuring movie formatting...\n",
      "creating the Graph...\n",
      "Staring training fo 30 iterations...\n"
     ]
    },
    {
     "name": "stderr",
     "output_type": "stream",
     "text": [
      "100%|████████████████████████████████████████████████████████████████████████████████████████████████████| 30/30 [00:00<00:00, 53.21it/s]\n"
     ]
    },
    {
     "name": "stdout",
     "output_type": "stream",
     "text": [
      "0\n",
      "Recommended ID's: [37729.0, 6992.0, 3253.0, 546.0, 2248.0]\n",
      "running training and testing for user 40\n",
      " --------------------------------------------\n",
      "importing datasets....\n",
      "selecting 30 simillar users...\n",
      "configuring movie formatting...\n",
      "creating the Graph...\n",
      "Staring training fo 30 iterations...\n"
     ]
    },
    {
     "name": "stderr",
     "output_type": "stream",
     "text": [
      "100%|████████████████████████████████████████████████████████████████████████████████████████████████████| 30/30 [00:00<00:00, 50.43it/s]\n"
     ]
    },
    {
     "name": "stdout",
     "output_type": "stream",
     "text": [
      "0\n",
      "Recommended ID's: [583.0, 6992.0, 2100.0, 1746.0, 5693.0]\n",
      "running training and testing for user 41\n",
      " --------------------------------------------\n",
      "importing datasets....\n",
      "selecting 30 simillar users...\n",
      "configuring movie formatting...\n",
      "creating the Graph...\n",
      "Staring training fo 30 iterations...\n"
     ]
    },
    {
     "name": "stderr",
     "output_type": "stream",
     "text": [
      "100%|████████████████████████████████████████████████████████████████████████████████████████████████████| 30/30 [00:00<00:00, 50.05it/s]\n"
     ]
    },
    {
     "name": "stdout",
     "output_type": "stream",
     "text": [
      "0\n",
      "Recommended ID's: [4428.0, 2038.0, 3253.0, 3253.0, 1639.0]\n",
      "running training and testing for user 42\n",
      " --------------------------------------------\n",
      "importing datasets....\n",
      "selecting 30 simillar users...\n",
      "configuring movie formatting...\n",
      "creating the Graph...\n",
      "Staring training fo 30 iterations...\n"
     ]
    },
    {
     "name": "stderr",
     "output_type": "stream",
     "text": [
      "100%|████████████████████████████████████████████████████████████████████████████████████████████████████| 30/30 [00:00<00:00, 49.14it/s]\n"
     ]
    },
    {
     "name": "stdout",
     "output_type": "stream",
     "text": [
      "0\n",
      "Recommended ID's: [4040.0, 3397.0, 583.0, 8529.0, 3353.0]\n",
      "running training and testing for user 43\n",
      " --------------------------------------------\n",
      "importing datasets....\n",
      "selecting 30 simillar users...\n",
      "configuring movie formatting...\n",
      "creating the Graph...\n",
      "Staring training fo 30 iterations...\n"
     ]
    },
    {
     "name": "stderr",
     "output_type": "stream",
     "text": [
      "100%|████████████████████████████████████████████████████████████████████████████████████████████████████| 30/30 [00:00<00:00, 50.04it/s]\n"
     ]
    },
    {
     "name": "stdout",
     "output_type": "stream",
     "text": [
      "0\n",
      "Recommended ID's: [3858.0, 1126.0, 3052.0, 6958.0, 2100.0]\n",
      "running training and testing for user 44\n",
      " --------------------------------------------\n",
      "importing datasets....\n",
      "selecting 30 simillar users...\n",
      "configuring movie formatting...\n",
      "creating the Graph...\n",
      "Staring training fo 30 iterations...\n"
     ]
    },
    {
     "name": "stderr",
     "output_type": "stream",
     "text": [
      "100%|████████████████████████████████████████████████████████████████████████████████████████████████████| 30/30 [00:00<00:00, 52.43it/s]\n"
     ]
    },
    {
     "name": "stdout",
     "output_type": "stream",
     "text": [
      "0\n",
      "Recommended ID's: [546.0, 6958.0, 112.0, 2791.0, 2248.0]\n",
      "running training and testing for user 45\n",
      " --------------------------------------------\n",
      "importing datasets....\n",
      "selecting 30 simillar users...\n",
      "configuring movie formatting...\n",
      "creating the Graph...\n",
      "Staring training fo 30 iterations...\n"
     ]
    },
    {
     "name": "stderr",
     "output_type": "stream",
     "text": [
      "100%|████████████████████████████████████████████████████████████████████████████████████████████████████| 30/30 [00:00<00:00, 51.40it/s]\n"
     ]
    },
    {
     "name": "stdout",
     "output_type": "stream",
     "text": [
      "0\n",
      "Recommended ID's: [2567.0, 1527.0, 3526.0, 2716.0, 2012.0]\n",
      "running training and testing for user 46\n",
      " --------------------------------------------\n",
      "importing datasets....\n",
      "selecting 30 simillar users...\n",
      "configuring movie formatting...\n",
      "creating the Graph...\n",
      "Staring training fo 30 iterations...\n"
     ]
    },
    {
     "name": "stderr",
     "output_type": "stream",
     "text": [
      "100%|████████████████████████████████████████████████████████████████████████████████████████████████████| 30/30 [00:00<00:00, 51.88it/s]\n"
     ]
    },
    {
     "name": "stdout",
     "output_type": "stream",
     "text": [
      "0\n",
      "Recommended ID's: [4428.0, 1292.0, 1639.0, 3990.0, 1269.0]\n",
      "running training and testing for user 47\n",
      " --------------------------------------------\n",
      "importing datasets....\n",
      "selecting 30 simillar users...\n",
      "configuring movie formatting...\n",
      "creating the Graph...\n",
      "Staring training fo 30 iterations...\n"
     ]
    },
    {
     "name": "stderr",
     "output_type": "stream",
     "text": [
      "100%|████████████████████████████████████████████████████████████████████████████████████████████████████| 30/30 [00:00<00:00, 51.54it/s]\n"
     ]
    },
    {
     "name": "stdout",
     "output_type": "stream",
     "text": [
      "0\n",
      "Recommended ID's: [122.0, 57669.0, 2081.0, 103335.0, 1777.0]\n",
      "running training and testing for user 48\n",
      " --------------------------------------------\n",
      "importing datasets....\n",
      "selecting 30 simillar users...\n",
      "configuring movie formatting...\n",
      "creating the Graph...\n",
      "Staring training fo 30 iterations...\n"
     ]
    },
    {
     "name": "stderr",
     "output_type": "stream",
     "text": [
      "100%|████████████████████████████████████████████████████████████████████████████████████████████████████| 30/30 [00:00<00:00, 48.37it/s]\n"
     ]
    },
    {
     "name": "stdout",
     "output_type": "stream",
     "text": [
      "0\n",
      "Recommended ID's: [1527.0, 122.0, 2567.0, 2791.0, 587.0]\n",
      "running training and testing for user 49\n",
      " --------------------------------------------\n",
      "importing datasets....\n",
      "selecting 30 simillar users...\n",
      "configuring movie formatting...\n",
      "creating the Graph...\n",
      "Staring training fo 30 iterations...\n"
     ]
    },
    {
     "name": "stderr",
     "output_type": "stream",
     "text": [
      "100%|████████████████████████████████████████████████████████████████████████████████████████████████████| 30/30 [00:00<00:00, 50.28it/s]\n"
     ]
    },
    {
     "name": "stdout",
     "output_type": "stream",
     "text": [
      "0\n",
      "Recommended ID's: [112.0, 2599.0, 1300.0, 4428.0, 2683.0]\n",
      "genre: Comedy\n",
      "overall accuracy is 0.66\n",
      "running training and testing for user 0\n",
      " --------------------------------------------\n",
      "importing datasets....\n",
      "selecting 30 simillar users...\n",
      "configuring movie formatting...\n",
      "creating the Graph...\n",
      "Staring training fo 30 iterations...\n"
     ]
    },
    {
     "name": "stderr",
     "output_type": "stream",
     "text": [
      "100%|███████████████████████████████████████████████████████████████████████████████████████████████████| 30/30 [00:00<00:00, 178.31it/s]\n"
     ]
    },
    {
     "name": "stdout",
     "output_type": "stream",
     "text": [
      "0\n",
      "Recommended ID's: [2017.0, 78499.0, 485.0, 587.0, 1464.0]\n",
      "running training and testing for user 1\n",
      " --------------------------------------------\n",
      "importing datasets....\n",
      "selecting 30 simillar users...\n",
      "configuring movie formatting...\n",
      "creating the Graph...\n",
      "Staring training fo 30 iterations...\n"
     ]
    },
    {
     "name": "stderr",
     "output_type": "stream",
     "text": [
      "100%|███████████████████████████████████████████████████████████████████████████████████████████████████| 30/30 [00:00<00:00, 170.20it/s]\n"
     ]
    },
    {
     "name": "stdout",
     "output_type": "stream",
     "text": [
      "0\n",
      "Recommended ID's: [1920.0, 2291.0, 78499.0, 182823.0, 5040.0]\n",
      "running training and testing for user 2\n",
      " --------------------------------------------\n",
      "importing datasets....\n",
      "selecting 30 simillar users...\n",
      "configuring movie formatting...\n",
      "creating the Graph...\n",
      "Staring training fo 30 iterations...\n"
     ]
    },
    {
     "name": "stderr",
     "output_type": "stream",
     "text": [
      "100%|███████████████████████████████████████████████████████████████████████████████████████████████████| 30/30 [00:00<00:00, 170.30it/s]\n"
     ]
    },
    {
     "name": "stdout",
     "output_type": "stream",
     "text": [
      "0\n",
      "Recommended ID's: [2097.0, 37729.0, 5065.0, 485.0, 5065.0]\n",
      "running training and testing for user 3\n",
      " --------------------------------------------\n",
      "importing datasets....\n",
      "selecting 30 simillar users...\n",
      "configuring movie formatting...\n",
      "creating the Graph...\n",
      "Staring training fo 30 iterations...\n"
     ]
    },
    {
     "name": "stderr",
     "output_type": "stream",
     "text": [
      "100%|███████████████████████████████████████████████████████████████████████████████████████████████████| 30/30 [00:00<00:00, 164.07it/s]\n"
     ]
    },
    {
     "name": "stdout",
     "output_type": "stream",
     "text": [
      "0\n",
      "Recommended ID's: [1278.0, 54259.0, 485.0, 919.0, 2291.0]\n",
      "running training and testing for user 4\n",
      " --------------------------------------------\n",
      "importing datasets....\n",
      "selecting 30 simillar users...\n",
      "configuring movie formatting...\n",
      "creating the Graph...\n",
      "Staring training fo 30 iterations...\n"
     ]
    },
    {
     "name": "stderr",
     "output_type": "stream",
     "text": [
      "100%|███████████████████████████████████████████████████████████████████████████████████████████████████| 30/30 [00:00<00:00, 132.29it/s]\n"
     ]
    },
    {
     "name": "stdout",
     "output_type": "stream",
     "text": [
      "0\n",
      "Recommended ID's: [6686.0, 1126.0, 5999.0, 37729.0, 4886.0]\n",
      "running training and testing for user 5\n",
      " --------------------------------------------\n",
      "importing datasets....\n",
      "selecting 30 simillar users...\n",
      "configuring movie formatting...\n",
      "creating the Graph...\n",
      "Staring training fo 30 iterations...\n"
     ]
    },
    {
     "name": "stderr",
     "output_type": "stream",
     "text": [
      "100%|███████████████████████████████████████████████████████████████████████████████████████████████████| 30/30 [00:00<00:00, 170.25it/s]\n"
     ]
    },
    {
     "name": "stdout",
     "output_type": "stream",
     "text": [
      "0\n",
      "Recommended ID's: [5065.0, 2100.0, 30793.0, 546.0, 45722.0]\n",
      "running training and testing for user 6\n",
      " --------------------------------------------\n",
      "importing datasets....\n",
      "selecting 30 simillar users...\n",
      "configuring movie formatting...\n",
      "creating the Graph...\n",
      "Staring training fo 30 iterations...\n"
     ]
    },
    {
     "name": "stderr",
     "output_type": "stream",
     "text": [
      "100%|███████████████████████████████████████████████████████████████████████████████████████████████████| 30/30 [00:00<00:00, 171.45it/s]\n"
     ]
    },
    {
     "name": "stdout",
     "output_type": "stream",
     "text": [
      "0\n",
      "Recommended ID's: [78499.0, 30793.0, 78499.0, 5999.0, 546.0]\n",
      "running training and testing for user 7\n",
      " --------------------------------------------\n",
      "importing datasets....\n",
      "selecting 30 simillar users...\n",
      "configuring movie formatting...\n",
      "creating the Graph...\n",
      "Staring training fo 30 iterations...\n"
     ]
    },
    {
     "name": "stderr",
     "output_type": "stream",
     "text": [
      "100%|███████████████████████████████████████████████████████████████████████████████████████████████████| 30/30 [00:00<00:00, 162.78it/s]\n"
     ]
    },
    {
     "name": "stdout",
     "output_type": "stream",
     "text": [
      "0\n",
      "Recommended ID's: [6958.0, 4886.0, 1126.0, 4886.0, 54259.0]\n",
      "running training and testing for user 8\n",
      " --------------------------------------------\n",
      "importing datasets....\n",
      "selecting 30 simillar users...\n",
      "configuring movie formatting...\n",
      "creating the Graph...\n",
      "Staring training fo 30 iterations...\n"
     ]
    },
    {
     "name": "stderr",
     "output_type": "stream",
     "text": [
      "100%|███████████████████████████████████████████████████████████████████████████████████████████████████| 30/30 [00:00<00:00, 170.34it/s]\n"
     ]
    },
    {
     "name": "stdout",
     "output_type": "stream",
     "text": [
      "0\n",
      "Recommended ID's: [5999.0, 1278.0, 5128.0, 587.0, 485.0]\n",
      "running training and testing for user 9\n",
      " --------------------------------------------\n",
      "importing datasets....\n",
      "selecting 30 simillar users...\n",
      "configuring movie formatting...\n",
      "creating the Graph...\n",
      "Staring training fo 30 iterations...\n"
     ]
    },
    {
     "name": "stderr",
     "output_type": "stream",
     "text": [
      "100%|███████████████████████████████████████████████████████████████████████████████████████████████████| 30/30 [00:00<00:00, 170.12it/s]\n"
     ]
    },
    {
     "name": "stdout",
     "output_type": "stream",
     "text": [
      "0\n",
      "Recommended ID's: [3052.0, 1464.0, 5999.0, 5999.0, 2097.0]\n",
      "running training and testing for user 10\n",
      " --------------------------------------------\n",
      "importing datasets....\n",
      "selecting 30 simillar users...\n",
      "configuring movie formatting...\n",
      "creating the Graph...\n",
      "Staring training fo 30 iterations...\n"
     ]
    },
    {
     "name": "stderr",
     "output_type": "stream",
     "text": [
      "100%|███████████████████████████████████████████████████████████████████████████████████████████████████| 30/30 [00:00<00:00, 170.31it/s]\n"
     ]
    },
    {
     "name": "stdout",
     "output_type": "stream",
     "text": [
      "0\n",
      "Recommended ID's: [182823.0, 2097.0, 5128.0, 6754.0, 2017.0]\n",
      "running training and testing for user 11\n",
      " --------------------------------------------\n",
      "importing datasets....\n",
      "selecting 30 simillar users...\n",
      "configuring movie formatting...\n",
      "creating the Graph...\n",
      "Staring training fo 30 iterations...\n"
     ]
    },
    {
     "name": "stderr",
     "output_type": "stream",
     "text": [
      "100%|███████████████████████████████████████████████████████████████████████████████████████████████████| 30/30 [00:00<00:00, 170.25it/s]\n"
     ]
    },
    {
     "name": "stdout",
     "output_type": "stream",
     "text": [
      "0\n",
      "Recommended ID's: [546.0, 6686.0, 78499.0, 2017.0, 546.0]\n",
      "running training and testing for user 12\n",
      " --------------------------------------------\n",
      "importing datasets....\n",
      "selecting 30 simillar users...\n",
      "configuring movie formatting...\n",
      "creating the Graph...\n",
      "Staring training fo 30 iterations...\n"
     ]
    },
    {
     "name": "stderr",
     "output_type": "stream",
     "text": [
      "100%|███████████████████████████████████████████████████████████████████████████████████████████████████| 30/30 [00:00<00:00, 162.38it/s]\n"
     ]
    },
    {
     "name": "stdout",
     "output_type": "stream",
     "text": [
      "0\n",
      "Recommended ID's: [1464.0, 66097.0, 4886.0, 4306.0, 78499.0]\n",
      "running training and testing for user 13\n",
      " --------------------------------------------\n",
      "importing datasets....\n",
      "selecting 30 simillar users...\n",
      "configuring movie formatting...\n",
      "creating the Graph...\n",
      "Staring training fo 30 iterations...\n"
     ]
    },
    {
     "name": "stderr",
     "output_type": "stream",
     "text": [
      "100%|███████████████████████████████████████████████████████████████████████████████████████████████████| 30/30 [00:00<00:00, 162.84it/s]\n"
     ]
    },
    {
     "name": "stdout",
     "output_type": "stream",
     "text": [
      "0\n",
      "Recommended ID's: [2100.0, 6754.0, 4306.0, 30793.0, 4886.0]\n",
      "running training and testing for user 14\n",
      " --------------------------------------------\n",
      "importing datasets....\n",
      "selecting 30 simillar users...\n",
      "configuring movie formatting...\n",
      "creating the Graph...\n",
      "Staring training fo 30 iterations...\n"
     ]
    },
    {
     "name": "stderr",
     "output_type": "stream",
     "text": [
      "100%|███████████████████████████████████████████████████████████████████████████████████████████████████| 30/30 [00:00<00:00, 170.29it/s]\n"
     ]
    },
    {
     "name": "stdout",
     "output_type": "stream",
     "text": [
      "0\n",
      "Recommended ID's: [54259.0, 1278.0, 2291.0, 1920.0, 6373.0]\n",
      "running training and testing for user 15\n",
      " --------------------------------------------\n",
      "importing datasets....\n",
      "selecting 30 simillar users...\n",
      "configuring movie formatting...\n",
      "creating the Graph...\n",
      "Staring training fo 30 iterations...\n"
     ]
    },
    {
     "name": "stderr",
     "output_type": "stream",
     "text": [
      "100%|███████████████████████████████████████████████████████████████████████████████████████████████████| 30/30 [00:00<00:00, 167.98it/s]\n"
     ]
    },
    {
     "name": "stdout",
     "output_type": "stream",
     "text": [
      "0\n",
      "Recommended ID's: [546.0, 182823.0, 919.0, 4886.0, 3052.0]\n",
      "running training and testing for user 16\n",
      " --------------------------------------------\n",
      "importing datasets....\n",
      "selecting 30 simillar users...\n",
      "configuring movie formatting...\n",
      "creating the Graph...\n",
      "Staring training fo 30 iterations...\n"
     ]
    },
    {
     "name": "stderr",
     "output_type": "stream",
     "text": [
      "100%|███████████████████████████████████████████████████████████████████████████████████████████████████| 30/30 [00:00<00:00, 168.28it/s]\n"
     ]
    },
    {
     "name": "stdout",
     "output_type": "stream",
     "text": [
      "0\n",
      "Recommended ID's: [5040.0, 3988.0, 78499.0, 6686.0, 2294.0]\n",
      "running training and testing for user 17\n",
      " --------------------------------------------\n",
      "importing datasets....\n",
      "selecting 30 simillar users...\n",
      "configuring movie formatting...\n",
      "creating the Graph...\n",
      "Staring training fo 30 iterations...\n"
     ]
    },
    {
     "name": "stderr",
     "output_type": "stream",
     "text": [
      "100%|███████████████████████████████████████████████████████████████████████████████████████████████████| 30/30 [00:00<00:00, 138.58it/s]\n"
     ]
    },
    {
     "name": "stdout",
     "output_type": "stream",
     "text": [
      "0\n",
      "Recommended ID's: [54259.0, 3052.0, 5999.0, 54259.0, 30793.0]\n",
      "running training and testing for user 18\n",
      " --------------------------------------------\n",
      "importing datasets....\n",
      "selecting 30 simillar users...\n",
      "configuring movie formatting...\n",
      "creating the Graph...\n",
      "Staring training fo 30 iterations...\n"
     ]
    },
    {
     "name": "stderr",
     "output_type": "stream",
     "text": [
      "100%|███████████████████████████████████████████████████████████████████████████████████████████████████| 30/30 [00:00<00:00, 174.75it/s]\n"
     ]
    },
    {
     "name": "stdout",
     "output_type": "stream",
     "text": [
      "0\n",
      "Recommended ID's: [6686.0, 4306.0, 66097.0, 2294.0, 5065.0]\n",
      "running training and testing for user 19\n",
      " --------------------------------------------\n",
      "importing datasets....\n",
      "selecting 30 simillar users...\n",
      "configuring movie formatting...\n",
      "creating the Graph...\n",
      "Staring training fo 30 iterations...\n"
     ]
    },
    {
     "name": "stderr",
     "output_type": "stream",
     "text": [
      "100%|███████████████████████████████████████████████████████████████████████████████████████████████████| 30/30 [00:00<00:00, 162.88it/s]\n"
     ]
    },
    {
     "name": "stdout",
     "output_type": "stream",
     "text": [
      "0\n",
      "Recommended ID's: [4306.0, 5999.0, 1464.0, 919.0, 1920.0]\n",
      "running training and testing for user 20\n",
      " --------------------------------------------\n",
      "importing datasets....\n",
      "selecting 30 simillar users...\n",
      "configuring movie formatting...\n",
      "creating the Graph...\n",
      "Staring training fo 30 iterations...\n"
     ]
    },
    {
     "name": "stderr",
     "output_type": "stream",
     "text": [
      "100%|███████████████████████████████████████████████████████████████████████████████████████████████████| 30/30 [00:00<00:00, 169.65it/s]\n"
     ]
    },
    {
     "name": "stdout",
     "output_type": "stream",
     "text": [
      "0\n",
      "Recommended ID's: [1464.0, 182823.0, 4306.0, 30793.0, 182823.0]\n",
      "running training and testing for user 21\n",
      " --------------------------------------------\n",
      "importing datasets....\n",
      "selecting 30 simillar users...\n",
      "configuring movie formatting...\n",
      "creating the Graph...\n",
      "Staring training fo 30 iterations...\n"
     ]
    },
    {
     "name": "stderr",
     "output_type": "stream",
     "text": [
      "100%|███████████████████████████████████████████████████████████████████████████████████████████████████| 30/30 [00:00<00:00, 170.15it/s]\n"
     ]
    },
    {
     "name": "stdout",
     "output_type": "stream",
     "text": [
      "0\n",
      "Recommended ID's: [2294.0, 919.0, 6958.0, 919.0, 546.0]\n",
      "running training and testing for user 22\n",
      " --------------------------------------------\n",
      "importing datasets....\n",
      "selecting 30 simillar users...\n",
      "configuring movie formatting...\n",
      "creating the Graph...\n",
      "Staring training fo 30 iterations...\n"
     ]
    },
    {
     "name": "stderr",
     "output_type": "stream",
     "text": [
      "100%|███████████████████████████████████████████████████████████████████████████████████████████████████| 30/30 [00:00<00:00, 152.94it/s]\n"
     ]
    },
    {
     "name": "stdout",
     "output_type": "stream",
     "text": [
      "0\n",
      "Recommended ID's: [4306.0, 5999.0, 6686.0, 4306.0, 2294.0]\n",
      "running training and testing for user 23\n",
      " --------------------------------------------\n",
      "importing datasets....\n",
      "selecting 30 simillar users...\n",
      "configuring movie formatting...\n",
      "creating the Graph...\n",
      "Staring training fo 30 iterations...\n"
     ]
    },
    {
     "name": "stderr",
     "output_type": "stream",
     "text": [
      "100%|███████████████████████████████████████████████████████████████████████████████████████████████████| 30/30 [00:00<00:00, 162.65it/s]\n"
     ]
    },
    {
     "name": "stdout",
     "output_type": "stream",
     "text": [
      "0\n",
      "Recommended ID's: [37729.0, 2017.0, 66097.0, 6686.0, 1126.0]\n",
      "running training and testing for user 24\n",
      " --------------------------------------------\n",
      "importing datasets....\n",
      "selecting 30 simillar users...\n",
      "configuring movie formatting...\n",
      "creating the Graph...\n",
      "Staring training fo 30 iterations...\n"
     ]
    },
    {
     "name": "stderr",
     "output_type": "stream",
     "text": [
      "100%|███████████████████████████████████████████████████████████████████████████████████████████████████| 30/30 [00:00<00:00, 154.31it/s]\n"
     ]
    },
    {
     "name": "stdout",
     "output_type": "stream",
     "text": [
      "0\n",
      "Recommended ID's: [5128.0, 1920.0, 6686.0, 5040.0, 3052.0]\n",
      "running training and testing for user 25\n",
      " --------------------------------------------\n",
      "importing datasets....\n",
      "selecting 30 simillar users...\n",
      "configuring movie formatting...\n",
      "creating the Graph...\n",
      "Staring training fo 30 iterations...\n"
     ]
    },
    {
     "name": "stderr",
     "output_type": "stream",
     "text": [
      "100%|███████████████████████████████████████████████████████████████████████████████████████████████████| 30/30 [00:00<00:00, 159.80it/s]\n"
     ]
    },
    {
     "name": "stdout",
     "output_type": "stream",
     "text": [
      "0\n",
      "Recommended ID's: [66097.0, 1126.0, 5040.0, 3988.0, 6686.0]\n",
      "running training and testing for user 26\n",
      " --------------------------------------------\n",
      "importing datasets....\n",
      "selecting 30 simillar users...\n",
      "configuring movie formatting...\n",
      "creating the Graph...\n",
      "Staring training fo 30 iterations...\n"
     ]
    },
    {
     "name": "stderr",
     "output_type": "stream",
     "text": [
      "100%|███████████████████████████████████████████████████████████████████████████████████████████████████| 30/30 [00:00<00:00, 169.42it/s]\n"
     ]
    },
    {
     "name": "stdout",
     "output_type": "stream",
     "text": [
      "0\n",
      "Recommended ID's: [66097.0, 4886.0, 6373.0, 3052.0, 1920.0]\n",
      "running training and testing for user 27\n",
      " --------------------------------------------\n",
      "importing datasets....\n",
      "selecting 30 simillar users...\n",
      "configuring movie formatting...\n",
      "creating the Graph...\n",
      "Staring training fo 30 iterations...\n"
     ]
    },
    {
     "name": "stderr",
     "output_type": "stream",
     "text": [
      "100%|███████████████████████████████████████████████████████████████████████████████████████████████████| 30/30 [00:00<00:00, 167.95it/s]\n"
     ]
    },
    {
     "name": "stdout",
     "output_type": "stream",
     "text": [
      "0\n",
      "Recommended ID's: [1920.0, 4306.0, 2097.0, 45722.0, 1464.0]\n",
      "running training and testing for user 28\n",
      " --------------------------------------------\n",
      "importing datasets....\n",
      "selecting 30 simillar users...\n",
      "configuring movie formatting...\n",
      "creating the Graph...\n",
      "Staring training fo 30 iterations...\n"
     ]
    },
    {
     "name": "stderr",
     "output_type": "stream",
     "text": [
      "100%|███████████████████████████████████████████████████████████████████████████████████████████████████| 30/30 [00:00<00:00, 169.16it/s]\n"
     ]
    },
    {
     "name": "stdout",
     "output_type": "stream",
     "text": [
      "0\n",
      "Recommended ID's: [1278.0, 587.0, 546.0, 2291.0, 2100.0]\n",
      "running training and testing for user 29\n",
      " --------------------------------------------\n",
      "importing datasets....\n",
      "selecting 30 simillar users...\n",
      "configuring movie formatting...\n",
      "creating the Graph...\n",
      "Staring training fo 30 iterations...\n"
     ]
    },
    {
     "name": "stderr",
     "output_type": "stream",
     "text": [
      "100%|███████████████████████████████████████████████████████████████████████████████████████████████████| 30/30 [00:00<00:00, 170.28it/s]\n"
     ]
    },
    {
     "name": "stdout",
     "output_type": "stream",
     "text": [
      "0\n",
      "Recommended ID's: [6958.0, 4306.0, 5128.0, 2017.0, 30793.0]\n",
      "running training and testing for user 30\n",
      " --------------------------------------------\n",
      "importing datasets....\n",
      "selecting 30 simillar users...\n",
      "configuring movie formatting...\n",
      "creating the Graph...\n",
      "Staring training fo 30 iterations...\n"
     ]
    },
    {
     "name": "stderr",
     "output_type": "stream",
     "text": [
      "100%|███████████████████████████████████████████████████████████████████████████████████████████████████| 30/30 [00:00<00:00, 160.14it/s]\n"
     ]
    },
    {
     "name": "stdout",
     "output_type": "stream",
     "text": [
      "0\n",
      "Recommended ID's: [66097.0, 37729.0, 182823.0, 6686.0, 5128.0]\n",
      "running training and testing for user 31\n",
      " --------------------------------------------\n",
      "importing datasets....\n",
      "selecting 30 simillar users...\n",
      "configuring movie formatting...\n",
      "creating the Graph...\n",
      "Staring training fo 30 iterations...\n"
     ]
    },
    {
     "name": "stderr",
     "output_type": "stream",
     "text": [
      "100%|███████████████████████████████████████████████████████████████████████████████████████████████████| 30/30 [00:00<00:00, 160.61it/s]\n"
     ]
    },
    {
     "name": "stdout",
     "output_type": "stream",
     "text": [
      "0\n",
      "Recommended ID's: [6373.0, 2100.0, 5065.0, 4886.0, 485.0]\n",
      "running training and testing for user 32\n",
      " --------------------------------------------\n",
      "importing datasets....\n",
      "selecting 30 simillar users...\n",
      "configuring movie formatting...\n",
      "creating the Graph...\n",
      "Staring training fo 30 iterations...\n"
     ]
    },
    {
     "name": "stderr",
     "output_type": "stream",
     "text": [
      "100%|███████████████████████████████████████████████████████████████████████████████████████████████████| 30/30 [00:00<00:00, 163.10it/s]\n"
     ]
    },
    {
     "name": "stdout",
     "output_type": "stream",
     "text": [
      "0\n",
      "Recommended ID's: [5128.0, 6958.0, 919.0, 2017.0, 54259.0]\n",
      "running training and testing for user 33\n",
      " --------------------------------------------\n",
      "importing datasets....\n",
      "selecting 30 simillar users...\n",
      "configuring movie formatting...\n",
      "creating the Graph...\n",
      "Staring training fo 30 iterations...\n"
     ]
    },
    {
     "name": "stderr",
     "output_type": "stream",
     "text": [
      "100%|███████████████████████████████████████████████████████████████████████████████████████████████████| 30/30 [00:00<00:00, 168.85it/s]\n"
     ]
    },
    {
     "name": "stdout",
     "output_type": "stream",
     "text": [
      "0\n",
      "Recommended ID's: [2294.0, 4886.0, 4306.0, 546.0, 66097.0]\n",
      "running training and testing for user 34\n",
      " --------------------------------------------\n",
      "importing datasets....\n",
      "selecting 30 simillar users...\n",
      "configuring movie formatting...\n",
      "creating the Graph...\n",
      "Staring training fo 30 iterations...\n"
     ]
    },
    {
     "name": "stderr",
     "output_type": "stream",
     "text": [
      "100%|███████████████████████████████████████████████████████████████████████████████████████████████████| 30/30 [00:00<00:00, 161.72it/s]\n"
     ]
    },
    {
     "name": "stdout",
     "output_type": "stream",
     "text": [
      "0\n",
      "Recommended ID's: [485.0, 66097.0, 66097.0, 54259.0, 2294.0]\n",
      "running training and testing for user 35\n",
      " --------------------------------------------\n",
      "importing datasets....\n",
      "selecting 30 simillar users...\n",
      "configuring movie formatting...\n",
      "creating the Graph...\n",
      "Staring training fo 30 iterations...\n"
     ]
    },
    {
     "name": "stderr",
     "output_type": "stream",
     "text": [
      "100%|███████████████████████████████████████████████████████████████████████████████████████████████████| 30/30 [00:00<00:00, 162.74it/s]\n"
     ]
    },
    {
     "name": "stdout",
     "output_type": "stream",
     "text": [
      "0\n",
      "Recommended ID's: [4886.0, 2097.0, 5065.0, 6958.0, 3052.0]\n",
      "running training and testing for user 36\n",
      " --------------------------------------------\n",
      "importing datasets....\n",
      "selecting 30 simillar users...\n",
      "configuring movie formatting...\n",
      "creating the Graph...\n",
      "Staring training fo 30 iterations...\n"
     ]
    },
    {
     "name": "stderr",
     "output_type": "stream",
     "text": [
      "100%|███████████████████████████████████████████████████████████████████████████████████████████████████| 30/30 [00:00<00:00, 171.10it/s]\n"
     ]
    },
    {
     "name": "stdout",
     "output_type": "stream",
     "text": [
      "0\n",
      "Recommended ID's: [78499.0, 6754.0, 485.0, 37729.0, 2097.0]\n",
      "running training and testing for user 37\n",
      " --------------------------------------------\n",
      "importing datasets....\n",
      "selecting 30 simillar users...\n",
      "configuring movie formatting...\n",
      "creating the Graph...\n",
      "Staring training fo 30 iterations...\n"
     ]
    },
    {
     "name": "stderr",
     "output_type": "stream",
     "text": [
      "100%|███████████████████████████████████████████████████████████████████████████████████████████████████| 30/30 [00:00<00:00, 159.96it/s]\n"
     ]
    },
    {
     "name": "stdout",
     "output_type": "stream",
     "text": [
      "0\n",
      "Recommended ID's: [919.0, 6754.0, 37729.0, 182823.0, 6373.0]\n",
      "running training and testing for user 38\n",
      " --------------------------------------------\n",
      "importing datasets....\n",
      "selecting 30 simillar users...\n",
      "configuring movie formatting...\n",
      "creating the Graph...\n",
      "Staring training fo 30 iterations...\n"
     ]
    },
    {
     "name": "stderr",
     "output_type": "stream",
     "text": [
      "100%|███████████████████████████████████████████████████████████████████████████████████████████████████| 30/30 [00:00<00:00, 165.21it/s]\n"
     ]
    },
    {
     "name": "stdout",
     "output_type": "stream",
     "text": [
      "0\n",
      "Recommended ID's: [5065.0, 5999.0, 182823.0, 5065.0, 6686.0]\n",
      "running training and testing for user 39\n",
      " --------------------------------------------\n",
      "importing datasets....\n",
      "selecting 30 simillar users...\n",
      "configuring movie formatting...\n",
      "creating the Graph...\n",
      "Staring training fo 30 iterations...\n"
     ]
    },
    {
     "name": "stderr",
     "output_type": "stream",
     "text": [
      "100%|███████████████████████████████████████████████████████████████████████████████████████████████████| 30/30 [00:00<00:00, 170.23it/s]\n"
     ]
    },
    {
     "name": "stdout",
     "output_type": "stream",
     "text": [
      "0\n",
      "Recommended ID's: [5999.0, 1464.0, 4306.0, 45722.0, 5065.0]\n",
      "running training and testing for user 40\n",
      " --------------------------------------------\n",
      "importing datasets....\n",
      "selecting 30 simillar users...\n",
      "configuring movie formatting...\n",
      "creating the Graph...\n",
      "Staring training fo 30 iterations...\n"
     ]
    },
    {
     "name": "stderr",
     "output_type": "stream",
     "text": [
      "100%|███████████████████████████████████████████████████████████████████████████████████████████████████| 30/30 [00:00<00:00, 158.61it/s]\n"
     ]
    },
    {
     "name": "stdout",
     "output_type": "stream",
     "text": [
      "0\n",
      "Recommended ID's: [2100.0, 2291.0, 3052.0, 1920.0, 485.0]\n",
      "running training and testing for user 41\n",
      " --------------------------------------------\n",
      "importing datasets....\n",
      "selecting 30 simillar users...\n",
      "configuring movie formatting...\n",
      "creating the Graph...\n",
      "Staring training fo 30 iterations...\n"
     ]
    },
    {
     "name": "stderr",
     "output_type": "stream",
     "text": [
      "100%|███████████████████████████████████████████████████████████████████████████████████████████████████| 30/30 [00:00<00:00, 167.97it/s]\n"
     ]
    },
    {
     "name": "stdout",
     "output_type": "stream",
     "text": [
      "0\n",
      "Recommended ID's: [2097.0, 78499.0, 485.0, 30793.0, 5065.0]\n",
      "running training and testing for user 42\n",
      " --------------------------------------------\n",
      "importing datasets....\n",
      "selecting 30 simillar users...\n",
      "configuring movie formatting...\n",
      "creating the Graph...\n",
      "Staring training fo 30 iterations...\n"
     ]
    },
    {
     "name": "stderr",
     "output_type": "stream",
     "text": [
      "100%|███████████████████████████████████████████████████████████████████████████████████████████████████| 30/30 [00:00<00:00, 159.97it/s]\n"
     ]
    },
    {
     "name": "stdout",
     "output_type": "stream",
     "text": [
      "0\n",
      "Recommended ID's: [485.0, 2017.0, 5065.0, 1278.0, 1278.0]\n",
      "running training and testing for user 43\n",
      " --------------------------------------------\n",
      "importing datasets....\n",
      "selecting 30 simillar users...\n",
      "configuring movie formatting...\n",
      "creating the Graph...\n",
      "Staring training fo 30 iterations...\n"
     ]
    },
    {
     "name": "stderr",
     "output_type": "stream",
     "text": [
      "100%|███████████████████████████████████████████████████████████████████████████████████████████████████| 30/30 [00:00<00:00, 176.64it/s]\n"
     ]
    },
    {
     "name": "stdout",
     "output_type": "stream",
     "text": [
      "0\n",
      "Recommended ID's: [6373.0, 6958.0, 5128.0, 2291.0, 37729.0]\n",
      "running training and testing for user 44\n",
      " --------------------------------------------\n",
      "importing datasets....\n",
      "selecting 30 simillar users...\n",
      "configuring movie formatting...\n",
      "creating the Graph...\n",
      "Staring training fo 30 iterations...\n"
     ]
    },
    {
     "name": "stderr",
     "output_type": "stream",
     "text": [
      "100%|███████████████████████████████████████████████████████████████████████████████████████████████████| 30/30 [00:00<00:00, 165.38it/s]\n"
     ]
    },
    {
     "name": "stdout",
     "output_type": "stream",
     "text": [
      "0\n",
      "Recommended ID's: [485.0, 2294.0, 919.0, 1278.0, 3052.0]\n",
      "running training and testing for user 45\n",
      " --------------------------------------------\n",
      "importing datasets....\n",
      "selecting 30 simillar users...\n",
      "configuring movie formatting...\n",
      "creating the Graph...\n",
      "Staring training fo 30 iterations...\n"
     ]
    },
    {
     "name": "stderr",
     "output_type": "stream",
     "text": [
      "100%|███████████████████████████████████████████████████████████████████████████████████████████████████| 30/30 [00:00<00:00, 168.11it/s]\n"
     ]
    },
    {
     "name": "stdout",
     "output_type": "stream",
     "text": [
      "0\n",
      "Recommended ID's: [6373.0, 45722.0, 6686.0, 182823.0, 4886.0]\n",
      "running training and testing for user 46\n",
      " --------------------------------------------\n",
      "importing datasets....\n",
      "selecting 30 simillar users...\n",
      "configuring movie formatting...\n",
      "creating the Graph...\n",
      "Staring training fo 30 iterations...\n"
     ]
    },
    {
     "name": "stderr",
     "output_type": "stream",
     "text": [
      "100%|███████████████████████████████████████████████████████████████████████████████████████████████████| 30/30 [00:00<00:00, 178.52it/s]\n"
     ]
    },
    {
     "name": "stdout",
     "output_type": "stream",
     "text": [
      "0\n",
      "Recommended ID's: [4886.0, 30793.0, 587.0, 4306.0, 37729.0]\n",
      "running training and testing for user 47\n",
      " --------------------------------------------\n",
      "importing datasets....\n",
      "selecting 30 simillar users...\n",
      "configuring movie formatting...\n",
      "creating the Graph...\n",
      "Staring training fo 30 iterations...\n"
     ]
    },
    {
     "name": "stderr",
     "output_type": "stream",
     "text": [
      "100%|███████████████████████████████████████████████████████████████████████████████████████████████████| 30/30 [00:00<00:00, 169.65it/s]\n"
     ]
    },
    {
     "name": "stdout",
     "output_type": "stream",
     "text": [
      "0\n",
      "Recommended ID's: [54259.0, 6373.0, 485.0, 6373.0, 1126.0]\n",
      "running training and testing for user 48\n",
      " --------------------------------------------\n",
      "importing datasets....\n",
      "selecting 30 simillar users...\n",
      "configuring movie formatting...\n",
      "creating the Graph...\n",
      "Staring training fo 30 iterations...\n"
     ]
    },
    {
     "name": "stderr",
     "output_type": "stream",
     "text": [
      "100%|███████████████████████████████████████████████████████████████████████████████████████████████████| 30/30 [00:00<00:00, 159.95it/s]\n"
     ]
    },
    {
     "name": "stdout",
     "output_type": "stream",
     "text": [
      "0\n",
      "Recommended ID's: [5040.0, 45722.0, 3052.0, 37729.0, 5128.0]\n",
      "running training and testing for user 49\n",
      " --------------------------------------------\n",
      "importing datasets....\n",
      "selecting 30 simillar users...\n",
      "configuring movie formatting...\n",
      "creating the Graph...\n",
      "Staring training fo 30 iterations...\n"
     ]
    },
    {
     "name": "stderr",
     "output_type": "stream",
     "text": [
      "100%|███████████████████████████████████████████████████████████████████████████████████████████████████| 30/30 [00:00<00:00, 164.69it/s]\n"
     ]
    },
    {
     "name": "stdout",
     "output_type": "stream",
     "text": [
      "0\n",
      "Recommended ID's: [2017.0, 919.0, 45722.0, 2097.0, 54259.0]\n",
      "genre: Fantasy\n",
      "overall accuracy is 0.7875000000000001\n",
      "running training and testing for user 0\n",
      " --------------------------------------------\n",
      "importing datasets....\n",
      "selecting 30 simillar users...\n",
      "configuring movie formatting...\n",
      "creating the Graph...\n",
      "Staring training fo 30 iterations...\n"
     ]
    },
    {
     "name": "stderr",
     "output_type": "stream",
     "text": [
      "100%|███████████████████████████████████████████████████████████████████████████████████████████████████| 30/30 [00:00<00:00, 113.91it/s]\n"
     ]
    },
    {
     "name": "stdout",
     "output_type": "stream",
     "text": [
      "0\n",
      "Recommended ID's: [2081.0, 7707.0, 2706.0, 5617.0, 1101.0]\n",
      "running training and testing for user 1\n",
      " --------------------------------------------\n",
      "importing datasets....\n",
      "selecting 30 simillar users...\n",
      "configuring movie formatting...\n",
      "creating the Graph...\n",
      "Staring training fo 30 iterations...\n"
     ]
    },
    {
     "name": "stderr",
     "output_type": "stream",
     "text": [
      "100%|███████████████████████████████████████████████████████████████████████████████████████████████████| 30/30 [00:00<00:00, 105.24it/s]\n"
     ]
    },
    {
     "name": "stdout",
     "output_type": "stream",
     "text": [
      "0\n",
      "Recommended ID's: [122.0, 377.0, 1777.0, 902.0, 94959.0]\n",
      "running training and testing for user 2\n",
      " --------------------------------------------\n",
      "importing datasets....\n",
      "selecting 30 simillar users...\n",
      "configuring movie formatting...\n",
      "creating the Graph...\n",
      "Staring training fo 30 iterations...\n"
     ]
    },
    {
     "name": "stderr",
     "output_type": "stream",
     "text": [
      "100%|███████████████████████████████████████████████████████████████████████████████████████████████████| 30/30 [00:00<00:00, 107.75it/s]\n"
     ]
    },
    {
     "name": "stdout",
     "output_type": "stream",
     "text": [
      "0\n",
      "Recommended ID's: [1639.0, 5693.0, 11.0, 43744.0, 1464.0]\n",
      "running training and testing for user 3\n",
      " --------------------------------------------\n",
      "importing datasets....\n",
      "selecting 30 simillar users...\n",
      "configuring movie formatting...\n",
      "creating the Graph...\n",
      "Staring training fo 30 iterations...\n"
     ]
    },
    {
     "name": "stderr",
     "output_type": "stream",
     "text": [
      "100%|███████████████████████████████████████████████████████████████████████████████████████████████████| 30/30 [00:00<00:00, 101.41it/s]\n"
     ]
    },
    {
     "name": "stdout",
     "output_type": "stream",
     "text": [
      "0\n",
      "Recommended ID's: [76293.0, 2706.0, 11.0, 2950.0, 802.0]\n",
      "running training and testing for user 4\n",
      " --------------------------------------------\n",
      "importing datasets....\n",
      "selecting 30 simillar users...\n",
      "configuring movie formatting...\n",
      "creating the Graph...\n",
      "Staring training fo 30 iterations...\n"
     ]
    },
    {
     "name": "stderr",
     "output_type": "stream",
     "text": [
      "100%|████████████████████████████████████████████████████████████████████████████████████████████████████| 30/30 [00:00<00:00, 96.00it/s]\n"
     ]
    },
    {
     "name": "stdout",
     "output_type": "stream",
     "text": [
      "0\n",
      "Recommended ID's: [1464.0, 60069.0, 922.0, 2259.0, 922.0]\n",
      "running training and testing for user 5\n",
      " --------------------------------------------\n",
      "importing datasets....\n",
      "selecting 30 simillar users...\n",
      "configuring movie formatting...\n",
      "creating the Graph...\n",
      "Staring training fo 30 iterations...\n"
     ]
    },
    {
     "name": "stderr",
     "output_type": "stream",
     "text": [
      "100%|███████████████████████████████████████████████████████████████████████████████████████████████████| 30/30 [00:00<00:00, 105.47it/s]\n"
     ]
    },
    {
     "name": "stdout",
     "output_type": "stream",
     "text": [
      "0\n",
      "Recommended ID's: [54259.0, 708.0, 6373.0, 8529.0, 2706.0]\n",
      "running training and testing for user 6\n",
      " --------------------------------------------\n",
      "importing datasets....\n",
      "selecting 30 simillar users...\n",
      "configuring movie formatting...\n",
      "creating the Graph...\n",
      "Staring training fo 30 iterations...\n"
     ]
    },
    {
     "name": "stderr",
     "output_type": "stream",
     "text": [
      "100%|███████████████████████████████████████████████████████████████████████████████████████████████████| 30/30 [00:00<00:00, 110.10it/s]\n"
     ]
    },
    {
     "name": "stdout",
     "output_type": "stream",
     "text": [
      "0\n",
      "Recommended ID's: [1674.0, 1639.0, 2794.0, 54259.0, 2291.0]\n",
      "running training and testing for user 7\n",
      " --------------------------------------------\n",
      "importing datasets....\n",
      "selecting 30 simillar users...\n",
      "configuring movie formatting...\n",
      "creating the Graph...\n",
      "Staring training fo 30 iterations...\n"
     ]
    },
    {
     "name": "stderr",
     "output_type": "stream",
     "text": [
      "100%|████████████████████████████████████████████████████████████████████████████████████████████████████| 30/30 [00:00<00:00, 95.84it/s]\n"
     ]
    },
    {
     "name": "stdout",
     "output_type": "stream",
     "text": [
      "0\n",
      "Recommended ID's: [802.0, 37729.0, 4428.0, 6373.0, 922.0]\n",
      "running training and testing for user 8\n",
      " --------------------------------------------\n",
      "importing datasets....\n",
      "selecting 30 simillar users...\n",
      "configuring movie formatting...\n",
      "creating the Graph...\n",
      "Staring training fo 30 iterations...\n"
     ]
    },
    {
     "name": "stderr",
     "output_type": "stream",
     "text": [
      "100%|███████████████████████████████████████████████████████████████████████████████████████████████████| 30/30 [00:00<00:00, 102.85it/s]\n"
     ]
    },
    {
     "name": "stdout",
     "output_type": "stream",
     "text": [
      "0\n",
      "Recommended ID's: [361.0, 361.0, 2100.0, 2730.0, 7707.0]\n",
      "running training and testing for user 9\n",
      " --------------------------------------------\n",
      "importing datasets....\n",
      "selecting 30 simillar users...\n",
      "configuring movie formatting...\n",
      "creating the Graph...\n",
      "Staring training fo 30 iterations...\n"
     ]
    },
    {
     "name": "stderr",
     "output_type": "stream",
     "text": [
      "100%|███████████████████████████████████████████████████████████████████████████████████████████████████| 30/30 [00:00<00:00, 102.55it/s]\n"
     ]
    },
    {
     "name": "stdout",
     "output_type": "stream",
     "text": [
      "0\n",
      "Recommended ID's: [2485.0, 3353.0, 2259.0, 2100.0, 54259.0]\n",
      "running training and testing for user 10\n",
      " --------------------------------------------\n",
      "importing datasets....\n",
      "selecting 30 simillar users...\n",
      "configuring movie formatting...\n",
      "creating the Graph...\n",
      "Staring training fo 30 iterations...\n"
     ]
    },
    {
     "name": "stderr",
     "output_type": "stream",
     "text": [
      "100%|███████████████████████████████████████████████████████████████████████████████████████████████████| 30/30 [00:00<00:00, 115.25it/s]\n"
     ]
    },
    {
     "name": "stdout",
     "output_type": "stream",
     "text": [
      "0\n",
      "Recommended ID's: [7707.0, 1674.0, 1639.0, 1464.0, 186.0]\n",
      "running training and testing for user 11\n",
      " --------------------------------------------\n",
      "importing datasets....\n",
      "selecting 30 simillar users...\n",
      "configuring movie formatting...\n",
      "creating the Graph...\n",
      "Staring training fo 30 iterations...\n"
     ]
    },
    {
     "name": "stderr",
     "output_type": "stream",
     "text": [
      "100%|███████████████████████████████████████████████████████████████████████████████████████████████████| 30/30 [00:00<00:00, 103.03it/s]\n"
     ]
    },
    {
     "name": "stdout",
     "output_type": "stream",
     "text": [
      "0\n",
      "Recommended ID's: [922.0, 912.0, 587.0, 6373.0, 2858.0]\n",
      "running training and testing for user 12\n",
      " --------------------------------------------\n",
      "importing datasets....\n",
      "selecting 30 simillar users...\n",
      "configuring movie formatting...\n",
      "creating the Graph...\n",
      "Staring training fo 30 iterations...\n"
     ]
    },
    {
     "name": "stderr",
     "output_type": "stream",
     "text": [
      "100%|███████████████████████████████████████████████████████████████████████████████████████████████████| 30/30 [00:00<00:00, 110.47it/s]\n"
     ]
    },
    {
     "name": "stdout",
     "output_type": "stream",
     "text": [
      "0\n",
      "Recommended ID's: [1257.0, 1464.0, 6373.0, 1257.0, 6373.0]\n",
      "running training and testing for user 13\n",
      " --------------------------------------------\n",
      "importing datasets....\n",
      "selecting 30 simillar users...\n",
      "configuring movie formatting...\n",
      "creating the Graph...\n",
      "Staring training fo 30 iterations...\n"
     ]
    },
    {
     "name": "stderr",
     "output_type": "stream",
     "text": [
      "100%|███████████████████████████████████████████████████████████████████████████████████████████████████| 30/30 [00:00<00:00, 102.17it/s]\n"
     ]
    },
    {
     "name": "stdout",
     "output_type": "stream",
     "text": [
      "0\n",
      "Recommended ID's: [597.0, 2081.0, 461.0, 11.0, 5878.0]\n",
      "running training and testing for user 14\n",
      " --------------------------------------------\n",
      "importing datasets....\n",
      "selecting 30 simillar users...\n",
      "configuring movie formatting...\n",
      "creating the Graph...\n",
      "Staring training fo 30 iterations...\n"
     ]
    },
    {
     "name": "stderr",
     "output_type": "stream",
     "text": [
      "100%|███████████████████████████████████████████████████████████████████████████████████████████████████| 30/30 [00:00<00:00, 101.30it/s]\n"
     ]
    },
    {
     "name": "stdout",
     "output_type": "stream",
     "text": [
      "0\n",
      "Recommended ID's: [2100.0, 5693.0, 1101.0, 802.0, 75805.0]\n",
      "running training and testing for user 15\n",
      " --------------------------------------------\n",
      "importing datasets....\n",
      "selecting 30 simillar users...\n",
      "configuring movie formatting...\n",
      "creating the Graph...\n",
      "Staring training fo 30 iterations...\n"
     ]
    },
    {
     "name": "stderr",
     "output_type": "stream",
     "text": [
      "100%|███████████████████████████████████████████████████████████████████████████████████████████████████| 30/30 [00:00<00:00, 103.99it/s]\n"
     ]
    },
    {
     "name": "stdout",
     "output_type": "stream",
     "text": [
      "0\n",
      "Recommended ID's: [2794.0, 43744.0, 1257.0, 3606.0, 4428.0]\n",
      "running training and testing for user 16\n",
      " --------------------------------------------\n",
      "importing datasets....\n",
      "selecting 30 simillar users...\n",
      "configuring movie formatting...\n",
      "creating the Graph...\n",
      "Staring training fo 30 iterations...\n"
     ]
    },
    {
     "name": "stderr",
     "output_type": "stream",
     "text": [
      "100%|███████████████████████████████████████████████████████████████████████████████████████████████████| 30/30 [00:00<00:00, 104.34it/s]\n"
     ]
    },
    {
     "name": "stdout",
     "output_type": "stream",
     "text": [
      "0\n",
      "Recommended ID's: [2485.0, 2248.0, 7109.0, 5617.0, 2485.0]\n",
      "running training and testing for user 17\n",
      " --------------------------------------------\n",
      "importing datasets....\n",
      "selecting 30 simillar users...\n",
      "configuring movie formatting...\n",
      "creating the Graph...\n",
      "Staring training fo 30 iterations...\n"
     ]
    },
    {
     "name": "stderr",
     "output_type": "stream",
     "text": [
      "100%|████████████████████████████████████████████████████████████████████████████████████████████████████| 30/30 [00:00<00:00, 95.07it/s]\n"
     ]
    },
    {
     "name": "stdout",
     "output_type": "stream",
     "text": [
      "0\n",
      "Recommended ID's: [8529.0, 1674.0, 76293.0, 76293.0, 2081.0]\n",
      "running training and testing for user 18\n",
      " --------------------------------------------\n",
      "importing datasets....\n",
      "selecting 30 simillar users...\n",
      "configuring movie formatting...\n",
      "creating the Graph...\n",
      "Staring training fo 30 iterations...\n"
     ]
    },
    {
     "name": "stderr",
     "output_type": "stream",
     "text": [
      "100%|████████████████████████████████████████████████████████████████████████████████████████████████████| 30/30 [00:00<00:00, 99.90it/s]\n"
     ]
    },
    {
     "name": "stdout",
     "output_type": "stream",
     "text": [
      "0\n",
      "Recommended ID's: [54259.0, 8529.0, 912.0, 779.0, 6711]\n",
      "running training and testing for user 19\n",
      " --------------------------------------------\n",
      "importing datasets....\n",
      "selecting 30 simillar users...\n",
      "configuring movie formatting...\n",
      "creating the Graph...\n",
      "Staring training fo 30 iterations...\n"
     ]
    },
    {
     "name": "stderr",
     "output_type": "stream",
     "text": [
      "100%|███████████████████████████████████████████████████████████████████████████████████████████████████| 30/30 [00:00<00:00, 104.71it/s]\n"
     ]
    },
    {
     "name": "stdout",
     "output_type": "stream",
     "text": [
      "0\n",
      "Recommended ID's: [5693.0, 5617.0, 912.0, 2100.0, 54259.0]\n",
      "running training and testing for user 20\n",
      " --------------------------------------------\n",
      "importing datasets....\n",
      "selecting 30 simillar users...\n",
      "configuring movie formatting...\n",
      "creating the Graph...\n",
      "Staring training fo 30 iterations...\n"
     ]
    },
    {
     "name": "stderr",
     "output_type": "stream",
     "text": [
      "100%|███████████████████████████████████████████████████████████████████████████████████████████████████| 30/30 [00:00<00:00, 105.28it/s]\n"
     ]
    },
    {
     "name": "stdout",
     "output_type": "stream",
     "text": [
      "0\n",
      "Recommended ID's: [779.0, 779.0, 1101.0, 37729.0, 5693.0]\n",
      "running training and testing for user 21\n",
      " --------------------------------------------\n",
      "importing datasets....\n",
      "selecting 30 simillar users...\n",
      "configuring movie formatting...\n",
      "creating the Graph...\n",
      "Staring training fo 30 iterations...\n"
     ]
    },
    {
     "name": "stderr",
     "output_type": "stream",
     "text": [
      "100%|███████████████████████████████████████████████████████████████████████████████████████████████████| 30/30 [00:00<00:00, 110.30it/s]\n"
     ]
    },
    {
     "name": "stdout",
     "output_type": "stream",
     "text": [
      "0\n",
      "Recommended ID's: [597.0, 122.0, 7707.0, 461.0, 2081.0]\n",
      "running training and testing for user 22\n",
      " --------------------------------------------\n",
      "importing datasets....\n",
      "selecting 30 simillar users...\n",
      "configuring movie formatting...\n",
      "creating the Graph...\n",
      "Staring training fo 30 iterations...\n"
     ]
    },
    {
     "name": "stderr",
     "output_type": "stream",
     "text": [
      "100%|███████████████████████████████████████████████████████████████████████████████████████████████████| 30/30 [00:00<00:00, 105.35it/s]\n"
     ]
    },
    {
     "name": "stdout",
     "output_type": "stream",
     "text": [
      "0\n",
      "Recommended ID's: [75805.0, 802.0, 902.0, 122.0, 43744.0]\n",
      "running training and testing for user 23\n",
      " --------------------------------------------\n",
      "importing datasets....\n",
      "selecting 30 simillar users...\n",
      "configuring movie formatting...\n",
      "creating the Graph...\n",
      "Staring training fo 30 iterations...\n"
     ]
    },
    {
     "name": "stderr",
     "output_type": "stream",
     "text": [
      "100%|████████████████████████████████████████████████████████████████████████████████████████████████████| 30/30 [00:00<00:00, 96.12it/s]\n"
     ]
    },
    {
     "name": "stdout",
     "output_type": "stream",
     "text": [
      "0\n",
      "Recommended ID's: [43744.0, 2794.0, 461.0, 2706.0, 708.0]\n",
      "running training and testing for user 24\n",
      " --------------------------------------------\n",
      "importing datasets....\n",
      "selecting 30 simillar users...\n",
      "configuring movie formatting...\n",
      "creating the Graph...\n",
      "Staring training fo 30 iterations...\n"
     ]
    },
    {
     "name": "stderr",
     "output_type": "stream",
     "text": [
      "100%|███████████████████████████████████████████████████████████████████████████████████████████████████| 30/30 [00:00<00:00, 101.10it/s]\n"
     ]
    },
    {
     "name": "stdout",
     "output_type": "stream",
     "text": [
      "0\n",
      "Recommended ID's: [912.0, 597.0, 587.0, 5617.0, 54259.0]\n",
      "running training and testing for user 25\n",
      " --------------------------------------------\n",
      "importing datasets....\n",
      "selecting 30 simillar users...\n",
      "configuring movie formatting...\n",
      "creating the Graph...\n",
      "Staring training fo 30 iterations...\n"
     ]
    },
    {
     "name": "stderr",
     "output_type": "stream",
     "text": [
      "100%|███████████████████████████████████████████████████████████████████████████████████████████████████| 30/30 [00:00<00:00, 105.51it/s]\n"
     ]
    },
    {
     "name": "stdout",
     "output_type": "stream",
     "text": [
      "0\n",
      "Recommended ID's: [587.0, 461.0, 75805.0, 2858.0, 122.0]\n",
      "running training and testing for user 26\n",
      " --------------------------------------------\n",
      "importing datasets....\n",
      "selecting 30 simillar users...\n",
      "configuring movie formatting...\n",
      "creating the Graph...\n",
      "Staring training fo 30 iterations...\n"
     ]
    },
    {
     "name": "stderr",
     "output_type": "stream",
     "text": [
      "100%|███████████████████████████████████████████████████████████████████████████████████████████████████| 30/30 [00:00<00:00, 110.29it/s]\n"
     ]
    },
    {
     "name": "stdout",
     "output_type": "stream",
     "text": [
      "0\n",
      "Recommended ID's: [2858.0, 76293.0, 8916.0, 122.0, 122.0]\n",
      "running training and testing for user 27\n",
      " --------------------------------------------\n",
      "importing datasets....\n",
      "selecting 30 simillar users...\n",
      "configuring movie formatting...\n",
      "creating the Graph...\n",
      "Staring training fo 30 iterations...\n"
     ]
    },
    {
     "name": "stderr",
     "output_type": "stream",
     "text": [
      "100%|████████████████████████████████████████████████████████████████████████████████████████████████████| 30/30 [00:00<00:00, 98.68it/s]\n"
     ]
    },
    {
     "name": "stdout",
     "output_type": "stream",
     "text": [
      "0\n",
      "Recommended ID's: [2794.0, 1777.0, 912.0, 5617.0, 2081.0]\n",
      "running training and testing for user 28\n",
      " --------------------------------------------\n",
      "importing datasets....\n",
      "selecting 30 simillar users...\n",
      "configuring movie formatting...\n",
      "creating the Graph...\n",
      "Staring training fo 30 iterations...\n"
     ]
    },
    {
     "name": "stderr",
     "output_type": "stream",
     "text": [
      "100%|███████████████████████████████████████████████████████████████████████████████████████████████████| 30/30 [00:00<00:00, 112.62it/s]\n"
     ]
    },
    {
     "name": "stdout",
     "output_type": "stream",
     "text": [
      "0\n",
      "Recommended ID's: [8529.0, 1639.0, 2485.0, 1257.0, 3353.0]\n",
      "running training and testing for user 29\n",
      " --------------------------------------------\n",
      "importing datasets....\n",
      "selecting 30 simillar users...\n",
      "configuring movie formatting...\n",
      "creating the Graph...\n",
      "Staring training fo 30 iterations...\n"
     ]
    },
    {
     "name": "stderr",
     "output_type": "stream",
     "text": [
      "100%|███████████████████████████████████████████████████████████████████████████████████████████████████| 30/30 [00:00<00:00, 108.49it/s]\n"
     ]
    },
    {
     "name": "stdout",
     "output_type": "stream",
     "text": [
      "0\n",
      "Recommended ID's: [1464.0, 8529.0, 122.0, 60069.0, 60069.0]\n",
      "running training and testing for user 30\n",
      " --------------------------------------------\n",
      "importing datasets....\n",
      "selecting 30 simillar users...\n",
      "configuring movie formatting...\n",
      "creating the Graph...\n",
      "Staring training fo 30 iterations...\n"
     ]
    },
    {
     "name": "stderr",
     "output_type": "stream",
     "text": [
      "100%|████████████████████████████████████████████████████████████████████████████████████████████████████| 30/30 [00:00<00:00, 95.04it/s]\n"
     ]
    },
    {
     "name": "stdout",
     "output_type": "stream",
     "text": [
      "0\n",
      "Recommended ID's: [6373.0, 5693.0, 186.0, 2100.0, 3353.0]\n",
      "running training and testing for user 31\n",
      " --------------------------------------------\n",
      "importing datasets....\n",
      "selecting 30 simillar users...\n",
      "configuring movie formatting...\n",
      "creating the Graph...\n",
      "Staring training fo 30 iterations...\n"
     ]
    },
    {
     "name": "stderr",
     "output_type": "stream",
     "text": [
      "100%|████████████████████████████████████████████████████████████████████████████████████████████████████| 30/30 [00:00<00:00, 92.81it/s]\n"
     ]
    },
    {
     "name": "stdout",
     "output_type": "stream",
     "text": [
      "0\n",
      "Recommended ID's: [1917.0, 5617.0, 2858.0, 2858.0, 3633.0]\n",
      "running training and testing for user 32\n",
      " --------------------------------------------\n",
      "importing datasets....\n",
      "selecting 30 simillar users...\n",
      "configuring movie formatting...\n",
      "creating the Graph...\n",
      "Staring training fo 30 iterations...\n"
     ]
    },
    {
     "name": "stderr",
     "output_type": "stream",
     "text": [
      "100%|███████████████████████████████████████████████████████████████████████████████████████████████████| 30/30 [00:00<00:00, 103.43it/s]\n"
     ]
    },
    {
     "name": "stdout",
     "output_type": "stream",
     "text": [
      "0\n",
      "Recommended ID's: [3633.0, 1464.0, 2706.0, 7707.0, 5617.0]\n",
      "running training and testing for user 33\n",
      " --------------------------------------------\n",
      "importing datasets....\n",
      "selecting 30 simillar users...\n",
      "configuring movie formatting...\n",
      "creating the Graph...\n",
      "Staring training fo 30 iterations...\n"
     ]
    },
    {
     "name": "stderr",
     "output_type": "stream",
     "text": [
      "100%|███████████████████████████████████████████████████████████████████████████████████████████████████| 30/30 [00:00<00:00, 104.65it/s]\n"
     ]
    },
    {
     "name": "stdout",
     "output_type": "stream",
     "text": [
      "0\n",
      "Recommended ID's: [922.0, 75805.0, 902.0, 2100.0, 2950.0]\n",
      "running training and testing for user 34\n",
      " --------------------------------------------\n",
      "importing datasets....\n",
      "selecting 30 simillar users...\n",
      "configuring movie formatting...\n",
      "creating the Graph...\n",
      "Staring training fo 30 iterations...\n"
     ]
    },
    {
     "name": "stderr",
     "output_type": "stream",
     "text": [
      "100%|███████████████████████████████████████████████████████████████████████████████████████████████████| 30/30 [00:00<00:00, 105.68it/s]\n"
     ]
    },
    {
     "name": "stdout",
     "output_type": "stream",
     "text": [
      "0\n",
      "Recommended ID's: [60069.0, 912.0, 461.0, 1464.0, 587.0]\n",
      "running training and testing for user 35\n",
      " --------------------------------------------\n",
      "importing datasets....\n",
      "selecting 30 simillar users...\n",
      "configuring movie formatting...\n",
      "creating the Graph...\n",
      "Staring training fo 30 iterations...\n"
     ]
    },
    {
     "name": "stderr",
     "output_type": "stream",
     "text": [
      "100%|███████████████████████████████████████████████████████████████████████████████████████████████████| 30/30 [00:00<00:00, 105.87it/s]\n"
     ]
    },
    {
     "name": "stdout",
     "output_type": "stream",
     "text": [
      "0\n",
      "Recommended ID's: [587.0, 708.0, 2081.0, 1917.0, 3353.0]\n",
      "running training and testing for user 36\n",
      " --------------------------------------------\n",
      "importing datasets....\n",
      "selecting 30 simillar users...\n",
      "configuring movie formatting...\n",
      "creating the Graph...\n",
      "Staring training fo 30 iterations...\n"
     ]
    },
    {
     "name": "stderr",
     "output_type": "stream",
     "text": [
      "100%|███████████████████████████████████████████████████████████████████████████████████████████████████| 30/30 [00:00<00:00, 103.83it/s]\n"
     ]
    },
    {
     "name": "stdout",
     "output_type": "stream",
     "text": [
      "0\n",
      "Recommended ID's: [3353.0, 60069.0, 186.0, 7109.0, 2100.0]\n",
      "running training and testing for user 37\n",
      " --------------------------------------------\n",
      "importing datasets....\n",
      "selecting 30 simillar users...\n",
      "configuring movie formatting...\n",
      "creating the Graph...\n",
      "Staring training fo 30 iterations...\n"
     ]
    },
    {
     "name": "stderr",
     "output_type": "stream",
     "text": [
      "100%|████████████████████████████████████████████████████████████████████████████████████████████████████| 30/30 [00:00<00:00, 99.52it/s]\n"
     ]
    },
    {
     "name": "stdout",
     "output_type": "stream",
     "text": [
      "0\n",
      "Recommended ID's: [802.0, 186.0, 802.0, 1674.0, 2100.0]\n",
      "running training and testing for user 38\n",
      " --------------------------------------------\n",
      "importing datasets....\n",
      "selecting 30 simillar users...\n",
      "configuring movie formatting...\n",
      "creating the Graph...\n",
      "Staring training fo 30 iterations...\n"
     ]
    },
    {
     "name": "stderr",
     "output_type": "stream",
     "text": [
      "100%|███████████████████████████████████████████████████████████████████████████████████████████████████| 30/30 [00:00<00:00, 100.43it/s]\n"
     ]
    },
    {
     "name": "stdout",
     "output_type": "stream",
     "text": [
      "0\n",
      "Recommended ID's: [922.0, 60069.0, 2794.0, 2858.0, 3606.0]\n",
      "running training and testing for user 39\n",
      " --------------------------------------------\n",
      "importing datasets....\n",
      "selecting 30 simillar users...\n",
      "configuring movie formatting...\n",
      "creating the Graph...\n",
      "Staring training fo 30 iterations...\n"
     ]
    },
    {
     "name": "stderr",
     "output_type": "stream",
     "text": [
      "100%|███████████████████████████████████████████████████████████████████████████████████████████████████| 30/30 [00:00<00:00, 104.41it/s]\n"
     ]
    },
    {
     "name": "stdout",
     "output_type": "stream",
     "text": [
      "0\n",
      "Recommended ID's: [1917.0, 5878.0, 1917.0, 377.0, 2248.0]\n",
      "running training and testing for user 40\n",
      " --------------------------------------------\n",
      "importing datasets....\n",
      "selecting 30 simillar users...\n",
      "configuring movie formatting...\n",
      "creating the Graph...\n",
      "Staring training fo 30 iterations...\n"
     ]
    },
    {
     "name": "stderr",
     "output_type": "stream",
     "text": [
      "100%|███████████████████████████████████████████████████████████████████████████████████████████████████| 30/30 [00:00<00:00, 100.97it/s]\n"
     ]
    },
    {
     "name": "stdout",
     "output_type": "stream",
     "text": [
      "0\n",
      "Recommended ID's: [39.0, 5878.0, 74508.0, 94959.0, 3353.0]\n",
      "running training and testing for user 41\n",
      " --------------------------------------------\n",
      "importing datasets....\n",
      "selecting 30 simillar users...\n",
      "configuring movie formatting...\n",
      "creating the Graph...\n",
      "Staring training fo 30 iterations...\n"
     ]
    },
    {
     "name": "stderr",
     "output_type": "stream",
     "text": [
      "100%|████████████████████████████████████████████████████████████████████████████████████████████████████| 30/30 [00:00<00:00, 96.17it/s]\n"
     ]
    },
    {
     "name": "stdout",
     "output_type": "stream",
     "text": [
      "0\n",
      "Recommended ID's: [902.0, 6373.0, 122.0, 461.0, 1777.0]\n",
      "running training and testing for user 42\n",
      " --------------------------------------------\n",
      "importing datasets....\n",
      "selecting 30 simillar users...\n",
      "configuring movie formatting...\n",
      "creating the Graph...\n",
      "Staring training fo 30 iterations...\n"
     ]
    },
    {
     "name": "stderr",
     "output_type": "stream",
     "text": [
      "100%|███████████████████████████████████████████████████████████████████████████████████████████████████| 30/30 [00:00<00:00, 103.11it/s]\n"
     ]
    },
    {
     "name": "stdout",
     "output_type": "stream",
     "text": [
      "0\n",
      "Recommended ID's: [7486.0, 922.0, 5617.0, 802.0, 74508.0]\n",
      "running training and testing for user 43\n",
      " --------------------------------------------\n",
      "importing datasets....\n",
      "selecting 30 simillar users...\n",
      "configuring movie formatting...\n",
      "creating the Graph...\n",
      "Staring training fo 30 iterations...\n"
     ]
    },
    {
     "name": "stderr",
     "output_type": "stream",
     "text": [
      "100%|███████████████████████████████████████████████████████████████████████████████████████████████████| 30/30 [00:00<00:00, 109.42it/s]\n"
     ]
    },
    {
     "name": "stdout",
     "output_type": "stream",
     "text": [
      "0\n",
      "Recommended ID's: [5878.0, 4428.0, 2291.0, 186.0, 54259.0]\n",
      "running training and testing for user 44\n",
      " --------------------------------------------\n",
      "importing datasets....\n",
      "selecting 30 simillar users...\n",
      "configuring movie formatting...\n",
      "creating the Graph...\n",
      "Staring training fo 30 iterations...\n"
     ]
    },
    {
     "name": "stderr",
     "output_type": "stream",
     "text": [
      "100%|███████████████████████████████████████████████████████████████████████████████████████████████████| 30/30 [00:00<00:00, 104.00it/s]\n"
     ]
    },
    {
     "name": "stdout",
     "output_type": "stream",
     "text": [
      "0\n",
      "Recommended ID's: [1464.0, 2950.0, 802.0, 1674.0, 37729.0]\n",
      "running training and testing for user 45\n",
      " --------------------------------------------\n",
      "importing datasets....\n",
      "selecting 30 simillar users...\n",
      "configuring movie formatting...\n",
      "creating the Graph...\n",
      "Staring training fo 30 iterations...\n"
     ]
    },
    {
     "name": "stderr",
     "output_type": "stream",
     "text": [
      "100%|███████████████████████████████████████████████████████████████████████████████████████████████████| 30/30 [00:00<00:00, 106.25it/s]\n"
     ]
    },
    {
     "name": "stdout",
     "output_type": "stream",
     "text": [
      "0\n",
      "Recommended ID's: [8529.0, 2858.0, 186.0, 1257.0, 37729.0]\n",
      "running training and testing for user 46\n",
      " --------------------------------------------\n",
      "importing datasets....\n",
      "selecting 30 simillar users...\n",
      "configuring movie formatting...\n",
      "creating the Graph...\n",
      "Staring training fo 30 iterations...\n"
     ]
    },
    {
     "name": "stderr",
     "output_type": "stream",
     "text": [
      "100%|███████████████████████████████████████████████████████████████████████████████████████████████████| 30/30 [00:00<00:00, 106.69it/s]\n"
     ]
    },
    {
     "name": "stdout",
     "output_type": "stream",
     "text": [
      "0\n",
      "Recommended ID's: [75805.0, 8916.0, 902.0, 5693.0, 76293.0]\n",
      "running training and testing for user 47\n",
      " --------------------------------------------\n",
      "importing datasets....\n",
      "selecting 30 simillar users...\n",
      "configuring movie formatting...\n",
      "creating the Graph...\n",
      "Staring training fo 30 iterations...\n"
     ]
    },
    {
     "name": "stderr",
     "output_type": "stream",
     "text": [
      "100%|███████████████████████████████████████████████████████████████████████████████████████████████████| 30/30 [00:00<00:00, 102.83it/s]\n"
     ]
    },
    {
     "name": "stdout",
     "output_type": "stream",
     "text": [
      "0\n",
      "Recommended ID's: [2248.0, 922.0, 2081.0, 361.0, 5177.0]\n",
      "running training and testing for user 48\n",
      " --------------------------------------------\n",
      "importing datasets....\n",
      "selecting 30 simillar users...\n",
      "configuring movie formatting...\n",
      "creating the Graph...\n",
      "Staring training fo 30 iterations...\n"
     ]
    },
    {
     "name": "stderr",
     "output_type": "stream",
     "text": [
      "100%|███████████████████████████████████████████████████████████████████████████████████████████████████| 30/30 [00:00<00:00, 104.15it/s]\n"
     ]
    },
    {
     "name": "stdout",
     "output_type": "stream",
     "text": [
      "0\n",
      "Recommended ID's: [912.0, 5617.0, 186.0, 461.0, 2950.0]\n",
      "running training and testing for user 49\n",
      " --------------------------------------------\n",
      "importing datasets....\n",
      "selecting 30 simillar users...\n",
      "configuring movie formatting...\n",
      "creating the Graph...\n",
      "Staring training fo 30 iterations...\n"
     ]
    },
    {
     "name": "stderr",
     "output_type": "stream",
     "text": [
      "100%|███████████████████████████████████████████████████████████████████████████████████████████████████| 30/30 [00:00<00:00, 104.08it/s]\n"
     ]
    },
    {
     "name": "stdout",
     "output_type": "stream",
     "text": [
      "0\n",
      "Recommended ID's: [2485.0, 2485.0, 60069.0, 708.0, 1257.0]\n",
      "genre: Romance\n",
      "overall accuracy is 0.65\n",
      "running training and testing for user 0\n",
      " --------------------------------------------\n",
      "importing datasets....\n",
      "selecting 30 simillar users...\n",
      "configuring movie formatting...\n",
      "creating the Graph...\n",
      "Staring training fo 30 iterations...\n"
     ]
    },
    {
     "name": "stderr",
     "output_type": "stream",
     "text": [
      "100%|████████████████████████████████████████████████████████████████████████████████████████████████████| 30/30 [00:00<00:00, 58.91it/s]\n"
     ]
    },
    {
     "name": "stdout",
     "output_type": "stream",
     "text": [
      "0\n",
      "Recommended ID's: [94780.0, 2866.0, 912.0, 858.0, 8964.0]\n",
      "running training and testing for user 1\n",
      " --------------------------------------------\n",
      "importing datasets....\n",
      "selecting 30 simillar users...\n",
      "configuring movie formatting...\n",
      "creating the Graph...\n",
      "Staring training fo 30 iterations...\n"
     ]
    },
    {
     "name": "stderr",
     "output_type": "stream",
     "text": [
      "100%|████████████████████████████████████████████████████████████████████████████████████████████████████| 30/30 [00:00<00:00, 55.84it/s]\n"
     ]
    },
    {
     "name": "stdout",
     "output_type": "stream",
     "text": [
      "0\n",
      "Recommended ID's: [139385.0, 6992.0, 1674.0, 1950.0, 2467.0]\n",
      "running training and testing for user 2\n",
      " --------------------------------------------\n",
      "importing datasets....\n",
      "selecting 30 simillar users...\n",
      "configuring movie formatting...\n",
      "creating the Graph...\n",
      "Staring training fo 30 iterations...\n"
     ]
    },
    {
     "name": "stderr",
     "output_type": "stream",
     "text": [
      "100%|████████████████████████████████████████████████████████████████████████████████████████████████████| 30/30 [00:00<00:00, 54.36it/s]\n"
     ]
    },
    {
     "name": "stdout",
     "output_type": "stream",
     "text": [
      "0\n",
      "Recommended ID's: [6538.0, 7438.0, 3967.0, 4273.0, 2248.0]\n",
      "running training and testing for user 3\n",
      " --------------------------------------------\n",
      "importing datasets....\n",
      "selecting 30 simillar users...\n",
      "configuring movie formatting...\n",
      "creating the Graph...\n",
      "Staring training fo 30 iterations...\n"
     ]
    },
    {
     "name": "stderr",
     "output_type": "stream",
     "text": [
      "100%|████████████████████████████████████████████████████████████████████████████████████████████████████| 30/30 [00:00<00:00, 54.25it/s]\n"
     ]
    },
    {
     "name": "stdout",
     "output_type": "stream",
     "text": [
      "0\n",
      "Recommended ID's: [68954.0, 44199.0, 5878.0, 2272.0, 1711.0]\n",
      "running training and testing for user 4\n",
      " --------------------------------------------\n",
      "importing datasets....\n",
      "selecting 30 simillar users...\n",
      "configuring movie formatting...\n",
      "creating the Graph...\n",
      "Staring training fo 30 iterations...\n"
     ]
    },
    {
     "name": "stderr",
     "output_type": "stream",
     "text": [
      "100%|████████████████████████████████████████████████████████████████████████████████████████████████████| 30/30 [00:00<00:00, 51.86it/s]\n"
     ]
    },
    {
     "name": "stdout",
     "output_type": "stream",
     "text": [
      "0\n",
      "Recommended ID's: [6538.0, 107406.0, 1950.0, 2411.0, 57669.0]\n",
      "running training and testing for user 5\n",
      " --------------------------------------------\n",
      "importing datasets....\n",
      "selecting 30 simillar users...\n",
      "configuring movie formatting...\n",
      "creating the Graph...\n",
      "Staring training fo 30 iterations...\n"
     ]
    },
    {
     "name": "stderr",
     "output_type": "stream",
     "text": [
      "100%|████████████████████████████████████████████████████████████████████████████████████████████████████| 30/30 [00:00<00:00, 56.94it/s]\n"
     ]
    },
    {
     "name": "stdout",
     "output_type": "stream",
     "text": [
      "0\n",
      "Recommended ID's: [48560.0, 5878.0, 1276.0, 640.0, 2858.0]\n",
      "running training and testing for user 6\n",
      " --------------------------------------------\n",
      "importing datasets....\n",
      "selecting 30 simillar users...\n",
      "configuring movie formatting...\n",
      "creating the Graph...\n",
      "Staring training fo 30 iterations...\n"
     ]
    },
    {
     "name": "stderr",
     "output_type": "stream",
     "text": [
      "100%|████████████████████████████████████████████████████████████████████████████████████████████████████| 30/30 [00:00<00:00, 53.99it/s]\n"
     ]
    },
    {
     "name": "stdout",
     "output_type": "stream",
     "text": [
      "0\n",
      "Recommended ID's: [5878.0, 48516.0, 2858.0, 640.0, 7438.0]\n",
      "running training and testing for user 7\n",
      " --------------------------------------------\n",
      "importing datasets....\n",
      "selecting 30 simillar users...\n",
      "configuring movie formatting...\n",
      "creating the Graph...\n",
      "Staring training fo 30 iterations...\n"
     ]
    },
    {
     "name": "stderr",
     "output_type": "stream",
     "text": [
      "100%|████████████████████████████████████████████████████████████████████████████████████████████████████| 30/30 [00:00<00:00, 52.85it/s]\n"
     ]
    },
    {
     "name": "stdout",
     "output_type": "stream",
     "text": [
      "0\n",
      "Recommended ID's: [139385.0, 7160.0, 1206.0, 6216.0, 2866.0]\n",
      "running training and testing for user 8\n",
      " --------------------------------------------\n",
      "importing datasets....\n",
      "selecting 30 simillar users...\n",
      "configuring movie formatting...\n",
      "creating the Graph...\n",
      "Staring training fo 30 iterations...\n"
     ]
    },
    {
     "name": "stderr",
     "output_type": "stream",
     "text": [
      "100%|████████████████████████████████████████████████████████████████████████████████████████████████████| 30/30 [00:00<00:00, 55.49it/s]\n"
     ]
    },
    {
     "name": "stdout",
     "output_type": "stream",
     "text": [
      "0\n",
      "Recommended ID's: [3730.0, 461.0, 1221.0, 1950.0, 5617.0]\n",
      "running training and testing for user 9\n",
      " --------------------------------------------\n",
      "importing datasets....\n",
      "selecting 30 simillar users...\n",
      "configuring movie formatting...\n",
      "creating the Graph...\n",
      "Staring training fo 30 iterations...\n"
     ]
    },
    {
     "name": "stderr",
     "output_type": "stream",
     "text": [
      "100%|████████████████████████████████████████████████████████████████████████████████████████████████████| 30/30 [00:00<00:00, 54.19it/s]\n"
     ]
    },
    {
     "name": "stdout",
     "output_type": "stream",
     "text": [
      "0\n",
      "Recommended ID's: [8964.0, 8014.0, 159.0, 89087.0, 7748.0]\n",
      "running training and testing for user 10\n",
      " --------------------------------------------\n",
      "importing datasets....\n",
      "selecting 30 simillar users...\n",
      "configuring movie formatting...\n",
      "creating the Graph...\n",
      "Staring training fo 30 iterations...\n"
     ]
    },
    {
     "name": "stderr",
     "output_type": "stream",
     "text": [
      "100%|████████████████████████████████████████████████████████████████████████████████████████████████████| 30/30 [00:00<00:00, 55.77it/s]\n"
     ]
    },
    {
     "name": "stdout",
     "output_type": "stream",
     "text": [
      "0\n",
      "Recommended ID's: [8964.0, 858.0, 1674.0, 148626.0, 1300.0]\n",
      "running training and testing for user 11\n",
      " --------------------------------------------\n",
      "importing datasets....\n",
      "selecting 30 simillar users...\n",
      "configuring movie formatting...\n",
      "creating the Graph...\n",
      "Staring training fo 30 iterations...\n"
     ]
    },
    {
     "name": "stderr",
     "output_type": "stream",
     "text": [
      "100%|████████████████████████████████████████████████████████████████████████████████████████████████████| 30/30 [00:00<00:00, 53.19it/s]\n"
     ]
    },
    {
     "name": "stdout",
     "output_type": "stream",
     "text": [
      "0\n",
      "Recommended ID's: [7707.0, 922.0, 2761.0, 2097.0, 89087.0]\n",
      "running training and testing for user 12\n",
      " --------------------------------------------\n",
      "importing datasets....\n",
      "selecting 30 simillar users...\n",
      "configuring movie formatting...\n",
      "creating the Graph...\n",
      "Staring training fo 30 iterations...\n"
     ]
    },
    {
     "name": "stderr",
     "output_type": "stream",
     "text": [
      "100%|████████████████████████████████████████████████████████████████████████████████████████████████████| 30/30 [00:00<00:00, 56.45it/s]\n"
     ]
    },
    {
     "name": "stdout",
     "output_type": "stream",
     "text": [
      "0\n",
      "Recommended ID's: [6216.0, 1921.0, 3006.0, 6992.0, 1950.0]\n",
      "running training and testing for user 13\n",
      " --------------------------------------------\n",
      "importing datasets....\n",
      "selecting 30 simillar users...\n",
      "configuring movie formatting...\n",
      "creating the Graph...\n",
      "Staring training fo 30 iterations...\n"
     ]
    },
    {
     "name": "stderr",
     "output_type": "stream",
     "text": [
      "100%|████████████████████████████████████████████████████████████████████████████████████████████████████| 30/30 [00:00<00:00, 54.71it/s]\n"
     ]
    },
    {
     "name": "stdout",
     "output_type": "stream",
     "text": [
      "0\n",
      "Recommended ID's: [74508.0, 3967.0, 3794.0, 912.0, 6971.0]\n",
      "running training and testing for user 14\n",
      " --------------------------------------------\n",
      "importing datasets....\n",
      "selecting 30 simillar users...\n",
      "configuring movie formatting...\n",
      "creating the Graph...\n",
      "Staring training fo 30 iterations...\n"
     ]
    },
    {
     "name": "stderr",
     "output_type": "stream",
     "text": [
      "100%|████████████████████████████████████████████████████████████████████████████████████████████████████| 30/30 [00:00<00:00, 53.91it/s]\n"
     ]
    },
    {
     "name": "stdout",
     "output_type": "stream",
     "text": [
      "0\n",
      "Recommended ID's: [3967.0, 68954.0, 7707.0, 802.0, 148626.0]\n",
      "running training and testing for user 15\n",
      " --------------------------------------------\n",
      "importing datasets....\n",
      "selecting 30 simillar users...\n",
      "configuring movie formatting...\n",
      "creating the Graph...\n",
      "Staring training fo 30 iterations...\n"
     ]
    },
    {
     "name": "stderr",
     "output_type": "stream",
     "text": [
      "100%|████████████████████████████████████████████████████████████████████████████████████████████████████| 30/30 [00:00<00:00, 55.75it/s]\n"
     ]
    },
    {
     "name": "stdout",
     "output_type": "stream",
     "text": [
      "0\n",
      "Recommended ID's: [5878.0, 902.0, 89087.0, 107406.0, 2866.0]\n",
      "running training and testing for user 16\n",
      " --------------------------------------------\n",
      "importing datasets....\n",
      "selecting 30 simillar users...\n",
      "configuring movie formatting...\n",
      "creating the Graph...\n",
      "Staring training fo 30 iterations...\n"
     ]
    },
    {
     "name": "stderr",
     "output_type": "stream",
     "text": [
      "100%|████████████████████████████████████████████████████████████████████████████████████████████████████| 30/30 [00:00<00:00, 55.90it/s]\n"
     ]
    },
    {
     "name": "stdout",
     "output_type": "stream",
     "text": [
      "0\n",
      "Recommended ID's: [48516.0, 858.0, 3409.0, 2097.0, 7707.0]\n",
      "running training and testing for user 17\n",
      " --------------------------------------------\n",
      "importing datasets....\n",
      "selecting 30 simillar users...\n",
      "configuring movie formatting...\n",
      "creating the Graph...\n",
      "Staring training fo 30 iterations...\n"
     ]
    },
    {
     "name": "stderr",
     "output_type": "stream",
     "text": [
      "100%|████████████████████████████████████████████████████████████████████████████████████████████████████| 30/30 [00:00<00:00, 55.91it/s]\n"
     ]
    },
    {
     "name": "stdout",
     "output_type": "stream",
     "text": [
      "0\n",
      "Recommended ID's: [6992.0, 3730.0, 2761.0, 3681.0, 922.0]\n",
      "running training and testing for user 18\n",
      " --------------------------------------------\n",
      "importing datasets....\n",
      "selecting 30 simillar users...\n",
      "configuring movie formatting...\n",
      "creating the Graph...\n",
      "Staring training fo 30 iterations...\n"
     ]
    },
    {
     "name": "stderr",
     "output_type": "stream",
     "text": [
      "100%|████████████████████████████████████████████████████████████████████████████████████████████████████| 30/30 [00:00<00:00, 52.42it/s]\n"
     ]
    },
    {
     "name": "stdout",
     "output_type": "stream",
     "text": [
      "0\n",
      "Recommended ID's: [4029.0, 3526.0, 1921.0, 2442.0, 3681.0]\n",
      "running training and testing for user 19\n",
      " --------------------------------------------\n",
      "importing datasets....\n",
      "selecting 30 simillar users...\n",
      "configuring movie formatting...\n",
      "creating the Graph...\n",
      "Staring training fo 30 iterations...\n"
     ]
    },
    {
     "name": "stderr",
     "output_type": "stream",
     "text": [
      "100%|████████████████████████████████████████████████████████████████████████████████████████████████████| 30/30 [00:00<00:00, 52.53it/s]\n"
     ]
    },
    {
     "name": "stdout",
     "output_type": "stream",
     "text": [
      "0\n",
      "Recommended ID's: [858.0, 2291.0, 3105.0, 5693.0, 5617.0]\n",
      "running training and testing for user 20\n",
      " --------------------------------------------\n",
      "importing datasets....\n",
      "selecting 30 simillar users...\n",
      "configuring movie formatting...\n",
      "creating the Graph...\n",
      "Staring training fo 30 iterations...\n"
     ]
    },
    {
     "name": "stderr",
     "output_type": "stream",
     "text": [
      "100%|████████████████████████████████████████████████████████████████████████████████████████████████████| 30/30 [00:00<00:00, 56.46it/s]\n"
     ]
    },
    {
     "name": "stdout",
     "output_type": "stream",
     "text": [
      "0\n",
      "Recommended ID's: [3105.0, 5055.0, 89087.0, 587.0, 79.0]\n",
      "running training and testing for user 21\n",
      " --------------------------------------------\n",
      "importing datasets....\n",
      "selecting 30 simillar users...\n",
      "configuring movie formatting...\n",
      "creating the Graph...\n",
      "Staring training fo 30 iterations...\n"
     ]
    },
    {
     "name": "stderr",
     "output_type": "stream",
     "text": [
      "100%|████████████████████████████████████████████████████████████████████████████████████████████████████| 30/30 [00:00<00:00, 55.41it/s]\n"
     ]
    },
    {
     "name": "stdout",
     "output_type": "stream",
     "text": [
      "0\n",
      "Recommended ID's: [1050.0, 11.0, 2000.0, 2866.0, 89087.0]\n",
      "running training and testing for user 22\n",
      " --------------------------------------------\n",
      "importing datasets....\n",
      "selecting 30 simillar users...\n",
      "configuring movie formatting...\n",
      "creating the Graph...\n",
      "Staring training fo 30 iterations...\n"
     ]
    },
    {
     "name": "stderr",
     "output_type": "stream",
     "text": [
      "100%|████████████████████████████████████████████████████████████████████████████████████████████████████| 30/30 [00:00<00:00, 53.59it/s]\n"
     ]
    },
    {
     "name": "stdout",
     "output_type": "stream",
     "text": [
      "0\n",
      "Recommended ID's: [5177.0, 2000.0, 2272.0, 48516.0, 1276.0]\n",
      "running training and testing for user 23\n",
      " --------------------------------------------\n",
      "importing datasets....\n",
      "selecting 30 simillar users...\n",
      "configuring movie formatting...\n",
      "creating the Graph...\n",
      "Staring training fo 30 iterations...\n"
     ]
    },
    {
     "name": "stderr",
     "output_type": "stream",
     "text": [
      "100%|████████████████████████████████████████████████████████████████████████████████████████████████████| 30/30 [00:00<00:00, 52.77it/s]\n"
     ]
    },
    {
     "name": "stdout",
     "output_type": "stream",
     "text": [
      "0\n",
      "Recommended ID's: [3900, 3006.0, 5267.0, 1960.0, 8529.0]\n",
      "running training and testing for user 24\n",
      " --------------------------------------------\n",
      "importing datasets....\n",
      "selecting 30 simillar users...\n",
      "configuring movie formatting...\n",
      "creating the Graph...\n",
      "Staring training fo 30 iterations...\n"
     ]
    },
    {
     "name": "stderr",
     "output_type": "stream",
     "text": [
      "100%|████████████████████████████████████████████████████████████████████████████████████████████████████| 30/30 [00:00<00:00, 56.72it/s]\n"
     ]
    },
    {
     "name": "stdout",
     "output_type": "stream",
     "text": [
      "0\n",
      "Recommended ID's: [2248.0, 2467.0, 2950.0, 5329.0, 5065.0]\n",
      "running training and testing for user 25\n",
      " --------------------------------------------\n",
      "importing datasets....\n",
      "selecting 30 simillar users...\n",
      "configuring movie formatting...\n",
      "creating the Graph...\n",
      "Staring training fo 30 iterations...\n"
     ]
    },
    {
     "name": "stderr",
     "output_type": "stream",
     "text": [
      "100%|████████████████████████████████████████████████████████████████████████████████████████████████████| 30/30 [00:00<00:00, 56.61it/s]\n"
     ]
    },
    {
     "name": "stdout",
     "output_type": "stream",
     "text": [
      "0\n",
      "Recommended ID's: [4428.0, 6992.0, 1047.0, 2866.0, 2291.0]\n",
      "running training and testing for user 26\n",
      " --------------------------------------------\n",
      "importing datasets....\n",
      "selecting 30 simillar users...\n",
      "configuring movie formatting...\n",
      "creating the Graph...\n",
      "Staring training fo 30 iterations...\n"
     ]
    },
    {
     "name": "stderr",
     "output_type": "stream",
     "text": [
      "100%|████████████████████████████████████████████████████████████████████████████████████████████████████| 30/30 [00:00<00:00, 54.41it/s]\n"
     ]
    },
    {
     "name": "stdout",
     "output_type": "stream",
     "text": [
      "0\n",
      "Recommended ID's: [6477.0, 86644.0, 6992.0, 5878.0, 1956.0]\n",
      "running training and testing for user 27\n",
      " --------------------------------------------\n",
      "importing datasets....\n",
      "selecting 30 simillar users...\n",
      "configuring movie formatting...\n",
      "creating the Graph...\n",
      "Staring training fo 30 iterations...\n"
     ]
    },
    {
     "name": "stderr",
     "output_type": "stream",
     "text": [
      "100%|████████████████████████████████████████████████████████████████████████████████████████████████████| 30/30 [00:00<00:00, 54.33it/s]\n"
     ]
    },
    {
     "name": "stdout",
     "output_type": "stream",
     "text": [
      "0\n",
      "Recommended ID's: [107406.0, 148626.0, 7486.0, 1921.0, 2467.0]\n",
      "running training and testing for user 28\n",
      " --------------------------------------------\n",
      "importing datasets....\n",
      "selecting 30 simillar users...\n",
      "configuring movie formatting...\n",
      "creating the Graph...\n",
      "Staring training fo 30 iterations...\n"
     ]
    },
    {
     "name": "stderr",
     "output_type": "stream",
     "text": [
      "100%|████████████████████████████████████████████████████████████████████████████████████████████████████| 30/30 [00:00<00:00, 56.09it/s]\n"
     ]
    },
    {
     "name": "stdout",
     "output_type": "stream",
     "text": [
      "0\n",
      "Recommended ID's: [11.0, 3006.0, 57669.0, 1950.0, 3105.0]\n",
      "running training and testing for user 29\n",
      " --------------------------------------------\n",
      "importing datasets....\n",
      "selecting 30 simillar users...\n",
      "configuring movie formatting...\n",
      "creating the Graph...\n",
      "Staring training fo 30 iterations...\n"
     ]
    },
    {
     "name": "stderr",
     "output_type": "stream",
     "text": [
      "100%|████████████████████████████████████████████████████████████████████████████████████████████████████| 30/30 [00:00<00:00, 55.91it/s]\n"
     ]
    },
    {
     "name": "stdout",
     "output_type": "stream",
     "text": [
      "0\n",
      "Recommended ID's: [2858.0, 922.0, 4406.0, 1221.0, 8964.0]\n",
      "running training and testing for user 30\n",
      " --------------------------------------------\n",
      "importing datasets....\n",
      "selecting 30 simillar users...\n",
      "configuring movie formatting...\n",
      "creating the Graph...\n",
      "Staring training fo 30 iterations...\n"
     ]
    },
    {
     "name": "stderr",
     "output_type": "stream",
     "text": [
      "100%|████████████████████████████████████████████████████████████████████████████████████████████████████| 30/30 [00:00<00:00, 49.63it/s]\n"
     ]
    },
    {
     "name": "stdout",
     "output_type": "stream",
     "text": [
      "0\n",
      "Recommended ID's: [8014.0, 4612.0, 2000.0, 2866.0, 4406.0]\n",
      "running training and testing for user 31\n",
      " --------------------------------------------\n",
      "importing datasets....\n",
      "selecting 30 simillar users...\n",
      "configuring movie formatting...\n",
      "creating the Graph...\n",
      "Staring training fo 30 iterations...\n"
     ]
    },
    {
     "name": "stderr",
     "output_type": "stream",
     "text": [
      "100%|████████████████████████████████████████████████████████████████████████████████████████████████████| 30/30 [00:00<00:00, 55.64it/s]\n"
     ]
    },
    {
     "name": "stdout",
     "output_type": "stream",
     "text": [
      "0\n",
      "Recommended ID's: [7297.0, 6373.0, 48560.0, 57669.0, 1082.0]\n",
      "running training and testing for user 32\n",
      " --------------------------------------------\n",
      "importing datasets....\n",
      "selecting 30 simillar users...\n",
      "configuring movie formatting...\n",
      "creating the Graph...\n",
      "Staring training fo 30 iterations...\n"
     ]
    },
    {
     "name": "stderr",
     "output_type": "stream",
     "text": [
      "100%|████████████████████████████████████████████████████████████████████████████████████████████████████| 30/30 [00:00<00:00, 54.12it/s]\n"
     ]
    },
    {
     "name": "stdout",
     "output_type": "stream",
     "text": [
      "0\n",
      "Recommended ID's: [8964.0, 1206.0, 5329.0, 7160.0, 587.0]\n",
      "running training and testing for user 33\n",
      " --------------------------------------------\n",
      "importing datasets....\n",
      "selecting 30 simillar users...\n",
      "configuring movie formatting...\n",
      "creating the Graph...\n",
      "Staring training fo 30 iterations...\n"
     ]
    },
    {
     "name": "stderr",
     "output_type": "stream",
     "text": [
      "100%|████████████████████████████████████████████████████████████████████████████████████████████████████| 30/30 [00:00<00:00, 56.50it/s]\n"
     ]
    },
    {
     "name": "stdout",
     "output_type": "stream",
     "text": [
      "0\n",
      "Recommended ID's: [1300.0, 3526.0, 5329.0, 1300.0, 5694.0]\n",
      "running training and testing for user 34\n",
      " --------------------------------------------\n",
      "importing datasets....\n",
      "selecting 30 simillar users...\n",
      "configuring movie formatting...\n",
      "creating the Graph...\n",
      "Staring training fo 30 iterations...\n"
     ]
    },
    {
     "name": "stderr",
     "output_type": "stream",
     "text": [
      "100%|████████████████████████████████████████████████████████████████████████████████████████████████████| 30/30 [00:00<00:00, 55.02it/s]\n"
     ]
    },
    {
     "name": "stdout",
     "output_type": "stream",
     "text": [
      "0\n",
      "Recommended ID's: [2950.0, 7486.0, 587.0, 7160.0, 139385.0]\n",
      "running training and testing for user 35\n",
      " --------------------------------------------\n",
      "importing datasets....\n",
      "selecting 30 simillar users...\n",
      "configuring movie formatting...\n",
      "creating the Graph...\n",
      "Staring training fo 30 iterations...\n"
     ]
    },
    {
     "name": "stderr",
     "output_type": "stream",
     "text": [
      "100%|████████████████████████████████████████████████████████████████████████████████████████████████████| 30/30 [00:00<00:00, 58.15it/s]\n"
     ]
    },
    {
     "name": "stdout",
     "output_type": "stream",
     "text": [
      "0\n",
      "Recommended ID's: [4428.0, 4428.0, 44199.0, 2862.0, 7438.0]\n",
      "running training and testing for user 36\n",
      " --------------------------------------------\n",
      "importing datasets....\n",
      "selecting 30 simillar users...\n",
      "configuring movie formatting...\n",
      "creating the Graph...\n",
      "Staring training fo 30 iterations...\n"
     ]
    },
    {
     "name": "stderr",
     "output_type": "stream",
     "text": [
      "100%|████████████████████████████████████████████████████████████████████████████████████████████████████| 30/30 [00:00<00:00, 55.69it/s]\n"
     ]
    },
    {
     "name": "stdout",
     "output_type": "stream",
     "text": [
      "0\n",
      "Recommended ID's: [5065.0, 4273.0, 802.0, 2097.0, 6992.0]\n",
      "running training and testing for user 37\n",
      " --------------------------------------------\n",
      "importing datasets....\n",
      "selecting 30 simillar users...\n",
      "configuring movie formatting...\n",
      "creating the Graph...\n",
      "Staring training fo 30 iterations...\n"
     ]
    },
    {
     "name": "stderr",
     "output_type": "stream",
     "text": [
      "100%|████████████████████████████████████████████████████████████████████████████████████████████████████| 30/30 [00:00<00:00, 56.44it/s]\n"
     ]
    },
    {
     "name": "stdout",
     "output_type": "stream",
     "text": [
      "0\n",
      "Recommended ID's: [5329.0, 2097.0, 361.0, 5694.0, 1206.0]\n",
      "running training and testing for user 38\n",
      " --------------------------------------------\n",
      "importing datasets....\n",
      "selecting 30 simillar users...\n",
      "configuring movie formatting...\n",
      "creating the Graph...\n",
      "Staring training fo 30 iterations...\n"
     ]
    },
    {
     "name": "stderr",
     "output_type": "stream",
     "text": [
      "100%|████████████████████████████████████████████████████████████████████████████████████████████████████| 30/30 [00:00<00:00, 55.38it/s]\n"
     ]
    },
    {
     "name": "stdout",
     "output_type": "stream",
     "text": [
      "0\n",
      "Recommended ID's: [1960.0, 2411.0, 68954.0, 1300.0, 43744.0]\n",
      "running training and testing for user 39\n",
      " --------------------------------------------\n",
      "importing datasets....\n",
      "selecting 30 simillar users...\n",
      "configuring movie formatting...\n",
      "creating the Graph...\n",
      "Staring training fo 30 iterations...\n"
     ]
    },
    {
     "name": "stderr",
     "output_type": "stream",
     "text": [
      "100%|████████████████████████████████████████████████████████████████████████████████████████████████████| 30/30 [00:00<00:00, 57.45it/s]\n"
     ]
    },
    {
     "name": "stdout",
     "output_type": "stream",
     "text": [
      "0\n",
      "Recommended ID's: [6373.0, 4273.0, 949.0, 8529.0, 7364.0]\n",
      "running training and testing for user 40\n",
      " --------------------------------------------\n",
      "importing datasets....\n",
      "selecting 30 simillar users...\n",
      "configuring movie formatting...\n",
      "creating the Graph...\n",
      "Staring training fo 30 iterations...\n"
     ]
    },
    {
     "name": "stderr",
     "output_type": "stream",
     "text": [
      "100%|████████████████████████████████████████████████████████████████████████████████████████████████████| 30/30 [00:00<00:00, 56.62it/s]\n"
     ]
    },
    {
     "name": "stdout",
     "output_type": "stream",
     "text": [
      "0\n",
      "Recommended ID's: [44199.0, 923.0, 3730.0, 3681.0, 640.0]\n",
      "running training and testing for user 41\n",
      " --------------------------------------------\n",
      "importing datasets....\n",
      "selecting 30 simillar users...\n",
      "configuring movie formatting...\n",
      "creating the Graph...\n",
      "Staring training fo 30 iterations...\n"
     ]
    },
    {
     "name": "stderr",
     "output_type": "stream",
     "text": [
      "100%|████████████████████████████████████████████████████████████████████████████████████████████████████| 30/30 [00:00<00:00, 52.77it/s]\n"
     ]
    },
    {
     "name": "stdout",
     "output_type": "stream",
     "text": [
      "0\n",
      "Recommended ID's: [86644.0, 6216.0, 7748.0, 89087.0, 6818.0]\n",
      "running training and testing for user 42\n",
      " --------------------------------------------\n",
      "importing datasets....\n",
      "selecting 30 simillar users...\n",
      "configuring movie formatting...\n",
      "creating the Graph...\n",
      "Staring training fo 30 iterations...\n"
     ]
    },
    {
     "name": "stderr",
     "output_type": "stream",
     "text": [
      "100%|████████████████████████████████████████████████████████████████████████████████████████████████████| 30/30 [00:00<00:00, 58.22it/s]\n"
     ]
    },
    {
     "name": "stdout",
     "output_type": "stream",
     "text": [
      "0\n",
      "Recommended ID's: [1711.0, 1956.0, 4273.0, 2000.0, 3409.0]\n",
      "running training and testing for user 43\n",
      " --------------------------------------------\n",
      "importing datasets....\n",
      "selecting 30 simillar users...\n",
      "configuring movie formatting...\n",
      "creating the Graph...\n",
      "Staring training fo 30 iterations...\n"
     ]
    },
    {
     "name": "stderr",
     "output_type": "stream",
     "text": [
      "100%|████████████████████████████████████████████████████████████████████████████████████████████████████| 30/30 [00:00<00:00, 56.07it/s]\n"
     ]
    },
    {
     "name": "stdout",
     "output_type": "stream",
     "text": [
      "0\n",
      "Recommended ID's: [68954.0, 640.0, 3107.0, 1960.0, 1711.0]\n",
      "running training and testing for user 44\n",
      " --------------------------------------------\n",
      "importing datasets....\n",
      "selecting 30 simillar users...\n",
      "configuring movie formatting...\n",
      "creating the Graph...\n",
      "Staring training fo 30 iterations...\n"
     ]
    },
    {
     "name": "stderr",
     "output_type": "stream",
     "text": [
      "100%|████████████████████████████████████████████████████████████████████████████████████████████████████| 30/30 [00:00<00:00, 57.01it/s]\n"
     ]
    },
    {
     "name": "stdout",
     "output_type": "stream",
     "text": [
      "0\n",
      "Recommended ID's: [4406.0, 7297.0, 4406.0, 5693.0, 4406.0]\n",
      "running training and testing for user 45\n",
      " --------------------------------------------\n",
      "importing datasets....\n",
      "selecting 30 simillar users...\n",
      "configuring movie formatting...\n",
      "creating the Graph...\n",
      "Staring training fo 30 iterations...\n"
     ]
    },
    {
     "name": "stderr",
     "output_type": "stream",
     "text": [
      "100%|████████████████████████████████████████████████████████████████████████████████████████████████████| 30/30 [00:00<00:00, 55.63it/s]\n"
     ]
    },
    {
     "name": "stdout",
     "output_type": "stream",
     "text": [
      "0\n",
      "Recommended ID's: [6477.0, 949.0, 1082.0, 6992.0, 1674.0]\n",
      "running training and testing for user 46\n",
      " --------------------------------------------\n",
      "importing datasets....\n",
      "selecting 30 simillar users...\n",
      "configuring movie formatting...\n",
      "creating the Graph...\n",
      "Staring training fo 30 iterations...\n"
     ]
    },
    {
     "name": "stderr",
     "output_type": "stream",
     "text": [
      "100%|████████████████████████████████████████████████████████████████████████████████████████████████████| 30/30 [00:00<00:00, 54.79it/s]\n"
     ]
    },
    {
     "name": "stdout",
     "output_type": "stream",
     "text": [
      "0\n",
      "Recommended ID's: [2097.0, 1950.0, 1674.0, 1639.0, 2248.0]\n",
      "running training and testing for user 47\n",
      " --------------------------------------------\n",
      "importing datasets....\n",
      "selecting 30 simillar users...\n",
      "configuring movie formatting...\n",
      "creating the Graph...\n",
      "Staring training fo 30 iterations...\n"
     ]
    },
    {
     "name": "stderr",
     "output_type": "stream",
     "text": [
      "100%|████████████████████████████████████████████████████████████████████████████████████████████████████| 30/30 [00:00<00:00, 53.75it/s]\n"
     ]
    },
    {
     "name": "stdout",
     "output_type": "stream",
     "text": [
      "0\n",
      "Recommended ID's: [44199.0, 922.0, 2467.0, 1206.0, 43744.0]\n",
      "running training and testing for user 48\n",
      " --------------------------------------------\n",
      "importing datasets....\n",
      "selecting 30 simillar users...\n",
      "configuring movie formatting...\n",
      "creating the Graph...\n",
      "Staring training fo 30 iterations...\n"
     ]
    },
    {
     "name": "stderr",
     "output_type": "stream",
     "text": [
      "100%|████████████████████████████████████████████████████████████████████████████████████████████████████| 30/30 [00:00<00:00, 53.08it/s]\n"
     ]
    },
    {
     "name": "stdout",
     "output_type": "stream",
     "text": [
      "0\n",
      "Recommended ID's: [1206.0, 3409.0, 3409.0, 8964.0, 3105.0]\n",
      "running training and testing for user 49\n",
      " --------------------------------------------\n",
      "importing datasets....\n",
      "selecting 30 simillar users...\n",
      "configuring movie formatting...\n",
      "creating the Graph...\n",
      "Staring training fo 30 iterations...\n"
     ]
    },
    {
     "name": "stderr",
     "output_type": "stream",
     "text": [
      "100%|████████████████████████████████████████████████████████████████████████████████████████████████████| 30/30 [00:00<00:00, 57.13it/s]\n"
     ]
    },
    {
     "name": "stdout",
     "output_type": "stream",
     "text": [
      "0\n",
      "Recommended ID's: [6477.0, 361.0, 1711.0, 1206.0, 3681.0]\n",
      "genre: Drama\n",
      "overall accuracy is 0.7333333333333334\n",
      "running training and testing for user 0\n",
      " --------------------------------------------\n",
      "importing datasets....\n",
      "selecting 30 simillar users...\n",
      "configuring movie formatting...\n",
      "creating the Graph...\n",
      "Staring training fo 30 iterations...\n"
     ]
    },
    {
     "name": "stderr",
     "output_type": "stream",
     "text": [
      "100%|███████████████████████████████████████████████████████████████████████████████████████████████████| 30/30 [00:00<00:00, 100.78it/s]\n"
     ]
    },
    {
     "name": "stdout",
     "output_type": "stream",
     "text": [
      "0\n",
      "Recommended ID's: [1037.0, 2683.0, 112.0, 1676.0, 1676.0]\n",
      "running training and testing for user 1\n",
      " --------------------------------------------\n",
      "importing datasets....\n",
      "selecting 30 simillar users...\n",
      "configuring movie formatting...\n",
      "creating the Graph...\n",
      "Staring training fo 30 iterations...\n"
     ]
    },
    {
     "name": "stderr",
     "output_type": "stream",
     "text": [
      "100%|████████████████████████████████████████████████████████████████████████████████████████████████████| 30/30 [00:00<00:00, 98.96it/s]\n"
     ]
    },
    {
     "name": "stdout",
     "output_type": "stream",
     "text": [
      "0\n",
      "Recommended ID's: [474.0, 2948.0, 780.0, 45722.0, 6686.0]\n",
      "running training and testing for user 2\n",
      " --------------------------------------------\n",
      "importing datasets....\n",
      "selecting 30 simillar users...\n",
      "configuring movie formatting...\n",
      "creating the Graph...\n",
      "Staring training fo 30 iterations...\n"
     ]
    },
    {
     "name": "stderr",
     "output_type": "stream",
     "text": [
      "100%|███████████████████████████████████████████████████████████████████████████████████████████████████| 30/30 [00:00<00:00, 104.37it/s]\n"
     ]
    },
    {
     "name": "stdout",
     "output_type": "stream",
     "text": [
      "0\n",
      "Recommended ID's: [3681.0, 5999.0, 6157.0, 107406.0, 5999.0]\n",
      "running training and testing for user 3\n",
      " --------------------------------------------\n",
      "importing datasets....\n",
      "selecting 30 simillar users...\n",
      "configuring movie formatting...\n",
      "creating the Graph...\n",
      "Staring training fo 30 iterations...\n"
     ]
    },
    {
     "name": "stderr",
     "output_type": "stream",
     "text": [
      "100%|███████████████████████████████████████████████████████████████████████████████████████████████████| 30/30 [00:00<00:00, 104.00it/s]\n"
     ]
    },
    {
     "name": "stdout",
     "output_type": "stream",
     "text": [
      "0\n",
      "Recommended ID's: [5155.0, 2716.0, 112.0, 94780.0, 68791.0]\n",
      "running training and testing for user 4\n",
      " --------------------------------------------\n",
      "importing datasets....\n",
      "selecting 30 simillar users...\n",
      "configuring movie formatting...\n",
      "creating the Graph...\n",
      "Staring training fo 30 iterations...\n"
     ]
    },
    {
     "name": "stderr",
     "output_type": "stream",
     "text": [
      "100%|████████████████████████████████████████████████████████████████████████████████████████████████████| 30/30 [00:00<00:00, 95.44it/s]\n"
     ]
    },
    {
     "name": "stdout",
     "output_type": "stream",
     "text": [
      "0\n",
      "Recommended ID's: [1036.0, 6157.0, 59784.0, 1917.0, 7438.0]\n",
      "running training and testing for user 5\n",
      " --------------------------------------------\n",
      "importing datasets....\n",
      "selecting 30 simillar users...\n",
      "configuring movie formatting...\n",
      "creating the Graph...\n",
      "Staring training fo 30 iterations...\n"
     ]
    },
    {
     "name": "stderr",
     "output_type": "stream",
     "text": [
      "100%|███████████████████████████████████████████████████████████████████████████████████████████████████| 30/30 [00:00<00:00, 103.29it/s]\n"
     ]
    },
    {
     "name": "stdout",
     "output_type": "stream",
     "text": [
      "0\n",
      "Recommended ID's: [76293.0, 7438.0, 59784.0, 112.0, 107406.0]\n",
      "running training and testing for user 6\n",
      " --------------------------------------------\n",
      "importing datasets....\n",
      "selecting 30 simillar users...\n",
      "configuring movie formatting...\n",
      "creating the Graph...\n",
      "Staring training fo 30 iterations...\n"
     ]
    },
    {
     "name": "stderr",
     "output_type": "stream",
     "text": [
      "100%|████████████████████████████████████████████████████████████████████████████████████████████████████| 30/30 [00:00<00:00, 91.13it/s]\n"
     ]
    },
    {
     "name": "stdout",
     "output_type": "stream",
     "text": [
      "0\n",
      "Recommended ID's: [1356.0, 208.0, 2692.0, 2640.0, 68791.0]\n",
      "running training and testing for user 7\n",
      " --------------------------------------------\n",
      "importing datasets....\n",
      "selecting 30 simillar users...\n",
      "configuring movie formatting...\n",
      "creating the Graph...\n",
      "Staring training fo 30 iterations...\n"
     ]
    },
    {
     "name": "stderr",
     "output_type": "stream",
     "text": [
      "100%|████████████████████████████████████████████████████████████████████████████████████████████████████| 30/30 [00:00<00:00, 95.66it/s]\n"
     ]
    },
    {
     "name": "stdout",
     "output_type": "stream",
     "text": [
      "0\n",
      "Recommended ID's: [8961.0, 1101.0, 2640.0, 3633.0, 7562.0]\n",
      "running training and testing for user 8\n",
      " --------------------------------------------\n",
      "importing datasets....\n",
      "selecting 30 simillar users...\n",
      "configuring movie formatting...\n",
      "creating the Graph...\n",
      "Staring training fo 30 iterations...\n"
     ]
    },
    {
     "name": "stderr",
     "output_type": "stream",
     "text": [
      "100%|████████████████████████████████████████████████████████████████████████████████████████████████████| 30/30 [00:00<00:00, 96.45it/s]\n"
     ]
    },
    {
     "name": "stdout",
     "output_type": "stream",
     "text": [
      "0\n",
      "Recommended ID's: [6157.0, 94780.0, 76293.0, 75805.0, 780.0]\n",
      "running training and testing for user 9\n",
      " --------------------------------------------\n",
      "importing datasets....\n",
      "selecting 30 simillar users...\n",
      "configuring movie formatting...\n",
      "creating the Graph...\n",
      "Staring training fo 30 iterations...\n"
     ]
    },
    {
     "name": "stderr",
     "output_type": "stream",
     "text": [
      "100%|████████████████████████████████████████████████████████████████████████████████████████████████████| 30/30 [00:00<00:00, 91.79it/s]\n"
     ]
    },
    {
     "name": "stdout",
     "output_type": "stream",
     "text": [
      "0\n",
      "Recommended ID's: [182823.0, 2692.0, 546.0, 59315.0, 3633.0]\n",
      "running training and testing for user 10\n",
      " --------------------------------------------\n",
      "importing datasets....\n",
      "selecting 30 simillar users...\n",
      "configuring movie formatting...\n",
      "creating the Graph...\n",
      "Staring training fo 30 iterations...\n"
     ]
    },
    {
     "name": "stderr",
     "output_type": "stream",
     "text": [
      "100%|███████████████████████████████████████████████████████████████████████████████████████████████████| 30/30 [00:00<00:00, 102.70it/s]\n"
     ]
    },
    {
     "name": "stdout",
     "output_type": "stream",
     "text": [
      "0\n",
      "Recommended ID's: [59315.0, 6537.0, 2716.0, 89087.0, 2683.0]\n",
      "running training and testing for user 11\n",
      " --------------------------------------------\n",
      "importing datasets....\n",
      "selecting 30 simillar users...\n",
      "configuring movie formatting...\n",
      "creating the Graph...\n",
      "Staring training fo 30 iterations...\n"
     ]
    },
    {
     "name": "stderr",
     "output_type": "stream",
     "text": [
      "100%|████████████████████████████████████████████████████████████████████████████████████████████████████| 30/30 [00:00<00:00, 99.26it/s]\n"
     ]
    },
    {
     "name": "stdout",
     "output_type": "stream",
     "text": [
      "0\n",
      "Recommended ID's: [5155.0, 3107.0, 1047.0, 2683.0, 3107.0]\n",
      "running training and testing for user 12\n",
      " --------------------------------------------\n",
      "importing datasets....\n",
      "selecting 30 simillar users...\n",
      "configuring movie formatting...\n",
      "creating the Graph...\n",
      "Staring training fo 30 iterations...\n"
     ]
    },
    {
     "name": "stderr",
     "output_type": "stream",
     "text": [
      "100%|███████████████████████████████████████████████████████████████████████████████████████████████████| 30/30 [00:00<00:00, 100.44it/s]\n"
     ]
    },
    {
     "name": "stdout",
     "output_type": "stream",
     "text": [
      "0\n",
      "Recommended ID's: [1047.0, 5040.0, 182823.0, 2000.0, 6754.0]\n",
      "running training and testing for user 13\n",
      " --------------------------------------------\n",
      "importing datasets....\n",
      "selecting 30 simillar users...\n",
      "configuring movie formatting...\n",
      "creating the Graph...\n",
      "Staring training fo 30 iterations...\n"
     ]
    },
    {
     "name": "stderr",
     "output_type": "stream",
     "text": [
      "100%|████████████████████████████████████████████████████████████████████████████████████████████████████| 30/30 [00:00<00:00, 98.43it/s]\n"
     ]
    },
    {
     "name": "stdout",
     "output_type": "stream",
     "text": [
      "0\n",
      "Recommended ID's: [2525.0, 1356.0, 76293.0, 1356.0, 474.0]\n",
      "running training and testing for user 14\n",
      " --------------------------------------------\n",
      "importing datasets....\n",
      "selecting 30 simillar users...\n",
      "configuring movie formatting...\n",
      "creating the Graph...\n",
      "Staring training fo 30 iterations...\n"
     ]
    },
    {
     "name": "stderr",
     "output_type": "stream",
     "text": [
      "100%|███████████████████████████████████████████████████████████████████████████████████████████████████| 30/30 [00:00<00:00, 104.66it/s]\n"
     ]
    },
    {
     "name": "stdout",
     "output_type": "stream",
     "text": [
      "0\n",
      "Recommended ID's: [2411.0, 182823.0, 6686.0, 59315.0, 1917.0]\n",
      "running training and testing for user 15\n",
      " --------------------------------------------\n",
      "importing datasets....\n",
      "selecting 30 simillar users...\n",
      "configuring movie formatting...\n",
      "creating the Graph...\n",
      "Staring training fo 30 iterations...\n"
     ]
    },
    {
     "name": "stderr",
     "output_type": "stream",
     "text": [
      "100%|████████████████████████████████████████████████████████████████████████████████████████████████████| 30/30 [00:00<00:00, 94.75it/s]\n"
     ]
    },
    {
     "name": "stdout",
     "output_type": "stream",
     "text": [
      "0\n",
      "Recommended ID's: [1527.0, 2640.0, 809.0, 75805.0, 75805.0]\n",
      "running training and testing for user 16\n",
      " --------------------------------------------\n",
      "importing datasets....\n",
      "selecting 30 simillar users...\n",
      "configuring movie formatting...\n",
      "creating the Graph...\n",
      "Staring training fo 30 iterations...\n"
     ]
    },
    {
     "name": "stderr",
     "output_type": "stream",
     "text": [
      "100%|███████████████████████████████████████████████████████████████████████████████████████████████████| 30/30 [00:00<00:00, 102.47it/s]\n"
     ]
    },
    {
     "name": "stdout",
     "output_type": "stream",
     "text": [
      "0\n",
      "Recommended ID's: [89087.0, 182823.0, 1917.0, 5155.0, 780.0]\n",
      "running training and testing for user 17\n",
      " --------------------------------------------\n",
      "importing datasets....\n",
      "selecting 30 simillar users...\n",
      "configuring movie formatting...\n",
      "creating the Graph...\n",
      "Staring training fo 30 iterations...\n"
     ]
    },
    {
     "name": "stderr",
     "output_type": "stream",
     "text": [
      "100%|████████████████████████████████████████████████████████████████████████████████████████████████████| 30/30 [00:00<00:00, 94.77it/s]\n"
     ]
    },
    {
     "name": "stdout",
     "output_type": "stream",
     "text": [
      "0\n",
      "Recommended ID's: [1527.0, 75805.0, 6686.0, 76293.0, 2411.0]\n",
      "running training and testing for user 18\n",
      " --------------------------------------------\n",
      "importing datasets....\n",
      "selecting 30 simillar users...\n",
      "configuring movie formatting...\n",
      "creating the Graph...\n",
      "Staring training fo 30 iterations...\n"
     ]
    },
    {
     "name": "stderr",
     "output_type": "stream",
     "text": [
      "100%|████████████████████████████████████████████████████████████████████████████████████████████████████| 30/30 [00:00<00:00, 97.03it/s]\n"
     ]
    },
    {
     "name": "stdout",
     "output_type": "stream",
     "text": [
      "0\n",
      "Recommended ID's: [1527.0, 75805.0, 89087.0, 1274.0, 91529.0]\n",
      "running training and testing for user 19\n",
      " --------------------------------------------\n",
      "importing datasets....\n",
      "selecting 30 simillar users...\n",
      "configuring movie formatting...\n",
      "creating the Graph...\n",
      "Staring training fo 30 iterations...\n"
     ]
    },
    {
     "name": "stderr",
     "output_type": "stream",
     "text": [
      "100%|████████████████████████████████████████████████████████████████████████████████████████████████████| 30/30 [00:00<00:00, 96.74it/s]\n"
     ]
    },
    {
     "name": "stdout",
     "output_type": "stream",
     "text": [
      "0\n",
      "Recommended ID's: [377.0, 3681.0, 2525.0, 3107.0, 2692.0]\n",
      "running training and testing for user 20\n",
      " --------------------------------------------\n",
      "importing datasets....\n",
      "selecting 30 simillar users...\n",
      "configuring movie formatting...\n",
      "creating the Graph...\n",
      "Staring training fo 30 iterations...\n"
     ]
    },
    {
     "name": "stderr",
     "output_type": "stream",
     "text": [
      "100%|████████████████████████████████████████████████████████████████████████████████████████████████████| 30/30 [00:00<00:00, 99.38it/s]\n"
     ]
    },
    {
     "name": "stdout",
     "output_type": "stream",
     "text": [
      "0\n",
      "Recommended ID's: [5040.0, 2411.0, 1527.0, 94780.0, 2692.0]\n",
      "running training and testing for user 21\n",
      " --------------------------------------------\n",
      "importing datasets....\n",
      "selecting 30 simillar users...\n",
      "configuring movie formatting...\n",
      "creating the Graph...\n",
      "Staring training fo 30 iterations...\n"
     ]
    },
    {
     "name": "stderr",
     "output_type": "stream",
     "text": [
      "100%|████████████████████████████████████████████████████████████████████████████████████████████████████| 30/30 [00:00<00:00, 95.69it/s]\n"
     ]
    },
    {
     "name": "stdout",
     "output_type": "stream",
     "text": [
      "0\n",
      "Recommended ID's: [5999.0, 4084.0, 3107.0, 1676.0, 91529.0]\n",
      "running training and testing for user 22\n",
      " --------------------------------------------\n",
      "importing datasets....\n",
      "selecting 30 simillar users...\n",
      "configuring movie formatting...\n",
      "creating the Graph...\n",
      "Staring training fo 30 iterations...\n"
     ]
    },
    {
     "name": "stderr",
     "output_type": "stream",
     "text": [
      "100%|████████████████████████████████████████████████████████████████████████████████████████████████████| 30/30 [00:00<00:00, 93.39it/s]\n"
     ]
    },
    {
     "name": "stdout",
     "output_type": "stream",
     "text": [
      "0\n",
      "Recommended ID's: [7562.0, 112.0, 76293.0, 2722.0, 1274.0]\n",
      "running training and testing for user 23\n",
      " --------------------------------------------\n",
      "importing datasets....\n",
      "selecting 30 simillar users...\n",
      "configuring movie formatting...\n",
      "creating the Graph...\n",
      "Staring training fo 30 iterations...\n"
     ]
    },
    {
     "name": "stderr",
     "output_type": "stream",
     "text": [
      "100%|████████████████████████████████████████████████████████████████████████████████████████████████████| 30/30 [00:00<00:00, 99.74it/s]\n"
     ]
    },
    {
     "name": "stdout",
     "output_type": "stream",
     "text": [
      "0\n",
      "Recommended ID's: [2525.0, 3681.0, 5999.0, 68791.0, 45722.0]\n",
      "running training and testing for user 24\n",
      " --------------------------------------------\n",
      "importing datasets....\n",
      "selecting 30 simillar users...\n",
      "configuring movie formatting...\n",
      "creating the Graph...\n",
      "Staring training fo 30 iterations...\n"
     ]
    },
    {
     "name": "stderr",
     "output_type": "stream",
     "text": [
      "100%|███████████████████████████████████████████████████████████████████████████████████████████████████| 30/30 [00:00<00:00, 105.03it/s]\n"
     ]
    },
    {
     "name": "stdout",
     "output_type": "stream",
     "text": [
      "0\n",
      "Recommended ID's: [1036.0, 1274.0, 546.0, 2683.0, 86644.0]\n",
      "running training and testing for user 25\n",
      " --------------------------------------------\n",
      "importing datasets....\n",
      "selecting 30 simillar users...\n",
      "configuring movie formatting...\n",
      "creating the Graph...\n",
      "Staring training fo 30 iterations...\n"
     ]
    },
    {
     "name": "stderr",
     "output_type": "stream",
     "text": [
      "100%|████████████████████████████████████████████████████████████████████████████████████████████████████| 30/30 [00:00<00:00, 97.25it/s]\n"
     ]
    },
    {
     "name": "stdout",
     "output_type": "stream",
     "text": [
      "0\n",
      "Recommended ID's: [59315.0, 8961.0, 2571.0, 208.0, 182823.0]\n",
      "running training and testing for user 26\n",
      " --------------------------------------------\n",
      "importing datasets....\n",
      "selecting 30 simillar users...\n",
      "configuring movie formatting...\n",
      "creating the Graph...\n",
      "Staring training fo 30 iterations...\n"
     ]
    },
    {
     "name": "stderr",
     "output_type": "stream",
     "text": [
      "100%|███████████████████████████████████████████████████████████████████████████████████████████████████| 30/30 [00:00<00:00, 104.29it/s]\n"
     ]
    },
    {
     "name": "stdout",
     "output_type": "stream",
     "text": [
      "0\n",
      "Recommended ID's: [89087.0, 2525.0, 3107.0, 780.0, 809.0]\n",
      "running training and testing for user 27\n",
      " --------------------------------------------\n",
      "importing datasets....\n",
      "selecting 30 simillar users...\n",
      "configuring movie formatting...\n",
      "creating the Graph...\n",
      "Staring training fo 30 iterations...\n"
     ]
    },
    {
     "name": "stderr",
     "output_type": "stream",
     "text": [
      "100%|████████████████████████████████████████████████████████████████████████████████████████████████████| 30/30 [00:00<00:00, 96.93it/s]\n"
     ]
    },
    {
     "name": "stdout",
     "output_type": "stream",
     "text": [
      "0\n",
      "Recommended ID's: [1274.0, 5999.0, 1320.0, 2525.0, 6686.0]\n",
      "running training and testing for user 28\n",
      " --------------------------------------------\n",
      "importing datasets....\n",
      "selecting 30 simillar users...\n",
      "configuring movie formatting...\n",
      "creating the Graph...\n",
      "Staring training fo 30 iterations...\n"
     ]
    },
    {
     "name": "stderr",
     "output_type": "stream",
     "text": [
      "100%|████████████████████████████████████████████████████████████████████████████████████████████████████| 30/30 [00:00<00:00, 98.06it/s]\n"
     ]
    },
    {
     "name": "stdout",
     "output_type": "stream",
     "text": [
      "0\n",
      "Recommended ID's: [474.0, 2411.0, 68791.0, 2692.0, 780.0]\n",
      "running training and testing for user 29\n",
      " --------------------------------------------\n",
      "importing datasets....\n",
      "selecting 30 simillar users...\n",
      "configuring movie formatting...\n",
      "creating the Graph...\n",
      "Staring training fo 30 iterations...\n"
     ]
    },
    {
     "name": "stderr",
     "output_type": "stream",
     "text": [
      "100%|███████████████████████████████████████████████████████████████████████████████████████████████████| 30/30 [00:00<00:00, 104.38it/s]\n"
     ]
    },
    {
     "name": "stdout",
     "output_type": "stream",
     "text": [
      "0\n",
      "Recommended ID's: [3681.0, 377.0, 5155.0, 2640.0, 2525.0]\n",
      "running training and testing for user 30\n",
      " --------------------------------------------\n",
      "importing datasets....\n",
      "selecting 30 simillar users...\n",
      "configuring movie formatting...\n",
      "creating the Graph...\n",
      "Staring training fo 30 iterations...\n"
     ]
    },
    {
     "name": "stderr",
     "output_type": "stream",
     "text": [
      "100%|████████████████████████████████████████████████████████████████████████████████████████████████████| 30/30 [00:00<00:00, 95.97it/s]\n"
     ]
    },
    {
     "name": "stdout",
     "output_type": "stream",
     "text": [
      "0\n",
      "Recommended ID's: [2716.0, 76293.0, 36519.0, 3681.0, 208.0]\n",
      "running training and testing for user 31\n",
      " --------------------------------------------\n",
      "importing datasets....\n",
      "selecting 30 simillar users...\n",
      "configuring movie formatting...\n",
      "creating the Graph...\n",
      "Staring training fo 30 iterations...\n"
     ]
    },
    {
     "name": "stderr",
     "output_type": "stream",
     "text": [
      "100%|███████████████████████████████████████████████████████████████████████████████████████████████████| 30/30 [00:00<00:00, 102.58it/s]\n"
     ]
    },
    {
     "name": "stdout",
     "output_type": "stream",
     "text": [
      "0\n",
      "Recommended ID's: [6686.0, 7438.0, 1047.0, 2640.0, 2716.0]\n",
      "running training and testing for user 32\n",
      " --------------------------------------------\n",
      "importing datasets....\n",
      "selecting 30 simillar users...\n",
      "configuring movie formatting...\n",
      "creating the Graph...\n",
      "Staring training fo 30 iterations...\n"
     ]
    },
    {
     "name": "stderr",
     "output_type": "stream",
     "text": [
      "100%|████████████████████████████████████████████████████████████████████████████████████████████████████| 30/30 [00:00<00:00, 93.60it/s]\n"
     ]
    },
    {
     "name": "stdout",
     "output_type": "stream",
     "text": [
      "0\n",
      "Recommended ID's: [2948.0, 546.0, 76293.0, 5155.0, 75805.0]\n",
      "running training and testing for user 33\n",
      " --------------------------------------------\n",
      "importing datasets....\n",
      "selecting 30 simillar users...\n",
      "configuring movie formatting...\n",
      "creating the Graph...\n",
      "Staring training fo 30 iterations...\n"
     ]
    },
    {
     "name": "stderr",
     "output_type": "stream",
     "text": [
      "100%|███████████████████████████████████████████████████████████████████████████████████████████████████| 30/30 [00:00<00:00, 106.94it/s]\n"
     ]
    },
    {
     "name": "stdout",
     "output_type": "stream",
     "text": [
      "0\n",
      "Recommended ID's: [2716.0, 75805.0, 485.0, 2571.0, 89087.0]\n",
      "running training and testing for user 34\n",
      " --------------------------------------------\n",
      "importing datasets....\n",
      "selecting 30 simillar users...\n",
      "configuring movie formatting...\n",
      "creating the Graph...\n",
      "Staring training fo 30 iterations...\n"
     ]
    },
    {
     "name": "stderr",
     "output_type": "stream",
     "text": [
      "100%|████████████████████████████████████████████████████████████████████████████████████████████████████| 30/30 [00:00<00:00, 93.35it/s]\n"
     ]
    },
    {
     "name": "stdout",
     "output_type": "stream",
     "text": [
      "0\n",
      "Recommended ID's: [3633.0, 1274.0, 2640.0, 6157.0, 107406.0]\n",
      "running training and testing for user 35\n",
      " --------------------------------------------\n",
      "importing datasets....\n",
      "selecting 30 simillar users...\n",
      "configuring movie formatting...\n",
      "creating the Graph...\n",
      "Staring training fo 30 iterations...\n"
     ]
    },
    {
     "name": "stderr",
     "output_type": "stream",
     "text": [
      "100%|███████████████████████████████████████████████████████████████████████████████████████████████████| 30/30 [00:00<00:00, 103.79it/s]\n"
     ]
    },
    {
     "name": "stdout",
     "output_type": "stream",
     "text": [
      "0\n",
      "Recommended ID's: [1037.0, 1047.0, 6686.0, 112.0, 89087.0]\n",
      "running training and testing for user 36\n",
      " --------------------------------------------\n",
      "importing datasets....\n",
      "selecting 30 simillar users...\n",
      "configuring movie formatting...\n",
      "creating the Graph...\n",
      "Staring training fo 30 iterations...\n"
     ]
    },
    {
     "name": "stderr",
     "output_type": "stream",
     "text": [
      "100%|████████████████████████████████████████████████████████████████████████████████████████████████████| 30/30 [00:00<00:00, 93.80it/s]\n"
     ]
    },
    {
     "name": "stdout",
     "output_type": "stream",
     "text": [
      "0\n",
      "Recommended ID's: [1917.0, 36519.0, 5040.0, 1917.0, 7438.0]\n",
      "running training and testing for user 37\n",
      " --------------------------------------------\n",
      "importing datasets....\n",
      "selecting 30 simillar users...\n",
      "configuring movie formatting...\n",
      "creating the Graph...\n",
      "Staring training fo 30 iterations...\n"
     ]
    },
    {
     "name": "stderr",
     "output_type": "stream",
     "text": [
      "100%|████████████████████████████████████████████████████████████████████████████████████████████████████| 30/30 [00:00<00:00, 98.10it/s]\n"
     ]
    },
    {
     "name": "stdout",
     "output_type": "stream",
     "text": [
      "0\n",
      "Recommended ID's: [1037.0, 76293.0, 1101.0, 2525.0, 86644.0]\n",
      "running training and testing for user 38\n",
      " --------------------------------------------\n",
      "importing datasets....\n",
      "selecting 30 simillar users...\n",
      "configuring movie formatting...\n",
      "creating the Graph...\n",
      "Staring training fo 30 iterations...\n"
     ]
    },
    {
     "name": "stderr",
     "output_type": "stream",
     "text": [
      "100%|████████████████████████████████████████████████████████████████████████████████████████████████████| 30/30 [00:00<00:00, 93.59it/s]\n"
     ]
    },
    {
     "name": "stdout",
     "output_type": "stream",
     "text": [
      "0\n",
      "Recommended ID's: [1037.0, 182823.0, 2411.0, 86644.0, 8961.0]\n",
      "running training and testing for user 39\n",
      " --------------------------------------------\n",
      "importing datasets....\n",
      "selecting 30 simillar users...\n",
      "configuring movie formatting...\n",
      "creating the Graph...\n",
      "Staring training fo 30 iterations...\n"
     ]
    },
    {
     "name": "stderr",
     "output_type": "stream",
     "text": [
      "100%|████████████████████████████████████████████████████████████████████████████████████████████████████| 30/30 [00:00<00:00, 95.35it/s]\n"
     ]
    },
    {
     "name": "stdout",
     "output_type": "stream",
     "text": [
      "0\n",
      "Recommended ID's: [59315.0, 3107.0, 68791.0, 780.0, 5040.0]\n",
      "running training and testing for user 40\n",
      " --------------------------------------------\n",
      "importing datasets....\n",
      "selecting 30 simillar users...\n",
      "configuring movie formatting...\n",
      "creating the Graph...\n",
      "Staring training fo 30 iterations...\n"
     ]
    },
    {
     "name": "stderr",
     "output_type": "stream",
     "text": [
      "100%|███████████████████████████████████████████████████████████████████████████████████████████████████| 30/30 [00:00<00:00, 102.77it/s]\n"
     ]
    },
    {
     "name": "stdout",
     "output_type": "stream",
     "text": [
      "0\n",
      "Recommended ID's: [1274.0, 474.0, 6537.0, 1037.0, 1101.0]\n",
      "running training and testing for user 41\n",
      " --------------------------------------------\n",
      "importing datasets....\n",
      "selecting 30 simillar users...\n",
      "configuring movie formatting...\n",
      "creating the Graph...\n",
      "Staring training fo 30 iterations...\n"
     ]
    },
    {
     "name": "stderr",
     "output_type": "stream",
     "text": [
      "100%|███████████████████████████████████████████████████████████████████████████████████████████████████| 30/30 [00:00<00:00, 105.48it/s]\n"
     ]
    },
    {
     "name": "stdout",
     "output_type": "stream",
     "text": [
      "0\n",
      "Recommended ID's: [36519.0, 7438.0, 94780.0, 4084.0, 2640.0]\n",
      "running training and testing for user 42\n",
      " --------------------------------------------\n",
      "importing datasets....\n",
      "selecting 30 simillar users...\n",
      "configuring movie formatting...\n",
      "creating the Graph...\n",
      "Staring training fo 30 iterations...\n"
     ]
    },
    {
     "name": "stderr",
     "output_type": "stream",
     "text": [
      "100%|████████████████████████████████████████████████████████████████████████████████████████████████████| 30/30 [00:00<00:00, 94.84it/s]\n"
     ]
    },
    {
     "name": "stdout",
     "output_type": "stream",
     "text": [
      "0\n",
      "Recommended ID's: [4084.0, 86644.0, 94780.0, 1047.0, 3107.0]\n",
      "running training and testing for user 43\n",
      " --------------------------------------------\n",
      "importing datasets....\n",
      "selecting 30 simillar users...\n",
      "configuring movie formatting...\n",
      "creating the Graph...\n",
      "Staring training fo 30 iterations...\n"
     ]
    },
    {
     "name": "stderr",
     "output_type": "stream",
     "text": [
      "100%|███████████████████████████████████████████████████████████████████████████████████████████████████| 30/30 [00:00<00:00, 100.68it/s]\n"
     ]
    },
    {
     "name": "stdout",
     "output_type": "stream",
     "text": [
      "0\n",
      "Recommended ID's: [3633.0, 1274.0, 4084.0, 7438.0, 1676.0]\n",
      "running training and testing for user 44\n",
      " --------------------------------------------\n",
      "importing datasets....\n",
      "selecting 30 simillar users...\n",
      "configuring movie formatting...\n",
      "creating the Graph...\n",
      "Staring training fo 30 iterations...\n"
     ]
    },
    {
     "name": "stderr",
     "output_type": "stream",
     "text": [
      "100%|███████████████████████████████████████████████████████████████████████████████████████████████████| 30/30 [00:00<00:00, 102.45it/s]\n"
     ]
    },
    {
     "name": "stdout",
     "output_type": "stream",
     "text": [
      "0\n",
      "Recommended ID's: [59784.0, 4084.0, 1372.0, 68791.0, 1047.0]\n",
      "running training and testing for user 45\n",
      " --------------------------------------------\n",
      "importing datasets....\n",
      "selecting 30 simillar users...\n",
      "configuring movie formatting...\n",
      "creating the Graph...\n",
      "Staring training fo 30 iterations...\n"
     ]
    },
    {
     "name": "stderr",
     "output_type": "stream",
     "text": [
      "100%|███████████████████████████████████████████████████████████████████████████████████████████████████| 30/30 [00:00<00:00, 102.02it/s]\n"
     ]
    },
    {
     "name": "stdout",
     "output_type": "stream",
     "text": [
      "0\n",
      "Recommended ID's: [1372.0, 2722.0, 2411.0, 3681.0, 59784.0]\n",
      "running training and testing for user 46\n",
      " --------------------------------------------\n",
      "importing datasets....\n",
      "selecting 30 simillar users...\n",
      "configuring movie formatting...\n",
      "creating the Graph...\n",
      "Staring training fo 30 iterations...\n"
     ]
    },
    {
     "name": "stderr",
     "output_type": "stream",
     "text": [
      "100%|███████████████████████████████████████████████████████████████████████████████████████████████████| 30/30 [00:00<00:00, 100.53it/s]\n"
     ]
    },
    {
     "name": "stdout",
     "output_type": "stream",
     "text": [
      "0\n",
      "Recommended ID's: [45722.0, 1274.0, 3681.0, 68791.0, 7562.0]\n",
      "running training and testing for user 47\n",
      " --------------------------------------------\n",
      "importing datasets....\n",
      "selecting 30 simillar users...\n",
      "configuring movie formatting...\n",
      "creating the Graph...\n",
      "Staring training fo 30 iterations...\n"
     ]
    },
    {
     "name": "stderr",
     "output_type": "stream",
     "text": [
      "100%|███████████████████████████████████████████████████████████████████████████████████████████████████| 30/30 [00:00<00:00, 108.50it/s]\n"
     ]
    },
    {
     "name": "stdout",
     "output_type": "stream",
     "text": [
      "0\n",
      "Recommended ID's: [86644.0, 1372.0, 6537.0, 3107.0, 1101.0]\n",
      "running training and testing for user 48\n",
      " --------------------------------------------\n",
      "importing datasets....\n",
      "selecting 30 simillar users...\n",
      "configuring movie formatting...\n",
      "creating the Graph...\n",
      "Staring training fo 30 iterations...\n"
     ]
    },
    {
     "name": "stderr",
     "output_type": "stream",
     "text": [
      "100%|████████████████████████████████████████████████████████████████████████████████████████████████████| 30/30 [00:00<00:00, 99.55it/s]\n"
     ]
    },
    {
     "name": "stdout",
     "output_type": "stream",
     "text": [
      "0\n",
      "Recommended ID's: [208.0, 75805.0, 1274.0, 68791.0, 107406.0]\n",
      "running training and testing for user 49\n",
      " --------------------------------------------\n",
      "importing datasets....\n",
      "selecting 30 simillar users...\n",
      "configuring movie formatting...\n",
      "creating the Graph...\n",
      "Staring training fo 30 iterations...\n"
     ]
    },
    {
     "name": "stderr",
     "output_type": "stream",
     "text": [
      "100%|████████████████████████████████████████████████████████████████████████████████████████████████████| 30/30 [00:00<00:00, 97.65it/s]\n"
     ]
    },
    {
     "name": "stdout",
     "output_type": "stream",
     "text": [
      "0\n",
      "Recommended ID's: [1047.0, 45722.0, 6157.0, 1101.0, 5055.0]\n",
      "genre: Action\n",
      "overall accuracy is 0.535\n",
      "running training and testing for user 0\n",
      " --------------------------------------------\n",
      "importing datasets....\n",
      "selecting 30 simillar users...\n",
      "configuring movie formatting...\n",
      "creating the Graph...\n",
      "Staring training fo 30 iterations...\n"
     ]
    },
    {
     "name": "stderr",
     "output_type": "stream",
     "text": [
      "100%|███████████████████████████████████████████████████████████████████████████████████████████████████| 30/30 [00:00<00:00, 165.85it/s]\n"
     ]
    },
    {
     "name": "stdout",
     "output_type": "stream",
     "text": [
      "0\n",
      "Recommended ID's: [4084.0, 6763.0, 6157.0, 6157.0, 86644.0]\n",
      "running training and testing for user 1\n",
      " --------------------------------------------\n",
      "importing datasets....\n",
      "selecting 30 simillar users...\n",
      "configuring movie formatting...\n",
      "creating the Graph...\n",
      "Staring training fo 30 iterations...\n"
     ]
    },
    {
     "name": "stderr",
     "output_type": "stream",
     "text": [
      "100%|███████████████████████████████████████████████████████████████████████████████████████████████████| 30/30 [00:00<00:00, 175.72it/s]\n"
     ]
    },
    {
     "name": "stdout",
     "output_type": "stream",
     "text": [
      "0\n",
      "Recommended ID's: [4084.0, 1036.0, 4855.0, 6157.0, 1711.0]\n",
      "running training and testing for user 2\n",
      " --------------------------------------------\n",
      "importing datasets....\n",
      "selecting 30 simillar users...\n",
      "configuring movie formatting...\n",
      "creating the Graph...\n",
      "Staring training fo 30 iterations...\n"
     ]
    },
    {
     "name": "stderr",
     "output_type": "stream",
     "text": [
      "100%|███████████████████████████████████████████████████████████████████████████████████████████████████| 30/30 [00:00<00:00, 162.86it/s]\n"
     ]
    },
    {
     "name": "stdout",
     "output_type": "stream",
     "text": [
      "0\n",
      "Recommended ID's: [48516.0, 159.0, 6763.0, 57669.0, 2000.0]\n",
      "running training and testing for user 3\n",
      " --------------------------------------------\n",
      "importing datasets....\n",
      "selecting 30 simillar users...\n",
      "configuring movie formatting...\n",
      "creating the Graph...\n",
      "Staring training fo 30 iterations...\n"
     ]
    },
    {
     "name": "stderr",
     "output_type": "stream",
     "text": [
      "100%|███████████████████████████████████████████████████████████████████████████████████████████████████| 30/30 [00:00<00:00, 168.64it/s]\n"
     ]
    },
    {
     "name": "stdout",
     "output_type": "stream",
     "text": [
      "0\n",
      "Recommended ID's: [50.0, 112.0, 2467.0, 7160.0, 91529.0]\n",
      "running training and testing for user 4\n",
      " --------------------------------------------\n",
      "importing datasets....\n",
      "selecting 30 simillar users...\n",
      "configuring movie formatting...\n",
      "creating the Graph...\n",
      "Staring training fo 30 iterations...\n"
     ]
    },
    {
     "name": "stderr",
     "output_type": "stream",
     "text": [
      "100%|███████████████████████████████████████████████████████████████████████████████████████████████████| 30/30 [00:00<00:00, 151.92it/s]\n"
     ]
    },
    {
     "name": "stdout",
     "output_type": "stream",
     "text": [
      "0\n",
      "Recommended ID's: [2692.0, 1036.0, 2467.0, 4406.0, 57669.0]\n",
      "running training and testing for user 5\n",
      " --------------------------------------------\n",
      "importing datasets....\n",
      "selecting 30 simillar users...\n",
      "configuring movie formatting...\n",
      "creating the Graph...\n",
      "Staring training fo 30 iterations...\n"
     ]
    },
    {
     "name": "stderr",
     "output_type": "stream",
     "text": [
      "100%|███████████████████████████████████████████████████████████████████████████████████████████████████| 30/30 [00:00<00:00, 165.24it/s]\n"
     ]
    },
    {
     "name": "stdout",
     "output_type": "stream",
     "text": [
      "0\n",
      "Recommended ID's: [112.0, 6157.0, 1206.0, 91529.0, 4084.0]\n",
      "running training and testing for user 6\n",
      " --------------------------------------------\n",
      "importing datasets....\n",
      "selecting 30 simillar users...\n",
      "configuring movie formatting...\n",
      "creating the Graph...\n",
      "Staring training fo 30 iterations...\n"
     ]
    },
    {
     "name": "stderr",
     "output_type": "stream",
     "text": [
      "100%|███████████████████████████████████████████████████████████████████████████████████████████████████| 30/30 [00:00<00:00, 146.00it/s]\n"
     ]
    },
    {
     "name": "stdout",
     "output_type": "stream",
     "text": [
      "0\n",
      "Recommended ID's: [2000.0, 57669.0, 858.0, 2692.0, 48516.0]\n",
      "running training and testing for user 7\n",
      " --------------------------------------------\n",
      "importing datasets....\n",
      "selecting 30 simillar users...\n",
      "configuring movie formatting...\n",
      "creating the Graph...\n",
      "Staring training fo 30 iterations...\n"
     ]
    },
    {
     "name": "stderr",
     "output_type": "stream",
     "text": [
      "100%|███████████████████████████████████████████████████████████████████████████████████████████████████| 30/30 [00:00<00:00, 145.31it/s]\n"
     ]
    },
    {
     "name": "stdout",
     "output_type": "stream",
     "text": [
      "0\n",
      "Recommended ID's: [4406.0, 1036.0, 1617.0, 866.0, 858.0]\n",
      "running training and testing for user 8\n",
      " --------------------------------------------\n",
      "importing datasets....\n",
      "selecting 30 simillar users...\n",
      "configuring movie formatting...\n",
      "creating the Graph...\n",
      "Staring training fo 30 iterations...\n"
     ]
    },
    {
     "name": "stderr",
     "output_type": "stream",
     "text": [
      "100%|███████████████████████████████████████████████████████████████████████████████████████████████████| 30/30 [00:00<00:00, 168.99it/s]\n"
     ]
    },
    {
     "name": "stdout",
     "output_type": "stream",
     "text": [
      "0\n",
      "Recommended ID's: [86644.0, 4406.0, 7364.0, 2467.0, 91529.0]\n",
      "running training and testing for user 9\n",
      " --------------------------------------------\n",
      "importing datasets....\n",
      "selecting 30 simillar users...\n",
      "configuring movie formatting...\n",
      "creating the Graph...\n",
      "Staring training fo 30 iterations...\n"
     ]
    },
    {
     "name": "stderr",
     "output_type": "stream",
     "text": [
      "100%|███████████████████████████████████████████████████████████████████████████████████████████████████| 30/30 [00:00<00:00, 153.47it/s]\n"
     ]
    },
    {
     "name": "stdout",
     "output_type": "stream",
     "text": [
      "0\n",
      "Recommended ID's: [159.0, 182823.0, 48516.0, 4084.0, 2692.0]\n",
      "running training and testing for user 10\n",
      " --------------------------------------------\n",
      "importing datasets....\n",
      "selecting 30 simillar users...\n",
      "configuring movie formatting...\n",
      "creating the Graph...\n",
      "Staring training fo 30 iterations...\n"
     ]
    },
    {
     "name": "stderr",
     "output_type": "stream",
     "text": [
      "100%|███████████████████████████████████████████████████████████████████████████████████████████████████| 30/30 [00:00<00:00, 174.88it/s]\n"
     ]
    },
    {
     "name": "stdout",
     "output_type": "stream",
     "text": [
      "0\n",
      "Recommended ID's: [182823.0, 4084.0, 86644.0, 5329.0, 57669.0]\n",
      "running training and testing for user 11\n",
      " --------------------------------------------\n",
      "importing datasets....\n",
      "selecting 30 simillar users...\n",
      "configuring movie formatting...\n",
      "creating the Graph...\n",
      "Staring training fo 30 iterations...\n"
     ]
    },
    {
     "name": "stderr",
     "output_type": "stream",
     "text": [
      "100%|███████████████████████████████████████████████████████████████████████████████████████████████████| 30/30 [00:00<00:00, 170.91it/s]\n"
     ]
    },
    {
     "name": "stdout",
     "output_type": "stream",
     "text": [
      "0\n",
      "Recommended ID's: [112.0, 2000.0, 159.0, 1206.0, 1036.0]\n",
      "running training and testing for user 12\n",
      " --------------------------------------------\n",
      "importing datasets....\n",
      "selecting 30 simillar users...\n",
      "configuring movie formatting...\n",
      "creating the Graph...\n",
      "Staring training fo 30 iterations...\n"
     ]
    },
    {
     "name": "stderr",
     "output_type": "stream",
     "text": [
      "100%|███████████████████████████████████████████████████████████████████████████████████████████████████| 30/30 [00:00<00:00, 165.24it/s]\n"
     ]
    },
    {
     "name": "stdout",
     "output_type": "stream",
     "text": [
      "0\n",
      "Recommended ID's: [1617.0, 50.0, 57669.0, 48516.0, 7160.0]\n",
      "running training and testing for user 13\n",
      " --------------------------------------------\n",
      "importing datasets....\n",
      "selecting 30 simillar users...\n",
      "configuring movie formatting...\n",
      "creating the Graph...\n",
      "Staring training fo 30 iterations...\n"
     ]
    },
    {
     "name": "stderr",
     "output_type": "stream",
     "text": [
      "100%|███████████████████████████████████████████████████████████████████████████████████████████████████| 30/30 [00:00<00:00, 173.87it/s]\n"
     ]
    },
    {
     "name": "stdout",
     "output_type": "stream",
     "text": [
      "0\n",
      "Recommended ID's: [36519.0, 6763.0, 6763.0, 2000.0, 2000.0]\n",
      "running training and testing for user 14\n",
      " --------------------------------------------\n",
      "importing datasets....\n",
      "selecting 30 simillar users...\n",
      "configuring movie formatting...\n",
      "creating the Graph...\n",
      "Staring training fo 30 iterations...\n"
     ]
    },
    {
     "name": "stderr",
     "output_type": "stream",
     "text": [
      "100%|███████████████████████████████████████████████████████████████████████████████████████████████████| 30/30 [00:00<00:00, 163.48it/s]\n"
     ]
    },
    {
     "name": "stdout",
     "output_type": "stream",
     "text": [
      "0\n",
      "Recommended ID's: [1617.0, 858.0, 48516.0, 1617.0, 91529.0]\n",
      "running training and testing for user 15\n",
      " --------------------------------------------\n",
      "importing datasets....\n",
      "selecting 30 simillar users...\n",
      "configuring movie formatting...\n",
      "creating the Graph...\n",
      "Staring training fo 30 iterations...\n"
     ]
    },
    {
     "name": "stderr",
     "output_type": "stream",
     "text": [
      "100%|███████████████████████████████████████████████████████████████████████████████████████████████████| 30/30 [00:00<00:00, 160.86it/s]\n"
     ]
    },
    {
     "name": "stdout",
     "output_type": "stream",
     "text": [
      "0\n",
      "Recommended ID's: [1617.0, 44199.0, 6157.0, 4027.0, 36519.0]\n",
      "running training and testing for user 16\n",
      " --------------------------------------------\n",
      "importing datasets....\n",
      "selecting 30 simillar users...\n",
      "configuring movie formatting...\n",
      "creating the Graph...\n",
      "Staring training fo 30 iterations...\n"
     ]
    },
    {
     "name": "stderr",
     "output_type": "stream",
     "text": [
      "100%|███████████████████████████████████████████████████████████████████████████████████████████████████| 30/30 [00:00<00:00, 164.34it/s]\n"
     ]
    },
    {
     "name": "stdout",
     "output_type": "stream",
     "text": [
      "0\n",
      "Recommended ID's: [1221.0, 2467.0, 1206.0, 593.0, 91529.0]\n",
      "running training and testing for user 17\n",
      " --------------------------------------------\n",
      "importing datasets....\n",
      "selecting 30 simillar users...\n",
      "configuring movie formatting...\n",
      "creating the Graph...\n",
      "Staring training fo 30 iterations...\n"
     ]
    },
    {
     "name": "stderr",
     "output_type": "stream",
     "text": [
      "100%|███████████████████████████████████████████████████████████████████████████████████████████████████| 30/30 [00:00<00:00, 164.34it/s]\n"
     ]
    },
    {
     "name": "stdout",
     "output_type": "stream",
     "text": [
      "0\n",
      "Recommended ID's: [2467.0, 4084.0, 1617.0, 50.0, 86644.0]\n",
      "running training and testing for user 18\n",
      " --------------------------------------------\n",
      "importing datasets....\n",
      "selecting 30 simillar users...\n",
      "configuring movie formatting...\n",
      "creating the Graph...\n",
      "Staring training fo 30 iterations...\n"
     ]
    },
    {
     "name": "stderr",
     "output_type": "stream",
     "text": [
      "100%|███████████████████████████████████████████████████████████████████████████████████████████████████| 30/30 [00:00<00:00, 168.98it/s]\n"
     ]
    },
    {
     "name": "stdout",
     "output_type": "stream",
     "text": [
      "0\n",
      "Recommended ID's: [6763.0, 159.0, 91529.0, 1036.0, 182823.0]\n",
      "running training and testing for user 19\n",
      " --------------------------------------------\n",
      "importing datasets....\n",
      "selecting 30 simillar users...\n",
      "configuring movie formatting...\n",
      "creating the Graph...\n",
      "Staring training fo 30 iterations...\n"
     ]
    },
    {
     "name": "stderr",
     "output_type": "stream",
     "text": [
      "100%|███████████████████████████████████████████████████████████████████████████████████████████████████| 30/30 [00:00<00:00, 154.23it/s]\n"
     ]
    },
    {
     "name": "stdout",
     "output_type": "stream",
     "text": [
      "0\n",
      "Recommended ID's: [1221.0, 57669.0, 112.0, 7748.0, 1711.0]\n",
      "running training and testing for user 20\n",
      " --------------------------------------------\n",
      "importing datasets....\n",
      "selecting 30 simillar users...\n",
      "configuring movie formatting...\n",
      "creating the Graph...\n",
      "Staring training fo 30 iterations...\n"
     ]
    },
    {
     "name": "stderr",
     "output_type": "stream",
     "text": [
      "100%|███████████████████████████████████████████████████████████████████████████████████████████████████| 30/30 [00:00<00:00, 170.36it/s]\n"
     ]
    },
    {
     "name": "stdout",
     "output_type": "stream",
     "text": [
      "0\n",
      "Recommended ID's: [4406.0, 593.0, 48516.0, 2467.0, 2692.0]\n",
      "running training and testing for user 21\n",
      " --------------------------------------------\n",
      "importing datasets....\n",
      "selecting 30 simillar users...\n",
      "configuring movie formatting...\n",
      "creating the Graph...\n",
      "Staring training fo 30 iterations...\n"
     ]
    },
    {
     "name": "stderr",
     "output_type": "stream",
     "text": [
      "100%|███████████████████████████████████████████████████████████████████████████████████████████████████| 30/30 [00:00<00:00, 157.61it/s]\n"
     ]
    },
    {
     "name": "stdout",
     "output_type": "stream",
     "text": [
      "0\n",
      "Recommended ID's: [1036.0, 858.0, 1221.0, 6157.0, 593.0]\n",
      "running training and testing for user 22\n",
      " --------------------------------------------\n",
      "importing datasets....\n",
      "selecting 30 simillar users...\n",
      "configuring movie formatting...\n",
      "creating the Graph...\n",
      "Staring training fo 30 iterations...\n"
     ]
    },
    {
     "name": "stderr",
     "output_type": "stream",
     "text": [
      "100%|███████████████████████████████████████████████████████████████████████████████████████████████████| 30/30 [00:00<00:00, 158.53it/s]\n"
     ]
    },
    {
     "name": "stdout",
     "output_type": "stream",
     "text": [
      "0\n",
      "Recommended ID's: [7160.0, 48516.0, 4084.0, 1221.0, 593.0]\n",
      "running training and testing for user 23\n",
      " --------------------------------------------\n",
      "importing datasets....\n",
      "selecting 30 simillar users...\n",
      "configuring movie formatting...\n",
      "creating the Graph...\n",
      "Staring training fo 30 iterations...\n"
     ]
    },
    {
     "name": "stderr",
     "output_type": "stream",
     "text": [
      "100%|███████████████████████████████████████████████████████████████████████████████████████████████████| 30/30 [00:00<00:00, 156.10it/s]\n"
     ]
    },
    {
     "name": "stdout",
     "output_type": "stream",
     "text": [
      "0\n",
      "Recommended ID's: [4084.0, 1464.0, 1711.0, 4406.0, 44199.0]\n",
      "running training and testing for user 24\n",
      " --------------------------------------------\n",
      "importing datasets....\n",
      "selecting 30 simillar users...\n",
      "configuring movie formatting...\n",
      "creating the Graph...\n",
      "Staring training fo 30 iterations...\n"
     ]
    },
    {
     "name": "stderr",
     "output_type": "stream",
     "text": [
      "100%|███████████████████████████████████████████████████████████████████████████████████████████████████| 30/30 [00:00<00:00, 166.00it/s]\n"
     ]
    },
    {
     "name": "stdout",
     "output_type": "stream",
     "text": [
      "0\n",
      "Recommended ID's: [7160.0, 91529.0, 1711.0, 112.0, 91529.0]\n",
      "running training and testing for user 25\n",
      " --------------------------------------------\n",
      "importing datasets....\n",
      "selecting 30 simillar users...\n",
      "configuring movie formatting...\n",
      "creating the Graph...\n",
      "Staring training fo 30 iterations...\n"
     ]
    },
    {
     "name": "stderr",
     "output_type": "stream",
     "text": [
      "100%|███████████████████████████████████████████████████████████████████████████████████████████████████| 30/30 [00:00<00:00, 161.44it/s]\n"
     ]
    },
    {
     "name": "stdout",
     "output_type": "stream",
     "text": [
      "0\n",
      "Recommended ID's: [4027.0, 4084.0, 86644.0, 50.0, 1206.0]\n",
      "running training and testing for user 26\n",
      " --------------------------------------------\n",
      "importing datasets....\n",
      "selecting 30 simillar users...\n",
      "configuring movie formatting...\n",
      "creating the Graph...\n",
      "Staring training fo 30 iterations...\n"
     ]
    },
    {
     "name": "stderr",
     "output_type": "stream",
     "text": [
      "100%|███████████████████████████████████████████████████████████████████████████████████████████████████| 30/30 [00:00<00:00, 172.91it/s]\n"
     ]
    },
    {
     "name": "stdout",
     "output_type": "stream",
     "text": [
      "0\n",
      "Recommended ID's: [86644.0, 57669.0, 2467.0, 6157.0, 4027.0]\n",
      "running training and testing for user 27\n",
      " --------------------------------------------\n",
      "importing datasets....\n",
      "selecting 30 simillar users...\n",
      "configuring movie formatting...\n",
      "creating the Graph...\n",
      "Staring training fo 30 iterations...\n"
     ]
    },
    {
     "name": "stderr",
     "output_type": "stream",
     "text": [
      "100%|███████████████████████████████████████████████████████████████████████████████████████████████████| 30/30 [00:00<00:00, 162.29it/s]\n"
     ]
    },
    {
     "name": "stdout",
     "output_type": "stream",
     "text": [
      "0\n",
      "Recommended ID's: [2467.0, 1089.0, 57669.0, 4406.0, 57669.0]\n",
      "running training and testing for user 28\n",
      " --------------------------------------------\n",
      "importing datasets....\n",
      "selecting 30 simillar users...\n",
      "configuring movie formatting...\n",
      "creating the Graph...\n",
      "Staring training fo 30 iterations...\n"
     ]
    },
    {
     "name": "stderr",
     "output_type": "stream",
     "text": [
      "100%|███████████████████████████████████████████████████████████████████████████████████████████████████| 30/30 [00:00<00:00, 163.57it/s]\n"
     ]
    },
    {
     "name": "stdout",
     "output_type": "stream",
     "text": [
      "0\n",
      "Recommended ID's: [4406.0, 2692.0, 5329.0, 1206.0, 1089.0]\n",
      "running training and testing for user 29\n",
      " --------------------------------------------\n",
      "importing datasets....\n",
      "selecting 30 simillar users...\n",
      "configuring movie formatting...\n",
      "creating the Graph...\n",
      "Staring training fo 30 iterations...\n"
     ]
    },
    {
     "name": "stderr",
     "output_type": "stream",
     "text": [
      "100%|███████████████████████████████████████████████████████████████████████████████████████████████████| 30/30 [00:00<00:00, 180.26it/s]\n"
     ]
    },
    {
     "name": "stdout",
     "output_type": "stream",
     "text": [
      "0\n",
      "Recommended ID's: [182823.0, 1711.0, 6763.0, 48516.0, 6763.0]\n",
      "running training and testing for user 30\n",
      " --------------------------------------------\n",
      "importing datasets....\n",
      "selecting 30 simillar users...\n",
      "configuring movie formatting...\n",
      "creating the Graph...\n",
      "Staring training fo 30 iterations...\n"
     ]
    },
    {
     "name": "stderr",
     "output_type": "stream",
     "text": [
      "100%|███████████████████████████████████████████████████████████████████████████████████████████████████| 30/30 [00:00<00:00, 145.26it/s]\n"
     ]
    },
    {
     "name": "stdout",
     "output_type": "stream",
     "text": [
      "0\n",
      "Recommended ID's: [4027.0, 7562.0, 6286.0, 4084.0, 159.0]\n",
      "running training and testing for user 31\n",
      " --------------------------------------------\n",
      "importing datasets....\n",
      "selecting 30 simillar users...\n",
      "configuring movie formatting...\n",
      "creating the Graph...\n",
      "Staring training fo 30 iterations...\n"
     ]
    },
    {
     "name": "stderr",
     "output_type": "stream",
     "text": [
      "100%|███████████████████████████████████████████████████████████████████████████████████████████████████| 30/30 [00:00<00:00, 162.55it/s]\n"
     ]
    },
    {
     "name": "stdout",
     "output_type": "stream",
     "text": [
      "0\n",
      "Recommended ID's: [593.0, 2467.0, 57669.0, 182823.0, 1089.0]\n",
      "running training and testing for user 32\n",
      " --------------------------------------------\n",
      "importing datasets....\n",
      "selecting 30 simillar users...\n",
      "configuring movie formatting...\n",
      "creating the Graph...\n",
      "Staring training fo 30 iterations...\n"
     ]
    },
    {
     "name": "stderr",
     "output_type": "stream",
     "text": [
      "100%|███████████████████████████████████████████████████████████████████████████████████████████████████| 30/30 [00:00<00:00, 157.87it/s]\n"
     ]
    },
    {
     "name": "stdout",
     "output_type": "stream",
     "text": [
      "0\n",
      "Recommended ID's: [7160.0, 7748.0, 91529.0, 112.0, 1617.0]\n",
      "running training and testing for user 33\n",
      " --------------------------------------------\n",
      "importing datasets....\n",
      "selecting 30 simillar users...\n",
      "configuring movie formatting...\n",
      "creating the Graph...\n",
      "Staring training fo 30 iterations...\n"
     ]
    },
    {
     "name": "stderr",
     "output_type": "stream",
     "text": [
      "100%|███████████████████████████████████████████████████████████████████████████████████████████████████| 30/30 [00:00<00:00, 176.50it/s]\n"
     ]
    },
    {
     "name": "stdout",
     "output_type": "stream",
     "text": [
      "0\n",
      "Recommended ID's: [36519.0, 1221.0, 1206.0, 48516.0, 4084.0]\n",
      "running training and testing for user 34\n",
      " --------------------------------------------\n",
      "importing datasets....\n",
      "selecting 30 simillar users...\n",
      "configuring movie formatting...\n",
      "creating the Graph...\n",
      "Staring training fo 30 iterations...\n"
     ]
    },
    {
     "name": "stderr",
     "output_type": "stream",
     "text": [
      "100%|███████████████████████████████████████████████████████████████████████████████████████████████████| 30/30 [00:00<00:00, 156.45it/s]\n"
     ]
    },
    {
     "name": "stdout",
     "output_type": "stream",
     "text": [
      "0\n",
      "Recommended ID's: [7364.0, 7562.0, 1464.0, 7562.0, 1711.0]\n",
      "running training and testing for user 35\n",
      " --------------------------------------------\n",
      "importing datasets....\n",
      "selecting 30 simillar users...\n",
      "configuring movie formatting...\n",
      "creating the Graph...\n",
      "Staring training fo 30 iterations...\n"
     ]
    },
    {
     "name": "stderr",
     "output_type": "stream",
     "text": [
      "100%|███████████████████████████████████████████████████████████████████████████████████████████████████| 30/30 [00:00<00:00, 173.65it/s]\n"
     ]
    },
    {
     "name": "stdout",
     "output_type": "stream",
     "text": [
      "0\n",
      "Recommended ID's: [6157.0, 1089.0, 4027.0, 6686.0, 86644.0]\n",
      "running training and testing for user 36\n",
      " --------------------------------------------\n",
      "importing datasets....\n",
      "selecting 30 simillar users...\n",
      "configuring movie formatting...\n",
      "creating the Graph...\n",
      "Staring training fo 30 iterations...\n"
     ]
    },
    {
     "name": "stderr",
     "output_type": "stream",
     "text": [
      "100%|███████████████████████████████████████████████████████████████████████████████████████████████████| 30/30 [00:00<00:00, 157.67it/s]\n"
     ]
    },
    {
     "name": "stdout",
     "output_type": "stream",
     "text": [
      "0\n",
      "Recommended ID's: [91529.0, 91529.0, 7562.0, 7562.0, 1221.0]\n",
      "running training and testing for user 37\n",
      " --------------------------------------------\n",
      "importing datasets....\n",
      "selecting 30 simillar users...\n",
      "configuring movie formatting...\n",
      "creating the Graph...\n",
      "Staring training fo 30 iterations...\n"
     ]
    },
    {
     "name": "stderr",
     "output_type": "stream",
     "text": [
      "100%|███████████████████████████████████████████████████████████████████████████████████████████████████| 30/30 [00:00<00:00, 156.16it/s]\n"
     ]
    },
    {
     "name": "stdout",
     "output_type": "stream",
     "text": [
      "0\n",
      "Recommended ID's: [866.0, 1206.0, 57669.0, 48516.0, 1221.0]\n",
      "running training and testing for user 38\n",
      " --------------------------------------------\n",
      "importing datasets....\n",
      "selecting 30 simillar users...\n",
      "configuring movie formatting...\n",
      "creating the Graph...\n",
      "Staring training fo 30 iterations...\n"
     ]
    },
    {
     "name": "stderr",
     "output_type": "stream",
     "text": [
      "100%|███████████████████████████████████████████████████████████████████████████████████████████████████| 30/30 [00:00<00:00, 153.68it/s]\n"
     ]
    },
    {
     "name": "stdout",
     "output_type": "stream",
     "text": [
      "0\n",
      "Recommended ID's: [4406.0, 2467.0, 7364.0, 1206.0, 7562.0]\n",
      "running training and testing for user 39\n",
      " --------------------------------------------\n",
      "importing datasets....\n",
      "selecting 30 simillar users...\n",
      "configuring movie formatting...\n",
      "creating the Graph...\n",
      "Staring training fo 30 iterations...\n"
     ]
    },
    {
     "name": "stderr",
     "output_type": "stream",
     "text": [
      "100%|███████████████████████████████████████████████████████████████████████████████████████████████████| 30/30 [00:00<00:00, 162.43it/s]\n"
     ]
    },
    {
     "name": "stdout",
     "output_type": "stream",
     "text": [
      "0\n",
      "Recommended ID's: [112.0, 858.0, 4084.0, 1221.0, 6157.0]\n",
      "running training and testing for user 40\n",
      " --------------------------------------------\n",
      "importing datasets....\n",
      "selecting 30 simillar users...\n",
      "configuring movie formatting...\n",
      "creating the Graph...\n",
      "Staring training fo 30 iterations...\n"
     ]
    },
    {
     "name": "stderr",
     "output_type": "stream",
     "text": [
      "100%|███████████████████████████████████████████████████████████████████████████████████████████████████| 30/30 [00:00<00:00, 174.14it/s]\n"
     ]
    },
    {
     "name": "stdout",
     "output_type": "stream",
     "text": [
      "0\n",
      "Recommended ID's: [7748.0, 4027.0, 7748.0, 57669.0, 7364.0]\n",
      "running training and testing for user 41\n",
      " --------------------------------------------\n",
      "importing datasets....\n",
      "selecting 30 simillar users...\n",
      "configuring movie formatting...\n",
      "creating the Graph...\n",
      "Staring training fo 30 iterations...\n"
     ]
    },
    {
     "name": "stderr",
     "output_type": "stream",
     "text": [
      "100%|███████████████████████████████████████████████████████████████████████████████████████████████████| 30/30 [00:00<00:00, 158.11it/s]\n"
     ]
    },
    {
     "name": "stdout",
     "output_type": "stream",
     "text": [
      "0\n",
      "Recommended ID's: [91529.0, 86644.0, 1206.0, 7160.0, 50.0]\n",
      "running training and testing for user 42\n",
      " --------------------------------------------\n",
      "importing datasets....\n",
      "selecting 30 simillar users...\n",
      "configuring movie formatting...\n",
      "creating the Graph...\n",
      "Staring training fo 30 iterations...\n"
     ]
    },
    {
     "name": "stderr",
     "output_type": "stream",
     "text": [
      "100%|███████████████████████████████████████████████████████████████████████████████████████████████████| 30/30 [00:00<00:00, 171.44it/s]\n"
     ]
    },
    {
     "name": "stdout",
     "output_type": "stream",
     "text": [
      "0\n",
      "Recommended ID's: [1206.0, 4027.0, 44199.0, 48516.0, 48516.0]\n",
      "running training and testing for user 43\n",
      " --------------------------------------------\n",
      "importing datasets....\n",
      "selecting 30 simillar users...\n",
      "configuring movie formatting...\n",
      "creating the Graph...\n",
      "Staring training fo 30 iterations...\n"
     ]
    },
    {
     "name": "stderr",
     "output_type": "stream",
     "text": [
      "100%|███████████████████████████████████████████████████████████████████████████████████████████████████| 30/30 [00:00<00:00, 169.08it/s]\n"
     ]
    },
    {
     "name": "stdout",
     "output_type": "stream",
     "text": [
      "0\n",
      "Recommended ID's: [1206.0, 2000.0, 91529.0, 7364.0, 36519.0]\n",
      "running training and testing for user 44\n",
      " --------------------------------------------\n",
      "importing datasets....\n",
      "selecting 30 simillar users...\n",
      "configuring movie formatting...\n",
      "creating the Graph...\n",
      "Staring training fo 30 iterations...\n"
     ]
    },
    {
     "name": "stderr",
     "output_type": "stream",
     "text": [
      "100%|███████████████████████████████████████████████████████████████████████████████████████████████████| 30/30 [00:00<00:00, 176.99it/s]\n"
     ]
    },
    {
     "name": "stdout",
     "output_type": "stream",
     "text": [
      "0\n",
      "Recommended ID's: [6686.0, 48516.0, 57669.0, 2467.0, 6763.0]\n",
      "running training and testing for user 45\n",
      " --------------------------------------------\n",
      "importing datasets....\n",
      "selecting 30 simillar users...\n",
      "configuring movie formatting...\n",
      "creating the Graph...\n",
      "Staring training fo 30 iterations...\n"
     ]
    },
    {
     "name": "stderr",
     "output_type": "stream",
     "text": [
      "100%|███████████████████████████████████████████████████████████████████████████████████████████████████| 30/30 [00:00<00:00, 162.77it/s]\n"
     ]
    },
    {
     "name": "stdout",
     "output_type": "stream",
     "text": [
      "0\n",
      "Recommended ID's: [91529.0, 4084.0, 6157.0, 1617.0, 1089.0]\n",
      "running training and testing for user 46\n",
      " --------------------------------------------\n",
      "importing datasets....\n",
      "selecting 30 simillar users...\n",
      "configuring movie formatting...\n",
      "creating the Graph...\n",
      "Staring training fo 30 iterations...\n"
     ]
    },
    {
     "name": "stderr",
     "output_type": "stream",
     "text": [
      "100%|███████████████████████████████████████████████████████████████████████████████████████████████████| 30/30 [00:00<00:00, 165.04it/s]\n"
     ]
    },
    {
     "name": "stdout",
     "output_type": "stream",
     "text": [
      "0\n",
      "Recommended ID's: [2000.0, 4027.0, 2692.0, 36519.0, 6686.0]\n",
      "running training and testing for user 47\n",
      " --------------------------------------------\n",
      "importing datasets....\n",
      "selecting 30 simillar users...\n",
      "configuring movie formatting...\n",
      "creating the Graph...\n",
      "Staring training fo 30 iterations...\n"
     ]
    },
    {
     "name": "stderr",
     "output_type": "stream",
     "text": [
      "100%|███████████████████████████████████████████████████████████████████████████████████████████████████| 30/30 [00:00<00:00, 182.88it/s]\n"
     ]
    },
    {
     "name": "stdout",
     "output_type": "stream",
     "text": [
      "0\n",
      "Recommended ID's: [36519.0, 91529.0, 6157.0, 112.0, 7364.0]\n",
      "running training and testing for user 48\n",
      " --------------------------------------------\n",
      "importing datasets....\n",
      "selecting 30 simillar users...\n",
      "configuring movie formatting...\n",
      "creating the Graph...\n",
      "Staring training fo 30 iterations...\n"
     ]
    },
    {
     "name": "stderr",
     "output_type": "stream",
     "text": [
      "100%|███████████████████████████████████████████████████████████████████████████████████████████████████| 30/30 [00:00<00:00, 153.66it/s]\n"
     ]
    },
    {
     "name": "stdout",
     "output_type": "stream",
     "text": [
      "0\n",
      "Recommended ID's: [182823.0, 4084.0, 2692.0, 182823.0, 44199.0]\n",
      "running training and testing for user 49\n",
      " --------------------------------------------\n",
      "importing datasets....\n",
      "selecting 30 simillar users...\n",
      "configuring movie formatting...\n",
      "creating the Graph...\n",
      "Staring training fo 30 iterations...\n"
     ]
    },
    {
     "name": "stderr",
     "output_type": "stream",
     "text": [
      "100%|███████████████████████████████████████████████████████████████████████████████████████████████████| 30/30 [00:00<00:00, 171.38it/s]\n"
     ]
    },
    {
     "name": "stdout",
     "output_type": "stream",
     "text": [
      "0\n",
      "Recommended ID's: [7364.0, 36519.0, 1711.0, 1617.0, 112.0]\n",
      "genre: Crime\n",
      "overall accuracy is 0.9500000000000001\n",
      "running training and testing for user 0\n",
      " --------------------------------------------\n",
      "importing datasets....\n",
      "selecting 30 simillar users...\n",
      "configuring movie formatting...\n",
      "creating the Graph...\n",
      "Staring training fo 30 iterations...\n"
     ]
    },
    {
     "name": "stderr",
     "output_type": "stream",
     "text": [
      "100%|███████████████████████████████████████████████████████████████████████████████████████████████████| 30/30 [00:00<00:00, 107.64it/s]\n"
     ]
    },
    {
     "name": "stdout",
     "output_type": "stream",
     "text": [
      "0\n",
      "Recommended ID's: [89087.0, 1917.0, 1617.0, 3409.0, 2722.0]\n",
      "running training and testing for user 1\n",
      " --------------------------------------------\n",
      "importing datasets....\n",
      "selecting 30 simillar users...\n",
      "configuring movie formatting...\n",
      "creating the Graph...\n",
      "Staring training fo 30 iterations...\n"
     ]
    },
    {
     "name": "stderr",
     "output_type": "stream",
     "text": [
      "100%|███████████████████████████████████████████████████████████████████████████████████████████████████| 30/30 [00:00<00:00, 119.27it/s]\n"
     ]
    },
    {
     "name": "stdout",
     "output_type": "stream",
     "text": [
      "0\n",
      "Recommended ID's: [6538.0, 1047.0, 6971.0, 1037.0, 3663.0]\n",
      "running training and testing for user 2\n",
      " --------------------------------------------\n",
      "importing datasets....\n",
      "selecting 30 simillar users...\n",
      "configuring movie formatting...\n",
      "creating the Graph...\n",
      "Staring training fo 30 iterations...\n"
     ]
    },
    {
     "name": "stderr",
     "output_type": "stream",
     "text": [
      "100%|███████████████████████████████████████████████████████████████████████████████████████████████████| 30/30 [00:00<00:00, 122.45it/s]\n"
     ]
    },
    {
     "name": "stdout",
     "output_type": "stream",
     "text": [
      "0\n",
      "Recommended ID's: [3006.0, 57669.0, 474.0, 86644.0, 48516.0]\n",
      "running training and testing for user 3\n",
      " --------------------------------------------\n",
      "importing datasets....\n",
      "selecting 30 simillar users...\n",
      "configuring movie formatting...\n",
      "creating the Graph...\n",
      "Staring training fo 30 iterations...\n"
     ]
    },
    {
     "name": "stderr",
     "output_type": "stream",
     "text": [
      "100%|███████████████████████████████████████████████████████████████████████████████████████████████████| 30/30 [00:00<00:00, 131.48it/s]\n"
     ]
    },
    {
     "name": "stdout",
     "output_type": "stream",
     "text": [
      "0\n",
      "Recommended ID's: [1617.0, 640.0, 3409.0, 3681.0, 6971.0]\n",
      "running training and testing for user 4\n",
      " --------------------------------------------\n",
      "importing datasets....\n",
      "selecting 30 simillar users...\n",
      "configuring movie formatting...\n",
      "creating the Graph...\n",
      "Staring training fo 30 iterations...\n"
     ]
    },
    {
     "name": "stderr",
     "output_type": "stream",
     "text": [
      "100%|███████████████████████████████████████████████████████████████████████████████████████████████████| 30/30 [00:00<00:00, 112.51it/s]\n"
     ]
    },
    {
     "name": "stdout",
     "output_type": "stream",
     "text": [
      "0\n",
      "Recommended ID's: [4084.0, 3409.0, 57669.0, 36519.0, 3681.0]\n",
      "running training and testing for user 5\n",
      " --------------------------------------------\n",
      "importing datasets....\n",
      "selecting 30 simillar users...\n",
      "configuring movie formatting...\n",
      "creating the Graph...\n",
      "Staring training fo 30 iterations...\n"
     ]
    },
    {
     "name": "stderr",
     "output_type": "stream",
     "text": [
      "100%|███████████████████████████████████████████████████████████████████████████████████████████████████| 30/30 [00:00<00:00, 125.08it/s]\n"
     ]
    },
    {
     "name": "stdout",
     "output_type": "stream",
     "text": [
      "0\n",
      "Recommended ID's: [6538.0, 780.0, 3006.0, 57669.0, 1036.0]\n",
      "running training and testing for user 6\n",
      " --------------------------------------------\n",
      "importing datasets....\n",
      "selecting 30 simillar users...\n",
      "configuring movie formatting...\n",
      "creating the Graph...\n",
      "Staring training fo 30 iterations...\n"
     ]
    },
    {
     "name": "stderr",
     "output_type": "stream",
     "text": [
      "100%|███████████████████████████████████████████████████████████████████████████████████████████████████| 30/30 [00:00<00:00, 110.92it/s]\n"
     ]
    },
    {
     "name": "stdout",
     "output_type": "stream",
     "text": [
      "0\n",
      "Recommended ID's: [1917.0, 457.0, 3006.0, 1917.0, 474.0]\n",
      "running training and testing for user 7\n",
      " --------------------------------------------\n",
      "importing datasets....\n",
      "selecting 30 simillar users...\n",
      "configuring movie formatting...\n",
      "creating the Graph...\n",
      "Staring training fo 30 iterations...\n"
     ]
    },
    {
     "name": "stderr",
     "output_type": "stream",
     "text": [
      "100%|███████████████████████████████████████████████████████████████████████████████████████████████████| 30/30 [00:00<00:00, 111.81it/s]\n"
     ]
    },
    {
     "name": "stdout",
     "output_type": "stream",
     "text": [
      "0\n",
      "Recommended ID's: [1356.0, 48516.0, 4084.0, 5065.0, 3409.0]\n",
      "running training and testing for user 8\n",
      " --------------------------------------------\n",
      "importing datasets....\n",
      "selecting 30 simillar users...\n",
      "configuring movie formatting...\n",
      "creating the Graph...\n",
      "Staring training fo 30 iterations...\n"
     ]
    },
    {
     "name": "stderr",
     "output_type": "stream",
     "text": [
      "100%|███████████████████████████████████████████████████████████████████████████████████████████████████| 30/30 [00:00<00:00, 119.94it/s]\n"
     ]
    },
    {
     "name": "stdout",
     "output_type": "stream",
     "text": [
      "0\n",
      "Recommended ID's: [68791.0, 7438.0, 593.0, 1206.0, 3006.0]\n",
      "running training and testing for user 9\n",
      " --------------------------------------------\n",
      "importing datasets....\n",
      "selecting 30 simillar users...\n",
      "configuring movie formatting...\n",
      "creating the Graph...\n",
      "Staring training fo 30 iterations...\n"
     ]
    },
    {
     "name": "stderr",
     "output_type": "stream",
     "text": [
      "100%|███████████████████████████████████████████████████████████████████████████████████████████████████| 30/30 [00:00<00:00, 112.17it/s]\n"
     ]
    },
    {
     "name": "stdout",
     "output_type": "stream",
     "text": [
      "0\n",
      "Recommended ID's: [3663.0, 230.0, 68791.0, 1269.0, 3663.0]\n",
      "running training and testing for user 10\n",
      " --------------------------------------------\n",
      "importing datasets....\n",
      "selecting 30 simillar users...\n",
      "configuring movie formatting...\n",
      "creating the Graph...\n",
      "Staring training fo 30 iterations...\n"
     ]
    },
    {
     "name": "stderr",
     "output_type": "stream",
     "text": [
      "100%|███████████████████████████████████████████████████████████████████████████████████████████████████| 30/30 [00:00<00:00, 120.13it/s]\n"
     ]
    },
    {
     "name": "stdout",
     "output_type": "stream",
     "text": [
      "0\n",
      "Recommended ID's: [2722.0, 593.0, 587.0, 587.0, 1047.0]\n",
      "running training and testing for user 11\n",
      " --------------------------------------------\n",
      "importing datasets....\n",
      "selecting 30 simillar users...\n",
      "configuring movie formatting...\n",
      "creating the Graph...\n",
      "Staring training fo 30 iterations...\n"
     ]
    },
    {
     "name": "stderr",
     "output_type": "stream",
     "text": [
      "100%|███████████████████████████████████████████████████████████████████████████████████████████████████| 30/30 [00:00<00:00, 116.68it/s]\n"
     ]
    },
    {
     "name": "stdout",
     "output_type": "stream",
     "text": [
      "0\n",
      "Recommended ID's: [1617.0, 3633.0, 36519.0, 1089.0, 89087.0]\n",
      "running training and testing for user 12\n",
      " --------------------------------------------\n",
      "importing datasets....\n",
      "selecting 30 simillar users...\n",
      "configuring movie formatting...\n",
      "creating the Graph...\n",
      "Staring training fo 30 iterations...\n"
     ]
    },
    {
     "name": "stderr",
     "output_type": "stream",
     "text": [
      "100%|███████████████████████████████████████████████████████████████████████████████████████████████████| 30/30 [00:00<00:00, 119.56it/s]\n"
     ]
    },
    {
     "name": "stdout",
     "output_type": "stream",
     "text": [
      "0\n",
      "Recommended ID's: [426.0, 1921.0, 6538.0, 68791.0, 66097.0]\n",
      "running training and testing for user 13\n",
      " --------------------------------------------\n",
      "importing datasets....\n",
      "selecting 30 simillar users...\n",
      "configuring movie formatting...\n",
      "creating the Graph...\n",
      "Staring training fo 30 iterations...\n"
     ]
    },
    {
     "name": "stderr",
     "output_type": "stream",
     "text": [
      "100%|███████████████████████████████████████████████████████████████████████████████████████████████████| 30/30 [00:00<00:00, 114.16it/s]\n"
     ]
    },
    {
     "name": "stdout",
     "output_type": "stream",
     "text": [
      "0\n",
      "Recommended ID's: [4629.0, 474.0, 68791.0, 1674.0, 2722.0]\n",
      "running training and testing for user 14\n",
      " --------------------------------------------\n",
      "importing datasets....\n",
      "selecting 30 simillar users...\n",
      "configuring movie formatting...\n",
      "creating the Graph...\n",
      "Staring training fo 30 iterations...\n"
     ]
    },
    {
     "name": "stderr",
     "output_type": "stream",
     "text": [
      "100%|███████████████████████████████████████████████████████████████████████████████████████████████████| 30/30 [00:00<00:00, 120.91it/s]\n"
     ]
    },
    {
     "name": "stdout",
     "output_type": "stream",
     "text": [
      "0\n",
      "Recommended ID's: [3663.0, 44199.0, 4084.0, 57669.0, 1089.0]\n",
      "running training and testing for user 15\n",
      " --------------------------------------------\n",
      "importing datasets....\n",
      "selecting 30 simillar users...\n",
      "configuring movie formatting...\n",
      "creating the Graph...\n",
      "Staring training fo 30 iterations...\n"
     ]
    },
    {
     "name": "stderr",
     "output_type": "stream",
     "text": [
      "100%|███████████████████████████████████████████████████████████████████████████████████████████████████| 30/30 [00:00<00:00, 114.75it/s]\n"
     ]
    },
    {
     "name": "stdout",
     "output_type": "stream",
     "text": [
      "0\n",
      "Recommended ID's: [587.0, 48516.0, 36519.0, 44199.0, 1921.0]\n",
      "running training and testing for user 16\n",
      " --------------------------------------------\n",
      "importing datasets....\n",
      "selecting 30 simillar users...\n",
      "configuring movie formatting...\n",
      "creating the Graph...\n",
      "Staring training fo 30 iterations...\n"
     ]
    },
    {
     "name": "stderr",
     "output_type": "stream",
     "text": [
      "100%|███████████████████████████████████████████████████████████████████████████████████████████████████| 30/30 [00:00<00:00, 122.08it/s]\n"
     ]
    },
    {
     "name": "stdout",
     "output_type": "stream",
     "text": [
      "0\n",
      "Recommended ID's: [1674.0, 587.0, 3409.0, 230.0, 68791.0]\n",
      "running training and testing for user 17\n",
      " --------------------------------------------\n",
      "importing datasets....\n",
      "selecting 30 simillar users...\n",
      "configuring movie formatting...\n",
      "creating the Graph...\n",
      "Staring training fo 30 iterations...\n"
     ]
    },
    {
     "name": "stderr",
     "output_type": "stream",
     "text": [
      "100%|███████████████████████████████████████████████████████████████████████████████████████████████████| 30/30 [00:00<00:00, 121.06it/s]\n"
     ]
    },
    {
     "name": "stdout",
     "output_type": "stream",
     "text": [
      "0\n",
      "Recommended ID's: [4084.0, 1089.0, 4629.0, 1037.0, 57669.0]\n",
      "running training and testing for user 18\n",
      " --------------------------------------------\n",
      "importing datasets....\n",
      "selecting 30 simillar users...\n",
      "configuring movie formatting...\n",
      "creating the Graph...\n",
      "Staring training fo 30 iterations...\n"
     ]
    },
    {
     "name": "stderr",
     "output_type": "stream",
     "text": [
      "100%|███████████████████████████████████████████████████████████████████████████████████████████████████| 30/30 [00:00<00:00, 126.14it/s]\n"
     ]
    },
    {
     "name": "stdout",
     "output_type": "stream",
     "text": [
      "0\n",
      "Recommended ID's: [587.0, 68791.0, 3681.0, 2571.0, 457.0]\n",
      "running training and testing for user 19\n",
      " --------------------------------------------\n",
      "importing datasets....\n",
      "selecting 30 simillar users...\n",
      "configuring movie formatting...\n",
      "creating the Graph...\n",
      "Staring training fo 30 iterations...\n"
     ]
    },
    {
     "name": "stderr",
     "output_type": "stream",
     "text": [
      "100%|███████████████████████████████████████████████████████████████████████████████████████████████████| 30/30 [00:00<00:00, 118.05it/s]\n"
     ]
    },
    {
     "name": "stdout",
     "output_type": "stream",
     "text": [
      "0\n",
      "Recommended ID's: [68791.0, 2097.0, 2467.0, 6971.0, 1356.0]\n",
      "running training and testing for user 20\n",
      " --------------------------------------------\n",
      "importing datasets....\n",
      "selecting 30 simillar users...\n",
      "configuring movie formatting...\n",
      "creating the Graph...\n",
      "Staring training fo 30 iterations...\n"
     ]
    },
    {
     "name": "stderr",
     "output_type": "stream",
     "text": [
      "100%|███████████████████████████████████████████████████████████████████████████████████████████████████| 30/30 [00:00<00:00, 113.21it/s]\n"
     ]
    },
    {
     "name": "stdout",
     "output_type": "stream",
     "text": [
      "0\n",
      "Recommended ID's: [3006.0, 457.0, 587.0, 593.0, 79.0]\n",
      "running training and testing for user 21\n",
      " --------------------------------------------\n",
      "importing datasets....\n",
      "selecting 30 simillar users...\n",
      "configuring movie formatting...\n",
      "creating the Graph...\n",
      "Staring training fo 30 iterations...\n"
     ]
    },
    {
     "name": "stderr",
     "output_type": "stream",
     "text": [
      "100%|███████████████████████████████████████████████████████████████████████████████████████████████████| 30/30 [00:00<00:00, 114.56it/s]\n"
     ]
    },
    {
     "name": "stdout",
     "output_type": "stream",
     "text": [
      "0\n",
      "Recommended ID's: [44199.0, 66097.0, 3409.0, 3409.0, 1269.0]\n",
      "running training and testing for user 22\n",
      " --------------------------------------------\n",
      "importing datasets....\n",
      "selecting 30 simillar users...\n",
      "configuring movie formatting...\n",
      "creating the Graph...\n",
      "Staring training fo 30 iterations...\n"
     ]
    },
    {
     "name": "stderr",
     "output_type": "stream",
     "text": [
      "100%|███████████████████████████████████████████████████████████████████████████████████████████████████| 30/30 [00:00<00:00, 112.65it/s]\n"
     ]
    },
    {
     "name": "stdout",
     "output_type": "stream",
     "text": [
      "0\n",
      "Recommended ID's: [1617.0, 2571.0, 44199.0, 3681.0, 4084.0]\n",
      "running training and testing for user 23\n",
      " --------------------------------------------\n",
      "importing datasets....\n",
      "selecting 30 simillar users...\n",
      "configuring movie formatting...\n",
      "creating the Graph...\n",
      "Staring training fo 30 iterations...\n"
     ]
    },
    {
     "name": "stderr",
     "output_type": "stream",
     "text": [
      "100%|███████████████████████████████████████████████████████████████████████████████████████████████████| 30/30 [00:00<00:00, 112.99it/s]\n"
     ]
    },
    {
     "name": "stdout",
     "output_type": "stream",
     "text": [
      "0\n",
      "Recommended ID's: [3006.0, 1269.0, 2097.0, 48516.0, 7438.0]\n",
      "running training and testing for user 24\n",
      " --------------------------------------------\n",
      "importing datasets....\n",
      "selecting 30 simillar users...\n",
      "configuring movie formatting...\n",
      "creating the Graph...\n",
      "Staring training fo 30 iterations...\n"
     ]
    },
    {
     "name": "stderr",
     "output_type": "stream",
     "text": [
      "100%|███████████████████████████████████████████████████████████████████████████████████████████████████| 30/30 [00:00<00:00, 120.69it/s]\n"
     ]
    },
    {
     "name": "stdout",
     "output_type": "stream",
     "text": [
      "0\n",
      "Recommended ID's: [6971.0, 1921.0, 474.0, 474.0, 1089.0]\n",
      "running training and testing for user 25\n",
      " --------------------------------------------\n",
      "importing datasets....\n",
      "selecting 30 simillar users...\n",
      "configuring movie formatting...\n",
      "creating the Graph...\n",
      "Staring training fo 30 iterations...\n"
     ]
    },
    {
     "name": "stderr",
     "output_type": "stream",
     "text": [
      "100%|███████████████████████████████████████████████████████████████████████████████████████████████████| 30/30 [00:00<00:00, 112.33it/s]\n"
     ]
    },
    {
     "name": "stdout",
     "output_type": "stream",
     "text": [
      "0\n",
      "Recommended ID's: [1921.0, 2722.0, 3681.0, 50.0, 780.0]\n",
      "running training and testing for user 26\n",
      " --------------------------------------------\n",
      "importing datasets....\n",
      "selecting 30 simillar users...\n",
      "configuring movie formatting...\n",
      "creating the Graph...\n",
      "Staring training fo 30 iterations...\n"
     ]
    },
    {
     "name": "stderr",
     "output_type": "stream",
     "text": [
      "100%|███████████████████████████████████████████████████████████████████████████████████████████████████| 30/30 [00:00<00:00, 128.68it/s]\n"
     ]
    },
    {
     "name": "stdout",
     "output_type": "stream",
     "text": [
      "0\n",
      "Recommended ID's: [50.0, 4084.0, 4084.0, 6538.0, 780.0]\n",
      "running training and testing for user 27\n",
      " --------------------------------------------\n",
      "importing datasets....\n",
      "selecting 30 simillar users...\n",
      "configuring movie formatting...\n",
      "creating the Graph...\n",
      "Staring training fo 30 iterations...\n"
     ]
    },
    {
     "name": "stderr",
     "output_type": "stream",
     "text": [
      "100%|███████████████████████████████████████████████████████████████████████████████████████████████████| 30/30 [00:00<00:00, 111.50it/s]\n"
     ]
    },
    {
     "name": "stdout",
     "output_type": "stream",
     "text": [
      "0\n",
      "Recommended ID's: [3006.0, 1617.0, 44199.0, 1037.0, 780.0]\n",
      "running training and testing for user 28\n",
      " --------------------------------------------\n",
      "importing datasets....\n",
      "selecting 30 simillar users...\n",
      "configuring movie formatting...\n",
      "creating the Graph...\n",
      "Staring training fo 30 iterations...\n"
     ]
    },
    {
     "name": "stderr",
     "output_type": "stream",
     "text": [
      "100%|███████████████████████████████████████████████████████████████████████████████████████████████████| 30/30 [00:00<00:00, 117.82it/s]\n"
     ]
    },
    {
     "name": "stdout",
     "output_type": "stream",
     "text": [
      "0\n",
      "Recommended ID's: [1269.0, 457.0, 57669.0, 66097.0, 587.0]\n",
      "running training and testing for user 29\n",
      " --------------------------------------------\n",
      "importing datasets....\n",
      "selecting 30 simillar users...\n",
      "configuring movie formatting...\n",
      "creating the Graph...\n",
      "Staring training fo 30 iterations...\n"
     ]
    },
    {
     "name": "stderr",
     "output_type": "stream",
     "text": [
      "100%|███████████████████████████████████████████████████████████████████████████████████████████████████| 30/30 [00:00<00:00, 125.99it/s]\n"
     ]
    },
    {
     "name": "stdout",
     "output_type": "stream",
     "text": [
      "0\n",
      "Recommended ID's: [5065.0, 1089.0, 4084.0, 1089.0, 4084.0]\n",
      "running training and testing for user 30\n",
      " --------------------------------------------\n",
      "importing datasets....\n",
      "selecting 30 simillar users...\n",
      "configuring movie formatting...\n",
      "creating the Graph...\n",
      "Staring training fo 30 iterations...\n"
     ]
    },
    {
     "name": "stderr",
     "output_type": "stream",
     "text": [
      "100%|███████████████████████████████████████████████████████████████████████████████████████████████████| 30/30 [00:00<00:00, 111.63it/s]\n"
     ]
    },
    {
     "name": "stdout",
     "output_type": "stream",
     "text": [
      "0\n",
      "Recommended ID's: [3633.0, 426.0, 3681.0, 7438.0, 7438.0]\n",
      "running training and testing for user 31\n",
      " --------------------------------------------\n",
      "importing datasets....\n",
      "selecting 30 simillar users...\n",
      "configuring movie formatting...\n",
      "creating the Graph...\n",
      "Staring training fo 30 iterations...\n"
     ]
    },
    {
     "name": "stderr",
     "output_type": "stream",
     "text": [
      "100%|███████████████████████████████████████████████████████████████████████████████████████████████████| 30/30 [00:00<00:00, 114.62it/s]\n"
     ]
    },
    {
     "name": "stdout",
     "output_type": "stream",
     "text": [
      "0\n",
      "Recommended ID's: [1356.0, 866.0, 1047.0, 3633.0, 1206.0]\n",
      "running training and testing for user 32\n",
      " --------------------------------------------\n",
      "importing datasets....\n",
      "selecting 30 simillar users...\n",
      "configuring movie formatting...\n",
      "creating the Graph...\n",
      "Staring training fo 30 iterations...\n"
     ]
    },
    {
     "name": "stderr",
     "output_type": "stream",
     "text": [
      "100%|███████████████████████████████████████████████████████████████████████████████████████████████████| 30/30 [00:00<00:00, 111.12it/s]\n"
     ]
    },
    {
     "name": "stdout",
     "output_type": "stream",
     "text": [
      "0\n",
      "Recommended ID's: [2097.0, 2948.0, 1206.0, 1674.0, 6971.0]\n",
      "running training and testing for user 33\n",
      " --------------------------------------------\n",
      "importing datasets....\n",
      "selecting 30 simillar users...\n",
      "configuring movie formatting...\n",
      "creating the Graph...\n",
      "Staring training fo 30 iterations...\n"
     ]
    },
    {
     "name": "stderr",
     "output_type": "stream",
     "text": [
      "100%|███████████████████████████████████████████████████████████████████████████████████████████████████| 30/30 [00:00<00:00, 122.45it/s]\n"
     ]
    },
    {
     "name": "stdout",
     "output_type": "stream",
     "text": [
      "0\n",
      "Recommended ID's: [1921.0, 5065.0, 230.0, 1037.0, 1674.0]\n",
      "running training and testing for user 34\n",
      " --------------------------------------------\n",
      "importing datasets....\n",
      "selecting 30 simillar users...\n",
      "configuring movie formatting...\n",
      "creating the Graph...\n",
      "Staring training fo 30 iterations...\n"
     ]
    },
    {
     "name": "stderr",
     "output_type": "stream",
     "text": [
      "100%|███████████████████████████████████████████████████████████████████████████████████████████████████| 30/30 [00:00<00:00, 114.06it/s]\n"
     ]
    },
    {
     "name": "stdout",
     "output_type": "stream",
     "text": [
      "0\n",
      "Recommended ID's: [1269.0, 1917.0, 3633.0, 36519.0, 2948.0]\n",
      "running training and testing for user 35\n",
      " --------------------------------------------\n",
      "importing datasets....\n",
      "selecting 30 simillar users...\n",
      "configuring movie formatting...\n",
      "creating the Graph...\n",
      "Staring training fo 30 iterations...\n"
     ]
    },
    {
     "name": "stderr",
     "output_type": "stream",
     "text": [
      "100%|███████████████████████████████████████████████████████████████████████████████████████████████████| 30/30 [00:00<00:00, 114.74it/s]\n"
     ]
    },
    {
     "name": "stdout",
     "output_type": "stream",
     "text": [
      "0\n",
      "Recommended ID's: [1921.0, 5329.0, 89087.0, 3409.0, 1206.0]\n",
      "running training and testing for user 36\n",
      " --------------------------------------------\n",
      "importing datasets....\n",
      "selecting 30 simillar users...\n",
      "configuring movie formatting...\n",
      "creating the Graph...\n",
      "Staring training fo 30 iterations...\n"
     ]
    },
    {
     "name": "stderr",
     "output_type": "stream",
     "text": [
      "100%|███████████████████████████████████████████████████████████████████████████████████████████████████| 30/30 [00:00<00:00, 111.90it/s]\n"
     ]
    },
    {
     "name": "stdout",
     "output_type": "stream",
     "text": [
      "0\n",
      "Recommended ID's: [426.0, 3681.0, 1047.0, 3663.0, 36519.0]\n",
      "running training and testing for user 37\n",
      " --------------------------------------------\n",
      "importing datasets....\n",
      "selecting 30 simillar users...\n",
      "configuring movie formatting...\n",
      "creating the Graph...\n",
      "Staring training fo 30 iterations...\n"
     ]
    },
    {
     "name": "stderr",
     "output_type": "stream",
     "text": [
      "100%|███████████████████████████████████████████████████████████████████████████████████████████████████| 30/30 [00:00<00:00, 110.35it/s]\n"
     ]
    },
    {
     "name": "stdout",
     "output_type": "stream",
     "text": [
      "0\n",
      "Recommended ID's: [1047.0, 48516.0, 2917.0, 1269.0, 780.0]\n",
      "running training and testing for user 38\n",
      " --------------------------------------------\n",
      "importing datasets....\n",
      "selecting 30 simillar users...\n",
      "configuring movie formatting...\n",
      "creating the Graph...\n",
      "Staring training fo 30 iterations...\n"
     ]
    },
    {
     "name": "stderr",
     "output_type": "stream",
     "text": [
      "100%|███████████████████████████████████████████████████████████████████████████████████████████████████| 30/30 [00:00<00:00, 112.55it/s]\n"
     ]
    },
    {
     "name": "stdout",
     "output_type": "stream",
     "text": [
      "0\n",
      "Recommended ID's: [426.0, 6971.0, 3681.0, 474.0, 66097.0]\n",
      "running training and testing for user 39\n",
      " --------------------------------------------\n",
      "importing datasets....\n",
      "selecting 30 simillar users...\n",
      "configuring movie formatting...\n",
      "creating the Graph...\n",
      "Staring training fo 30 iterations...\n"
     ]
    },
    {
     "name": "stderr",
     "output_type": "stream",
     "text": [
      "100%|███████████████████████████████████████████████████████████████████████████████████████████████████| 30/30 [00:00<00:00, 114.34it/s]\n"
     ]
    },
    {
     "name": "stdout",
     "output_type": "stream",
     "text": [
      "0\n",
      "Recommended ID's: [426.0, 474.0, 2917.0, 68791.0, 57669.0]\n",
      "running training and testing for user 40\n",
      " --------------------------------------------\n",
      "importing datasets....\n",
      "selecting 30 simillar users...\n",
      "configuring movie formatting...\n",
      "creating the Graph...\n",
      "Staring training fo 30 iterations...\n"
     ]
    },
    {
     "name": "stderr",
     "output_type": "stream",
     "text": [
      "100%|███████████████████████████████████████████████████████████████████████████████████████████████████| 30/30 [00:00<00:00, 122.69it/s]\n"
     ]
    },
    {
     "name": "stdout",
     "output_type": "stream",
     "text": [
      "0\n",
      "Recommended ID's: [36519.0, 1674.0, 1089.0, 3006.0, 3681.0]\n",
      "running training and testing for user 41\n",
      " --------------------------------------------\n",
      "importing datasets....\n",
      "selecting 30 simillar users...\n",
      "configuring movie formatting...\n",
      "creating the Graph...\n",
      "Staring training fo 30 iterations...\n"
     ]
    },
    {
     "name": "stderr",
     "output_type": "stream",
     "text": [
      "100%|███████████████████████████████████████████████████████████████████████████████████████████████████| 30/30 [00:00<00:00, 122.97it/s]\n"
     ]
    },
    {
     "name": "stdout",
     "output_type": "stream",
     "text": [
      "0\n",
      "Recommended ID's: [3409.0, 3663.0, 1617.0, 593.0, 1269.0]\n",
      "running training and testing for user 42\n",
      " --------------------------------------------\n",
      "importing datasets....\n",
      "selecting 30 simillar users...\n",
      "configuring movie formatting...\n",
      "creating the Graph...\n",
      "Staring training fo 30 iterations...\n"
     ]
    },
    {
     "name": "stderr",
     "output_type": "stream",
     "text": [
      "100%|███████████████████████████████████████████████████████████████████████████████████████████████████| 30/30 [00:00<00:00, 112.33it/s]\n"
     ]
    },
    {
     "name": "stdout",
     "output_type": "stream",
     "text": [
      "0\n",
      "Recommended ID's: [2467.0, 3633.0, 457.0, 57669.0, 50.0]\n",
      "running training and testing for user 43\n",
      " --------------------------------------------\n",
      "importing datasets....\n",
      "selecting 30 simillar users...\n",
      "configuring movie formatting...\n",
      "creating the Graph...\n",
      "Staring training fo 30 iterations...\n"
     ]
    },
    {
     "name": "stderr",
     "output_type": "stream",
     "text": [
      "100%|███████████████████████████████████████████████████████████████████████████████████████████████████| 30/30 [00:00<00:00, 116.95it/s]\n"
     ]
    },
    {
     "name": "stdout",
     "output_type": "stream",
     "text": [
      "0\n",
      "Recommended ID's: [640.0, 2917.0, 474.0, 3409.0, 1089.0]\n",
      "running training and testing for user 44\n",
      " --------------------------------------------\n",
      "importing datasets....\n",
      "selecting 30 simillar users...\n",
      "configuring movie formatting...\n",
      "creating the Graph...\n",
      "Staring training fo 30 iterations...\n"
     ]
    },
    {
     "name": "stderr",
     "output_type": "stream",
     "text": [
      "100%|███████████████████████████████████████████████████████████████████████████████████████████████████| 30/30 [00:00<00:00, 116.95it/s]\n"
     ]
    },
    {
     "name": "stdout",
     "output_type": "stream",
     "text": [
      "0\n",
      "Recommended ID's: [2097.0, 4084.0, 4084.0, 36519.0, 48516.0]\n",
      "running training and testing for user 45\n",
      " --------------------------------------------\n",
      "importing datasets....\n",
      "selecting 30 simillar users...\n",
      "configuring movie formatting...\n",
      "creating the Graph...\n",
      "Staring training fo 30 iterations...\n"
     ]
    },
    {
     "name": "stderr",
     "output_type": "stream",
     "text": [
      "100%|███████████████████████████████████████████████████████████████████████████████████████████████████| 30/30 [00:00<00:00, 115.61it/s]\n"
     ]
    },
    {
     "name": "stdout",
     "output_type": "stream",
     "text": [
      "0\n",
      "Recommended ID's: [1269.0, 2467.0, 474.0, 640.0, 57669.0]\n",
      "running training and testing for user 46\n",
      " --------------------------------------------\n",
      "importing datasets....\n",
      "selecting 30 simillar users...\n",
      "configuring movie formatting...\n",
      "creating the Graph...\n",
      "Staring training fo 30 iterations...\n"
     ]
    },
    {
     "name": "stderr",
     "output_type": "stream",
     "text": [
      "100%|███████████████████████████████████████████████████████████████████████████████████████████████████| 30/30 [00:00<00:00, 126.17it/s]\n"
     ]
    },
    {
     "name": "stdout",
     "output_type": "stream",
     "text": [
      "0\n",
      "Recommended ID's: [2467.0, 230.0, 6538.0, 1617.0, 68791.0]\n",
      "running training and testing for user 47\n",
      " --------------------------------------------\n",
      "importing datasets....\n",
      "selecting 30 simillar users...\n",
      "configuring movie formatting...\n",
      "creating the Graph...\n",
      "Staring training fo 30 iterations...\n"
     ]
    },
    {
     "name": "stderr",
     "output_type": "stream",
     "text": [
      "100%|███████████████████████████████████████████████████████████████████████████████████████████████████| 30/30 [00:00<00:00, 126.53it/s]\n"
     ]
    },
    {
     "name": "stdout",
     "output_type": "stream",
     "text": [
      "0\n",
      "Recommended ID's: [79.0, 780.0, 426.0, 4084.0, 57669.0]\n",
      "running training and testing for user 48\n",
      " --------------------------------------------\n",
      "importing datasets....\n",
      "selecting 30 simillar users...\n",
      "configuring movie formatting...\n",
      "creating the Graph...\n",
      "Staring training fo 30 iterations...\n"
     ]
    },
    {
     "name": "stderr",
     "output_type": "stream",
     "text": [
      "100%|███████████████████████████████████████████████████████████████████████████████████████████████████| 30/30 [00:00<00:00, 110.24it/s]\n"
     ]
    },
    {
     "name": "stdout",
     "output_type": "stream",
     "text": [
      "0\n",
      "Recommended ID's: [1921.0, 3633.0, 6538.0, 1047.0, 4084.0]\n",
      "running training and testing for user 49\n",
      " --------------------------------------------\n",
      "importing datasets....\n",
      "selecting 30 simillar users...\n",
      "configuring movie formatting...\n",
      "creating the Graph...\n",
      "Staring training fo 30 iterations...\n"
     ]
    },
    {
     "name": "stderr",
     "output_type": "stream",
     "text": [
      "100%|███████████████████████████████████████████████████████████████████████████████████████████████████| 30/30 [00:00<00:00, 117.77it/s]\n"
     ]
    },
    {
     "name": "stdout",
     "output_type": "stream",
     "text": [
      "0\n",
      "Recommended ID's: [1037.0, 5949.0, 457.0, 2571.0, 2917.0]\n",
      "genre: Thriller\n",
      "overall accuracy is 0.8100000000000002\n",
      "running training and testing for user 0\n",
      " --------------------------------------------\n",
      "importing datasets....\n",
      "selecting 30 simillar users...\n",
      "configuring movie formatting...\n",
      "creating the Graph...\n",
      "Staring training fo 30 iterations...\n"
     ]
    },
    {
     "name": "stderr",
     "output_type": "stream",
     "text": [
      "100%|███████████████████████████████████████████████████████████████████████████████████████████████████| 30/30 [00:00<00:00, 436.46it/s]"
     ]
    },
    {
     "name": "stdout",
     "output_type": "stream",
     "text": [
      "0\n",
      "Recommended ID's: [3663.0, 5189.0, 426.0, 5189.0, 2722.0]\n",
      "running training and testing for user 1\n",
      " --------------------------------------------\n",
      "importing datasets....\n"
     ]
    },
    {
     "name": "stderr",
     "output_type": "stream",
     "text": [
      "\n"
     ]
    },
    {
     "name": "stdout",
     "output_type": "stream",
     "text": [
      "selecting 30 simillar users...\n",
      "configuring movie formatting...\n",
      "creating the Graph...\n",
      "Staring training fo 30 iterations...\n"
     ]
    },
    {
     "name": "stderr",
     "output_type": "stream",
     "text": [
      "100%|███████████████████████████████████████████████████████████████████████████████████████████████████| 30/30 [00:00<00:00, 378.96it/s]"
     ]
    },
    {
     "name": "stdout",
     "output_type": "stream",
     "text": [
      "0\n",
      "Recommended ID's: [1972.0, 4051.0, 593.0, 426.0, 6958.0]\n",
      "running training and testing for user 2\n",
      " --------------------------------------------\n",
      "importing datasets....\n"
     ]
    },
    {
     "name": "stderr",
     "output_type": "stream",
     "text": [
      "\n"
     ]
    },
    {
     "name": "stdout",
     "output_type": "stream",
     "text": [
      "selecting 30 simillar users...\n",
      "configuring movie formatting...\n",
      "creating the Graph...\n",
      "Staring training fo 30 iterations...\n"
     ]
    },
    {
     "name": "stderr",
     "output_type": "stream",
     "text": [
      "100%|███████████████████████████████████████████████████████████████████████████████████████████████████| 30/30 [00:00<00:00, 441.93it/s]"
     ]
    },
    {
     "name": "stdout",
     "output_type": "stream",
     "text": [
      "0\n",
      "Recommended ID's: [3663.0, 3663.0, 3663.0, 1972.0, 5128.0]\n",
      "running training and testing for user 3\n",
      " --------------------------------------------\n",
      "importing datasets....\n"
     ]
    },
    {
     "name": "stderr",
     "output_type": "stream",
     "text": [
      "\n"
     ]
    },
    {
     "name": "stdout",
     "output_type": "stream",
     "text": [
      "selecting 30 simillar users...\n",
      "configuring movie formatting...\n",
      "creating the Graph...\n",
      "Staring training fo 30 iterations...\n"
     ]
    },
    {
     "name": "stderr",
     "output_type": "stream",
     "text": [
      "100%|███████████████████████████████████████████████████████████████████████████████████████████████████| 30/30 [00:00<00:00, 564.94it/s]"
     ]
    },
    {
     "name": "stdout",
     "output_type": "stream",
     "text": [
      "0\n",
      "Recommended ID's: [5128.0, 3663.0, 5065.0, 5189.0, 6958.0]\n",
      "running training and testing for user 4\n",
      " --------------------------------------------\n",
      "importing datasets....\n"
     ]
    },
    {
     "name": "stderr",
     "output_type": "stream",
     "text": [
      "\n"
     ]
    },
    {
     "name": "stdout",
     "output_type": "stream",
     "text": [
      "selecting 30 simillar users...\n",
      "configuring movie formatting...\n",
      "creating the Graph...\n",
      "Staring training fo 30 iterations...\n"
     ]
    },
    {
     "name": "stderr",
     "output_type": "stream",
     "text": [
      "100%|███████████████████████████████████████████████████████████████████████████████████████████████████| 30/30 [00:00<00:00, 391.38it/s]"
     ]
    },
    {
     "name": "stdout",
     "output_type": "stream",
     "text": [
      "0\n",
      "Recommended ID's: [1214.0, 426.0, 1972.0, 2722.0, 426.0]\n",
      "running training and testing for user 5\n",
      " --------------------------------------------\n",
      "importing datasets....\n"
     ]
    },
    {
     "name": "stderr",
     "output_type": "stream",
     "text": [
      "\n"
     ]
    },
    {
     "name": "stdout",
     "output_type": "stream",
     "text": [
      "selecting 30 simillar users...\n",
      "configuring movie formatting...\n",
      "creating the Graph...\n",
      "Staring training fo 30 iterations...\n"
     ]
    },
    {
     "name": "stderr",
     "output_type": "stream",
     "text": [
      "100%|███████████████████████████████████████████████████████████████████████████████████████████████████| 30/30 [00:00<00:00, 444.93it/s]"
     ]
    },
    {
     "name": "stdout",
     "output_type": "stream",
     "text": [
      "0\n",
      "Recommended ID's: [3663.0, 5128.0, 5128.0, 1972.0, 5189.0]\n",
      "running training and testing for user 6\n",
      " --------------------------------------------\n",
      "importing datasets....\n"
     ]
    },
    {
     "name": "stderr",
     "output_type": "stream",
     "text": [
      "\n"
     ]
    },
    {
     "name": "stdout",
     "output_type": "stream",
     "text": [
      "selecting 30 simillar users...\n",
      "configuring movie formatting...\n",
      "creating the Graph...\n",
      "Staring training fo 30 iterations...\n"
     ]
    },
    {
     "name": "stderr",
     "output_type": "stream",
     "text": [
      "100%|███████████████████████████████████████████████████████████████████████████████████████████████████| 30/30 [00:00<00:00, 383.05it/s]"
     ]
    },
    {
     "name": "stdout",
     "output_type": "stream",
     "text": [
      "0\n",
      "Recommended ID's: [1972.0, 426.0, 1037.0, 6958.0, 3663.0]\n"
     ]
    },
    {
     "name": "stderr",
     "output_type": "stream",
     "text": [
      "\n"
     ]
    },
    {
     "name": "stdout",
     "output_type": "stream",
     "text": [
      "running training and testing for user 7\n",
      " --------------------------------------------\n",
      "importing datasets....\n",
      "selecting 30 simillar users...\n",
      "configuring movie formatting...\n",
      "creating the Graph...\n",
      "Staring training fo 30 iterations...\n"
     ]
    },
    {
     "name": "stderr",
     "output_type": "stream",
     "text": [
      "100%|███████████████████████████████████████████████████████████████████████████████████████████████████| 30/30 [00:00<00:00, 355.51it/s]"
     ]
    },
    {
     "name": "stdout",
     "output_type": "stream",
     "text": [
      "0\n",
      "Recommended ID's: [3663.0, 1037.0, 5189.0, 1972.0, 5128.0]\n",
      "running training and testing for user 8\n",
      " --------------------------------------------\n",
      "importing datasets....\n"
     ]
    },
    {
     "name": "stderr",
     "output_type": "stream",
     "text": [
      "\n"
     ]
    },
    {
     "name": "stdout",
     "output_type": "stream",
     "text": [
      "selecting 30 simillar users...\n",
      "configuring movie formatting...\n",
      "creating the Graph...\n",
      "Staring training fo 30 iterations...\n"
     ]
    },
    {
     "name": "stderr",
     "output_type": "stream",
     "text": [
      "100%|███████████████████████████████████████████████████████████████████████████████████████████████████| 30/30 [00:00<00:00, 393.51it/s]"
     ]
    },
    {
     "name": "stdout",
     "output_type": "stream",
     "text": [
      "0\n",
      "Recommended ID's: [5128.0, 5128.0, 1972.0, 1037.0, 1214.0]\n",
      "running training and testing for user 9\n",
      " --------------------------------------------\n",
      "importing datasets....\n"
     ]
    },
    {
     "name": "stderr",
     "output_type": "stream",
     "text": [
      "\n"
     ]
    },
    {
     "name": "stdout",
     "output_type": "stream",
     "text": [
      "selecting 30 simillar users...\n",
      "configuring movie formatting...\n",
      "creating the Graph...\n",
      "Staring training fo 30 iterations...\n"
     ]
    },
    {
     "name": "stderr",
     "output_type": "stream",
     "text": [
      "100%|███████████████████████████████████████████████████████████████████████████████████████████████████| 30/30 [00:00<00:00, 378.90it/s]"
     ]
    },
    {
     "name": "stdout",
     "output_type": "stream",
     "text": [
      "0\n",
      "Recommended ID's: [2525.0, 426.0, 5128.0, 426.0, 1972.0]\n",
      "running training and testing for user 10\n",
      " --------------------------------------------\n",
      "importing datasets....\n"
     ]
    },
    {
     "name": "stderr",
     "output_type": "stream",
     "text": [
      "\n"
     ]
    },
    {
     "name": "stdout",
     "output_type": "stream",
     "text": [
      "selecting 30 simillar users...\n",
      "configuring movie formatting...\n",
      "creating the Graph...\n",
      "Staring training fo 30 iterations...\n"
     ]
    },
    {
     "name": "stderr",
     "output_type": "stream",
     "text": [
      "100%|███████████████████████████████████████████████████████████████████████████████████████████████████| 30/30 [00:00<00:00, 370.09it/s]"
     ]
    },
    {
     "name": "stdout",
     "output_type": "stream",
     "text": [
      "0\n",
      "Recommended ID's: [6754.0, 5065.0, 5128.0, 593.0, 593.0]\n",
      "running training and testing for user 11\n",
      " --------------------------------------------\n",
      "importing datasets....\n"
     ]
    },
    {
     "name": "stderr",
     "output_type": "stream",
     "text": [
      "\n"
     ]
    },
    {
     "name": "stdout",
     "output_type": "stream",
     "text": [
      "selecting 30 simillar users...\n",
      "configuring movie formatting...\n",
      "creating the Graph...\n",
      "Staring training fo 30 iterations...\n"
     ]
    },
    {
     "name": "stderr",
     "output_type": "stream",
     "text": [
      "100%|███████████████████████████████████████████████████████████████████████████████████████████████████| 30/30 [00:00<00:00, 379.42it/s]"
     ]
    },
    {
     "name": "stdout",
     "output_type": "stream",
     "text": [
      "0\n",
      "Recommended ID's: [593.0, 5189.0, 2722.0, 2722.0, 2525.0]\n",
      "running training and testing for user 12\n",
      " --------------------------------------------\n",
      "importing datasets....\n"
     ]
    },
    {
     "name": "stderr",
     "output_type": "stream",
     "text": [
      "\n"
     ]
    },
    {
     "name": "stdout",
     "output_type": "stream",
     "text": [
      "selecting 30 simillar users...\n",
      "configuring movie formatting...\n",
      "creating the Graph...\n",
      "Staring training fo 30 iterations...\n"
     ]
    },
    {
     "name": "stderr",
     "output_type": "stream",
     "text": [
      "100%|███████████████████████████████████████████████████████████████████████████████████████████████████| 30/30 [00:00<00:00, 407.79it/s]"
     ]
    },
    {
     "name": "stdout",
     "output_type": "stream",
     "text": [
      "0\n",
      "Recommended ID's: [6958.0, 3663.0, 1972.0, 1037.0, 593.0]\n",
      "running training and testing for user 13\n",
      " --------------------------------------------\n",
      "importing datasets....\n"
     ]
    },
    {
     "name": "stderr",
     "output_type": "stream",
     "text": [
      "\n"
     ]
    },
    {
     "name": "stdout",
     "output_type": "stream",
     "text": [
      "selecting 30 simillar users...\n",
      "configuring movie formatting...\n",
      "creating the Graph...\n",
      "Staring training fo 30 iterations...\n"
     ]
    },
    {
     "name": "stderr",
     "output_type": "stream",
     "text": [
      "100%|███████████████████████████████████████████████████████████████████████████████████████████████████| 30/30 [00:00<00:00, 406.70it/s]"
     ]
    },
    {
     "name": "stdout",
     "output_type": "stream",
     "text": [
      "0\n",
      "Recommended ID's: [1214.0, 5065.0, 2525.0, 3663.0, 2722.0]\n",
      "running training and testing for user 14\n",
      " --------------------------------------------\n",
      "importing datasets....\n"
     ]
    },
    {
     "name": "stderr",
     "output_type": "stream",
     "text": [
      "\n"
     ]
    },
    {
     "name": "stdout",
     "output_type": "stream",
     "text": [
      "selecting 30 simillar users...\n",
      "configuring movie formatting...\n",
      "creating the Graph...\n",
      "Staring training fo 30 iterations...\n"
     ]
    },
    {
     "name": "stderr",
     "output_type": "stream",
     "text": [
      "100%|███████████████████████████████████████████████████████████████████████████████████████████████████| 30/30 [00:00<00:00, 476.69it/s]"
     ]
    },
    {
     "name": "stdout",
     "output_type": "stream",
     "text": [
      "0\n",
      "Recommended ID's: [5189.0, 1214.0, 1037.0, 593.0, 5065.0]\n",
      "running training and testing for user 15\n",
      " --------------------------------------------\n",
      "importing datasets....\n"
     ]
    },
    {
     "name": "stderr",
     "output_type": "stream",
     "text": [
      "\n"
     ]
    },
    {
     "name": "stdout",
     "output_type": "stream",
     "text": [
      "selecting 30 simillar users...\n",
      "configuring movie formatting...\n",
      "creating the Graph...\n",
      "Staring training fo 30 iterations...\n"
     ]
    },
    {
     "name": "stderr",
     "output_type": "stream",
     "text": [
      "100%|███████████████████████████████████████████████████████████████████████████████████████████████████| 30/30 [00:00<00:00, 325.91it/s]"
     ]
    },
    {
     "name": "stdout",
     "output_type": "stream",
     "text": [
      "0\n",
      "Recommended ID's: [5065.0, 2722.0, 1976.0, 1972.0, 1976.0]\n",
      "running training and testing for user 16\n",
      " --------------------------------------------\n",
      "importing datasets....\n"
     ]
    },
    {
     "name": "stderr",
     "output_type": "stream",
     "text": [
      "\n"
     ]
    },
    {
     "name": "stdout",
     "output_type": "stream",
     "text": [
      "selecting 30 simillar users...\n",
      "configuring movie formatting...\n",
      "creating the Graph...\n",
      "Staring training fo 30 iterations...\n"
     ]
    },
    {
     "name": "stderr",
     "output_type": "stream",
     "text": [
      "100%|███████████████████████████████████████████████████████████████████████████████████████████████████| 30/30 [00:00<00:00, 498.52it/s]"
     ]
    },
    {
     "name": "stdout",
     "output_type": "stream",
     "text": [
      "0\n",
      "Recommended ID's: [3663.0, 1214.0, 5065.0, 5128.0, 2525.0]\n",
      "running training and testing for user 17\n",
      " --------------------------------------------\n",
      "importing datasets....\n",
      "selecting 30 simillar users...\n"
     ]
    },
    {
     "name": "stderr",
     "output_type": "stream",
     "text": [
      "\n"
     ]
    },
    {
     "name": "stdout",
     "output_type": "stream",
     "text": [
      "configuring movie formatting...\n",
      "creating the Graph...\n",
      "Staring training fo 30 iterations...\n"
     ]
    },
    {
     "name": "stderr",
     "output_type": "stream",
     "text": [
      "100%|███████████████████████████████████████████████████████████████████████████████████████████████████| 30/30 [00:00<00:00, 428.01it/s]"
     ]
    },
    {
     "name": "stdout",
     "output_type": "stream",
     "text": [
      "0\n",
      "Recommended ID's: [5065.0, 2525.0, 1972.0, 6958.0, 2525.0]\n",
      "running training and testing for user 18\n",
      " --------------------------------------------\n",
      "importing datasets....\n"
     ]
    },
    {
     "name": "stderr",
     "output_type": "stream",
     "text": [
      "\n"
     ]
    },
    {
     "name": "stdout",
     "output_type": "stream",
     "text": [
      "selecting 30 simillar users...\n",
      "configuring movie formatting...\n",
      "creating the Graph...\n",
      "Staring training fo 30 iterations...\n"
     ]
    },
    {
     "name": "stderr",
     "output_type": "stream",
     "text": [
      "100%|███████████████████████████████████████████████████████████████████████████████████████████████████| 30/30 [00:00<00:00, 449.04it/s]"
     ]
    },
    {
     "name": "stdout",
     "output_type": "stream",
     "text": [
      "0\n",
      "Recommended ID's: [1214.0, 1972.0, 3663.0, 5065.0, 3663.0]\n",
      "running training and testing for user 19\n",
      " --------------------------------------------\n",
      "importing datasets....\n"
     ]
    },
    {
     "name": "stderr",
     "output_type": "stream",
     "text": [
      "\n"
     ]
    },
    {
     "name": "stdout",
     "output_type": "stream",
     "text": [
      "selecting 30 simillar users...\n",
      "configuring movie formatting...\n",
      "creating the Graph...\n",
      "Staring training fo 30 iterations...\n"
     ]
    },
    {
     "name": "stderr",
     "output_type": "stream",
     "text": [
      "100%|███████████████████████████████████████████████████████████████████████████████████████████████████| 30/30 [00:00<00:00, 468.96it/s]"
     ]
    },
    {
     "name": "stdout",
     "output_type": "stream",
     "text": [
      "0\n",
      "Recommended ID's: [5128.0, 593.0, 593.0, 5189.0, 1972.0]\n",
      "running training and testing for user 20\n",
      " --------------------------------------------\n",
      "importing datasets....\n"
     ]
    },
    {
     "name": "stderr",
     "output_type": "stream",
     "text": [
      "\n"
     ]
    },
    {
     "name": "stdout",
     "output_type": "stream",
     "text": [
      "selecting 30 simillar users...\n",
      "configuring movie formatting...\n",
      "creating the Graph...\n",
      "Staring training fo 30 iterations...\n"
     ]
    },
    {
     "name": "stderr",
     "output_type": "stream",
     "text": [
      "100%|███████████████████████████████████████████████████████████████████████████████████████████████████| 30/30 [00:00<00:00, 407.79it/s]"
     ]
    },
    {
     "name": "stdout",
     "output_type": "stream",
     "text": [
      "0\n",
      "Recommended ID's: [1972.0, 1214.0, 426.0, 4876, 5065.0]\n",
      "running training and testing for user 21\n",
      " --------------------------------------------\n",
      "importing datasets....\n"
     ]
    },
    {
     "name": "stderr",
     "output_type": "stream",
     "text": [
      "\n"
     ]
    },
    {
     "name": "stdout",
     "output_type": "stream",
     "text": [
      "selecting 30 simillar users...\n",
      "configuring movie formatting...\n",
      "creating the Graph...\n",
      "Staring training fo 30 iterations...\n"
     ]
    },
    {
     "name": "stderr",
     "output_type": "stream",
     "text": [
      "100%|███████████████████████████████████████████████████████████████████████████████████████████████████| 30/30 [00:00<00:00, 437.90it/s]"
     ]
    },
    {
     "name": "stdout",
     "output_type": "stream",
     "text": [
      "0\n",
      "Recommended ID's: [2722.0, 5189.0, 2525.0, 5065.0, 426.0]\n",
      "running training and testing for user 22\n",
      " --------------------------------------------\n",
      "importing datasets....\n"
     ]
    },
    {
     "name": "stderr",
     "output_type": "stream",
     "text": [
      "\n"
     ]
    },
    {
     "name": "stdout",
     "output_type": "stream",
     "text": [
      "selecting 30 simillar users...\n",
      "configuring movie formatting...\n",
      "creating the Graph...\n",
      "Staring training fo 30 iterations...\n"
     ]
    },
    {
     "name": "stderr",
     "output_type": "stream",
     "text": [
      "100%|███████████████████████████████████████████████████████████████████████████████████████████████████| 30/30 [00:00<00:00, 292.72it/s]\n"
     ]
    },
    {
     "name": "stdout",
     "output_type": "stream",
     "text": [
      "0\n",
      "Recommended ID's: [3663.0, 4051.0, 2841.0, 4051.0, 4876]\n",
      "running training and testing for user 23\n",
      " --------------------------------------------\n",
      "importing datasets....\n",
      "selecting 30 simillar users...\n",
      "configuring movie formatting...\n",
      "creating the Graph...\n",
      "Staring training fo 30 iterations...\n"
     ]
    },
    {
     "name": "stderr",
     "output_type": "stream",
     "text": [
      "100%|███████████████████████████████████████████████████████████████████████████████████████████████████| 30/30 [00:00<00:00, 401.71it/s]"
     ]
    },
    {
     "name": "stdout",
     "output_type": "stream",
     "text": [
      "0\n",
      "Recommended ID's: [426.0, 1972.0, 3663.0, 6958.0, 2525.0]\n",
      "running training and testing for user 24\n",
      " --------------------------------------------\n",
      "importing datasets....\n"
     ]
    },
    {
     "name": "stderr",
     "output_type": "stream",
     "text": [
      "\n"
     ]
    },
    {
     "name": "stdout",
     "output_type": "stream",
     "text": [
      "selecting 30 simillar users...\n",
      "configuring movie formatting...\n",
      "creating the Graph...\n",
      "Staring training fo 30 iterations...\n"
     ]
    },
    {
     "name": "stderr",
     "output_type": "stream",
     "text": [
      "100%|███████████████████████████████████████████████████████████████████████████████████████████████████| 30/30 [00:00<00:00, 379.39it/s]"
     ]
    },
    {
     "name": "stdout",
     "output_type": "stream",
     "text": [
      "0\n",
      "Recommended ID's: [2525.0, 3663.0, 426.0, 1037.0, 1972.0]\n",
      "running training and testing for user 25\n",
      " --------------------------------------------\n",
      "importing datasets....\n"
     ]
    },
    {
     "name": "stderr",
     "output_type": "stream",
     "text": [
      "\n"
     ]
    },
    {
     "name": "stdout",
     "output_type": "stream",
     "text": [
      "selecting 30 simillar users...\n",
      "configuring movie formatting...\n",
      "creating the Graph...\n",
      "Staring training fo 30 iterations...\n"
     ]
    },
    {
     "name": "stderr",
     "output_type": "stream",
     "text": [
      "100%|███████████████████████████████████████████████████████████████████████████████████████████████████| 30/30 [00:00<00:00, 399.96it/s]"
     ]
    },
    {
     "name": "stdout",
     "output_type": "stream",
     "text": [
      "0\n",
      "Recommended ID's: [2525.0, 5065.0, 5128.0, 5065.0, 2525.0]\n",
      "running training and testing for user 26\n",
      " --------------------------------------------\n",
      "importing datasets....\n"
     ]
    },
    {
     "name": "stderr",
     "output_type": "stream",
     "text": [
      "\n"
     ]
    },
    {
     "name": "stdout",
     "output_type": "stream",
     "text": [
      "selecting 30 simillar users...\n",
      "configuring movie formatting...\n",
      "creating the Graph...\n",
      "Staring training fo 30 iterations...\n"
     ]
    },
    {
     "name": "stderr",
     "output_type": "stream",
     "text": [
      "100%|███████████████████████████████████████████████████████████████████████████████████████████████████| 30/30 [00:00<00:00, 472.12it/s]"
     ]
    },
    {
     "name": "stdout",
     "output_type": "stream",
     "text": [
      "0\n",
      "Recommended ID's: [1972.0, 1972.0, 2525.0, 6958.0, 5128.0]\n",
      "running training and testing for user 27\n",
      " --------------------------------------------\n",
      "importing datasets....\n"
     ]
    },
    {
     "name": "stderr",
     "output_type": "stream",
     "text": [
      "\n"
     ]
    },
    {
     "name": "stdout",
     "output_type": "stream",
     "text": [
      "selecting 30 simillar users...\n",
      "configuring movie formatting...\n",
      "creating the Graph...\n",
      "Staring training fo 30 iterations...\n"
     ]
    },
    {
     "name": "stderr",
     "output_type": "stream",
     "text": [
      "100%|███████████████████████████████████████████████████████████████████████████████████████████████████| 30/30 [00:00<00:00, 348.93it/s]\n"
     ]
    },
    {
     "name": "stdout",
     "output_type": "stream",
     "text": [
      "0\n",
      "Recommended ID's: [2722.0, 5189.0, 1214.0, 6958.0, 6958.0]\n",
      "running training and testing for user 28\n",
      " --------------------------------------------\n",
      "importing datasets....\n",
      "selecting 30 simillar users...\n",
      "configuring movie formatting...\n",
      "creating the Graph...\n",
      "Staring training fo 30 iterations...\n"
     ]
    },
    {
     "name": "stderr",
     "output_type": "stream",
     "text": [
      "100%|███████████████████████████████████████████████████████████████████████████████████████████████████| 30/30 [00:00<00:00, 442.40it/s]"
     ]
    },
    {
     "name": "stdout",
     "output_type": "stream",
     "text": [
      "0\n",
      "Recommended ID's: [4051.0, 5189.0, 1972.0, 2525.0, 5128.0]\n",
      "running training and testing for user 29\n",
      " --------------------------------------------\n",
      "importing datasets....\n"
     ]
    },
    {
     "name": "stderr",
     "output_type": "stream",
     "text": [
      "\n"
     ]
    },
    {
     "name": "stdout",
     "output_type": "stream",
     "text": [
      "selecting 30 simillar users...\n",
      "configuring movie formatting...\n",
      "creating the Graph...\n",
      "Staring training fo 30 iterations...\n"
     ]
    },
    {
     "name": "stderr",
     "output_type": "stream",
     "text": [
      "100%|███████████████████████████████████████████████████████████████████████████████████████████████████| 30/30 [00:00<00:00, 426.12it/s]"
     ]
    },
    {
     "name": "stdout",
     "output_type": "stream",
     "text": [
      "0\n",
      "Recommended ID's: [5128.0, 1037.0, 1972.0, 5189.0, 5128.0]\n",
      "running training and testing for user 30\n",
      " --------------------------------------------\n",
      "importing datasets....\n"
     ]
    },
    {
     "name": "stderr",
     "output_type": "stream",
     "text": [
      "\n"
     ]
    },
    {
     "name": "stdout",
     "output_type": "stream",
     "text": [
      "selecting 30 simillar users...\n",
      "configuring movie formatting...\n",
      "creating the Graph...\n",
      "Staring training fo 30 iterations...\n"
     ]
    },
    {
     "name": "stderr",
     "output_type": "stream",
     "text": [
      "100%|███████████████████████████████████████████████████████████████████████████████████████████████████| 30/30 [00:00<00:00, 375.77it/s]"
     ]
    },
    {
     "name": "stdout",
     "output_type": "stream",
     "text": [
      "0\n",
      "Recommended ID's: [2525.0, 426.0, 5065.0, 6754.0, 1976.0]\n",
      "running training and testing for user 31\n",
      " --------------------------------------------\n",
      "importing datasets....\n"
     ]
    },
    {
     "name": "stderr",
     "output_type": "stream",
     "text": [
      "\n"
     ]
    },
    {
     "name": "stdout",
     "output_type": "stream",
     "text": [
      "selecting 30 simillar users...\n",
      "configuring movie formatting...\n",
      "creating the Graph...\n",
      "Staring training fo 30 iterations...\n"
     ]
    },
    {
     "name": "stderr",
     "output_type": "stream",
     "text": [
      "100%|███████████████████████████████████████████████████████████████████████████████████████████████████| 30/30 [00:00<00:00, 429.51it/s]"
     ]
    },
    {
     "name": "stdout",
     "output_type": "stream",
     "text": [
      "0\n",
      "Recommended ID's: [426.0, 2722.0, 1972.0, 1037.0, 593.0]\n",
      "running training and testing for user 32\n",
      " --------------------------------------------\n",
      "importing datasets....\n"
     ]
    },
    {
     "name": "stderr",
     "output_type": "stream",
     "text": [
      "\n"
     ]
    },
    {
     "name": "stdout",
     "output_type": "stream",
     "text": [
      "selecting 30 simillar users...\n",
      "configuring movie formatting...\n",
      "creating the Graph...\n",
      "Staring training fo 30 iterations...\n"
     ]
    },
    {
     "name": "stderr",
     "output_type": "stream",
     "text": [
      "100%|███████████████████████████████████████████████████████████████████████████████████████████████████| 30/30 [00:00<00:00, 347.18it/s]"
     ]
    },
    {
     "name": "stdout",
     "output_type": "stream",
     "text": [
      "0\n",
      "Recommended ID's: [1037.0, 1972.0, 1972.0, 426.0, 3663.0]\n",
      "running training and testing for user 33\n",
      " --------------------------------------------\n",
      "importing datasets....\n"
     ]
    },
    {
     "name": "stderr",
     "output_type": "stream",
     "text": [
      "\n"
     ]
    },
    {
     "name": "stdout",
     "output_type": "stream",
     "text": [
      "selecting 30 simillar users...\n",
      "configuring movie formatting...\n",
      "creating the Graph...\n",
      "Staring training fo 30 iterations...\n"
     ]
    },
    {
     "name": "stderr",
     "output_type": "stream",
     "text": [
      "100%|███████████████████████████████████████████████████████████████████████████████████████████████████| 30/30 [00:00<00:00, 499.12it/s]"
     ]
    },
    {
     "name": "stdout",
     "output_type": "stream",
     "text": [
      "0\n",
      "Recommended ID's: [3663.0, 5189.0, 2525.0, 6958.0, 3663.0]\n",
      "running training and testing for user 34\n",
      " --------------------------------------------\n",
      "importing datasets....\n"
     ]
    },
    {
     "name": "stderr",
     "output_type": "stream",
     "text": [
      "\n"
     ]
    },
    {
     "name": "stdout",
     "output_type": "stream",
     "text": [
      "selecting 30 simillar users...\n",
      "configuring movie formatting...\n",
      "creating the Graph...\n",
      "Staring training fo 30 iterations...\n"
     ]
    },
    {
     "name": "stderr",
     "output_type": "stream",
     "text": [
      "100%|███████████████████████████████████████████████████████████████████████████████████████████████████| 30/30 [00:00<00:00, 349.89it/s]"
     ]
    },
    {
     "name": "stdout",
     "output_type": "stream",
     "text": [
      "0\n",
      "Recommended ID's: [6754.0, 3663.0, 2525.0, 1037.0, 426.0]\n",
      "running training and testing for user 35\n",
      " --------------------------------------------\n",
      "importing datasets....\n"
     ]
    },
    {
     "name": "stderr",
     "output_type": "stream",
     "text": [
      "\n"
     ]
    },
    {
     "name": "stdout",
     "output_type": "stream",
     "text": [
      "selecting 30 simillar users...\n",
      "configuring movie formatting...\n",
      "creating the Graph...\n",
      "Staring training fo 30 iterations...\n"
     ]
    },
    {
     "name": "stderr",
     "output_type": "stream",
     "text": [
      "100%|███████████████████████████████████████████████████████████████████████████████████████████████████| 30/30 [00:00<00:00, 366.51it/s]"
     ]
    },
    {
     "name": "stdout",
     "output_type": "stream",
     "text": [
      "0\n",
      "Recommended ID's: [2525.0, 5189.0, 5065.0, 4876, 5065.0]\n",
      "running training and testing for user 36\n",
      " --------------------------------------------\n",
      "importing datasets....\n"
     ]
    },
    {
     "name": "stderr",
     "output_type": "stream",
     "text": [
      "\n"
     ]
    },
    {
     "name": "stdout",
     "output_type": "stream",
     "text": [
      "selecting 30 simillar users...\n",
      "configuring movie formatting...\n",
      "creating the Graph...\n",
      "Staring training fo 30 iterations...\n"
     ]
    },
    {
     "name": "stderr",
     "output_type": "stream",
     "text": [
      "100%|███████████████████████████████████████████████████████████████████████████████████████████████████| 30/30 [00:00<00:00, 430.57it/s]"
     ]
    },
    {
     "name": "stdout",
     "output_type": "stream",
     "text": [
      "0\n",
      "Recommended ID's: [1214.0, 1214.0, 6958.0, 6958.0, 2722.0]\n",
      "running training and testing for user 37\n",
      " --------------------------------------------\n",
      "importing datasets....\n"
     ]
    },
    {
     "name": "stderr",
     "output_type": "stream",
     "text": [
      "\n"
     ]
    },
    {
     "name": "stdout",
     "output_type": "stream",
     "text": [
      "selecting 30 simillar users...\n",
      "configuring movie formatting...\n",
      "creating the Graph...\n",
      "Staring training fo 30 iterations...\n"
     ]
    },
    {
     "name": "stderr",
     "output_type": "stream",
     "text": [
      "100%|███████████████████████████████████████████████████████████████████████████████████████████████████| 30/30 [00:00<00:00, 316.99it/s]"
     ]
    },
    {
     "name": "stdout",
     "output_type": "stream",
     "text": [
      "0\n",
      "Recommended ID's: [3663.0, 2525.0, 5189.0, 2722.0, 5128.0]\n",
      "running training and testing for user 38\n",
      " --------------------------------------------\n",
      "importing datasets....\n"
     ]
    },
    {
     "name": "stderr",
     "output_type": "stream",
     "text": [
      "\n"
     ]
    },
    {
     "name": "stdout",
     "output_type": "stream",
     "text": [
      "selecting 30 simillar users...\n",
      "configuring movie formatting...\n",
      "creating the Graph...\n",
      "Staring training fo 30 iterations...\n"
     ]
    },
    {
     "name": "stderr",
     "output_type": "stream",
     "text": [
      "100%|███████████████████████████████████████████████████████████████████████████████████████████████████| 30/30 [00:00<00:00, 368.21it/s]"
     ]
    },
    {
     "name": "stdout",
     "output_type": "stream",
     "text": [
      "0\n",
      "Recommended ID's: [1037.0, 6754.0, 1037.0, 2525.0, 2525.0]\n",
      "running training and testing for user 39\n",
      " --------------------------------------------\n",
      "importing datasets....\n"
     ]
    },
    {
     "name": "stderr",
     "output_type": "stream",
     "text": [
      "\n"
     ]
    },
    {
     "name": "stdout",
     "output_type": "stream",
     "text": [
      "selecting 30 simillar users...\n",
      "configuring movie formatting...\n",
      "creating the Graph...\n",
      "Staring training fo 30 iterations...\n"
     ]
    },
    {
     "name": "stderr",
     "output_type": "stream",
     "text": [
      "100%|███████████████████████████████████████████████████████████████████████████████████████████████████| 30/30 [00:00<00:00, 377.87it/s]"
     ]
    },
    {
     "name": "stdout",
     "output_type": "stream",
     "text": [
      "0\n",
      "Recommended ID's: [3663.0, 5189.0, 5189.0, 1972.0, 5189.0]\n",
      "running training and testing for user 40\n",
      " --------------------------------------------\n",
      "importing datasets....\n"
     ]
    },
    {
     "name": "stderr",
     "output_type": "stream",
     "text": [
      "\n"
     ]
    },
    {
     "name": "stdout",
     "output_type": "stream",
     "text": [
      "selecting 30 simillar users...\n",
      "configuring movie formatting...\n",
      "creating the Graph...\n",
      "Staring training fo 30 iterations...\n"
     ]
    },
    {
     "name": "stderr",
     "output_type": "stream",
     "text": [
      "100%|███████████████████████████████████████████████████████████████████████████████████████████████████| 30/30 [00:00<00:00, 401.76it/s]"
     ]
    },
    {
     "name": "stdout",
     "output_type": "stream",
     "text": [
      "0\n",
      "Recommended ID's: [2525.0, 1037.0, 2784.0, 3663.0, 1037.0]\n",
      "running training and testing for user 41\n",
      " --------------------------------------------\n",
      "importing datasets....\n"
     ]
    },
    {
     "name": "stderr",
     "output_type": "stream",
     "text": [
      "\n"
     ]
    },
    {
     "name": "stdout",
     "output_type": "stream",
     "text": [
      "selecting 30 simillar users...\n",
      "configuring movie formatting...\n",
      "creating the Graph...\n",
      "Staring training fo 30 iterations...\n"
     ]
    },
    {
     "name": "stderr",
     "output_type": "stream",
     "text": [
      "100%|███████████████████████████████████████████████████████████████████████████████████████████████████| 30/30 [00:00<00:00, 762.43it/s]"
     ]
    },
    {
     "name": "stdout",
     "output_type": "stream",
     "text": [
      "0\n",
      "Recommended ID's: [1972.0, 1972.0, 593.0, 5128.0, 1972.0]\n",
      "running training and testing for user 42\n",
      " --------------------------------------------\n",
      "importing datasets....\n",
      "selecting 30 simillar users...\n"
     ]
    },
    {
     "name": "stderr",
     "output_type": "stream",
     "text": [
      "\n"
     ]
    },
    {
     "name": "stdout",
     "output_type": "stream",
     "text": [
      "configuring movie formatting...\n",
      "creating the Graph...\n",
      "Staring training fo 30 iterations...\n"
     ]
    },
    {
     "name": "stderr",
     "output_type": "stream",
     "text": [
      "100%|███████████████████████████████████████████████████████████████████████████████████████████████████| 30/30 [00:00<00:00, 375.05it/s]"
     ]
    },
    {
     "name": "stdout",
     "output_type": "stream",
     "text": [
      "0\n",
      "Recommended ID's: [1037.0, 593.0, 1972.0, 5128.0, 2525.0]\n",
      "running training and testing for user 43\n",
      " --------------------------------------------\n",
      "importing datasets....\n"
     ]
    },
    {
     "name": "stderr",
     "output_type": "stream",
     "text": [
      "\n"
     ]
    },
    {
     "name": "stdout",
     "output_type": "stream",
     "text": [
      "selecting 30 simillar users...\n",
      "configuring movie formatting...\n",
      "creating the Graph...\n",
      "Staring training fo 30 iterations...\n"
     ]
    },
    {
     "name": "stderr",
     "output_type": "stream",
     "text": [
      "100%|███████████████████████████████████████████████████████████████████████████████████████████████████| 30/30 [00:00<00:00, 400.64it/s]"
     ]
    },
    {
     "name": "stdout",
     "output_type": "stream",
     "text": [
      "0\n",
      "Recommended ID's: [593.0, 1037.0, 1037.0, 2722.0, 426.0]\n",
      "running training and testing for user 44\n",
      " --------------------------------------------\n",
      "importing datasets....\n"
     ]
    },
    {
     "name": "stderr",
     "output_type": "stream",
     "text": [
      "\n"
     ]
    },
    {
     "name": "stdout",
     "output_type": "stream",
     "text": [
      "selecting 30 simillar users...\n",
      "configuring movie formatting...\n",
      "creating the Graph...\n",
      "Staring training fo 30 iterations...\n"
     ]
    },
    {
     "name": "stderr",
     "output_type": "stream",
     "text": [
      "100%|███████████████████████████████████████████████████████████████████████████████████████████████████| 30/30 [00:00<00:00, 416.14it/s]"
     ]
    },
    {
     "name": "stdout",
     "output_type": "stream",
     "text": [
      "0\n",
      "Recommended ID's: [1972.0, 5065.0, 3663.0, 426.0, 426.0]\n",
      "running training and testing for user 45\n",
      " --------------------------------------------\n",
      "importing datasets....\n"
     ]
    },
    {
     "name": "stderr",
     "output_type": "stream",
     "text": [
      "\n"
     ]
    },
    {
     "name": "stdout",
     "output_type": "stream",
     "text": [
      "selecting 30 simillar users...\n",
      "configuring movie formatting...\n",
      "creating the Graph...\n",
      "Staring training fo 30 iterations...\n"
     ]
    },
    {
     "name": "stderr",
     "output_type": "stream",
     "text": [
      "100%|███████████████████████████████████████████████████████████████████████████████████████████████████| 30/30 [00:00<00:00, 377.62it/s]"
     ]
    },
    {
     "name": "stdout",
     "output_type": "stream",
     "text": [
      "0\n",
      "Recommended ID's: [4876, 6754.0, 5065.0, 5189.0, 1037.0]\n",
      "running training and testing for user 46\n",
      " --------------------------------------------\n",
      "importing datasets....\n"
     ]
    },
    {
     "name": "stderr",
     "output_type": "stream",
     "text": [
      "\n"
     ]
    },
    {
     "name": "stdout",
     "output_type": "stream",
     "text": [
      "selecting 30 simillar users...\n",
      "configuring movie formatting...\n",
      "creating the Graph...\n",
      "Staring training fo 30 iterations...\n"
     ]
    },
    {
     "name": "stderr",
     "output_type": "stream",
     "text": [
      "100%|███████████████████████████████████████████████████████████████████████████████████████████████████| 30/30 [00:00<00:00, 454.00it/s]"
     ]
    },
    {
     "name": "stdout",
     "output_type": "stream",
     "text": [
      "0\n",
      "Recommended ID's: [6958.0, 5065.0, 5065.0, 5065.0, 5065.0]\n",
      "running training and testing for user 47\n",
      " --------------------------------------------\n",
      "importing datasets....\n"
     ]
    },
    {
     "name": "stderr",
     "output_type": "stream",
     "text": [
      "\n"
     ]
    },
    {
     "name": "stdout",
     "output_type": "stream",
     "text": [
      "selecting 30 simillar users...\n",
      "configuring movie formatting...\n",
      "creating the Graph...\n",
      "Staring training fo 30 iterations...\n"
     ]
    },
    {
     "name": "stderr",
     "output_type": "stream",
     "text": [
      "100%|███████████████████████████████████████████████████████████████████████████████████████████████████| 30/30 [00:00<00:00, 477.93it/s]"
     ]
    },
    {
     "name": "stdout",
     "output_type": "stream",
     "text": [
      "0\n",
      "Recommended ID's: [3663.0, 5189.0, 3663.0, 5065.0, 426.0]\n",
      "running training and testing for user 48\n",
      " --------------------------------------------\n",
      "importing datasets....\n"
     ]
    },
    {
     "name": "stderr",
     "output_type": "stream",
     "text": [
      "\n"
     ]
    },
    {
     "name": "stdout",
     "output_type": "stream",
     "text": [
      "selecting 30 simillar users...\n",
      "configuring movie formatting...\n",
      "creating the Graph...\n",
      "Staring training fo 30 iterations...\n"
     ]
    },
    {
     "name": "stderr",
     "output_type": "stream",
     "text": [
      "100%|███████████████████████████████████████████████████████████████████████████████████████████████████| 30/30 [00:00<00:00, 349.72it/s]"
     ]
    },
    {
     "name": "stdout",
     "output_type": "stream",
     "text": [
      "0\n",
      "Recommended ID's: [1976.0, 3663.0, 5189.0, 5128.0, 2841.0]\n",
      "running training and testing for user 49\n",
      " --------------------------------------------\n",
      "importing datasets....\n"
     ]
    },
    {
     "name": "stderr",
     "output_type": "stream",
     "text": [
      "\n"
     ]
    },
    {
     "name": "stdout",
     "output_type": "stream",
     "text": [
      "selecting 30 simillar users...\n",
      "configuring movie formatting...\n",
      "creating the Graph...\n",
      "Staring training fo 30 iterations...\n"
     ]
    },
    {
     "name": "stderr",
     "output_type": "stream",
     "text": [
      "100%|███████████████████████████████████████████████████████████████████████████████████████████████████| 30/30 [00:00<00:00, 432.37it/s]"
     ]
    },
    {
     "name": "stdout",
     "output_type": "stream",
     "text": [
      "0\n",
      "Recommended ID's: [4051.0, 2525.0, 5128.0, 2525.0, 4051.0]\n",
      "genre: Horror\n",
      "overall accuracy is 0.625\n",
      "running training and testing for user 0\n",
      " --------------------------------------------\n",
      "importing datasets....\n"
     ]
    },
    {
     "name": "stderr",
     "output_type": "stream",
     "text": [
      "\n"
     ]
    },
    {
     "name": "stdout",
     "output_type": "stream",
     "text": [
      "selecting 30 simillar users...\n",
      "configuring movie formatting...\n",
      "creating the Graph...\n",
      "Staring training fo 30 iterations...\n"
     ]
    },
    {
     "name": "stderr",
     "output_type": "stream",
     "text": [
      "100%|███████████████████████████████████████████████████████████████████████████████████████████████████| 30/30 [00:00<00:00, 287.49it/s]\n"
     ]
    },
    {
     "name": "stdout",
     "output_type": "stream",
     "text": [
      "0\n",
      "Recommended ID's: [923.0, 1269.0, 3730.0, 2097.0, 2097.0]\n",
      "running training and testing for user 1\n",
      " --------------------------------------------\n",
      "importing datasets....\n",
      "selecting 30 simillar users...\n",
      "configuring movie formatting...\n",
      "creating the Graph...\n",
      "Staring training fo 30 iterations...\n"
     ]
    },
    {
     "name": "stderr",
     "output_type": "stream",
     "text": [
      "100%|███████████████████████████████████████████████████████████████████████████████████████████████████| 30/30 [00:00<00:00, 312.08it/s]\n"
     ]
    },
    {
     "name": "stdout",
     "output_type": "stream",
     "text": [
      "0\n",
      "Recommended ID's: [1950.0, 1372.0, 5065.0, 2097.0, 923.0]\n",
      "running training and testing for user 2\n",
      " --------------------------------------------\n",
      "importing datasets....\n",
      "selecting 30 simillar users...\n",
      "configuring movie formatting...\n",
      "creating the Graph...\n",
      "Staring training fo 30 iterations...\n"
     ]
    },
    {
     "name": "stderr",
     "output_type": "stream",
     "text": [
      "100%|███████████████████████████████████████████████████████████████████████████████████████████████████| 30/30 [00:00<00:00, 287.19it/s]\n"
     ]
    },
    {
     "name": "stdout",
     "output_type": "stream",
     "text": [
      "0\n",
      "Recommended ID's: [2467.0, 3730.0, 1269.0, 159.0, 1269.0]\n",
      "running training and testing for user 3\n",
      " --------------------------------------------\n",
      "importing datasets....\n",
      "selecting 30 simillar users...\n",
      "configuring movie formatting...\n",
      "creating the Graph...\n",
      "Staring training fo 30 iterations...\n"
     ]
    },
    {
     "name": "stderr",
     "output_type": "stream",
     "text": [
      "100%|███████████████████████████████████████████████████████████████████████████████████████████████████| 30/30 [00:00<00:00, 325.66it/s]\n"
     ]
    },
    {
     "name": "stdout",
     "output_type": "stream",
     "text": [
      "0\n",
      "Recommended ID's: [923.0, 2467.0, 6303.0, 1269.0, 50.0]\n",
      "running training and testing for user 4\n",
      " --------------------------------------------\n",
      "importing datasets....\n",
      "selecting 30 simillar users...\n",
      "configuring movie formatting...\n",
      "creating the Graph...\n",
      "Staring training fo 30 iterations...\n"
     ]
    },
    {
     "name": "stderr",
     "output_type": "stream",
     "text": [
      "100%|███████████████████████████████████████████████████████████████████████████████████████████████████| 30/30 [00:00<00:00, 288.32it/s]"
     ]
    },
    {
     "name": "stdout",
     "output_type": "stream",
     "text": [
      "0\n",
      "Recommended ID's: [492.0, 2097.0, 1464.0, 492.0, 6538.0]\n"
     ]
    },
    {
     "name": "stderr",
     "output_type": "stream",
     "text": [
      "\n"
     ]
    },
    {
     "name": "stdout",
     "output_type": "stream",
     "text": [
      "running training and testing for user 5\n",
      " --------------------------------------------\n",
      "importing datasets....\n",
      "selecting 30 simillar users...\n",
      "configuring movie formatting...\n",
      "creating the Graph...\n",
      "Staring training fo 30 iterations...\n"
     ]
    },
    {
     "name": "stderr",
     "output_type": "stream",
     "text": [
      "100%|███████████████████████████████████████████████████████████████████████████████████████████████████| 30/30 [00:00<00:00, 319.59it/s]\n"
     ]
    },
    {
     "name": "stdout",
     "output_type": "stream",
     "text": [
      "0\n",
      "Recommended ID's: [492.0, 1950.0, 1464.0, 50.0, 50.0]\n",
      "running training and testing for user 6\n",
      " --------------------------------------------\n",
      "importing datasets....\n",
      "selecting 30 simillar users...\n",
      "configuring movie formatting...\n",
      "creating the Graph...\n",
      "Staring training fo 30 iterations...\n"
     ]
    },
    {
     "name": "stderr",
     "output_type": "stream",
     "text": [
      "100%|███████████████████████████████████████████████████████████████████████████████████████████████████| 30/30 [00:00<00:00, 285.13it/s]"
     ]
    },
    {
     "name": "stdout",
     "output_type": "stream",
     "text": [
      "0\n",
      "Recommended ID's: [1089.0, 1464.0, 1372.0, 1372.0, 1617.0]\n"
     ]
    },
    {
     "name": "stderr",
     "output_type": "stream",
     "text": [
      "\n"
     ]
    },
    {
     "name": "stdout",
     "output_type": "stream",
     "text": [
      "running training and testing for user 7\n",
      " --------------------------------------------\n",
      "importing datasets....\n",
      "selecting 30 simillar users...\n",
      "configuring movie formatting...\n",
      "creating the Graph...\n",
      "Staring training fo 30 iterations...\n"
     ]
    },
    {
     "name": "stderr",
     "output_type": "stream",
     "text": [
      "100%|███████████████████████████████████████████████████████████████████████████████████████████████████| 30/30 [00:00<00:00, 296.43it/s]"
     ]
    },
    {
     "name": "stdout",
     "output_type": "stream",
     "text": [
      "0\n",
      "Recommended ID's: [5065.0, 1464.0, 2467.0, 1950.0, 3105.0]\n"
     ]
    },
    {
     "name": "stderr",
     "output_type": "stream",
     "text": [
      "\n"
     ]
    },
    {
     "name": "stdout",
     "output_type": "stream",
     "text": [
      "running training and testing for user 8\n",
      " --------------------------------------------\n",
      "importing datasets....\n",
      "selecting 30 simillar users...\n",
      "configuring movie formatting...\n",
      "creating the Graph...\n",
      "Staring training fo 30 iterations...\n"
     ]
    },
    {
     "name": "stderr",
     "output_type": "stream",
     "text": [
      "100%|███████████████████████████████████████████████████████████████████████████████████████████████████| 30/30 [00:00<00:00, 282.83it/s]\n"
     ]
    },
    {
     "name": "stdout",
     "output_type": "stream",
     "text": [
      "0\n",
      "Recommended ID's: [6303.0, 2097.0, 159.0, 1711.0, 2097.0]\n",
      "running training and testing for user 9\n",
      " --------------------------------------------\n",
      "importing datasets....\n",
      "selecting 30 simillar users...\n",
      "configuring movie formatting...\n",
      "creating the Graph...\n",
      "Staring training fo 30 iterations...\n"
     ]
    },
    {
     "name": "stderr",
     "output_type": "stream",
     "text": [
      "100%|███████████████████████████████████████████████████████████████████████████████████████████████████| 30/30 [00:00<00:00, 304.71it/s]"
     ]
    },
    {
     "name": "stdout",
     "output_type": "stream",
     "text": [
      "0\n",
      "Recommended ID's: [6538.0, 50.0, 923.0, 6303.0, 3105.0]\n"
     ]
    },
    {
     "name": "stderr",
     "output_type": "stream",
     "text": [
      "\n"
     ]
    },
    {
     "name": "stdout",
     "output_type": "stream",
     "text": [
      "running training and testing for user 10\n",
      " --------------------------------------------\n",
      "importing datasets....\n",
      "selecting 30 simillar users...\n",
      "configuring movie formatting...\n",
      "creating the Graph...\n",
      "Staring training fo 30 iterations...\n"
     ]
    },
    {
     "name": "stderr",
     "output_type": "stream",
     "text": [
      "100%|███████████████████████████████████████████████████████████████████████████████████████████████████| 30/30 [00:00<00:00, 325.07it/s]\n"
     ]
    },
    {
     "name": "stdout",
     "output_type": "stream",
     "text": [
      "0\n",
      "Recommended ID's: [923.0, 1711.0, 6303.0, 6303.0, 1372.0]\n",
      "running training and testing for user 11\n",
      " --------------------------------------------\n",
      "importing datasets....\n",
      "selecting 30 simillar users...\n",
      "configuring movie formatting...\n",
      "creating the Graph...\n",
      "Staring training fo 30 iterations...\n"
     ]
    },
    {
     "name": "stderr",
     "output_type": "stream",
     "text": [
      "100%|███████████████████████████████████████████████████████████████████████████████████████████████████| 30/30 [00:00<00:00, 304.96it/s]\n"
     ]
    },
    {
     "name": "stdout",
     "output_type": "stream",
     "text": [
      "0\n",
      "Recommended ID's: [1617.0, 3105.0, 2097.0, 6303.0, 1269.0]\n",
      "running training and testing for user 12\n",
      " --------------------------------------------\n",
      "importing datasets....\n",
      "selecting 30 simillar users...\n",
      "configuring movie formatting...\n",
      "creating the Graph...\n",
      "Staring training fo 30 iterations...\n"
     ]
    },
    {
     "name": "stderr",
     "output_type": "stream",
     "text": [
      "100%|███████████████████████████████████████████████████████████████████████████████████████████████████| 30/30 [00:00<00:00, 286.85it/s]\n"
     ]
    },
    {
     "name": "stdout",
     "output_type": "stream",
     "text": [
      "0\n",
      "Recommended ID's: [1269.0, 1089.0, 1617.0, 1617.0, 50.0]\n",
      "running training and testing for user 13\n",
      " --------------------------------------------\n",
      "importing datasets....\n",
      "selecting 30 simillar users...\n",
      "configuring movie formatting...\n",
      "creating the Graph...\n",
      "Staring training fo 30 iterations...\n"
     ]
    },
    {
     "name": "stderr",
     "output_type": "stream",
     "text": [
      "100%|███████████████████████████████████████████████████████████████████████████████████████████████████| 30/30 [00:00<00:00, 322.57it/s]\n"
     ]
    },
    {
     "name": "stdout",
     "output_type": "stream",
     "text": [
      "0\n",
      "Recommended ID's: [6303.0, 2467.0, 1617.0, 923.0, 1950.0]\n",
      "running training and testing for user 14\n",
      " --------------------------------------------\n",
      "importing datasets....\n",
      "selecting 30 simillar users...\n",
      "configuring movie formatting...\n",
      "creating the Graph...\n",
      "Staring training fo 30 iterations...\n"
     ]
    },
    {
     "name": "stderr",
     "output_type": "stream",
     "text": [
      "100%|███████████████████████████████████████████████████████████████████████████████████████████████████| 30/30 [00:00<00:00, 324.24it/s]"
     ]
    },
    {
     "name": "stdout",
     "output_type": "stream",
     "text": [
      "0\n",
      "Recommended ID's: [1269.0, 1372.0, 2097.0, 5065.0, 1089.0]\n"
     ]
    },
    {
     "name": "stderr",
     "output_type": "stream",
     "text": [
      "\n"
     ]
    },
    {
     "name": "stdout",
     "output_type": "stream",
     "text": [
      "running training and testing for user 15\n",
      " --------------------------------------------\n",
      "importing datasets....\n",
      "selecting 30 simillar users...\n",
      "configuring movie formatting...\n",
      "creating the Graph...\n",
      "Staring training fo 30 iterations...\n"
     ]
    },
    {
     "name": "stderr",
     "output_type": "stream",
     "text": [
      "100%|███████████████████████████████████████████████████████████████████████████████████████████████████| 30/30 [00:00<00:00, 289.07it/s]"
     ]
    },
    {
     "name": "stdout",
     "output_type": "stream",
     "text": [
      "0\n",
      "Recommended ID's: [1711.0, 5065.0, 6303.0, 1464.0, 492.0]\n",
      "running training and testing for user 16\n",
      " --------------------------------------------\n",
      "importing datasets....\n"
     ]
    },
    {
     "name": "stderr",
     "output_type": "stream",
     "text": [
      "\n"
     ]
    },
    {
     "name": "stdout",
     "output_type": "stream",
     "text": [
      "selecting 30 simillar users...\n",
      "configuring movie formatting...\n",
      "creating the Graph...\n",
      "Staring training fo 30 iterations...\n"
     ]
    },
    {
     "name": "stderr",
     "output_type": "stream",
     "text": [
      "100%|███████████████████████████████████████████████████████████████████████████████████████████████████| 30/30 [00:00<00:00, 324.03it/s]"
     ]
    },
    {
     "name": "stdout",
     "output_type": "stream",
     "text": [
      "0\n",
      "Recommended ID's: [6538.0, 923.0, 923.0, 1711.0, 1464.0]\n",
      "running training and testing for user 17\n",
      " --------------------------------------------\n",
      "importing datasets....\n"
     ]
    },
    {
     "name": "stderr",
     "output_type": "stream",
     "text": [
      "\n"
     ]
    },
    {
     "name": "stdout",
     "output_type": "stream",
     "text": [
      "selecting 30 simillar users...\n",
      "configuring movie formatting...\n",
      "creating the Graph...\n",
      "Staring training fo 30 iterations...\n"
     ]
    },
    {
     "name": "stderr",
     "output_type": "stream",
     "text": [
      "100%|███████████████████████████████████████████████████████████████████████████████████████████████████| 30/30 [00:00<00:00, 302.40it/s]\n"
     ]
    },
    {
     "name": "stdout",
     "output_type": "stream",
     "text": [
      "0\n",
      "Recommended ID's: [2467.0, 50.0, 1089.0, 50.0, 1372.0]\n",
      "running training and testing for user 18\n",
      " --------------------------------------------\n",
      "importing datasets....\n",
      "selecting 30 simillar users...\n",
      "configuring movie formatting...\n",
      "creating the Graph...\n",
      "Staring training fo 30 iterations...\n"
     ]
    },
    {
     "name": "stderr",
     "output_type": "stream",
     "text": [
      "100%|███████████████████████████████████████████████████████████████████████████████████████████████████| 30/30 [00:00<00:00, 289.50it/s]\n"
     ]
    },
    {
     "name": "stdout",
     "output_type": "stream",
     "text": [
      "0\n",
      "Recommended ID's: [1464.0, 1617.0, 1950.0, 1711.0, 492.0]\n",
      "running training and testing for user 19\n",
      " --------------------------------------------\n",
      "importing datasets....\n",
      "selecting 30 simillar users...\n",
      "configuring movie formatting...\n",
      "creating the Graph...\n",
      "Staring training fo 30 iterations...\n"
     ]
    },
    {
     "name": "stderr",
     "output_type": "stream",
     "text": [
      "100%|███████████████████████████████████████████████████████████████████████████████████████████████████| 30/30 [00:00<00:00, 293.31it/s]\n"
     ]
    },
    {
     "name": "stdout",
     "output_type": "stream",
     "text": [
      "0\n",
      "Recommended ID's: [5065.0, 1089.0, 1089.0, 2097.0, 3105.0]\n",
      "running training and testing for user 20\n",
      " --------------------------------------------\n",
      "importing datasets....\n",
      "selecting 30 simillar users...\n",
      "configuring movie formatting...\n",
      "creating the Graph...\n",
      "Staring training fo 30 iterations...\n"
     ]
    },
    {
     "name": "stderr",
     "output_type": "stream",
     "text": [
      "100%|███████████████████████████████████████████████████████████████████████████████████████████████████| 30/30 [00:00<00:00, 304.81it/s]\n"
     ]
    },
    {
     "name": "stdout",
     "output_type": "stream",
     "text": [
      "0\n",
      "Recommended ID's: [5065.0, 5065.0, 2467.0, 3730.0, 2097.0]\n",
      "running training and testing for user 21\n",
      " --------------------------------------------\n",
      "importing datasets....\n",
      "selecting 30 simillar users...\n",
      "configuring movie formatting...\n",
      "creating the Graph...\n",
      "Staring training fo 30 iterations...\n"
     ]
    },
    {
     "name": "stderr",
     "output_type": "stream",
     "text": [
      "100%|███████████████████████████████████████████████████████████████████████████████████████████████████| 30/30 [00:00<00:00, 300.67it/s]\n"
     ]
    },
    {
     "name": "stdout",
     "output_type": "stream",
     "text": [
      "0\n",
      "Recommended ID's: [1464.0, 492.0, 923.0, 923.0, 3730.0]\n",
      "running training and testing for user 22\n",
      " --------------------------------------------\n",
      "importing datasets....\n",
      "selecting 30 simillar users...\n",
      "configuring movie formatting...\n",
      "creating the Graph...\n",
      "Staring training fo 30 iterations...\n"
     ]
    },
    {
     "name": "stderr",
     "output_type": "stream",
     "text": [
      "100%|███████████████████████████████████████████████████████████████████████████████████████████████████| 30/30 [00:00<00:00, 290.69it/s]"
     ]
    },
    {
     "name": "stdout",
     "output_type": "stream",
     "text": [
      "0\n",
      "Recommended ID's: [3730.0, 1950.0, 6538.0, 3730.0, 1711.0]\n"
     ]
    },
    {
     "name": "stderr",
     "output_type": "stream",
     "text": [
      "\n"
     ]
    },
    {
     "name": "stdout",
     "output_type": "stream",
     "text": [
      "running training and testing for user 23\n",
      " --------------------------------------------\n",
      "importing datasets....\n",
      "selecting 30 simillar users...\n",
      "configuring movie formatting...\n",
      "creating the Graph...\n",
      "Staring training fo 30 iterations...\n"
     ]
    },
    {
     "name": "stderr",
     "output_type": "stream",
     "text": [
      "100%|███████████████████████████████████████████████████████████████████████████████████████████████████| 30/30 [00:00<00:00, 286.11it/s]"
     ]
    },
    {
     "name": "stdout",
     "output_type": "stream",
     "text": [
      "0\n",
      "Recommended ID's: [1950.0, 492.0, 1372.0, 923.0, 6303.0]\n",
      "running training and testing for user 24\n",
      " --------------------------------------------\n",
      "importing datasets....\n"
     ]
    },
    {
     "name": "stderr",
     "output_type": "stream",
     "text": [
      "\n"
     ]
    },
    {
     "name": "stdout",
     "output_type": "stream",
     "text": [
      "selecting 30 simillar users...\n",
      "configuring movie formatting...\n",
      "creating the Graph...\n",
      "Staring training fo 30 iterations...\n"
     ]
    },
    {
     "name": "stderr",
     "output_type": "stream",
     "text": [
      "100%|███████████████████████████████████████████████████████████████████████████████████████████████████| 30/30 [00:00<00:00, 327.92it/s]"
     ]
    },
    {
     "name": "stdout",
     "output_type": "stream",
     "text": [
      "0\n",
      "Recommended ID's: [3730.0, 3105.0, 2467.0, 1089.0, 492.0]\n",
      "running training and testing for user 25\n",
      " --------------------------------------------\n",
      "importing datasets....\n"
     ]
    },
    {
     "name": "stderr",
     "output_type": "stream",
     "text": [
      "\n"
     ]
    },
    {
     "name": "stdout",
     "output_type": "stream",
     "text": [
      "selecting 30 simillar users...\n",
      "configuring movie formatting...\n",
      "creating the Graph...\n",
      "Staring training fo 30 iterations...\n"
     ]
    },
    {
     "name": "stderr",
     "output_type": "stream",
     "text": [
      "100%|███████████████████████████████████████████████████████████████████████████████████████████████████| 30/30 [00:00<00:00, 289.68it/s]\n"
     ]
    },
    {
     "name": "stdout",
     "output_type": "stream",
     "text": [
      "0\n",
      "Recommended ID's: [2097.0, 492.0, 6538.0, 2097.0, 3730.0]\n",
      "running training and testing for user 26\n",
      " --------------------------------------------\n",
      "importing datasets....\n",
      "selecting 30 simillar users...\n",
      "configuring movie formatting...\n",
      "creating the Graph...\n",
      "Staring training fo 30 iterations...\n"
     ]
    },
    {
     "name": "stderr",
     "output_type": "stream",
     "text": [
      "100%|███████████████████████████████████████████████████████████████████████████████████████████████████| 30/30 [00:00<00:00, 304.71it/s]"
     ]
    },
    {
     "name": "stdout",
     "output_type": "stream",
     "text": [
      "0\n",
      "Recommended ID's: [1711.0, 1372.0, 3105.0, 159.0, 1372.0]\n",
      "running training and testing for user 27\n",
      " --------------------------------------------\n",
      "importing datasets....\n"
     ]
    },
    {
     "name": "stderr",
     "output_type": "stream",
     "text": [
      "\n"
     ]
    },
    {
     "name": "stdout",
     "output_type": "stream",
     "text": [
      "selecting 30 simillar users...\n",
      "configuring movie formatting...\n",
      "creating the Graph...\n",
      "Staring training fo 30 iterations...\n"
     ]
    },
    {
     "name": "stderr",
     "output_type": "stream",
     "text": [
      "100%|███████████████████████████████████████████████████████████████████████████████████████████████████| 30/30 [00:00<00:00, 307.58it/s]"
     ]
    },
    {
     "name": "stdout",
     "output_type": "stream",
     "text": [
      "0\n",
      "Recommended ID's: [6538.0, 2097.0, 1950.0, 1617.0, 923.0]\n",
      "running training and testing for user 28\n",
      " --------------------------------------------\n",
      "importing datasets....\n"
     ]
    },
    {
     "name": "stderr",
     "output_type": "stream",
     "text": [
      "\n"
     ]
    },
    {
     "name": "stdout",
     "output_type": "stream",
     "text": [
      "selecting 30 simillar users...\n",
      "configuring movie formatting...\n",
      "creating the Graph...\n",
      "Staring training fo 30 iterations...\n"
     ]
    },
    {
     "name": "stderr",
     "output_type": "stream",
     "text": [
      "100%|███████████████████████████████████████████████████████████████████████████████████████████████████| 30/30 [00:00<00:00, 311.19it/s]\n"
     ]
    },
    {
     "name": "stdout",
     "output_type": "stream",
     "text": [
      "0\n",
      "Recommended ID's: [1372.0, 1617.0, 3105.0, 6538.0, 2467.0]\n",
      "running training and testing for user 29\n",
      " --------------------------------------------\n",
      "importing datasets....\n",
      "selecting 30 simillar users...\n",
      "configuring movie formatting...\n",
      "creating the Graph...\n",
      "Staring training fo 30 iterations...\n"
     ]
    },
    {
     "name": "stderr",
     "output_type": "stream",
     "text": [
      "100%|███████████████████████████████████████████████████████████████████████████████████████████████████| 30/30 [00:00<00:00, 321.69it/s]\n"
     ]
    },
    {
     "name": "stdout",
     "output_type": "stream",
     "text": [
      "0\n",
      "Recommended ID's: [2467.0, 1464.0, 2097.0, 1711.0, 50.0]\n",
      "running training and testing for user 30\n",
      " --------------------------------------------\n",
      "importing datasets....\n",
      "selecting 30 simillar users...\n",
      "configuring movie formatting...\n",
      "creating the Graph...\n",
      "Staring training fo 30 iterations...\n"
     ]
    },
    {
     "name": "stderr",
     "output_type": "stream",
     "text": [
      "100%|███████████████████████████████████████████████████████████████████████████████████████████████████| 30/30 [00:00<00:00, 286.70it/s]"
     ]
    },
    {
     "name": "stdout",
     "output_type": "stream",
     "text": [
      "0\n",
      "Recommended ID's: [5065.0, 3105.0, 3105.0, 1950.0, 6538.0]\n"
     ]
    },
    {
     "name": "stderr",
     "output_type": "stream",
     "text": [
      "\n"
     ]
    },
    {
     "name": "stdout",
     "output_type": "stream",
     "text": [
      "running training and testing for user 31\n",
      " --------------------------------------------\n",
      "importing datasets....\n",
      "selecting 30 simillar users...\n",
      "configuring movie formatting...\n",
      "creating the Graph...\n",
      "Staring training fo 30 iterations...\n"
     ]
    },
    {
     "name": "stderr",
     "output_type": "stream",
     "text": [
      "100%|███████████████████████████████████████████████████████████████████████████████████████████████████| 30/30 [00:00<00:00, 319.94it/s]"
     ]
    },
    {
     "name": "stdout",
     "output_type": "stream",
     "text": [
      "0\n",
      "Recommended ID's: [6538.0, 1950.0, 923.0, 3105.0, 2467.0]\n",
      "running training and testing for user 32\n",
      " --------------------------------------------\n",
      "importing datasets....\n"
     ]
    },
    {
     "name": "stderr",
     "output_type": "stream",
     "text": [
      "\n"
     ]
    },
    {
     "name": "stdout",
     "output_type": "stream",
     "text": [
      "selecting 30 simillar users...\n",
      "configuring movie formatting...\n",
      "creating the Graph...\n",
      "Staring training fo 30 iterations...\n"
     ]
    },
    {
     "name": "stderr",
     "output_type": "stream",
     "text": [
      "100%|███████████████████████████████████████████████████████████████████████████████████████████████████| 30/30 [00:00<00:00, 316.28it/s]"
     ]
    },
    {
     "name": "stdout",
     "output_type": "stream",
     "text": [
      "0\n",
      "Recommended ID's: [1089.0, 1089.0, 923.0, 492.0, 1950.0]\n"
     ]
    },
    {
     "name": "stderr",
     "output_type": "stream",
     "text": [
      "\n"
     ]
    },
    {
     "name": "stdout",
     "output_type": "stream",
     "text": [
      "running training and testing for user 33\n",
      " --------------------------------------------\n",
      "importing datasets....\n",
      "selecting 30 simillar users...\n",
      "configuring movie formatting...\n",
      "creating the Graph...\n",
      "Staring training fo 30 iterations...\n"
     ]
    },
    {
     "name": "stderr",
     "output_type": "stream",
     "text": [
      "100%|███████████████████████████████████████████████████████████████████████████████████████████████████| 30/30 [00:00<00:00, 339.83it/s]"
     ]
    },
    {
     "name": "stdout",
     "output_type": "stream",
     "text": [
      "0\n",
      "Recommended ID's: [1617.0, 1269.0, 1464.0, 3730.0, 6303.0]\n"
     ]
    },
    {
     "name": "stderr",
     "output_type": "stream",
     "text": [
      "\n"
     ]
    },
    {
     "name": "stdout",
     "output_type": "stream",
     "text": [
      "running training and testing for user 34\n",
      " --------------------------------------------\n",
      "importing datasets....\n",
      "selecting 30 simillar users...\n",
      "configuring movie formatting...\n",
      "creating the Graph...\n",
      "Staring training fo 30 iterations...\n"
     ]
    },
    {
     "name": "stderr",
     "output_type": "stream",
     "text": [
      "100%|███████████████████████████████████████████████████████████████████████████████████████████████████| 30/30 [00:00<00:00, 173.94it/s]\n"
     ]
    },
    {
     "name": "stdout",
     "output_type": "stream",
     "text": [
      "0\n",
      "Recommended ID's: [5065.0, 1711.0, 2097.0, 1950.0, 492.0]\n",
      "running training and testing for user 35\n",
      " --------------------------------------------\n",
      "importing datasets....\n",
      "selecting 30 simillar users...\n",
      "configuring movie formatting...\n",
      "creating the Graph...\n",
      "Staring training fo 30 iterations...\n"
     ]
    },
    {
     "name": "stderr",
     "output_type": "stream",
     "text": [
      "100%|███████████████████████████████████████████████████████████████████████████████████████████████████| 30/30 [00:00<00:00, 302.39it/s]\n"
     ]
    },
    {
     "name": "stdout",
     "output_type": "stream",
     "text": [
      "0\n",
      "Recommended ID's: [1089.0, 5065.0, 2467.0, 1950.0, 923.0]\n",
      "running training and testing for user 36\n",
      " --------------------------------------------\n",
      "importing datasets....\n",
      "selecting 30 simillar users...\n",
      "configuring movie formatting...\n",
      "creating the Graph...\n",
      "Staring training fo 30 iterations...\n"
     ]
    },
    {
     "name": "stderr",
     "output_type": "stream",
     "text": [
      "100%|███████████████████████████████████████████████████████████████████████████████████████████████████| 30/30 [00:00<00:00, 286.97it/s]"
     ]
    },
    {
     "name": "stdout",
     "output_type": "stream",
     "text": [
      "0\n",
      "Recommended ID's: [1089.0, 5065.0, 1089.0, 1711.0, 492.0]\n",
      "running training and testing for user 37\n",
      " --------------------------------------------\n",
      "importing datasets....\n"
     ]
    },
    {
     "name": "stderr",
     "output_type": "stream",
     "text": [
      "\n"
     ]
    },
    {
     "name": "stdout",
     "output_type": "stream",
     "text": [
      "selecting 30 simillar users...\n",
      "configuring movie formatting...\n",
      "creating the Graph...\n",
      "Staring training fo 30 iterations...\n"
     ]
    },
    {
     "name": "stderr",
     "output_type": "stream",
     "text": [
      "100%|███████████████████████████████████████████████████████████████████████████████████████████████████| 30/30 [00:00<00:00, 305.62it/s]"
     ]
    },
    {
     "name": "stdout",
     "output_type": "stream",
     "text": [
      "0\n",
      "Recommended ID's: [1950.0, 492.0, 1617.0, 2097.0, 50.0]\n",
      "running training and testing for user 38\n",
      " --------------------------------------------\n",
      "importing datasets....\n"
     ]
    },
    {
     "name": "stderr",
     "output_type": "stream",
     "text": [
      "\n"
     ]
    },
    {
     "name": "stdout",
     "output_type": "stream",
     "text": [
      "selecting 30 simillar users...\n",
      "configuring movie formatting...\n",
      "creating the Graph...\n",
      "Staring training fo 30 iterations...\n"
     ]
    },
    {
     "name": "stderr",
     "output_type": "stream",
     "text": [
      "100%|███████████████████████████████████████████████████████████████████████████████████████████████████| 30/30 [00:00<00:00, 323.05it/s]"
     ]
    },
    {
     "name": "stdout",
     "output_type": "stream",
     "text": [
      "0\n",
      "Recommended ID's: [2097.0, 2467.0, 1372.0, 2467.0, 5065.0]\n",
      "running training and testing for user 39\n",
      " --------------------------------------------\n",
      "importing datasets....\n"
     ]
    },
    {
     "name": "stderr",
     "output_type": "stream",
     "text": [
      "\n"
     ]
    },
    {
     "name": "stdout",
     "output_type": "stream",
     "text": [
      "selecting 30 simillar users...\n",
      "configuring movie formatting...\n",
      "creating the Graph...\n",
      "Staring training fo 30 iterations...\n"
     ]
    },
    {
     "name": "stderr",
     "output_type": "stream",
     "text": [
      "100%|███████████████████████████████████████████████████████████████████████████████████████████████████| 30/30 [00:00<00:00, 333.16it/s]"
     ]
    },
    {
     "name": "stdout",
     "output_type": "stream",
     "text": [
      "0\n",
      "Recommended ID's: [923.0, 2097.0, 1950.0, 3105.0, 3105.0]\n",
      "running training and testing for user 40\n",
      " --------------------------------------------\n",
      "importing datasets....\n"
     ]
    },
    {
     "name": "stderr",
     "output_type": "stream",
     "text": [
      "\n"
     ]
    },
    {
     "name": "stdout",
     "output_type": "stream",
     "text": [
      "selecting 30 simillar users...\n",
      "configuring movie formatting...\n",
      "creating the Graph...\n",
      "Staring training fo 30 iterations...\n"
     ]
    },
    {
     "name": "stderr",
     "output_type": "stream",
     "text": [
      "100%|███████████████████████████████████████████████████████████████████████████████████████████████████| 30/30 [00:00<00:00, 303.65it/s]\n"
     ]
    },
    {
     "name": "stdout",
     "output_type": "stream",
     "text": [
      "0\n",
      "Recommended ID's: [6303.0, 1617.0, 492.0, 1372.0, 1464.0]\n",
      "running training and testing for user 41\n",
      " --------------------------------------------\n",
      "importing datasets....\n",
      "selecting 30 simillar users...\n",
      "configuring movie formatting...\n",
      "creating the Graph...\n",
      "Staring training fo 30 iterations...\n"
     ]
    },
    {
     "name": "stderr",
     "output_type": "stream",
     "text": [
      "100%|███████████████████████████████████████████████████████████████████████████████████████████████████| 30/30 [00:00<00:00, 292.86it/s]\n"
     ]
    },
    {
     "name": "stdout",
     "output_type": "stream",
     "text": [
      "0\n",
      "Recommended ID's: [1950.0, 1372.0, 1269.0, 1372.0, 492.0]\n",
      "running training and testing for user 42\n",
      " --------------------------------------------\n",
      "importing datasets....\n",
      "selecting 30 simillar users...\n",
      "configuring movie formatting...\n",
      "creating the Graph...\n",
      "Staring training fo 30 iterations...\n"
     ]
    },
    {
     "name": "stderr",
     "output_type": "stream",
     "text": [
      "100%|███████████████████████████████████████████████████████████████████████████████████████████████████| 30/30 [00:00<00:00, 304.35it/s]\n"
     ]
    },
    {
     "name": "stdout",
     "output_type": "stream",
     "text": [
      "0\n",
      "Recommended ID's: [1711.0, 1089.0, 1950.0, 3105.0, 2467.0]\n",
      "running training and testing for user 43\n",
      " --------------------------------------------\n",
      "importing datasets....\n",
      "selecting 30 simillar users...\n",
      "configuring movie formatting...\n",
      "creating the Graph...\n",
      "Staring training fo 30 iterations...\n"
     ]
    },
    {
     "name": "stderr",
     "output_type": "stream",
     "text": [
      "100%|███████████████████████████████████████████████████████████████████████████████████████████████████| 30/30 [00:00<00:00, 290.78it/s]\n"
     ]
    },
    {
     "name": "stdout",
     "output_type": "stream",
     "text": [
      "0\n",
      "Recommended ID's: [1269.0, 3105.0, 1950.0, 1089.0, 1372.0]\n",
      "running training and testing for user 44\n",
      " --------------------------------------------\n",
      "importing datasets....\n",
      "selecting 30 simillar users...\n",
      "configuring movie formatting...\n",
      "creating the Graph...\n",
      "Staring training fo 30 iterations...\n"
     ]
    },
    {
     "name": "stderr",
     "output_type": "stream",
     "text": [
      "100%|███████████████████████████████████████████████████████████████████████████████████████████████████| 30/30 [00:00<00:00, 356.30it/s]\n"
     ]
    },
    {
     "name": "stdout",
     "output_type": "stream",
     "text": [
      "0\n",
      "Recommended ID's: [5065.0, 1950.0, 6303.0, 6538.0, 3730.0]\n",
      "running training and testing for user 45\n",
      " --------------------------------------------\n",
      "importing datasets....\n",
      "selecting 30 simillar users...\n",
      "configuring movie formatting...\n",
      "creating the Graph...\n",
      "Staring training fo 30 iterations...\n"
     ]
    },
    {
     "name": "stderr",
     "output_type": "stream",
     "text": [
      "100%|███████████████████████████████████████████████████████████████████████████████████████████████████| 30/30 [00:00<00:00, 319.56it/s]\n"
     ]
    },
    {
     "name": "stdout",
     "output_type": "stream",
     "text": [
      "0\n",
      "Recommended ID's: [2467.0, 1950.0, 3105.0, 1269.0, 1089.0]\n",
      "running training and testing for user 46\n",
      " --------------------------------------------\n",
      "importing datasets....\n",
      "selecting 30 simillar users...\n",
      "configuring movie formatting...\n",
      "creating the Graph...\n",
      "Staring training fo 30 iterations...\n"
     ]
    },
    {
     "name": "stderr",
     "output_type": "stream",
     "text": [
      "100%|███████████████████████████████████████████████████████████████████████████████████████████████████| 30/30 [00:00<00:00, 306.38it/s]\n"
     ]
    },
    {
     "name": "stdout",
     "output_type": "stream",
     "text": [
      "0\n",
      "Recommended ID's: [6538.0, 159.0, 1617.0, 6538.0, 3730.0]\n",
      "running training and testing for user 47\n",
      " --------------------------------------------\n",
      "importing datasets....\n",
      "selecting 30 simillar users...\n",
      "configuring movie formatting...\n",
      "creating the Graph...\n",
      "Staring training fo 30 iterations...\n"
     ]
    },
    {
     "name": "stderr",
     "output_type": "stream",
     "text": [
      "100%|███████████████████████████████████████████████████████████████████████████████████████████████████| 30/30 [00:00<00:00, 323.68it/s]"
     ]
    },
    {
     "name": "stdout",
     "output_type": "stream",
     "text": [
      "0\n",
      "Recommended ID's: [923.0, 1372.0, 3105.0, 3105.0, 923.0]\n",
      "running training and testing for user 48\n",
      " --------------------------------------------\n",
      "importing datasets....\n"
     ]
    },
    {
     "name": "stderr",
     "output_type": "stream",
     "text": [
      "\n"
     ]
    },
    {
     "name": "stdout",
     "output_type": "stream",
     "text": [
      "selecting 30 simillar users...\n",
      "configuring movie formatting...\n",
      "creating the Graph...\n",
      "Staring training fo 30 iterations...\n"
     ]
    },
    {
     "name": "stderr",
     "output_type": "stream",
     "text": [
      "100%|███████████████████████████████████████████████████████████████████████████████████████████████████| 30/30 [00:00<00:00, 286.85it/s]\n"
     ]
    },
    {
     "name": "stdout",
     "output_type": "stream",
     "text": [
      "0\n",
      "Recommended ID's: [1950.0, 2467.0, 1711.0, 1617.0, 3730.0]\n",
      "running training and testing for user 49\n",
      " --------------------------------------------\n",
      "importing datasets....\n",
      "selecting 30 simillar users...\n",
      "configuring movie formatting...\n",
      "creating the Graph...\n",
      "Staring training fo 30 iterations...\n"
     ]
    },
    {
     "name": "stderr",
     "output_type": "stream",
     "text": [
      "100%|███████████████████████████████████████████████████████████████████████████████████████████████████| 30/30 [00:00<00:00, 303.76it/s]"
     ]
    },
    {
     "name": "stdout",
     "output_type": "stream",
     "text": [
      "0\n",
      "Recommended ID's: [3105.0, 1464.0, 50.0, 2097.0, 6538.0]\n"
     ]
    },
    {
     "name": "stderr",
     "output_type": "stream",
     "text": [
      "\n"
     ]
    },
    {
     "name": "stdout",
     "output_type": "stream",
     "text": [
      "genre: Mystery\n",
      "overall accuracy is 0.7555555555555555\n",
      "running training and testing for user 0\n",
      " --------------------------------------------\n",
      "importing datasets....\n",
      "selecting 30 simillar users...\n",
      "configuring movie formatting...\n",
      "creating the Graph...\n",
      "Staring training fo 30 iterations...\n"
     ]
    },
    {
     "name": "stderr",
     "output_type": "stream",
     "text": [
      "100%|███████████████████████████████████████████████████████████████████████████████████████████████████| 30/30 [00:00<00:00, 146.07it/s]\n"
     ]
    },
    {
     "name": "stdout",
     "output_type": "stream",
     "text": [
      "0\n",
      "Recommended ID's: [1274.0, 2716.0, 1676.0, 107406.0, 6303.0]\n",
      "running training and testing for user 1\n",
      " --------------------------------------------\n",
      "importing datasets....\n",
      "selecting 30 simillar users...\n",
      "configuring movie formatting...\n",
      "creating the Graph...\n",
      "Staring training fo 30 iterations...\n"
     ]
    },
    {
     "name": "stderr",
     "output_type": "stream",
     "text": [
      "100%|███████████████████████████████████████████████████████████████████████████████████████████████████| 30/30 [00:00<00:00, 151.76it/s]\n"
     ]
    },
    {
     "name": "stdout",
     "output_type": "stream",
     "text": [
      "0\n",
      "Recommended ID's: [426.0, 5444.0, 1372.0, 1356.0, 4051.0]\n",
      "running training and testing for user 2\n",
      " --------------------------------------------\n",
      "importing datasets....\n",
      "selecting 30 simillar users...\n",
      "configuring movie formatting...\n",
      "creating the Graph...\n",
      "Staring training fo 30 iterations...\n"
     ]
    },
    {
     "name": "stderr",
     "output_type": "stream",
     "text": [
      "100%|███████████████████████████████████████████████████████████████████████████████████████████████████| 30/30 [00:00<00:00, 163.13it/s]\n"
     ]
    },
    {
     "name": "stdout",
     "output_type": "stream",
     "text": [
      "0\n",
      "Recommended ID's: [208.0, 2716.0, 426.0, 208.0, 5444.0]\n",
      "running training and testing for user 3\n",
      " --------------------------------------------\n",
      "importing datasets....\n",
      "selecting 30 simillar users...\n",
      "configuring movie formatting...\n",
      "creating the Graph...\n",
      "Staring training fo 30 iterations...\n"
     ]
    },
    {
     "name": "stderr",
     "output_type": "stream",
     "text": [
      "100%|███████████████████████████████████████████████████████████████████████████████████████████████████| 30/30 [00:00<00:00, 164.01it/s]\n"
     ]
    },
    {
     "name": "stdout",
     "output_type": "stream",
     "text": [
      "0\n",
      "Recommended ID's: [1372.0, 2012.0, 3663.0, 161044.0, 6537.0]\n",
      "running training and testing for user 4\n",
      " --------------------------------------------\n",
      "importing datasets....\n",
      "selecting 30 simillar users...\n",
      "configuring movie formatting...\n",
      "creating the Graph...\n",
      "Staring training fo 30 iterations...\n"
     ]
    },
    {
     "name": "stderr",
     "output_type": "stream",
     "text": [
      "100%|███████████████████████████████████████████████████████████████████████████████████████████████████| 30/30 [00:00<00:00, 144.72it/s]\n"
     ]
    },
    {
     "name": "stdout",
     "output_type": "stream",
     "text": [
      "0\n",
      "Recommended ID's: [435.0, 2722.0, 426.0, 68791.0, 426.0]\n",
      "running training and testing for user 5\n",
      " --------------------------------------------\n",
      "importing datasets....\n",
      "selecting 30 simillar users...\n",
      "configuring movie formatting...\n",
      "creating the Graph...\n",
      "Staring training fo 30 iterations...\n"
     ]
    },
    {
     "name": "stderr",
     "output_type": "stream",
     "text": [
      "100%|███████████████████████████████████████████████████████████████████████████████████████████████████| 30/30 [00:00<00:00, 162.51it/s]\n"
     ]
    },
    {
     "name": "stdout",
     "output_type": "stream",
     "text": [
      "0\n",
      "Recommended ID's: [2571.0, 5444.0, 1921.0, 5444.0, 2640.0]\n",
      "running training and testing for user 6\n",
      " --------------------------------------------\n",
      "importing datasets....\n",
      "selecting 30 simillar users...\n",
      "configuring movie formatting...\n",
      "creating the Graph...\n",
      "Staring training fo 30 iterations...\n"
     ]
    },
    {
     "name": "stderr",
     "output_type": "stream",
     "text": [
      "100%|███████████████████████████████████████████████████████████████████████████████████████████████████| 30/30 [00:00<00:00, 145.35it/s]\n"
     ]
    },
    {
     "name": "stdout",
     "output_type": "stream",
     "text": [
      "0\n",
      "Recommended ID's: [2038.0, 435.0, 1527.0, 161044.0, 1372.0]\n",
      "running training and testing for user 7\n",
      " --------------------------------------------\n",
      "importing datasets....\n",
      "selecting 30 simillar users...\n",
      "configuring movie formatting...\n",
      "creating the Graph...\n",
      "Staring training fo 30 iterations...\n"
     ]
    },
    {
     "name": "stderr",
     "output_type": "stream",
     "text": [
      "100%|███████████████████████████████████████████████████████████████████████████████████████████████████| 30/30 [00:00<00:00, 146.84it/s]\n"
     ]
    },
    {
     "name": "stdout",
     "output_type": "stream",
     "text": [
      "0\n",
      "Recommended ID's: [2640.0, 5189.0, 546.0, 1206.0, 6303.0]\n",
      "running training and testing for user 8\n",
      " --------------------------------------------\n",
      "importing datasets....\n",
      "selecting 30 simillar users...\n",
      "configuring movie formatting...\n",
      "creating the Graph...\n",
      "Staring training fo 30 iterations...\n"
     ]
    },
    {
     "name": "stderr",
     "output_type": "stream",
     "text": [
      "100%|███████████████████████████████████████████████████████████████████████████████████████████████████| 30/30 [00:00<00:00, 157.34it/s]\n"
     ]
    },
    {
     "name": "stdout",
     "output_type": "stream",
     "text": [
      "0\n",
      "Recommended ID's: [1921.0, 2021.0, 1917.0, 3663.0, 1372.0]\n",
      "running training and testing for user 9\n",
      " --------------------------------------------\n",
      "importing datasets....\n",
      "selecting 30 simillar users...\n",
      "configuring movie formatting...\n",
      "creating the Graph...\n",
      "Staring training fo 30 iterations...\n"
     ]
    },
    {
     "name": "stderr",
     "output_type": "stream",
     "text": [
      "100%|███████████████████████████████████████████████████████████████████████████████████████████████████| 30/30 [00:00<00:00, 150.72it/s]\n"
     ]
    },
    {
     "name": "stdout",
     "output_type": "stream",
     "text": [
      "0\n",
      "Recommended ID's: [60069.0, 68791.0, 1206.0, 1921.0, 546.0]\n",
      "running training and testing for user 10\n",
      " --------------------------------------------\n",
      "importing datasets....\n",
      "selecting 30 simillar users...\n",
      "configuring movie formatting...\n",
      "creating the Graph...\n",
      "Staring training fo 30 iterations...\n"
     ]
    },
    {
     "name": "stderr",
     "output_type": "stream",
     "text": [
      "100%|███████████████████████████████████████████████████████████████████████████████████████████████████| 30/30 [00:00<00:00, 154.55it/s]\n"
     ]
    },
    {
     "name": "stdout",
     "output_type": "stream",
     "text": [
      "0\n",
      "Recommended ID's: [780.0, 1356.0, 6537.0, 2012.0, 780.0]\n",
      "running training and testing for user 11\n",
      " --------------------------------------------\n",
      "importing datasets....\n",
      "selecting 30 simillar users...\n",
      "configuring movie formatting...\n",
      "creating the Graph...\n",
      "Staring training fo 30 iterations...\n"
     ]
    },
    {
     "name": "stderr",
     "output_type": "stream",
     "text": [
      "100%|███████████████████████████████████████████████████████████████████████████████████████████████████| 30/30 [00:00<00:00, 158.68it/s]\n"
     ]
    },
    {
     "name": "stdout",
     "output_type": "stream",
     "text": [
      "0\n",
      "Recommended ID's: [1196.0, 107406.0, 60069.0, 2640.0, 2021.0]\n",
      "running training and testing for user 12\n",
      " --------------------------------------------\n",
      "importing datasets....\n",
      "selecting 30 simillar users...\n",
      "configuring movie formatting...\n",
      "creating the Graph...\n",
      "Staring training fo 30 iterations...\n"
     ]
    },
    {
     "name": "stderr",
     "output_type": "stream",
     "text": [
      "100%|███████████████████████████████████████████████████████████████████████████████████████████████████| 30/30 [00:00<00:00, 153.88it/s]\n"
     ]
    },
    {
     "name": "stdout",
     "output_type": "stream",
     "text": [
      "0\n",
      "Recommended ID's: [2021.0, 3663.0, 2722.0, 1527.0, 1274.0]\n",
      "running training and testing for user 13\n",
      " --------------------------------------------\n",
      "importing datasets....\n",
      "selecting 30 simillar users...\n",
      "configuring movie formatting...\n",
      "creating the Graph...\n",
      "Staring training fo 30 iterations...\n"
     ]
    },
    {
     "name": "stderr",
     "output_type": "stream",
     "text": [
      "100%|███████████████████████████████████████████████████████████████████████████████████████████████████| 30/30 [00:00<00:00, 158.21it/s]\n"
     ]
    },
    {
     "name": "stdout",
     "output_type": "stream",
     "text": [
      "0\n",
      "Recommended ID's: [59315.0, 780.0, 1527.0, 2038.0, 208.0]\n",
      "running training and testing for user 14\n",
      " --------------------------------------------\n",
      "importing datasets....\n",
      "selecting 30 simillar users...\n",
      "configuring movie formatting...\n",
      "creating the Graph...\n",
      "Staring training fo 30 iterations...\n"
     ]
    },
    {
     "name": "stderr",
     "output_type": "stream",
     "text": [
      "100%|███████████████████████████████████████████████████████████████████████████████████████████████████| 30/30 [00:00<00:00, 154.43it/s]\n"
     ]
    },
    {
     "name": "stdout",
     "output_type": "stream",
     "text": [
      "0\n",
      "Recommended ID's: [3663.0, 1356.0, 68791.0, 1921.0, 1921.0]\n",
      "running training and testing for user 15\n",
      " --------------------------------------------\n",
      "importing datasets....\n",
      "selecting 30 simillar users...\n",
      "configuring movie formatting...\n",
      "creating the Graph...\n",
      "Staring training fo 30 iterations...\n"
     ]
    },
    {
     "name": "stderr",
     "output_type": "stream",
     "text": [
      "100%|███████████████████████████████████████████████████████████████████████████████████████████████████| 30/30 [00:00<00:00, 144.92it/s]\n"
     ]
    },
    {
     "name": "stdout",
     "output_type": "stream",
     "text": [
      "0\n",
      "Recommended ID's: [1214.0, 1274.0, 5189.0, 780.0, 780.0]\n",
      "running training and testing for user 16\n",
      " --------------------------------------------\n",
      "importing datasets....\n",
      "selecting 30 simillar users...\n",
      "configuring movie formatting...\n",
      "creating the Graph...\n",
      "Staring training fo 30 iterations...\n"
     ]
    },
    {
     "name": "stderr",
     "output_type": "stream",
     "text": [
      "100%|███████████████████████████████████████████████████████████████████████████████████████████████████| 30/30 [00:00<00:00, 170.00it/s]\n"
     ]
    },
    {
     "name": "stdout",
     "output_type": "stream",
     "text": [
      "0\n",
      "Recommended ID's: [60069.0, 6303.0, 3663.0, 1372.0, 2761.0]\n",
      "running training and testing for user 17\n",
      " --------------------------------------------\n",
      "importing datasets....\n",
      "selecting 30 simillar users...\n",
      "configuring movie formatting...\n",
      "creating the Graph...\n",
      "Staring training fo 30 iterations...\n"
     ]
    },
    {
     "name": "stderr",
     "output_type": "stream",
     "text": [
      "100%|███████████████████████████████████████████████████████████████████████████████████████████████████| 30/30 [00:00<00:00, 144.67it/s]\n"
     ]
    },
    {
     "name": "stdout",
     "output_type": "stream",
     "text": [
      "0\n",
      "Recommended ID's: [107406.0, 2571.0, 208.0, 1921.0, 2640.0]\n",
      "running training and testing for user 18\n",
      " --------------------------------------------\n",
      "importing datasets....\n",
      "selecting 30 simillar users...\n",
      "configuring movie formatting...\n",
      "creating the Graph...\n",
      "Staring training fo 30 iterations...\n"
     ]
    },
    {
     "name": "stderr",
     "output_type": "stream",
     "text": [
      "100%|███████████████████████████████████████████████████████████████████████████████████████████████████| 30/30 [00:00<00:00, 157.08it/s]\n"
     ]
    },
    {
     "name": "stdout",
     "output_type": "stream",
     "text": [
      "0\n",
      "Recommended ID's: [1274.0, 5189.0, 2640.0, 6303.0, 60069.0]\n",
      "running training and testing for user 19\n",
      " --------------------------------------------\n",
      "importing datasets....\n",
      "selecting 30 simillar users...\n",
      "configuring movie formatting...\n",
      "creating the Graph...\n",
      "Staring training fo 30 iterations...\n"
     ]
    },
    {
     "name": "stderr",
     "output_type": "stream",
     "text": [
      "100%|███████████████████████████████████████████████████████████████████████████████████████████████████| 30/30 [00:00<00:00, 160.68it/s]\n"
     ]
    },
    {
     "name": "stdout",
     "output_type": "stream",
     "text": [
      "0\n",
      "Recommended ID's: [2761.0, 5444.0, 3663.0, 5189.0, 107406.0]\n",
      "running training and testing for user 20\n",
      " --------------------------------------------\n",
      "importing datasets....\n",
      "selecting 30 simillar users...\n",
      "configuring movie formatting...\n",
      "creating the Graph...\n",
      "Staring training fo 30 iterations...\n"
     ]
    },
    {
     "name": "stderr",
     "output_type": "stream",
     "text": [
      "100%|███████████████████████████████████████████████████████████████████████████████████████████████████| 30/30 [00:00<00:00, 153.49it/s]\n"
     ]
    },
    {
     "name": "stdout",
     "output_type": "stream",
     "text": [
      "0\n",
      "Recommended ID's: [6537.0, 546.0, 1356.0, 2640.0, 546.0]\n",
      "running training and testing for user 21\n",
      " --------------------------------------------\n",
      "importing datasets....\n",
      "selecting 30 simillar users...\n",
      "configuring movie formatting...\n",
      "creating the Graph...\n",
      "Staring training fo 30 iterations...\n"
     ]
    },
    {
     "name": "stderr",
     "output_type": "stream",
     "text": [
      "100%|███████████████████████████████████████████████████████████████████████████████████████████████████| 30/30 [00:00<00:00, 142.90it/s]\n"
     ]
    },
    {
     "name": "stdout",
     "output_type": "stream",
     "text": [
      "0\n",
      "Recommended ID's: [546.0, 1527.0, 107406.0, 2038.0, 1206.0]\n",
      "running training and testing for user 22\n",
      " --------------------------------------------\n",
      "importing datasets....\n",
      "selecting 30 simillar users...\n",
      "configuring movie formatting...\n",
      "creating the Graph...\n",
      "Staring training fo 30 iterations...\n"
     ]
    },
    {
     "name": "stderr",
     "output_type": "stream",
     "text": [
      "100%|███████████████████████████████████████████████████████████████████████████████████████████████████| 30/30 [00:00<00:00, 145.83it/s]\n"
     ]
    },
    {
     "name": "stdout",
     "output_type": "stream",
     "text": [
      "0\n",
      "Recommended ID's: [2571.0, 1921.0, 1917.0, 1527.0, 1196.0]\n",
      "running training and testing for user 23\n",
      " --------------------------------------------\n",
      "importing datasets....\n",
      "selecting 30 simillar users...\n",
      "configuring movie formatting...\n",
      "creating the Graph...\n",
      "Staring training fo 30 iterations...\n"
     ]
    },
    {
     "name": "stderr",
     "output_type": "stream",
     "text": [
      "100%|███████████████████████████████████████████████████████████████████████████████████████████████████| 30/30 [00:00<00:00, 145.17it/s]\n"
     ]
    },
    {
     "name": "stdout",
     "output_type": "stream",
     "text": [
      "0\n",
      "Recommended ID's: [107406.0, 161044.0, 2525.0, 6303.0, 68791.0]\n",
      "running training and testing for user 24\n",
      " --------------------------------------------\n",
      "importing datasets....\n",
      "selecting 30 simillar users...\n",
      "configuring movie formatting...\n",
      "creating the Graph...\n",
      "Staring training fo 30 iterations...\n"
     ]
    },
    {
     "name": "stderr",
     "output_type": "stream",
     "text": [
      "100%|███████████████████████████████████████████████████████████████████████████████████████████████████| 30/30 [00:00<00:00, 153.94it/s]\n"
     ]
    },
    {
     "name": "stdout",
     "output_type": "stream",
     "text": [
      "0\n",
      "Recommended ID's: [2021.0, 780.0, 546.0, 3663.0, 6303.0]\n",
      "running training and testing for user 25\n",
      " --------------------------------------------\n",
      "importing datasets....\n",
      "selecting 30 simillar users...\n",
      "configuring movie formatting...\n",
      "creating the Graph...\n",
      "Staring training fo 30 iterations...\n"
     ]
    },
    {
     "name": "stderr",
     "output_type": "stream",
     "text": [
      "100%|███████████████████████████████████████████████████████████████████████████████████████████████████| 30/30 [00:00<00:00, 153.50it/s]\n"
     ]
    },
    {
     "name": "stdout",
     "output_type": "stream",
     "text": [
      "0\n",
      "Recommended ID's: [435.0, 161044.0, 5999.0, 2021.0, 1214.0]\n",
      "running training and testing for user 26\n",
      " --------------------------------------------\n",
      "importing datasets....\n",
      "selecting 30 simillar users...\n",
      "configuring movie formatting...\n",
      "creating the Graph...\n",
      "Staring training fo 30 iterations...\n"
     ]
    },
    {
     "name": "stderr",
     "output_type": "stream",
     "text": [
      "100%|███████████████████████████████████████████████████████████████████████████████████████████████████| 30/30 [00:00<00:00, 160.66it/s]\n"
     ]
    },
    {
     "name": "stdout",
     "output_type": "stream",
     "text": [
      "0\n",
      "Recommended ID's: [161044.0, 1921.0, 1206.0, 2571.0, 1372.0]\n",
      "running training and testing for user 27\n",
      " --------------------------------------------\n",
      "importing datasets....\n",
      "selecting 30 simillar users...\n",
      "configuring movie formatting...\n",
      "creating the Graph...\n",
      "Staring training fo 30 iterations...\n"
     ]
    },
    {
     "name": "stderr",
     "output_type": "stream",
     "text": [
      "100%|███████████████████████████████████████████████████████████████████████████████████████████████████| 30/30 [00:00<00:00, 140.81it/s]\n"
     ]
    },
    {
     "name": "stdout",
     "output_type": "stream",
     "text": [
      "0\n",
      "Recommended ID's: [546.0, 780.0, 2761.0, 2571.0, 1206.0]\n",
      "running training and testing for user 28\n",
      " --------------------------------------------\n",
      "importing datasets....\n",
      "selecting 30 simillar users...\n",
      "configuring movie formatting...\n",
      "creating the Graph...\n",
      "Staring training fo 30 iterations...\n"
     ]
    },
    {
     "name": "stderr",
     "output_type": "stream",
     "text": [
      "100%|███████████████████████████████████████████████████████████████████████████████████████████████████| 30/30 [00:00<00:00, 162.56it/s]\n"
     ]
    },
    {
     "name": "stdout",
     "output_type": "stream",
     "text": [
      "0\n",
      "Recommended ID's: [2525.0, 5189.0, 1372.0, 5189.0, 5444.0]\n",
      "running training and testing for user 29\n",
      " --------------------------------------------\n",
      "importing datasets....\n",
      "selecting 30 simillar users...\n",
      "configuring movie formatting...\n",
      "creating the Graph...\n",
      "Staring training fo 30 iterations...\n"
     ]
    },
    {
     "name": "stderr",
     "output_type": "stream",
     "text": [
      "100%|███████████████████████████████████████████████████████████████████████████████████████████████████| 30/30 [00:00<00:00, 166.10it/s]\n"
     ]
    },
    {
     "name": "stdout",
     "output_type": "stream",
     "text": [
      "0\n",
      "Recommended ID's: [60069.0, 161044.0, 68791.0, 6537.0, 2761.0]\n",
      "running training and testing for user 30\n",
      " --------------------------------------------\n",
      "importing datasets....\n",
      "selecting 30 simillar users...\n",
      "configuring movie formatting...\n",
      "creating the Graph...\n",
      "Staring training fo 30 iterations...\n"
     ]
    },
    {
     "name": "stderr",
     "output_type": "stream",
     "text": [
      "100%|███████████████████████████████████████████████████████████████████████████████████████████████████| 30/30 [00:00<00:00, 147.93it/s]\n"
     ]
    },
    {
     "name": "stdout",
     "output_type": "stream",
     "text": [
      "0\n",
      "Recommended ID's: [107406.0, 1372.0, 6184.0, 2525.0, 1372.0]\n",
      "running training and testing for user 31\n",
      " --------------------------------------------\n",
      "importing datasets....\n",
      "selecting 30 simillar users...\n",
      "configuring movie formatting...\n",
      "creating the Graph...\n",
      "Staring training fo 30 iterations...\n"
     ]
    },
    {
     "name": "stderr",
     "output_type": "stream",
     "text": [
      "100%|███████████████████████████████████████████████████████████████████████████████████████████████████| 30/30 [00:00<00:00, 148.68it/s]\n"
     ]
    },
    {
     "name": "stdout",
     "output_type": "stream",
     "text": [
      "0\n",
      "Recommended ID's: [1372.0, 1196.0, 59315.0, 780.0, 780.0]\n",
      "running training and testing for user 32\n",
      " --------------------------------------------\n",
      "importing datasets....\n",
      "selecting 30 simillar users...\n",
      "configuring movie formatting...\n",
      "creating the Graph...\n",
      "Staring training fo 30 iterations...\n"
     ]
    },
    {
     "name": "stderr",
     "output_type": "stream",
     "text": [
      "100%|███████████████████████████████████████████████████████████████████████████████████████████████████| 30/30 [00:00<00:00, 143.70it/s]\n"
     ]
    },
    {
     "name": "stdout",
     "output_type": "stream",
     "text": [
      "0\n",
      "Recommended ID's: [3663.0, 1917.0, 59315.0, 1917.0, 435.0]\n",
      "running training and testing for user 33\n",
      " --------------------------------------------\n",
      "importing datasets....\n",
      "selecting 30 simillar users...\n",
      "configuring movie formatting...\n",
      "creating the Graph...\n",
      "Staring training fo 30 iterations...\n"
     ]
    },
    {
     "name": "stderr",
     "output_type": "stream",
     "text": [
      "100%|███████████████████████████████████████████████████████████████████████████████████████████████████| 30/30 [00:00<00:00, 162.96it/s]\n"
     ]
    },
    {
     "name": "stdout",
     "output_type": "stream",
     "text": [
      "0\n",
      "Recommended ID's: [1206.0, 6303.0, 161044.0, 208.0, 5444.0]\n",
      "running training and testing for user 34\n",
      " --------------------------------------------\n",
      "importing datasets....\n",
      "selecting 30 simillar users...\n",
      "configuring movie formatting...\n",
      "creating the Graph...\n",
      "Staring training fo 30 iterations...\n"
     ]
    },
    {
     "name": "stderr",
     "output_type": "stream",
     "text": [
      "100%|███████████████████████████████████████████████████████████████████████████████████████████████████| 30/30 [00:00<00:00, 145.38it/s]\n"
     ]
    },
    {
     "name": "stdout",
     "output_type": "stream",
     "text": [
      "0\n",
      "Recommended ID's: [5444.0, 107406.0, 1676.0, 1037.0, 2761.0]\n",
      "running training and testing for user 35\n",
      " --------------------------------------------\n",
      "importing datasets....\n",
      "selecting 30 simillar users...\n",
      "configuring movie formatting...\n",
      "creating the Graph...\n",
      "Staring training fo 30 iterations...\n"
     ]
    },
    {
     "name": "stderr",
     "output_type": "stream",
     "text": [
      "100%|███████████████████████████████████████████████████████████████████████████████████████████████████| 30/30 [00:00<00:00, 149.57it/s]\n"
     ]
    },
    {
     "name": "stdout",
     "output_type": "stream",
     "text": [
      "0\n",
      "Recommended ID's: [208.0, 60069.0, 1921.0, 1372.0, 161044.0]\n",
      "running training and testing for user 36\n",
      " --------------------------------------------\n",
      "importing datasets....\n",
      "selecting 30 simillar users...\n",
      "configuring movie formatting...\n",
      "creating the Graph...\n",
      "Staring training fo 30 iterations...\n"
     ]
    },
    {
     "name": "stderr",
     "output_type": "stream",
     "text": [
      "100%|███████████████████████████████████████████████████████████████████████████████████████████████████| 30/30 [00:00<00:00, 158.42it/s]\n"
     ]
    },
    {
     "name": "stdout",
     "output_type": "stream",
     "text": [
      "0\n",
      "Recommended ID's: [3663.0, 59315.0, 2012.0, 1214.0, 1037.0]\n",
      "running training and testing for user 37\n",
      " --------------------------------------------\n",
      "importing datasets....\n",
      "selecting 30 simillar users...\n",
      "configuring movie formatting...\n",
      "creating the Graph...\n",
      "Staring training fo 30 iterations...\n"
     ]
    },
    {
     "name": "stderr",
     "output_type": "stream",
     "text": [
      "100%|███████████████████████████████████████████████████████████████████████████████████████████████████| 30/30 [00:00<00:00, 153.11it/s]\n"
     ]
    },
    {
     "name": "stdout",
     "output_type": "stream",
     "text": [
      "0\n",
      "Recommended ID's: [435.0, 3663.0, 1356.0, 1921.0, 107406.0]\n",
      "running training and testing for user 38\n",
      " --------------------------------------------\n",
      "importing datasets....\n",
      "selecting 30 simillar users...\n",
      "configuring movie formatting...\n",
      "creating the Graph...\n",
      "Staring training fo 30 iterations...\n"
     ]
    },
    {
     "name": "stderr",
     "output_type": "stream",
     "text": [
      "100%|███████████████████████████████████████████████████████████████████████████████████████████████████| 30/30 [00:00<00:00, 121.87it/s]\n"
     ]
    },
    {
     "name": "stdout",
     "output_type": "stream",
     "text": [
      "0\n",
      "Recommended ID's: [2722.0, 546.0, 1274.0, 2525.0, 3663.0]\n",
      "running training and testing for user 39\n",
      " --------------------------------------------\n",
      "importing datasets....\n",
      "selecting 30 simillar users...\n",
      "configuring movie formatting...\n",
      "creating the Graph...\n",
      "Staring training fo 30 iterations...\n"
     ]
    },
    {
     "name": "stderr",
     "output_type": "stream",
     "text": [
      "100%|███████████████████████████████████████████████████████████████████████████████████████████████████| 30/30 [00:00<00:00, 149.75it/s]\n"
     ]
    },
    {
     "name": "stdout",
     "output_type": "stream",
     "text": [
      "0\n",
      "Recommended ID's: [1037.0, 107406.0, 5189.0, 59315.0, 2525.0]\n",
      "running training and testing for user 40\n",
      " --------------------------------------------\n",
      "importing datasets....\n",
      "selecting 30 simillar users...\n",
      "configuring movie formatting...\n",
      "creating the Graph...\n",
      "Staring training fo 30 iterations...\n"
     ]
    },
    {
     "name": "stderr",
     "output_type": "stream",
     "text": [
      "100%|███████████████████████████████████████████████████████████████████████████████████████████████████| 30/30 [00:00<00:00, 160.79it/s]\n"
     ]
    },
    {
     "name": "stdout",
     "output_type": "stream",
     "text": [
      "0\n",
      "Recommended ID's: [2525.0, 60069.0, 2571.0, 1214.0, 2716.0]\n",
      "running training and testing for user 41\n",
      " --------------------------------------------\n",
      "importing datasets....\n",
      "selecting 30 simillar users...\n",
      "configuring movie formatting...\n",
      "creating the Graph...\n",
      "Staring training fo 30 iterations...\n"
     ]
    },
    {
     "name": "stderr",
     "output_type": "stream",
     "text": [
      "100%|███████████████████████████████████████████████████████████████████████████████████████████████████| 30/30 [00:00<00:00, 174.22it/s]\n"
     ]
    },
    {
     "name": "stdout",
     "output_type": "stream",
     "text": [
      "0\n",
      "Recommended ID's: [2021.0, 68791.0, 1921.0, 2716.0, 1206.0]\n",
      "running training and testing for user 42\n",
      " --------------------------------------------\n",
      "importing datasets....\n",
      "selecting 30 simillar users...\n",
      "configuring movie formatting...\n",
      "creating the Graph...\n",
      "Staring training fo 30 iterations...\n"
     ]
    },
    {
     "name": "stderr",
     "output_type": "stream",
     "text": [
      "100%|███████████████████████████████████████████████████████████████████████████████████████████████████| 30/30 [00:00<00:00, 149.27it/s]\n"
     ]
    },
    {
     "name": "stdout",
     "output_type": "stream",
     "text": [
      "0\n",
      "Recommended ID's: [5189.0, 1372.0, 59315.0, 2571.0, 68791.0]\n",
      "running training and testing for user 43\n",
      " --------------------------------------------\n",
      "importing datasets....\n",
      "selecting 30 simillar users...\n",
      "configuring movie formatting...\n",
      "creating the Graph...\n",
      "Staring training fo 30 iterations...\n"
     ]
    },
    {
     "name": "stderr",
     "output_type": "stream",
     "text": [
      "100%|███████████████████████████████████████████████████████████████████████████████████████████████████| 30/30 [00:00<00:00, 144.01it/s]\n"
     ]
    },
    {
     "name": "stdout",
     "output_type": "stream",
     "text": [
      "0\n",
      "Recommended ID's: [1921.0, 68791.0, 1356.0, 1214.0, 161044.0]\n",
      "running training and testing for user 44\n",
      " --------------------------------------------\n",
      "importing datasets....\n",
      "selecting 30 simillar users...\n",
      "configuring movie formatting...\n",
      "creating the Graph...\n",
      "Staring training fo 30 iterations...\n"
     ]
    },
    {
     "name": "stderr",
     "output_type": "stream",
     "text": [
      "100%|███████████████████████████████████████████████████████████████████████████████████████████████████| 30/30 [00:00<00:00, 167.13it/s]\n"
     ]
    },
    {
     "name": "stdout",
     "output_type": "stream",
     "text": [
      "0\n",
      "Recommended ID's: [1917.0, 5999.0, 426.0, 2761.0, 1527.0]\n",
      "running training and testing for user 45\n",
      " --------------------------------------------\n",
      "importing datasets....\n",
      "selecting 30 simillar users...\n",
      "configuring movie formatting...\n",
      "creating the Graph...\n",
      "Staring training fo 30 iterations...\n"
     ]
    },
    {
     "name": "stderr",
     "output_type": "stream",
     "text": [
      "100%|███████████████████████████████████████████████████████████████████████████████████████████████████| 30/30 [00:00<00:00, 163.66it/s]\n"
     ]
    },
    {
     "name": "stdout",
     "output_type": "stream",
     "text": [
      "0\n",
      "Recommended ID's: [5189.0, 546.0, 60069.0, 2716.0, 5999.0]\n",
      "running training and testing for user 46\n",
      " --------------------------------------------\n",
      "importing datasets....\n",
      "selecting 30 simillar users...\n",
      "configuring movie formatting...\n",
      "creating the Graph...\n",
      "Staring training fo 30 iterations...\n"
     ]
    },
    {
     "name": "stderr",
     "output_type": "stream",
     "text": [
      "100%|███████████████████████████████████████████████████████████████████████████████████████████████████| 30/30 [00:00<00:00, 148.28it/s]\n"
     ]
    },
    {
     "name": "stdout",
     "output_type": "stream",
     "text": [
      "0\n",
      "Recommended ID's: [1037.0, 6303.0, 1676.0, 1372.0, 2716.0]\n",
      "running training and testing for user 47\n",
      " --------------------------------------------\n",
      "importing datasets....\n",
      "selecting 30 simillar users...\n",
      "configuring movie formatting...\n",
      "creating the Graph...\n",
      "Staring training fo 30 iterations...\n"
     ]
    },
    {
     "name": "stderr",
     "output_type": "stream",
     "text": [
      "100%|███████████████████████████████████████████████████████████████████████████████████████████████████| 30/30 [00:00<00:00, 162.25it/s]\n"
     ]
    },
    {
     "name": "stdout",
     "output_type": "stream",
     "text": [
      "0\n",
      "Recommended ID's: [5444.0, 5189.0, 5189.0, 2761.0, 2571.0]\n",
      "running training and testing for user 48\n",
      " --------------------------------------------\n",
      "importing datasets....\n",
      "selecting 30 simillar users...\n",
      "configuring movie formatting...\n",
      "creating the Graph...\n",
      "Staring training fo 30 iterations...\n"
     ]
    },
    {
     "name": "stderr",
     "output_type": "stream",
     "text": [
      "100%|███████████████████████████████████████████████████████████████████████████████████████████████████| 30/30 [00:00<00:00, 148.31it/s]\n"
     ]
    },
    {
     "name": "stdout",
     "output_type": "stream",
     "text": [
      "0\n",
      "Recommended ID's: [5999.0, 1206.0, 59315.0, 780.0, 1037.0]\n",
      "running training and testing for user 49\n",
      " --------------------------------------------\n",
      "importing datasets....\n",
      "selecting 30 simillar users...\n",
      "configuring movie formatting...\n",
      "creating the Graph...\n",
      "Staring training fo 30 iterations...\n"
     ]
    },
    {
     "name": "stderr",
     "output_type": "stream",
     "text": [
      "100%|███████████████████████████████████████████████████████████████████████████████████████████████████| 30/30 [00:00<00:00, 155.18it/s]\n"
     ]
    },
    {
     "name": "stdout",
     "output_type": "stream",
     "text": [
      "0\n",
      "Recommended ID's: [5189.0, 2761.0, 2525.0, 1917.0, 2571.0]\n",
      "genre: Sci-Fi\n",
      "overall accuracy is 0.56\n",
      "running training and testing for user 0\n",
      " --------------------------------------------\n",
      "importing datasets....\n",
      "selecting 30 simillar users...\n",
      "configuring movie formatting...\n",
      "creating the Graph...\n",
      "Staring training fo 30 iterations...\n"
     ]
    },
    {
     "name": "stderr",
     "output_type": "stream",
     "text": [
      "100%|███████████████████████████████████████████████████████████████████████████████████████████████████| 30/30 [00:00<00:00, 945.87it/s]"
     ]
    },
    {
     "name": "stdout",
     "output_type": "stream",
     "text": [
      "0\n",
      "Recommended ID's: [78499.0, 78499.0, 78499.0, 78499.0, 78499.0]\n",
      "running training and testing for user 1\n",
      " --------------------------------------------\n",
      "importing datasets....\n",
      "selecting 30 simillar users...\n"
     ]
    },
    {
     "name": "stderr",
     "output_type": "stream",
     "text": [
      "\n"
     ]
    },
    {
     "name": "stdout",
     "output_type": "stream",
     "text": [
      "configuring movie formatting...\n",
      "creating the Graph...\n",
      "Staring training fo 30 iterations...\n"
     ]
    },
    {
     "name": "stderr",
     "output_type": "stream",
     "text": [
      "100%|██████████████████████████████████████████████████████████████████████████████████████████████████| 30/30 [00:00<00:00, 1073.54it/s]"
     ]
    },
    {
     "name": "stdout",
     "output_type": "stream",
     "text": [
      "0\n",
      "Recommended ID's: [30793.0, 59784.0, 91529.0, 78499.0, 86644.0]\n",
      "running training and testing for user 2\n",
      " --------------------------------------------\n",
      "importing datasets....\n"
     ]
    },
    {
     "name": "stderr",
     "output_type": "stream",
     "text": [
      "\n"
     ]
    },
    {
     "name": "stdout",
     "output_type": "stream",
     "text": [
      "selecting 30 simillar users...\n",
      "configuring movie formatting...\n",
      "creating the Graph...\n",
      "Staring training fo 30 iterations...\n"
     ]
    },
    {
     "name": "stderr",
     "output_type": "stream",
     "text": [
      "100%|███████████████████████████████████████████████████████████████████████████████████████████████████| 30/30 [00:00<00:00, 870.75it/s]"
     ]
    },
    {
     "name": "stdout",
     "output_type": "stream",
     "text": [
      "0\n",
      "Recommended ID's: [78499.0, 103335.0, 59784.0, 78499.0, 91529.0]\n",
      "running training and testing for user 3\n",
      " --------------------------------------------\n",
      "importing datasets....\n"
     ]
    },
    {
     "name": "stderr",
     "output_type": "stream",
     "text": [
      "\n"
     ]
    },
    {
     "name": "stdout",
     "output_type": "stream",
     "text": [
      "selecting 30 simillar users...\n",
      "configuring movie formatting...\n",
      "creating the Graph...\n",
      "Staring training fo 30 iterations...\n"
     ]
    },
    {
     "name": "stderr",
     "output_type": "stream",
     "text": [
      "100%|███████████████████████████████████████████████████████████████████████████████████████████████████| 30/30 [00:00<00:00, 881.61it/s]"
     ]
    },
    {
     "name": "stdout",
     "output_type": "stream",
     "text": [
      "0\n",
      "Recommended ID's: [59784.0, 86644.0, 30793.0, 78499.0, 91529.0]\n",
      "running training and testing for user 4\n",
      " --------------------------------------------\n",
      "importing datasets....\n"
     ]
    },
    {
     "name": "stderr",
     "output_type": "stream",
     "text": [
      "\n"
     ]
    },
    {
     "name": "stdout",
     "output_type": "stream",
     "text": [
      "selecting 30 simillar users...\n",
      "configuring movie formatting...\n",
      "creating the Graph...\n",
      "Staring training fo 30 iterations...\n"
     ]
    },
    {
     "name": "stderr",
     "output_type": "stream",
     "text": [
      "100%|███████████████████████████████████████████████████████████████████████████████████████████████████| 30/30 [00:00<00:00, 784.85it/s]"
     ]
    },
    {
     "name": "stdout",
     "output_type": "stream",
     "text": [
      "0\n",
      "Recommended ID's: [91529.0, 78499.0, 86644.0, 91529.0, 59784.0]\n",
      "running training and testing for user 5\n",
      " --------------------------------------------\n",
      "importing datasets....\n"
     ]
    },
    {
     "name": "stderr",
     "output_type": "stream",
     "text": [
      "\n"
     ]
    },
    {
     "name": "stdout",
     "output_type": "stream",
     "text": [
      "selecting 30 simillar users...\n",
      "configuring movie formatting...\n",
      "creating the Graph...\n",
      "Staring training fo 30 iterations...\n"
     ]
    },
    {
     "name": "stderr",
     "output_type": "stream",
     "text": [
      "100%|███████████████████████████████████████████████████████████████████████████████████████████████████| 30/30 [00:00<00:00, 891.70it/s]"
     ]
    },
    {
     "name": "stdout",
     "output_type": "stream",
     "text": [
      "0\n",
      "Recommended ID's: [86644.0, 30793.0, 78499.0, 59784.0, 86644.0]\n",
      "running training and testing for user 6\n",
      " --------------------------------------------\n",
      "importing datasets....\n",
      "selecting 30 simillar users...\n"
     ]
    },
    {
     "name": "stderr",
     "output_type": "stream",
     "text": [
      "\n"
     ]
    },
    {
     "name": "stdout",
     "output_type": "stream",
     "text": [
      "configuring movie formatting...\n",
      "creating the Graph...\n",
      "Staring training fo 30 iterations...\n"
     ]
    },
    {
     "name": "stderr",
     "output_type": "stream",
     "text": [
      "100%|███████████████████████████████████████████████████████████████████████████████████████████████████| 30/30 [00:00<00:00, 873.61it/s]"
     ]
    },
    {
     "name": "stdout",
     "output_type": "stream",
     "text": [
      "0\n",
      "Recommended ID's: [59784.0, 86644.0, 30793.0, 86644.0, 30793.0]\n",
      "running training and testing for user 7\n",
      " --------------------------------------------\n",
      "importing datasets....\n",
      "selecting 30 simillar users...\n"
     ]
    },
    {
     "name": "stderr",
     "output_type": "stream",
     "text": [
      "\n"
     ]
    },
    {
     "name": "stdout",
     "output_type": "stream",
     "text": [
      "configuring movie formatting...\n",
      "creating the Graph...\n",
      "Staring training fo 30 iterations...\n"
     ]
    },
    {
     "name": "stderr",
     "output_type": "stream",
     "text": [
      "100%|███████████████████████████████████████████████████████████████████████████████████████████████████| 30/30 [00:00<00:00, 883.67it/s]"
     ]
    },
    {
     "name": "stdout",
     "output_type": "stream",
     "text": [
      "0\n",
      "Recommended ID's: [30793.0, 78499.0, 91529.0, 59784.0, 78499.0]\n",
      "running training and testing for user 8\n",
      " --------------------------------------------\n",
      "importing datasets....\n",
      "selecting 30 simillar users...\n"
     ]
    },
    {
     "name": "stderr",
     "output_type": "stream",
     "text": [
      "\n"
     ]
    },
    {
     "name": "stdout",
     "output_type": "stream",
     "text": [
      "configuring movie formatting...\n",
      "creating the Graph...\n",
      "Staring training fo 30 iterations...\n"
     ]
    },
    {
     "name": "stderr",
     "output_type": "stream",
     "text": [
      "100%|███████████████████████████████████████████████████████████████████████████████████████████████████| 30/30 [00:00<00:00, 850.40it/s]"
     ]
    },
    {
     "name": "stdout",
     "output_type": "stream",
     "text": [
      "0\n",
      "Recommended ID's: [59784.0, 78499.0, 91529.0, 78499.0, 59784.0]\n",
      "running training and testing for user 9\n",
      " --------------------------------------------\n",
      "importing datasets....\n",
      "selecting 30 simillar users...\n"
     ]
    },
    {
     "name": "stderr",
     "output_type": "stream",
     "text": [
      "\n"
     ]
    },
    {
     "name": "stdout",
     "output_type": "stream",
     "text": [
      "configuring movie formatting...\n",
      "creating the Graph...\n",
      "Staring training fo 30 iterations...\n"
     ]
    },
    {
     "name": "stderr",
     "output_type": "stream",
     "text": [
      "100%|███████████████████████████████████████████████████████████████████████████████████████████████████| 30/30 [00:00<00:00, 868.79it/s]"
     ]
    },
    {
     "name": "stdout",
     "output_type": "stream",
     "text": [
      "0\n",
      "Recommended ID's: [78499.0, 59784.0, 59784.0, 103335.0, 30793.0]\n",
      "running training and testing for user 10\n",
      " --------------------------------------------\n",
      "importing datasets....\n",
      "selecting 30 simillar users...\n"
     ]
    },
    {
     "name": "stderr",
     "output_type": "stream",
     "text": [
      "\n"
     ]
    },
    {
     "name": "stdout",
     "output_type": "stream",
     "text": [
      "configuring movie formatting...\n",
      "creating the Graph...\n",
      "Staring training fo 30 iterations...\n"
     ]
    },
    {
     "name": "stderr",
     "output_type": "stream",
     "text": [
      "100%|███████████████████████████████████████████████████████████████████████████████████████████████████| 30/30 [00:00<00:00, 723.52it/s]"
     ]
    },
    {
     "name": "stdout",
     "output_type": "stream",
     "text": [
      "0\n",
      "Recommended ID's: [59784.0, 91529.0, 78499.0, 59784.0, 78499.0]\n",
      "running training and testing for user 11\n",
      " --------------------------------------------\n",
      "importing datasets....\n",
      "selecting 30 simillar users...\n"
     ]
    },
    {
     "name": "stderr",
     "output_type": "stream",
     "text": [
      "\n"
     ]
    },
    {
     "name": "stdout",
     "output_type": "stream",
     "text": [
      "configuring movie formatting...\n",
      "creating the Graph...\n",
      "Staring training fo 30 iterations...\n"
     ]
    },
    {
     "name": "stderr",
     "output_type": "stream",
     "text": [
      "100%|███████████████████████████████████████████████████████████████████████████████████████████████████| 30/30 [00:00<00:00, 845.41it/s]"
     ]
    },
    {
     "name": "stdout",
     "output_type": "stream",
     "text": [
      "0\n",
      "Recommended ID's: [91529.0, 78499.0, 86644.0, 78499.0, 30793.0]\n",
      "running training and testing for user 12\n",
      " --------------------------------------------\n",
      "importing datasets....\n",
      "selecting 30 simillar users...\n"
     ]
    },
    {
     "name": "stderr",
     "output_type": "stream",
     "text": [
      "\n"
     ]
    },
    {
     "name": "stdout",
     "output_type": "stream",
     "text": [
      "configuring movie formatting...\n",
      "creating the Graph...\n",
      "Staring training fo 30 iterations...\n"
     ]
    },
    {
     "name": "stderr",
     "output_type": "stream",
     "text": [
      "100%|███████████████████████████████████████████████████████████████████████████████████████████████████| 30/30 [00:00<00:00, 861.15it/s]"
     ]
    },
    {
     "name": "stdout",
     "output_type": "stream",
     "text": [
      "0\n",
      "Recommended ID's: [78499.0, 86644.0, 86644.0, 103335.0, 78499.0]\n",
      "running training and testing for user 13\n",
      " --------------------------------------------\n",
      "importing datasets....\n",
      "selecting 30 simillar users...\n"
     ]
    },
    {
     "name": "stderr",
     "output_type": "stream",
     "text": [
      "\n"
     ]
    },
    {
     "name": "stdout",
     "output_type": "stream",
     "text": [
      "configuring movie formatting...\n",
      "creating the Graph...\n",
      "Staring training fo 30 iterations...\n"
     ]
    },
    {
     "name": "stderr",
     "output_type": "stream",
     "text": [
      "100%|███████████████████████████████████████████████████████████████████████████████████████████████████| 30/30 [00:00<00:00, 838.86it/s]"
     ]
    },
    {
     "name": "stdout",
     "output_type": "stream",
     "text": [
      "0\n",
      "Recommended ID's: [78499.0, 91529.0, 86644.0, 78499.0, 86644.0]\n",
      "running training and testing for user 14\n",
      " --------------------------------------------\n",
      "importing datasets....\n"
     ]
    },
    {
     "name": "stderr",
     "output_type": "stream",
     "text": [
      "\n"
     ]
    },
    {
     "name": "stdout",
     "output_type": "stream",
     "text": [
      "selecting 30 simillar users...\n",
      "configuring movie formatting...\n",
      "creating the Graph...\n",
      "Staring training fo 30 iterations...\n"
     ]
    },
    {
     "name": "stderr",
     "output_type": "stream",
     "text": [
      "100%|███████████████████████████████████████████████████████████████████████████████████████████████████| 30/30 [00:00<00:00, 943.34it/s]"
     ]
    },
    {
     "name": "stdout",
     "output_type": "stream",
     "text": [
      "0\n",
      "Recommended ID's: [30793.0, 59784.0, 86644.0, 91529.0, 30793.0]\n",
      "running training and testing for user 15\n",
      " --------------------------------------------\n",
      "importing datasets....\n",
      "selecting 30 simillar users...\n"
     ]
    },
    {
     "name": "stderr",
     "output_type": "stream",
     "text": [
      "\n"
     ]
    },
    {
     "name": "stdout",
     "output_type": "stream",
     "text": [
      "configuring movie formatting...\n",
      "creating the Graph...\n",
      "Staring training fo 30 iterations...\n"
     ]
    },
    {
     "name": "stderr",
     "output_type": "stream",
     "text": [
      "100%|███████████████████████████████████████████████████████████████████████████████████████████████████| 30/30 [00:00<00:00, 894.07it/s]"
     ]
    },
    {
     "name": "stdout",
     "output_type": "stream",
     "text": [
      "0\n",
      "Recommended ID's: [30793.0, 78499.0, 103335.0, 59784.0, 78499.0]\n",
      "running training and testing for user 16\n",
      " --------------------------------------------\n",
      "importing datasets....\n",
      "selecting 30 simillar users...\n"
     ]
    },
    {
     "name": "stderr",
     "output_type": "stream",
     "text": [
      "\n"
     ]
    },
    {
     "name": "stdout",
     "output_type": "stream",
     "text": [
      "configuring movie formatting...\n",
      "creating the Graph...\n",
      "Staring training fo 30 iterations...\n"
     ]
    },
    {
     "name": "stderr",
     "output_type": "stream",
     "text": [
      "100%|███████████████████████████████████████████████████████████████████████████████████████████████████| 30/30 [00:00<00:00, 874.27it/s]"
     ]
    },
    {
     "name": "stdout",
     "output_type": "stream",
     "text": [
      "0\n",
      "Recommended ID's: [103335.0, 59784.0, 91529.0, 30793.0, 103335.0]\n",
      "running training and testing for user 17\n",
      " --------------------------------------------\n",
      "importing datasets....\n",
      "selecting 30 simillar users...\n"
     ]
    },
    {
     "name": "stderr",
     "output_type": "stream",
     "text": [
      "\n"
     ]
    },
    {
     "name": "stdout",
     "output_type": "stream",
     "text": [
      "configuring movie formatting...\n",
      "creating the Graph...\n",
      "Staring training fo 30 iterations...\n"
     ]
    },
    {
     "name": "stderr",
     "output_type": "stream",
     "text": [
      "100%|███████████████████████████████████████████████████████████████████████████████████████████████████| 30/30 [00:00<00:00, 861.00it/s]"
     ]
    },
    {
     "name": "stdout",
     "output_type": "stream",
     "text": [
      "0\n",
      "Recommended ID's: [86644.0, 59784.0, 78499.0, 78499.0, 78499.0]\n",
      "running training and testing for user 18\n",
      " --------------------------------------------\n",
      "importing datasets....\n",
      "selecting 30 simillar users...\n"
     ]
    },
    {
     "name": "stderr",
     "output_type": "stream",
     "text": [
      "\n"
     ]
    },
    {
     "name": "stdout",
     "output_type": "stream",
     "text": [
      "configuring movie formatting...\n",
      "creating the Graph...\n",
      "Staring training fo 30 iterations...\n"
     ]
    },
    {
     "name": "stderr",
     "output_type": "stream",
     "text": [
      "100%|███████████████████████████████████████████████████████████████████████████████████████████████████| 30/30 [00:00<00:00, 869.96it/s]"
     ]
    },
    {
     "name": "stdout",
     "output_type": "stream",
     "text": [
      "0\n",
      "Recommended ID's: [86644.0, 30793.0, 78499.0, 103335.0, 30793.0]\n",
      "running training and testing for user 19\n",
      " --------------------------------------------\n",
      "importing datasets....\n",
      "selecting 30 simillar users...\n"
     ]
    },
    {
     "name": "stderr",
     "output_type": "stream",
     "text": [
      "\n"
     ]
    },
    {
     "name": "stdout",
     "output_type": "stream",
     "text": [
      "configuring movie formatting...\n",
      "creating the Graph...\n",
      "Staring training fo 30 iterations...\n"
     ]
    },
    {
     "name": "stderr",
     "output_type": "stream",
     "text": [
      "100%|███████████████████████████████████████████████████████████████████████████████████████████████████| 30/30 [00:00<00:00, 787.17it/s]"
     ]
    },
    {
     "name": "stdout",
     "output_type": "stream",
     "text": [
      "0\n",
      "Recommended ID's: [91529.0, 30793.0, 59784.0, 59784.0, 78499.0]\n",
      "running training and testing for user 20\n",
      " --------------------------------------------\n",
      "importing datasets....\n"
     ]
    },
    {
     "name": "stderr",
     "output_type": "stream",
     "text": [
      "\n"
     ]
    },
    {
     "name": "stdout",
     "output_type": "stream",
     "text": [
      "selecting 30 simillar users...\n",
      "configuring movie formatting...\n",
      "creating the Graph...\n",
      "Staring training fo 30 iterations...\n"
     ]
    },
    {
     "name": "stderr",
     "output_type": "stream",
     "text": [
      "100%|███████████████████████████████████████████████████████████████████████████████████████████████████| 30/30 [00:00<00:00, 874.03it/s]"
     ]
    },
    {
     "name": "stdout",
     "output_type": "stream",
     "text": [
      "0\n",
      "Recommended ID's: [103335.0, 91529.0, 103335.0, 30793.0, 86644.0]\n",
      "running training and testing for user 21\n",
      " --------------------------------------------\n",
      "importing datasets....\n",
      "selecting 30 simillar users...\n"
     ]
    },
    {
     "name": "stderr",
     "output_type": "stream",
     "text": [
      "\n"
     ]
    },
    {
     "name": "stdout",
     "output_type": "stream",
     "text": [
      "configuring movie formatting...\n",
      "creating the Graph...\n",
      "Staring training fo 30 iterations...\n"
     ]
    },
    {
     "name": "stderr",
     "output_type": "stream",
     "text": [
      "100%|███████████████████████████████████████████████████████████████████████████████████████████████████| 30/30 [00:00<00:00, 741.75it/s]"
     ]
    },
    {
     "name": "stdout",
     "output_type": "stream",
     "text": [
      "0\n",
      "Recommended ID's: [91529.0, 30793.0, 91529.0, 78499.0, 78499.0]\n",
      "running training and testing for user 22\n",
      " --------------------------------------------\n",
      "importing datasets....\n"
     ]
    },
    {
     "name": "stderr",
     "output_type": "stream",
     "text": [
      "\n"
     ]
    },
    {
     "name": "stdout",
     "output_type": "stream",
     "text": [
      "selecting 30 simillar users...\n",
      "configuring movie formatting...\n",
      "creating the Graph...\n",
      "Staring training fo 30 iterations...\n"
     ]
    },
    {
     "name": "stderr",
     "output_type": "stream",
     "text": [
      "100%|███████████████████████████████████████████████████████████████████████████████████████████████████| 30/30 [00:00<00:00, 795.55it/s]"
     ]
    },
    {
     "name": "stdout",
     "output_type": "stream",
     "text": [
      "0\n",
      "Recommended ID's: [78499.0, 86644.0, 86644.0, 91529.0, 78499.0]\n",
      "running training and testing for user 23\n",
      " --------------------------------------------\n",
      "importing datasets....\n"
     ]
    },
    {
     "name": "stderr",
     "output_type": "stream",
     "text": [
      "\n"
     ]
    },
    {
     "name": "stdout",
     "output_type": "stream",
     "text": [
      "selecting 30 simillar users...\n",
      "configuring movie formatting...\n",
      "creating the Graph...\n",
      "Staring training fo 30 iterations...\n"
     ]
    },
    {
     "name": "stderr",
     "output_type": "stream",
     "text": [
      "100%|███████████████████████████████████████████████████████████████████████████████████████████████████| 30/30 [00:00<00:00, 871.56it/s]"
     ]
    },
    {
     "name": "stdout",
     "output_type": "stream",
     "text": [
      "0\n",
      "Recommended ID's: [103335.0, 30793.0, 78499.0, 103335.0, 78499.0]\n",
      "running training and testing for user 24\n",
      " --------------------------------------------\n",
      "importing datasets....\n",
      "selecting 30 simillar users...\n"
     ]
    },
    {
     "name": "stderr",
     "output_type": "stream",
     "text": [
      "\n"
     ]
    },
    {
     "name": "stdout",
     "output_type": "stream",
     "text": [
      "configuring movie formatting...\n",
      "creating the Graph...\n",
      "Staring training fo 30 iterations...\n"
     ]
    },
    {
     "name": "stderr",
     "output_type": "stream",
     "text": [
      "100%|███████████████████████████████████████████████████████████████████████████████████████████████████| 30/30 [00:00<00:00, 873.54it/s]"
     ]
    },
    {
     "name": "stdout",
     "output_type": "stream",
     "text": [
      "0\n",
      "Recommended ID's: [59784.0, 78499.0, 86644.0, 30793.0, 91529.0]\n",
      "running training and testing for user 25\n",
      " --------------------------------------------\n",
      "importing datasets....\n",
      "selecting 30 simillar users...\n"
     ]
    },
    {
     "name": "stderr",
     "output_type": "stream",
     "text": [
      "\n"
     ]
    },
    {
     "name": "stdout",
     "output_type": "stream",
     "text": [
      "configuring movie formatting...\n",
      "creating the Graph...\n",
      "Staring training fo 30 iterations...\n"
     ]
    },
    {
     "name": "stderr",
     "output_type": "stream",
     "text": [
      "100%|███████████████████████████████████████████████████████████████████████████████████████████████████| 30/30 [00:00<00:00, 859.17it/s]"
     ]
    },
    {
     "name": "stdout",
     "output_type": "stream",
     "text": [
      "0\n",
      "Recommended ID's: [30793.0, 91529.0, 30793.0, 91529.0, 59784.0]\n",
      "running training and testing for user 26\n",
      " --------------------------------------------\n",
      "importing datasets....\n",
      "selecting 30 simillar users...\n"
     ]
    },
    {
     "name": "stderr",
     "output_type": "stream",
     "text": [
      "\n"
     ]
    },
    {
     "name": "stdout",
     "output_type": "stream",
     "text": [
      "configuring movie formatting...\n",
      "creating the Graph...\n",
      "Staring training fo 30 iterations...\n"
     ]
    },
    {
     "name": "stderr",
     "output_type": "stream",
     "text": [
      "100%|███████████████████████████████████████████████████████████████████████████████████████████████████| 30/30 [00:00<00:00, 858.05it/s]"
     ]
    },
    {
     "name": "stdout",
     "output_type": "stream",
     "text": [
      "0\n",
      "Recommended ID's: [78499.0, 103335.0, 59784.0, 78499.0, 91529.0]\n",
      "running training and testing for user 27\n",
      " --------------------------------------------\n",
      "importing datasets....\n"
     ]
    },
    {
     "name": "stderr",
     "output_type": "stream",
     "text": [
      "\n"
     ]
    },
    {
     "name": "stdout",
     "output_type": "stream",
     "text": [
      "selecting 30 simillar users...\n",
      "configuring movie formatting...\n",
      "creating the Graph...\n",
      "Staring training fo 30 iterations...\n"
     ]
    },
    {
     "name": "stderr",
     "output_type": "stream",
     "text": [
      "100%|███████████████████████████████████████████████████████████████████████████████████████████████████| 30/30 [00:00<00:00, 863.29it/s]"
     ]
    },
    {
     "name": "stdout",
     "output_type": "stream",
     "text": [
      "0\n",
      "Recommended ID's: [59784.0, 103335.0, 78499.0, 91529.0, 91529.0]\n",
      "running training and testing for user 28\n",
      " --------------------------------------------\n",
      "importing datasets....\n"
     ]
    },
    {
     "name": "stderr",
     "output_type": "stream",
     "text": [
      "\n"
     ]
    },
    {
     "name": "stdout",
     "output_type": "stream",
     "text": [
      "selecting 30 simillar users...\n",
      "configuring movie formatting...\n",
      "creating the Graph...\n",
      "Staring training fo 30 iterations...\n"
     ]
    },
    {
     "name": "stderr",
     "output_type": "stream",
     "text": [
      "100%|███████████████████████████████████████████████████████████████████████████████████████████████████| 30/30 [00:00<00:00, 868.15it/s]"
     ]
    },
    {
     "name": "stdout",
     "output_type": "stream",
     "text": [
      "0\n",
      "Recommended ID's: [103335.0, 59784.0, 78499.0, 91529.0, 103335.0]\n",
      "running training and testing for user 29\n",
      " --------------------------------------------\n",
      "importing datasets....\n",
      "selecting 30 simillar users...\n"
     ]
    },
    {
     "name": "stderr",
     "output_type": "stream",
     "text": [
      "\n"
     ]
    },
    {
     "name": "stdout",
     "output_type": "stream",
     "text": [
      "configuring movie formatting...\n",
      "creating the Graph...\n",
      "Staring training fo 30 iterations...\n"
     ]
    },
    {
     "name": "stderr",
     "output_type": "stream",
     "text": [
      "100%|███████████████████████████████████████████████████████████████████████████████████████████████████| 30/30 [00:00<00:00, 802.92it/s]"
     ]
    },
    {
     "name": "stdout",
     "output_type": "stream",
     "text": [
      "0\n",
      "Recommended ID's: [91529.0, 78499.0, 103335.0, 30793.0, 30793.0]\n",
      "running training and testing for user 30\n",
      " --------------------------------------------\n",
      "importing datasets....\n"
     ]
    },
    {
     "name": "stderr",
     "output_type": "stream",
     "text": [
      "\n"
     ]
    },
    {
     "name": "stdout",
     "output_type": "stream",
     "text": [
      "selecting 30 simillar users...\n",
      "configuring movie formatting...\n",
      "creating the Graph...\n",
      "Staring training fo 30 iterations...\n"
     ]
    },
    {
     "name": "stderr",
     "output_type": "stream",
     "text": [
      "100%|███████████████████████████████████████████████████████████████████████████████████████████████████| 30/30 [00:00<00:00, 727.82it/s]"
     ]
    },
    {
     "name": "stdout",
     "output_type": "stream",
     "text": [
      "0\n",
      "Recommended ID's: [91529.0, 78499.0, 103335.0, 103335.0, 103335.0]\n",
      "running training and testing for user 31\n",
      " --------------------------------------------\n",
      "importing datasets....\n"
     ]
    },
    {
     "name": "stderr",
     "output_type": "stream",
     "text": [
      "\n"
     ]
    },
    {
     "name": "stdout",
     "output_type": "stream",
     "text": [
      "selecting 30 simillar users...\n",
      "configuring movie formatting...\n",
      "creating the Graph...\n",
      "Staring training fo 30 iterations...\n"
     ]
    },
    {
     "name": "stderr",
     "output_type": "stream",
     "text": [
      "100%|██████████████████████████████████████████████████████████████████████████████████████████████████| 30/30 [00:00<00:00, 1082.82it/s]"
     ]
    },
    {
     "name": "stdout",
     "output_type": "stream",
     "text": [
      "0\n",
      "Recommended ID's: [86644.0, 78499.0, 30793.0, 86644.0, 91529.0]\n",
      "running training and testing for user 32\n",
      " --------------------------------------------\n",
      "importing datasets....\n",
      "selecting 30 simillar users...\n"
     ]
    },
    {
     "name": "stderr",
     "output_type": "stream",
     "text": [
      "\n"
     ]
    },
    {
     "name": "stdout",
     "output_type": "stream",
     "text": [
      "configuring movie formatting...\n",
      "creating the Graph...\n",
      "Staring training fo 30 iterations...\n"
     ]
    },
    {
     "name": "stderr",
     "output_type": "stream",
     "text": [
      "100%|███████████████████████████████████████████████████████████████████████████████████████████████████| 30/30 [00:00<00:00, 737.43it/s]"
     ]
    },
    {
     "name": "stdout",
     "output_type": "stream",
     "text": [
      "0\n",
      "Recommended ID's: [91529.0, 30793.0, 30793.0, 103335.0, 103335.0]\n",
      "running training and testing for user 33\n",
      " --------------------------------------------\n",
      "importing datasets....\n",
      "selecting 30 simillar users...\n"
     ]
    },
    {
     "name": "stderr",
     "output_type": "stream",
     "text": [
      "\n"
     ]
    },
    {
     "name": "stdout",
     "output_type": "stream",
     "text": [
      "configuring movie formatting...\n",
      "creating the Graph...\n",
      "Staring training fo 30 iterations...\n"
     ]
    },
    {
     "name": "stderr",
     "output_type": "stream",
     "text": [
      "100%|███████████████████████████████████████████████████████████████████████████████████████████████████| 30/30 [00:00<00:00, 870.57it/s]"
     ]
    },
    {
     "name": "stdout",
     "output_type": "stream",
     "text": [
      "0\n",
      "Recommended ID's: [30793.0, 30793.0, 86644.0, 103335.0, 91529.0]\n",
      "running training and testing for user 34\n",
      " --------------------------------------------\n",
      "importing datasets....\n",
      "selecting 30 simillar users...\n"
     ]
    },
    {
     "name": "stderr",
     "output_type": "stream",
     "text": [
      "\n"
     ]
    },
    {
     "name": "stdout",
     "output_type": "stream",
     "text": [
      "configuring movie formatting...\n",
      "creating the Graph...\n",
      "Staring training fo 30 iterations...\n"
     ]
    },
    {
     "name": "stderr",
     "output_type": "stream",
     "text": [
      "100%|███████████████████████████████████████████████████████████████████████████████████████████████████| 30/30 [00:00<00:00, 909.53it/s]"
     ]
    },
    {
     "name": "stdout",
     "output_type": "stream",
     "text": [
      "0\n",
      "Recommended ID's: [103335.0, 91529.0, 91529.0, 86644.0, 59784.0]\n",
      "running training and testing for user 35\n",
      " --------------------------------------------\n",
      "importing datasets....\n",
      "selecting 30 simillar users...\n"
     ]
    },
    {
     "name": "stderr",
     "output_type": "stream",
     "text": [
      "\n"
     ]
    },
    {
     "name": "stdout",
     "output_type": "stream",
     "text": [
      "configuring movie formatting...\n",
      "creating the Graph...\n",
      "Staring training fo 30 iterations...\n"
     ]
    },
    {
     "name": "stderr",
     "output_type": "stream",
     "text": [
      "100%|███████████████████████████████████████████████████████████████████████████████████████████████████| 30/30 [00:00<00:00, 863.18it/s]"
     ]
    },
    {
     "name": "stdout",
     "output_type": "stream",
     "text": [
      "0\n",
      "Recommended ID's: [78499.0, 86644.0, 91529.0, 91529.0, 78499.0]\n",
      "running training and testing for user 36\n",
      " --------------------------------------------\n",
      "importing datasets....\n",
      "selecting 30 simillar users...\n"
     ]
    },
    {
     "name": "stderr",
     "output_type": "stream",
     "text": [
      "\n"
     ]
    },
    {
     "name": "stdout",
     "output_type": "stream",
     "text": [
      "configuring movie formatting...\n",
      "creating the Graph...\n",
      "Staring training fo 30 iterations...\n"
     ]
    },
    {
     "name": "stderr",
     "output_type": "stream",
     "text": [
      "100%|███████████████████████████████████████████████████████████████████████████████████████████████████| 30/30 [00:00<00:00, 745.06it/s]"
     ]
    },
    {
     "name": "stdout",
     "output_type": "stream",
     "text": [
      "0\n",
      "Recommended ID's: [91529.0, 91529.0, 30793.0, 78499.0, 103335.0]\n",
      "running training and testing for user 37\n",
      " --------------------------------------------\n",
      "importing datasets....\n",
      "selecting 30 simillar users...\n"
     ]
    },
    {
     "name": "stderr",
     "output_type": "stream",
     "text": [
      "\n"
     ]
    },
    {
     "name": "stdout",
     "output_type": "stream",
     "text": [
      "configuring movie formatting...\n",
      "creating the Graph...\n",
      "Staring training fo 30 iterations...\n"
     ]
    },
    {
     "name": "stderr",
     "output_type": "stream",
     "text": [
      "100%|███████████████████████████████████████████████████████████████████████████████████████████████████| 30/30 [00:00<00:00, 966.42it/s]"
     ]
    },
    {
     "name": "stdout",
     "output_type": "stream",
     "text": [
      "0\n",
      "Recommended ID's: [91529.0, 78499.0, 91529.0, 59784.0, 103335.0]\n",
      "running training and testing for user 38\n",
      " --------------------------------------------\n",
      "importing datasets....\n",
      "selecting 30 simillar users...\n"
     ]
    },
    {
     "name": "stderr",
     "output_type": "stream",
     "text": [
      "\n"
     ]
    },
    {
     "name": "stdout",
     "output_type": "stream",
     "text": [
      "configuring movie formatting...\n",
      "creating the Graph...\n",
      "Staring training fo 30 iterations...\n"
     ]
    },
    {
     "name": "stderr",
     "output_type": "stream",
     "text": [
      "100%|███████████████████████████████████████████████████████████████████████████████████████████████████| 30/30 [00:00<00:00, 862.79it/s]"
     ]
    },
    {
     "name": "stdout",
     "output_type": "stream",
     "text": [
      "0\n",
      "Recommended ID's: [103335.0, 78499.0, 86644.0, 78499.0, 78499.0]\n",
      "running training and testing for user 39\n",
      " --------------------------------------------\n",
      "importing datasets....\n",
      "selecting 30 simillar users...\n"
     ]
    },
    {
     "name": "stderr",
     "output_type": "stream",
     "text": [
      "\n"
     ]
    },
    {
     "name": "stdout",
     "output_type": "stream",
     "text": [
      "configuring movie formatting...\n",
      "creating the Graph...\n",
      "Staring training fo 30 iterations...\n"
     ]
    },
    {
     "name": "stderr",
     "output_type": "stream",
     "text": [
      "100%|███████████████████████████████████████████████████████████████████████████████████████████████████| 30/30 [00:00<00:00, 737.63it/s]"
     ]
    },
    {
     "name": "stdout",
     "output_type": "stream",
     "text": [
      "0\n",
      "Recommended ID's: [59784.0, 91529.0, 91529.0, 30793.0, 103335.0]\n",
      "running training and testing for user 40\n",
      " --------------------------------------------\n",
      "importing datasets....\n",
      "selecting 30 simillar users...\n"
     ]
    },
    {
     "name": "stderr",
     "output_type": "stream",
     "text": [
      "\n"
     ]
    },
    {
     "name": "stdout",
     "output_type": "stream",
     "text": [
      "configuring movie formatting...\n",
      "creating the Graph...\n",
      "Staring training fo 30 iterations...\n"
     ]
    },
    {
     "name": "stderr",
     "output_type": "stream",
     "text": [
      "100%|███████████████████████████████████████████████████████████████████████████████████████████████████| 30/30 [00:00<00:00, 847.12it/s]"
     ]
    },
    {
     "name": "stdout",
     "output_type": "stream",
     "text": [
      "0\n",
      "Recommended ID's: [91529.0, 59784.0, 30793.0, 86644.0, 86644.0]\n",
      "running training and testing for user 41\n",
      " --------------------------------------------\n",
      "importing datasets....\n",
      "selecting 30 simillar users...\n"
     ]
    },
    {
     "name": "stderr",
     "output_type": "stream",
     "text": [
      "\n"
     ]
    },
    {
     "name": "stdout",
     "output_type": "stream",
     "text": [
      "configuring movie formatting...\n",
      "creating the Graph...\n",
      "Staring training fo 30 iterations...\n"
     ]
    },
    {
     "name": "stderr",
     "output_type": "stream",
     "text": [
      "100%|███████████████████████████████████████████████████████████████████████████████████████████████████| 30/30 [00:00<00:00, 952.18it/s]"
     ]
    },
    {
     "name": "stdout",
     "output_type": "stream",
     "text": [
      "0\n",
      "Recommended ID's: [30793.0, 30793.0, 59784.0, 78499.0, 91529.0]\n",
      "running training and testing for user 42\n",
      " --------------------------------------------\n",
      "importing datasets....\n"
     ]
    },
    {
     "name": "stderr",
     "output_type": "stream",
     "text": [
      "\n"
     ]
    },
    {
     "name": "stdout",
     "output_type": "stream",
     "text": [
      "selecting 30 simillar users...\n",
      "configuring movie formatting...\n",
      "creating the Graph...\n",
      "Staring training fo 30 iterations...\n"
     ]
    },
    {
     "name": "stderr",
     "output_type": "stream",
     "text": [
      "100%|███████████████████████████████████████████████████████████████████████████████████████████████████| 30/30 [00:00<00:00, 861.07it/s]"
     ]
    },
    {
     "name": "stdout",
     "output_type": "stream",
     "text": [
      "0\n",
      "Recommended ID's: [78499.0, 30793.0, 30793.0, 103335.0, 103335.0]\n",
      "running training and testing for user 43\n",
      " --------------------------------------------\n",
      "importing datasets....\n",
      "selecting 30 simillar users...\n"
     ]
    },
    {
     "name": "stderr",
     "output_type": "stream",
     "text": [
      "\n"
     ]
    },
    {
     "name": "stdout",
     "output_type": "stream",
     "text": [
      "configuring movie formatting...\n",
      "creating the Graph...\n",
      "Staring training fo 30 iterations...\n"
     ]
    },
    {
     "name": "stderr",
     "output_type": "stream",
     "text": [
      "100%|██████████████████████████████████████████████████████████████████████████████████████████████████| 30/30 [00:00<00:00, 1058.54it/s]"
     ]
    },
    {
     "name": "stdout",
     "output_type": "stream",
     "text": [
      "0\n",
      "Recommended ID's: [30793.0, 59784.0, 103335.0, 86644.0, 91529.0]\n",
      "running training and testing for user 44\n",
      " --------------------------------------------\n",
      "importing datasets....\n",
      "selecting 30 simillar users...\n"
     ]
    },
    {
     "name": "stderr",
     "output_type": "stream",
     "text": [
      "\n"
     ]
    },
    {
     "name": "stdout",
     "output_type": "stream",
     "text": [
      "configuring movie formatting...\n",
      "creating the Graph...\n",
      "Staring training fo 30 iterations...\n"
     ]
    },
    {
     "name": "stderr",
     "output_type": "stream",
     "text": [
      "100%|███████████████████████████████████████████████████████████████████████████████████████████████████| 30/30 [00:00<00:00, 768.15it/s]"
     ]
    },
    {
     "name": "stdout",
     "output_type": "stream",
     "text": [
      "0\n",
      "Recommended ID's: [91529.0, 91529.0, 59784.0, 78499.0, 59784.0]\n",
      "running training and testing for user 45\n",
      " --------------------------------------------\n",
      "importing datasets....\n",
      "selecting 30 simillar users...\n"
     ]
    },
    {
     "name": "stderr",
     "output_type": "stream",
     "text": [
      "\n"
     ]
    },
    {
     "name": "stdout",
     "output_type": "stream",
     "text": [
      "configuring movie formatting...\n",
      "creating the Graph...\n",
      "Staring training fo 30 iterations...\n"
     ]
    },
    {
     "name": "stderr",
     "output_type": "stream",
     "text": [
      "100%|███████████████████████████████████████████████████████████████████████████████████████████████████| 30/30 [00:00<00:00, 758.79it/s]"
     ]
    },
    {
     "name": "stdout",
     "output_type": "stream",
     "text": [
      "0\n",
      "Recommended ID's: [103335.0, 91529.0, 78499.0, 30793.0, 30793.0]\n",
      "running training and testing for user 46\n",
      " --------------------------------------------\n",
      "importing datasets....\n"
     ]
    },
    {
     "name": "stderr",
     "output_type": "stream",
     "text": [
      "\n"
     ]
    },
    {
     "name": "stdout",
     "output_type": "stream",
     "text": [
      "selecting 30 simillar users...\n",
      "configuring movie formatting...\n",
      "creating the Graph...\n",
      "Staring training fo 30 iterations...\n"
     ]
    },
    {
     "name": "stderr",
     "output_type": "stream",
     "text": [
      "100%|███████████████████████████████████████████████████████████████████████████████████████████████████| 30/30 [00:00<00:00, 900.71it/s]"
     ]
    },
    {
     "name": "stdout",
     "output_type": "stream",
     "text": [
      "0\n",
      "Recommended ID's: [59784.0, 59784.0, 78499.0, 103335.0, 103335.0]\n",
      "running training and testing for user 47\n",
      " --------------------------------------------\n",
      "importing datasets....\n",
      "selecting 30 simillar users...\n"
     ]
    },
    {
     "name": "stderr",
     "output_type": "stream",
     "text": [
      "\n"
     ]
    },
    {
     "name": "stdout",
     "output_type": "stream",
     "text": [
      "configuring movie formatting...\n",
      "creating the Graph...\n",
      "Staring training fo 30 iterations...\n"
     ]
    },
    {
     "name": "stderr",
     "output_type": "stream",
     "text": [
      "100%|██████████████████████████████████████████████████████████████████████████████████████████████████| 30/30 [00:00<00:00, 1078.77it/s]"
     ]
    },
    {
     "name": "stdout",
     "output_type": "stream",
     "text": [
      "0\n",
      "Recommended ID's: [59784.0, 59784.0, 91529.0, 103335.0, 91529.0]\n",
      "running training and testing for user 48\n",
      " --------------------------------------------\n",
      "importing datasets....\n",
      "selecting 30 simillar users...\n"
     ]
    },
    {
     "name": "stderr",
     "output_type": "stream",
     "text": [
      "\n"
     ]
    },
    {
     "name": "stdout",
     "output_type": "stream",
     "text": [
      "configuring movie formatting...\n",
      "creating the Graph...\n",
      "Staring training fo 30 iterations...\n"
     ]
    },
    {
     "name": "stderr",
     "output_type": "stream",
     "text": [
      "100%|███████████████████████████████████████████████████████████████████████████████████████████████████| 30/30 [00:00<00:00, 748.11it/s]"
     ]
    },
    {
     "name": "stdout",
     "output_type": "stream",
     "text": [
      "0\n",
      "Recommended ID's: [103335.0, 91529.0, 30793.0, 103335.0, 91529.0]\n",
      "running training and testing for user 49\n",
      " --------------------------------------------\n",
      "importing datasets....\n",
      "selecting 30 simillar users...\n"
     ]
    },
    {
     "name": "stderr",
     "output_type": "stream",
     "text": [
      "\n"
     ]
    },
    {
     "name": "stdout",
     "output_type": "stream",
     "text": [
      "configuring movie formatting...\n",
      "creating the Graph...\n",
      "Staring training fo 30 iterations...\n"
     ]
    },
    {
     "name": "stderr",
     "output_type": "stream",
     "text": [
      "100%|███████████████████████████████████████████████████████████████████████████████████████████████████| 30/30 [00:00<00:00, 873.43it/s]"
     ]
    },
    {
     "name": "stdout",
     "output_type": "stream",
     "text": [
      "0\n",
      "Recommended ID's: [30793.0, 103335.0, 59784.0, 103335.0, 30793.0]\n",
      "genre: IMAX\n",
      "overall accuracy is 0.725\n",
      "running training and testing for user 0\n",
      " --------------------------------------------\n",
      "importing datasets....\n"
     ]
    },
    {
     "name": "stderr",
     "output_type": "stream",
     "text": [
      "\n"
     ]
    },
    {
     "name": "stdout",
     "output_type": "stream",
     "text": [
      "selecting 30 simillar users...\n",
      "configuring movie formatting...\n",
      "creating the Graph...\n",
      "Staring training fo 30 iterations...\n"
     ]
    },
    {
     "name": "stderr",
     "output_type": "stream",
     "text": [
      "100%|███████████████████████████████████████████████████████████████████████████████████████████████████| 30/30 [00:00<00:00, 310.87it/s]"
     ]
    },
    {
     "name": "stdout",
     "output_type": "stream",
     "text": [
      "0\n",
      "Recommended ID's: [2064.0, 1050.0, 69529.0, 2064.0, 69529.0]\n"
     ]
    },
    {
     "name": "stderr",
     "output_type": "stream",
     "text": [
      "\n"
     ]
    },
    {
     "name": "stdout",
     "output_type": "stream",
     "text": [
      "running training and testing for user 1\n",
      " --------------------------------------------\n",
      "importing datasets....\n",
      "selecting 30 simillar users...\n",
      "configuring movie formatting...\n",
      "creating the Graph...\n",
      "Staring training fo 30 iterations...\n"
     ]
    },
    {
     "name": "stderr",
     "output_type": "stream",
     "text": [
      "100%|███████████████████████████████████████████████████████████████████████████████████████████████████| 30/30 [00:00<00:00, 646.26it/s]"
     ]
    },
    {
     "name": "stdout",
     "output_type": "stream",
     "text": [
      "0\n",
      "Recommended ID's: [69529.0, 581.0, 581.0, 8581.0, 581.0]\n",
      "running training and testing for user 2\n",
      " --------------------------------------------\n",
      "importing datasets....\n"
     ]
    },
    {
     "name": "stderr",
     "output_type": "stream",
     "text": [
      "\n"
     ]
    },
    {
     "name": "stdout",
     "output_type": "stream",
     "text": [
      "selecting 30 simillar users...\n",
      "configuring movie formatting...\n",
      "creating the Graph...\n",
      "Staring training fo 30 iterations...\n"
     ]
    },
    {
     "name": "stderr",
     "output_type": "stream",
     "text": [
      "100%|███████████████████████████████████████████████████████████████████████████████████████████████████| 30/30 [00:00<00:00, 575.36it/s]"
     ]
    },
    {
     "name": "stdout",
     "output_type": "stream",
     "text": [
      "0\n",
      "Recommended ID's: [6327.0, 69529.0, 4769.0, 4350.0, 4304.0]\n",
      "running training and testing for user 3\n",
      " --------------------------------------------\n",
      "importing datasets....\n"
     ]
    },
    {
     "name": "stderr",
     "output_type": "stream",
     "text": [
      "\n"
     ]
    },
    {
     "name": "stdout",
     "output_type": "stream",
     "text": [
      "selecting 30 simillar users...\n",
      "configuring movie formatting...\n",
      "creating the Graph...\n",
      "Staring training fo 30 iterations...\n"
     ]
    },
    {
     "name": "stderr",
     "output_type": "stream",
     "text": [
      "100%|███████████████████████████████████████████████████████████████████████████████████████████████████| 30/30 [00:00<00:00, 586.16it/s]"
     ]
    },
    {
     "name": "stdout",
     "output_type": "stream",
     "text": [
      "0\n",
      "Recommended ID's: [4304.0, 6327.0, 4304.0, 4769.0, 6327.0]\n",
      "running training and testing for user 4\n",
      " --------------------------------------------\n",
      "importing datasets....\n"
     ]
    },
    {
     "name": "stderr",
     "output_type": "stream",
     "text": [
      "\n"
     ]
    },
    {
     "name": "stdout",
     "output_type": "stream",
     "text": [
      "selecting 30 simillar users...\n",
      "configuring movie formatting...\n",
      "creating the Graph...\n",
      "Staring training fo 30 iterations...\n"
     ]
    },
    {
     "name": "stderr",
     "output_type": "stream",
     "text": [
      "100%|███████████████████████████████████████████████████████████████████████████████████████████████████| 30/30 [00:00<00:00, 508.69it/s]"
     ]
    },
    {
     "name": "stdout",
     "output_type": "stream",
     "text": [
      "0\n",
      "Recommended ID's: [2064.0, 8581.0, 2064.0, 4769.0, 581.0]\n",
      "running training and testing for user 5\n",
      " --------------------------------------------\n",
      "importing datasets....\n"
     ]
    },
    {
     "name": "stderr",
     "output_type": "stream",
     "text": [
      "\n"
     ]
    },
    {
     "name": "stdout",
     "output_type": "stream",
     "text": [
      "selecting 30 simillar users...\n",
      "configuring movie formatting...\n",
      "creating the Graph...\n",
      "Staring training fo 30 iterations...\n"
     ]
    },
    {
     "name": "stderr",
     "output_type": "stream",
     "text": [
      "100%|███████████████████████████████████████████████████████████████████████████████████████████████████| 30/30 [00:00<00:00, 570.25it/s]"
     ]
    },
    {
     "name": "stdout",
     "output_type": "stream",
     "text": [
      "0\n",
      "Recommended ID's: [6327.0, 1050.0, 581.0, 4350.0, 4304.0]\n",
      "running training and testing for user 6\n",
      " --------------------------------------------\n",
      "importing datasets....\n",
      "selecting 30 simillar users...\n"
     ]
    },
    {
     "name": "stderr",
     "output_type": "stream",
     "text": [
      "\n"
     ]
    },
    {
     "name": "stdout",
     "output_type": "stream",
     "text": [
      "configuring movie formatting...\n",
      "creating the Graph...\n",
      "Staring training fo 30 iterations...\n"
     ]
    },
    {
     "name": "stderr",
     "output_type": "stream",
     "text": [
      "100%|███████████████████████████████████████████████████████████████████████████████████████████████████| 30/30 [00:00<00:00, 564.65it/s]"
     ]
    },
    {
     "name": "stdout",
     "output_type": "stream",
     "text": [
      "0\n",
      "Recommended ID's: [6327.0, 8581.0, 1050.0, 6327.0, 4350.0]\n",
      "running training and testing for user 7\n",
      " --------------------------------------------\n",
      "importing datasets....\n"
     ]
    },
    {
     "name": "stderr",
     "output_type": "stream",
     "text": [
      "\n"
     ]
    },
    {
     "name": "stdout",
     "output_type": "stream",
     "text": [
      "selecting 30 simillar users...\n",
      "configuring movie formatting...\n",
      "creating the Graph...\n",
      "Staring training fo 30 iterations...\n"
     ]
    },
    {
     "name": "stderr",
     "output_type": "stream",
     "text": [
      "100%|███████████████████████████████████████████████████████████████████████████████████████████████████| 30/30 [00:00<00:00, 491.11it/s]"
     ]
    },
    {
     "name": "stdout",
     "output_type": "stream",
     "text": [
      "0\n",
      "Recommended ID's: [581.0, 1361.0, 69529.0, 4304.0, 1050.0]\n",
      "running training and testing for user 8\n",
      " --------------------------------------------\n",
      "importing datasets....\n"
     ]
    },
    {
     "name": "stderr",
     "output_type": "stream",
     "text": [
      "\n"
     ]
    },
    {
     "name": "stdout",
     "output_type": "stream",
     "text": [
      "selecting 30 simillar users...\n",
      "configuring movie formatting...\n",
      "creating the Graph...\n",
      "Staring training fo 30 iterations...\n"
     ]
    },
    {
     "name": "stderr",
     "output_type": "stream",
     "text": [
      "100%|███████████████████████████████████████████████████████████████████████████████████████████████████| 30/30 [00:00<00:00, 580.41it/s]"
     ]
    },
    {
     "name": "stdout",
     "output_type": "stream",
     "text": [
      "0\n",
      "Recommended ID's: [4350.0, 581.0, 4350.0, 581.0, 4350.0]\n",
      "running training and testing for user 9\n",
      " --------------------------------------------\n",
      "importing datasets....\n"
     ]
    },
    {
     "name": "stderr",
     "output_type": "stream",
     "text": [
      "\n"
     ]
    },
    {
     "name": "stdout",
     "output_type": "stream",
     "text": [
      "selecting 30 simillar users...\n",
      "configuring movie formatting...\n",
      "creating the Graph...\n",
      "Staring training fo 30 iterations...\n"
     ]
    },
    {
     "name": "stderr",
     "output_type": "stream",
     "text": [
      "100%|███████████████████████████████████████████████████████████████████████████████████████████████████| 30/30 [00:00<00:00, 568.43it/s]"
     ]
    },
    {
     "name": "stdout",
     "output_type": "stream",
     "text": [
      "0\n",
      "Recommended ID's: [69529.0, 8581.0, 8581.0, 8581.0, 1050.0]\n",
      "running training and testing for user 10\n",
      " --------------------------------------------\n",
      "importing datasets....\n",
      "selecting 30 simillar users...\n"
     ]
    },
    {
     "name": "stderr",
     "output_type": "stream",
     "text": [
      "\n"
     ]
    },
    {
     "name": "stdout",
     "output_type": "stream",
     "text": [
      "configuring movie formatting...\n",
      "creating the Graph...\n",
      "Staring training fo 30 iterations...\n"
     ]
    },
    {
     "name": "stderr",
     "output_type": "stream",
     "text": [
      "100%|███████████████████████████████████████████████████████████████████████████████████████████████████| 30/30 [00:00<00:00, 645.32it/s]"
     ]
    },
    {
     "name": "stdout",
     "output_type": "stream",
     "text": [
      "0\n",
      "Recommended ID's: [69529.0, 581.0, 6327.0, 1050.0, 1050.0]\n",
      "running training and testing for user 11\n",
      " --------------------------------------------\n",
      "importing datasets....\n"
     ]
    },
    {
     "name": "stderr",
     "output_type": "stream",
     "text": [
      "\n"
     ]
    },
    {
     "name": "stdout",
     "output_type": "stream",
     "text": [
      "selecting 30 simillar users...\n",
      "configuring movie formatting...\n",
      "creating the Graph...\n",
      "Staring training fo 30 iterations...\n"
     ]
    },
    {
     "name": "stderr",
     "output_type": "stream",
     "text": [
      "100%|███████████████████████████████████████████████████████████████████████████████████████████████████| 30/30 [00:00<00:00, 577.08it/s]"
     ]
    },
    {
     "name": "stdout",
     "output_type": "stream",
     "text": [
      "0\n",
      "Recommended ID's: [4350.0, 6327.0, 2064.0, 4350.0, 1050.0]\n",
      "running training and testing for user 12\n",
      " --------------------------------------------\n",
      "importing datasets....\n"
     ]
    },
    {
     "name": "stderr",
     "output_type": "stream",
     "text": [
      "\n"
     ]
    },
    {
     "name": "stdout",
     "output_type": "stream",
     "text": [
      "selecting 30 simillar users...\n",
      "configuring movie formatting...\n",
      "creating the Graph...\n",
      "Staring training fo 30 iterations...\n"
     ]
    },
    {
     "name": "stderr",
     "output_type": "stream",
     "text": [
      "100%|███████████████████████████████████████████████████████████████████████████████████████████████████| 30/30 [00:00<00:00, 672.48it/s]"
     ]
    },
    {
     "name": "stdout",
     "output_type": "stream",
     "text": [
      "0\n",
      "Recommended ID's: [2064.0, 581.0, 4769.0, 581.0, 69529.0]\n",
      "running training and testing for user 13\n",
      " --------------------------------------------\n",
      "importing datasets....\n"
     ]
    },
    {
     "name": "stderr",
     "output_type": "stream",
     "text": [
      "\n"
     ]
    },
    {
     "name": "stdout",
     "output_type": "stream",
     "text": [
      "selecting 30 simillar users...\n",
      "configuring movie formatting...\n",
      "creating the Graph...\n",
      "Staring training fo 30 iterations...\n"
     ]
    },
    {
     "name": "stderr",
     "output_type": "stream",
     "text": [
      "100%|███████████████████████████████████████████████████████████████████████████████████████████████████| 30/30 [00:00<00:00, 580.69it/s]"
     ]
    },
    {
     "name": "stdout",
     "output_type": "stream",
     "text": [
      "0\n",
      "Recommended ID's: [1050.0, 69529.0, 2064.0, 6327.0, 4350.0]\n",
      "running training and testing for user 14\n",
      " --------------------------------------------\n",
      "importing datasets....\n",
      "selecting 30 simillar users...\n"
     ]
    },
    {
     "name": "stderr",
     "output_type": "stream",
     "text": [
      "\n"
     ]
    },
    {
     "name": "stdout",
     "output_type": "stream",
     "text": [
      "configuring movie formatting...\n",
      "creating the Graph...\n",
      "Staring training fo 30 iterations...\n"
     ]
    },
    {
     "name": "stderr",
     "output_type": "stream",
     "text": [
      "100%|███████████████████████████████████████████████████████████████████████████████████████████████████| 30/30 [00:00<00:00, 565.92it/s]"
     ]
    },
    {
     "name": "stdout",
     "output_type": "stream",
     "text": [
      "0\n",
      "Recommended ID's: [4769.0, 8581.0, 6327.0, 6327.0, 4350.0]\n",
      "running training and testing for user 15\n",
      " --------------------------------------------\n",
      "importing datasets....\n"
     ]
    },
    {
     "name": "stderr",
     "output_type": "stream",
     "text": [
      "\n"
     ]
    },
    {
     "name": "stdout",
     "output_type": "stream",
     "text": [
      "selecting 30 simillar users...\n",
      "configuring movie formatting...\n",
      "creating the Graph...\n",
      "Staring training fo 30 iterations...\n"
     ]
    },
    {
     "name": "stderr",
     "output_type": "stream",
     "text": [
      "100%|███████████████████████████████████████████████████████████████████████████████████████████████████| 30/30 [00:00<00:00, 574.26it/s]"
     ]
    },
    {
     "name": "stdout",
     "output_type": "stream",
     "text": [
      "0\n",
      "Recommended ID's: [4350.0, 4350.0, 4350.0, 69529.0, 4350.0]\n",
      "running training and testing for user 16\n",
      " --------------------------------------------\n",
      "importing datasets....\n"
     ]
    },
    {
     "name": "stderr",
     "output_type": "stream",
     "text": [
      "\n"
     ]
    },
    {
     "name": "stdout",
     "output_type": "stream",
     "text": [
      "selecting 30 simillar users...\n",
      "configuring movie formatting...\n",
      "creating the Graph...\n",
      "Staring training fo 30 iterations...\n"
     ]
    },
    {
     "name": "stderr",
     "output_type": "stream",
     "text": [
      "100%|███████████████████████████████████████████████████████████████████████████████████████████████████| 30/30 [00:00<00:00, 567.40it/s]"
     ]
    },
    {
     "name": "stdout",
     "output_type": "stream",
     "text": [
      "0\n",
      "Recommended ID's: [581.0, 4769.0, 581.0, 69529.0, 4769.0]\n",
      "running training and testing for user 17\n",
      " --------------------------------------------\n",
      "importing datasets....\n"
     ]
    },
    {
     "name": "stderr",
     "output_type": "stream",
     "text": [
      "\n"
     ]
    },
    {
     "name": "stdout",
     "output_type": "stream",
     "text": [
      "selecting 30 simillar users...\n",
      "configuring movie formatting...\n",
      "creating the Graph...\n",
      "Staring training fo 30 iterations...\n"
     ]
    },
    {
     "name": "stderr",
     "output_type": "stream",
     "text": [
      "100%|███████████████████████████████████████████████████████████████████████████████████████████████████| 30/30 [00:00<00:00, 571.38it/s]"
     ]
    },
    {
     "name": "stdout",
     "output_type": "stream",
     "text": [
      "0\n",
      "Recommended ID's: [4769.0, 581.0, 4350.0, 8581.0, 8581.0]\n",
      "running training and testing for user 18\n",
      " --------------------------------------------\n",
      "importing datasets....\n"
     ]
    },
    {
     "name": "stderr",
     "output_type": "stream",
     "text": [
      "\n"
     ]
    },
    {
     "name": "stdout",
     "output_type": "stream",
     "text": [
      "selecting 30 simillar users...\n",
      "configuring movie formatting...\n",
      "creating the Graph...\n",
      "Staring training fo 30 iterations...\n"
     ]
    },
    {
     "name": "stderr",
     "output_type": "stream",
     "text": [
      "100%|███████████████████████████████████████████████████████████████████████████████████████████████████| 30/30 [00:00<00:00, 565.97it/s]"
     ]
    },
    {
     "name": "stdout",
     "output_type": "stream",
     "text": [
      "0\n",
      "Recommended ID's: [2064.0, 8581.0, 4304.0, 4769.0, 6327.0]\n",
      "running training and testing for user 19\n",
      " --------------------------------------------\n",
      "importing datasets....\n"
     ]
    },
    {
     "name": "stderr",
     "output_type": "stream",
     "text": [
      "\n"
     ]
    },
    {
     "name": "stdout",
     "output_type": "stream",
     "text": [
      "selecting 30 simillar users...\n",
      "configuring movie formatting...\n",
      "creating the Graph...\n",
      "Staring training fo 30 iterations...\n"
     ]
    },
    {
     "name": "stderr",
     "output_type": "stream",
     "text": [
      "100%|███████████████████████████████████████████████████████████████████████████████████████████████████| 30/30 [00:00<00:00, 569.84it/s]"
     ]
    },
    {
     "name": "stdout",
     "output_type": "stream",
     "text": [
      "0\n",
      "Recommended ID's: [8581.0, 69529.0, 4304.0, 4350.0, 4350.0]\n",
      "running training and testing for user 20\n",
      " --------------------------------------------\n",
      "importing datasets....\n"
     ]
    },
    {
     "name": "stderr",
     "output_type": "stream",
     "text": [
      "\n"
     ]
    },
    {
     "name": "stdout",
     "output_type": "stream",
     "text": [
      "selecting 30 simillar users...\n",
      "configuring movie formatting...\n",
      "creating the Graph...\n",
      "Staring training fo 30 iterations...\n"
     ]
    },
    {
     "name": "stderr",
     "output_type": "stream",
     "text": [
      "100%|███████████████████████████████████████████████████████████████████████████████████████████████████| 30/30 [00:00<00:00, 567.60it/s]"
     ]
    },
    {
     "name": "stdout",
     "output_type": "stream",
     "text": [
      "0\n",
      "Recommended ID's: [581.0, 6327.0, 4769.0, 2064.0, 6327.0]\n",
      "running training and testing for user 21\n",
      " --------------------------------------------\n",
      "importing datasets....\n"
     ]
    },
    {
     "name": "stderr",
     "output_type": "stream",
     "text": [
      "\n"
     ]
    },
    {
     "name": "stdout",
     "output_type": "stream",
     "text": [
      "selecting 30 simillar users...\n",
      "configuring movie formatting...\n",
      "creating the Graph...\n",
      "Staring training fo 30 iterations...\n"
     ]
    },
    {
     "name": "stderr",
     "output_type": "stream",
     "text": [
      "100%|███████████████████████████████████████████████████████████████████████████████████████████████████| 30/30 [00:00<00:00, 575.50it/s]"
     ]
    },
    {
     "name": "stdout",
     "output_type": "stream",
     "text": [
      "0\n",
      "Recommended ID's: [581.0, 69529.0, 4769.0, 1050.0, 6327.0]\n",
      "running training and testing for user 22\n",
      " --------------------------------------------\n",
      "importing datasets....\n"
     ]
    },
    {
     "name": "stderr",
     "output_type": "stream",
     "text": [
      "\n"
     ]
    },
    {
     "name": "stdout",
     "output_type": "stream",
     "text": [
      "selecting 30 simillar users...\n",
      "configuring movie formatting...\n",
      "creating the Graph...\n",
      "Staring training fo 30 iterations...\n"
     ]
    },
    {
     "name": "stderr",
     "output_type": "stream",
     "text": [
      "100%|███████████████████████████████████████████████████████████████████████████████████████████████████| 30/30 [00:00<00:00, 573.32it/s]"
     ]
    },
    {
     "name": "stdout",
     "output_type": "stream",
     "text": [
      "0\n",
      "Recommended ID's: [4304.0, 8581.0, 1050.0, 2064.0, 4769.0]\n",
      "running training and testing for user 23\n",
      " --------------------------------------------\n",
      "importing datasets....\n"
     ]
    },
    {
     "name": "stderr",
     "output_type": "stream",
     "text": [
      "\n"
     ]
    },
    {
     "name": "stdout",
     "output_type": "stream",
     "text": [
      "selecting 30 simillar users...\n",
      "configuring movie formatting...\n",
      "creating the Graph...\n",
      "Staring training fo 30 iterations...\n"
     ]
    },
    {
     "name": "stderr",
     "output_type": "stream",
     "text": [
      "100%|███████████████████████████████████████████████████████████████████████████████████████████████████| 30/30 [00:00<00:00, 514.86it/s]"
     ]
    },
    {
     "name": "stdout",
     "output_type": "stream",
     "text": [
      "0\n",
      "Recommended ID's: [4350.0, 6327.0, 581.0, 4350.0, 6327.0]\n",
      "running training and testing for user 24\n",
      " --------------------------------------------\n",
      "importing datasets....\n"
     ]
    },
    {
     "name": "stderr",
     "output_type": "stream",
     "text": [
      "\n"
     ]
    },
    {
     "name": "stdout",
     "output_type": "stream",
     "text": [
      "selecting 30 simillar users...\n",
      "configuring movie formatting...\n",
      "creating the Graph...\n",
      "Staring training fo 30 iterations...\n"
     ]
    },
    {
     "name": "stderr",
     "output_type": "stream",
     "text": [
      "100%|███████████████████████████████████████████████████████████████████████████████████████████████████| 30/30 [00:00<00:00, 574.81it/s]"
     ]
    },
    {
     "name": "stdout",
     "output_type": "stream",
     "text": [
      "0\n",
      "Recommended ID's: [6327.0, 8581.0, 1050.0, 4304.0, 4769.0]\n",
      "running training and testing for user 25\n",
      " --------------------------------------------\n",
      "importing datasets....\n"
     ]
    },
    {
     "name": "stderr",
     "output_type": "stream",
     "text": [
      "\n"
     ]
    },
    {
     "name": "stdout",
     "output_type": "stream",
     "text": [
      "selecting 30 simillar users...\n",
      "configuring movie formatting...\n",
      "creating the Graph...\n",
      "Staring training fo 30 iterations...\n"
     ]
    },
    {
     "name": "stderr",
     "output_type": "stream",
     "text": [
      "100%|███████████████████████████████████████████████████████████████████████████████████████████████████| 30/30 [00:00<00:00, 572.77it/s]"
     ]
    },
    {
     "name": "stdout",
     "output_type": "stream",
     "text": [
      "0\n",
      "Recommended ID's: [6327.0, 4769.0, 4769.0, 6327.0, 4350.0]\n",
      "running training and testing for user 26\n",
      " --------------------------------------------\n",
      "importing datasets....\n"
     ]
    },
    {
     "name": "stderr",
     "output_type": "stream",
     "text": [
      "\n"
     ]
    },
    {
     "name": "stdout",
     "output_type": "stream",
     "text": [
      "selecting 30 simillar users...\n",
      "configuring movie formatting...\n",
      "creating the Graph...\n",
      "Staring training fo 30 iterations...\n"
     ]
    },
    {
     "name": "stderr",
     "output_type": "stream",
     "text": [
      "100%|███████████████████████████████████████████████████████████████████████████████████████████████████| 30/30 [00:00<00:00, 579.25it/s]"
     ]
    },
    {
     "name": "stdout",
     "output_type": "stream",
     "text": [
      "0\n",
      "Recommended ID's: [8581.0, 2064.0, 2064.0, 8581.0, 8581.0]\n",
      "running training and testing for user 27\n",
      " --------------------------------------------\n",
      "importing datasets....\n"
     ]
    },
    {
     "name": "stderr",
     "output_type": "stream",
     "text": [
      "\n"
     ]
    },
    {
     "name": "stdout",
     "output_type": "stream",
     "text": [
      "selecting 30 simillar users...\n",
      "configuring movie formatting...\n",
      "creating the Graph...\n",
      "Staring training fo 30 iterations...\n"
     ]
    },
    {
     "name": "stderr",
     "output_type": "stream",
     "text": [
      "100%|███████████████████████████████████████████████████████████████████████████████████████████████████| 30/30 [00:00<00:00, 514.37it/s]"
     ]
    },
    {
     "name": "stdout",
     "output_type": "stream",
     "text": [
      "0\n",
      "Recommended ID's: [581.0, 4769.0, 8581.0, 2064.0, 581.0]\n",
      "running training and testing for user 28\n",
      " --------------------------------------------\n",
      "importing datasets....\n"
     ]
    },
    {
     "name": "stderr",
     "output_type": "stream",
     "text": [
      "\n"
     ]
    },
    {
     "name": "stdout",
     "output_type": "stream",
     "text": [
      "selecting 30 simillar users...\n",
      "configuring movie formatting...\n",
      "creating the Graph...\n",
      "Staring training fo 30 iterations...\n"
     ]
    },
    {
     "name": "stderr",
     "output_type": "stream",
     "text": [
      "100%|███████████████████████████████████████████████████████████████████████████████████████████████████| 30/30 [00:00<00:00, 546.90it/s]"
     ]
    },
    {
     "name": "stdout",
     "output_type": "stream",
     "text": [
      "0\n",
      "Recommended ID's: [6327.0, 69529.0, 2064.0, 4350.0, 8581.0]\n",
      "running training and testing for user 29\n",
      " --------------------------------------------\n",
      "importing datasets....\n"
     ]
    },
    {
     "name": "stderr",
     "output_type": "stream",
     "text": [
      "\n"
     ]
    },
    {
     "name": "stdout",
     "output_type": "stream",
     "text": [
      "selecting 30 simillar users...\n",
      "configuring movie formatting...\n",
      "creating the Graph...\n",
      "Staring training fo 30 iterations...\n"
     ]
    },
    {
     "name": "stderr",
     "output_type": "stream",
     "text": [
      "100%|███████████████████████████████████████████████████████████████████████████████████████████████████| 30/30 [00:00<00:00, 569.31it/s]"
     ]
    },
    {
     "name": "stdout",
     "output_type": "stream",
     "text": [
      "0\n",
      "Recommended ID's: [581.0, 2064.0, 4304.0, 2064.0, 4304.0]\n",
      "running training and testing for user 30\n",
      " --------------------------------------------\n",
      "importing datasets....\n"
     ]
    },
    {
     "name": "stderr",
     "output_type": "stream",
     "text": [
      "\n"
     ]
    },
    {
     "name": "stdout",
     "output_type": "stream",
     "text": [
      "selecting 30 simillar users...\n",
      "configuring movie formatting...\n",
      "creating the Graph...\n",
      "Staring training fo 30 iterations...\n"
     ]
    },
    {
     "name": "stderr",
     "output_type": "stream",
     "text": [
      "100%|███████████████████████████████████████████████████████████████████████████████████████████████████| 30/30 [00:00<00:00, 535.81it/s]"
     ]
    },
    {
     "name": "stdout",
     "output_type": "stream",
     "text": [
      "0\n",
      "Recommended ID's: [581.0, 4304.0, 4350.0, 4304.0, 1361.0]\n",
      "running training and testing for user 31\n",
      " --------------------------------------------\n",
      "importing datasets....\n"
     ]
    },
    {
     "name": "stderr",
     "output_type": "stream",
     "text": [
      "\n"
     ]
    },
    {
     "name": "stdout",
     "output_type": "stream",
     "text": [
      "selecting 30 simillar users...\n",
      "configuring movie formatting...\n",
      "creating the Graph...\n",
      "Staring training fo 30 iterations...\n"
     ]
    },
    {
     "name": "stderr",
     "output_type": "stream",
     "text": [
      "100%|███████████████████████████████████████████████████████████████████████████████████████████████████| 30/30 [00:00<00:00, 660.53it/s]"
     ]
    },
    {
     "name": "stdout",
     "output_type": "stream",
     "text": [
      "0\n",
      "Recommended ID's: [1050.0, 69529.0, 6327.0, 6327.0, 2064.0]\n",
      "running training and testing for user 32\n",
      " --------------------------------------------\n",
      "importing datasets....\n"
     ]
    },
    {
     "name": "stderr",
     "output_type": "stream",
     "text": [
      "\n"
     ]
    },
    {
     "name": "stdout",
     "output_type": "stream",
     "text": [
      "selecting 30 simillar users...\n",
      "configuring movie formatting...\n",
      "creating the Graph...\n",
      "Staring training fo 30 iterations...\n"
     ]
    },
    {
     "name": "stderr",
     "output_type": "stream",
     "text": [
      "100%|███████████████████████████████████████████████████████████████████████████████████████████████████| 30/30 [00:00<00:00, 549.15it/s]"
     ]
    },
    {
     "name": "stdout",
     "output_type": "stream",
     "text": [
      "0\n",
      "Recommended ID's: [4304.0, 69529.0, 69529.0, 6327.0, 4769.0]\n",
      "running training and testing for user 33\n",
      " --------------------------------------------\n",
      "importing datasets....\n"
     ]
    },
    {
     "name": "stderr",
     "output_type": "stream",
     "text": [
      "\n"
     ]
    },
    {
     "name": "stdout",
     "output_type": "stream",
     "text": [
      "selecting 30 simillar users...\n",
      "configuring movie formatting...\n",
      "creating the Graph...\n",
      "Staring training fo 30 iterations...\n"
     ]
    },
    {
     "name": "stderr",
     "output_type": "stream",
     "text": [
      "100%|███████████████████████████████████████████████████████████████████████████████████████████████████| 30/30 [00:00<00:00, 484.05it/s]"
     ]
    },
    {
     "name": "stdout",
     "output_type": "stream",
     "text": [
      "0\n",
      "Recommended ID's: [4304.0, 8581.0, 581.0, 4350.0, 4350.0]\n",
      "running training and testing for user 34\n",
      " --------------------------------------------\n",
      "importing datasets....\n"
     ]
    },
    {
     "name": "stderr",
     "output_type": "stream",
     "text": [
      "\n"
     ]
    },
    {
     "name": "stdout",
     "output_type": "stream",
     "text": [
      "selecting 30 simillar users...\n",
      "configuring movie formatting...\n",
      "creating the Graph...\n",
      "Staring training fo 30 iterations...\n"
     ]
    },
    {
     "name": "stderr",
     "output_type": "stream",
     "text": [
      "100%|███████████████████████████████████████████████████████████████████████████████████████████████████| 30/30 [00:00<00:00, 473.12it/s]"
     ]
    },
    {
     "name": "stdout",
     "output_type": "stream",
     "text": [
      "0\n",
      "Recommended ID's: [581.0, 581.0, 4350.0, 4304.0, 4769.0]\n",
      "running training and testing for user 35\n",
      " --------------------------------------------\n",
      "importing datasets....\n"
     ]
    },
    {
     "name": "stderr",
     "output_type": "stream",
     "text": [
      "\n"
     ]
    },
    {
     "name": "stdout",
     "output_type": "stream",
     "text": [
      "selecting 30 simillar users...\n",
      "configuring movie formatting...\n",
      "creating the Graph...\n",
      "Staring training fo 30 iterations...\n"
     ]
    },
    {
     "name": "stderr",
     "output_type": "stream",
     "text": [
      "100%|███████████████████████████████████████████████████████████████████████████████████████████████████| 30/30 [00:00<00:00, 490.24it/s]"
     ]
    },
    {
     "name": "stdout",
     "output_type": "stream",
     "text": [
      "0\n",
      "Recommended ID's: [4350.0, 8581.0, 1050.0, 69529.0, 4350.0]\n",
      "running training and testing for user 36\n",
      " --------------------------------------------\n",
      "importing datasets....\n"
     ]
    },
    {
     "name": "stderr",
     "output_type": "stream",
     "text": [
      "\n"
     ]
    },
    {
     "name": "stdout",
     "output_type": "stream",
     "text": [
      "selecting 30 simillar users...\n",
      "configuring movie formatting...\n",
      "creating the Graph...\n",
      "Staring training fo 30 iterations...\n"
     ]
    },
    {
     "name": "stderr",
     "output_type": "stream",
     "text": [
      "100%|███████████████████████████████████████████████████████████████████████████████████████████████████| 30/30 [00:00<00:00, 511.98it/s]"
     ]
    },
    {
     "name": "stdout",
     "output_type": "stream",
     "text": [
      "0\n",
      "Recommended ID's: [6327.0, 8581.0, 8581.0, 4769.0, 8581.0]\n",
      "running training and testing for user 37\n",
      " --------------------------------------------\n",
      "importing datasets....\n"
     ]
    },
    {
     "name": "stderr",
     "output_type": "stream",
     "text": [
      "\n"
     ]
    },
    {
     "name": "stdout",
     "output_type": "stream",
     "text": [
      "selecting 30 simillar users...\n",
      "configuring movie formatting...\n",
      "creating the Graph...\n",
      "Staring training fo 30 iterations...\n"
     ]
    },
    {
     "name": "stderr",
     "output_type": "stream",
     "text": [
      "100%|███████████████████████████████████████████████████████████████████████████████████████████████████| 30/30 [00:00<00:00, 488.43it/s]"
     ]
    },
    {
     "name": "stdout",
     "output_type": "stream",
     "text": [
      "0\n",
      "Recommended ID's: [4350.0, 69529.0, 4769.0, 6327.0, 4304.0]\n",
      "running training and testing for user 38\n",
      " --------------------------------------------\n",
      "importing datasets....\n",
      "selecting 30 simillar users...\n"
     ]
    },
    {
     "name": "stderr",
     "output_type": "stream",
     "text": [
      "\n"
     ]
    },
    {
     "name": "stdout",
     "output_type": "stream",
     "text": [
      "configuring movie formatting...\n",
      "creating the Graph...\n",
      "Staring training fo 30 iterations...\n"
     ]
    },
    {
     "name": "stderr",
     "output_type": "stream",
     "text": [
      "100%|███████████████████████████████████████████████████████████████████████████████████████████████████| 30/30 [00:00<00:00, 455.76it/s]"
     ]
    },
    {
     "name": "stdout",
     "output_type": "stream",
     "text": [
      "0\n",
      "Recommended ID's: [8581.0, 69529.0, 4304.0, 4769.0, 69529.0]\n",
      "running training and testing for user 39\n",
      " --------------------------------------------\n",
      "importing datasets....\n"
     ]
    },
    {
     "name": "stderr",
     "output_type": "stream",
     "text": [
      "\n"
     ]
    },
    {
     "name": "stdout",
     "output_type": "stream",
     "text": [
      "selecting 30 simillar users...\n",
      "configuring movie formatting...\n",
      "creating the Graph...\n",
      "Staring training fo 30 iterations...\n"
     ]
    },
    {
     "name": "stderr",
     "output_type": "stream",
     "text": [
      "100%|███████████████████████████████████████████████████████████████████████████████████████████████████| 30/30 [00:00<00:00, 544.32it/s]"
     ]
    },
    {
     "name": "stdout",
     "output_type": "stream",
     "text": [
      "0\n",
      "Recommended ID's: [4304.0, 6327.0, 581.0, 4304.0, 2064.0]\n",
      "running training and testing for user 40\n",
      " --------------------------------------------\n",
      "importing datasets....\n"
     ]
    },
    {
     "name": "stderr",
     "output_type": "stream",
     "text": [
      "\n"
     ]
    },
    {
     "name": "stdout",
     "output_type": "stream",
     "text": [
      "selecting 30 simillar users...\n",
      "configuring movie formatting...\n",
      "creating the Graph...\n",
      "Staring training fo 30 iterations...\n"
     ]
    },
    {
     "name": "stderr",
     "output_type": "stream",
     "text": [
      "100%|███████████████████████████████████████████████████████████████████████████████████████████████████| 30/30 [00:00<00:00, 520.87it/s]"
     ]
    },
    {
     "name": "stdout",
     "output_type": "stream",
     "text": [
      "0\n",
      "Recommended ID's: [69529.0, 1050.0, 1050.0, 4350.0, 8581.0]\n",
      "running training and testing for user 41\n",
      " --------------------------------------------\n",
      "importing datasets....\n"
     ]
    },
    {
     "name": "stderr",
     "output_type": "stream",
     "text": [
      "\n"
     ]
    },
    {
     "name": "stdout",
     "output_type": "stream",
     "text": [
      "selecting 30 simillar users...\n",
      "configuring movie formatting...\n",
      "creating the Graph...\n",
      "Staring training fo 30 iterations...\n"
     ]
    },
    {
     "name": "stderr",
     "output_type": "stream",
     "text": [
      "100%|███████████████████████████████████████████████████████████████████████████████████████████████████| 30/30 [00:00<00:00, 523.05it/s]"
     ]
    },
    {
     "name": "stdout",
     "output_type": "stream",
     "text": [
      "0\n",
      "Recommended ID's: [2064.0, 1050.0, 69529.0, 1050.0, 581.0]\n",
      "running training and testing for user 42\n",
      " --------------------------------------------\n",
      "importing datasets....\n"
     ]
    },
    {
     "name": "stderr",
     "output_type": "stream",
     "text": [
      "\n"
     ]
    },
    {
     "name": "stdout",
     "output_type": "stream",
     "text": [
      "selecting 30 simillar users...\n",
      "configuring movie formatting...\n",
      "creating the Graph...\n",
      "Staring training fo 30 iterations...\n"
     ]
    },
    {
     "name": "stderr",
     "output_type": "stream",
     "text": [
      "100%|███████████████████████████████████████████████████████████████████████████████████████████████████| 30/30 [00:00<00:00, 515.46it/s]"
     ]
    },
    {
     "name": "stdout",
     "output_type": "stream",
     "text": [
      "0\n",
      "Recommended ID's: [69529.0, 1050.0, 6327.0, 6327.0, 6327.0]\n",
      "running training and testing for user 43\n",
      " --------------------------------------------\n",
      "importing datasets....\n"
     ]
    },
    {
     "name": "stderr",
     "output_type": "stream",
     "text": [
      "\n"
     ]
    },
    {
     "name": "stdout",
     "output_type": "stream",
     "text": [
      "selecting 30 simillar users...\n",
      "configuring movie formatting...\n",
      "creating the Graph...\n",
      "Staring training fo 30 iterations...\n"
     ]
    },
    {
     "name": "stderr",
     "output_type": "stream",
     "text": [
      "100%|███████████████████████████████████████████████████████████████████████████████████████████████████| 30/30 [00:00<00:00, 496.19it/s]"
     ]
    },
    {
     "name": "stdout",
     "output_type": "stream",
     "text": [
      "0\n",
      "Recommended ID's: [8581.0, 4350.0, 4350.0, 2064.0, 4350.0]\n",
      "running training and testing for user 44\n",
      " --------------------------------------------\n",
      "importing datasets....\n"
     ]
    },
    {
     "name": "stderr",
     "output_type": "stream",
     "text": [
      "\n"
     ]
    },
    {
     "name": "stdout",
     "output_type": "stream",
     "text": [
      "selecting 30 simillar users...\n",
      "configuring movie formatting...\n",
      "creating the Graph...\n",
      "Staring training fo 30 iterations...\n"
     ]
    },
    {
     "name": "stderr",
     "output_type": "stream",
     "text": [
      "100%|███████████████████████████████████████████████████████████████████████████████████████████████████| 30/30 [00:00<00:00, 547.24it/s]"
     ]
    },
    {
     "name": "stdout",
     "output_type": "stream",
     "text": [
      "0\n",
      "Recommended ID's: [4350.0, 2064.0, 1050.0, 2064.0, 2064.0]\n",
      "running training and testing for user 45\n",
      " --------------------------------------------\n",
      "importing datasets....\n"
     ]
    },
    {
     "name": "stderr",
     "output_type": "stream",
     "text": [
      "\n"
     ]
    },
    {
     "name": "stdout",
     "output_type": "stream",
     "text": [
      "selecting 30 simillar users...\n",
      "configuring movie formatting...\n",
      "creating the Graph...\n",
      "Staring training fo 30 iterations...\n"
     ]
    },
    {
     "name": "stderr",
     "output_type": "stream",
     "text": [
      "100%|███████████████████████████████████████████████████████████████████████████████████████████████████| 30/30 [00:00<00:00, 546.81it/s]"
     ]
    },
    {
     "name": "stdout",
     "output_type": "stream",
     "text": [
      "0\n",
      "Recommended ID's: [1050.0, 8581.0, 6327.0, 1050.0, 8581.0]\n",
      "running training and testing for user 46\n",
      " --------------------------------------------\n",
      "importing datasets....\n"
     ]
    },
    {
     "name": "stderr",
     "output_type": "stream",
     "text": [
      "\n"
     ]
    },
    {
     "name": "stdout",
     "output_type": "stream",
     "text": [
      "selecting 30 simillar users...\n",
      "configuring movie formatting...\n",
      "creating the Graph...\n",
      "Staring training fo 30 iterations...\n"
     ]
    },
    {
     "name": "stderr",
     "output_type": "stream",
     "text": [
      "100%|███████████████████████████████████████████████████████████████████████████████████████████████████| 30/30 [00:00<00:00, 483.92it/s]"
     ]
    },
    {
     "name": "stdout",
     "output_type": "stream",
     "text": [
      "0\n",
      "Recommended ID's: [4769.0, 8581.0, 4769.0, 1050.0, 69529.0]\n",
      "running training and testing for user 47\n",
      " --------------------------------------------\n",
      "importing datasets....\n"
     ]
    },
    {
     "name": "stderr",
     "output_type": "stream",
     "text": [
      "\n"
     ]
    },
    {
     "name": "stdout",
     "output_type": "stream",
     "text": [
      "selecting 30 simillar users...\n",
      "configuring movie formatting...\n",
      "creating the Graph...\n",
      "Staring training fo 30 iterations...\n"
     ]
    },
    {
     "name": "stderr",
     "output_type": "stream",
     "text": [
      "100%|███████████████████████████████████████████████████████████████████████████████████████████████████| 30/30 [00:00<00:00, 588.50it/s]"
     ]
    },
    {
     "name": "stdout",
     "output_type": "stream",
     "text": [
      "0\n",
      "Recommended ID's: [4304.0, 8581.0, 69529.0, 581.0, 1050.0]\n",
      "running training and testing for user 48\n",
      " --------------------------------------------\n",
      "importing datasets....\n",
      "selecting 30 simillar users...\n"
     ]
    },
    {
     "name": "stderr",
     "output_type": "stream",
     "text": [
      "\n"
     ]
    },
    {
     "name": "stdout",
     "output_type": "stream",
     "text": [
      "configuring movie formatting...\n",
      "creating the Graph...\n",
      "Staring training fo 30 iterations...\n"
     ]
    },
    {
     "name": "stderr",
     "output_type": "stream",
     "text": [
      "100%|███████████████████████████████████████████████████████████████████████████████████████████████████| 30/30 [00:00<00:00, 461.21it/s]"
     ]
    },
    {
     "name": "stdout",
     "output_type": "stream",
     "text": [
      "0\n",
      "Recommended ID's: [581.0, 69529.0, 1361.0, 4350.0, 1050.0]\n",
      "running training and testing for user 49\n",
      " --------------------------------------------\n",
      "importing datasets....\n"
     ]
    },
    {
     "name": "stderr",
     "output_type": "stream",
     "text": [
      "\n"
     ]
    },
    {
     "name": "stdout",
     "output_type": "stream",
     "text": [
      "selecting 30 simillar users...\n",
      "configuring movie formatting...\n",
      "creating the Graph...\n",
      "Staring training fo 30 iterations...\n"
     ]
    },
    {
     "name": "stderr",
     "output_type": "stream",
     "text": [
      "100%|███████████████████████████████████████████████████████████████████████████████████████████████████| 30/30 [00:00<00:00, 520.28it/s]"
     ]
    },
    {
     "name": "stdout",
     "output_type": "stream",
     "text": [
      "0\n",
      "Recommended ID's: [4350.0, 1050.0, 2064.0, 69529.0, 2064.0]\n",
      "genre: Documentary\n",
      "overall accuracy is 0.8\n",
      "running training and testing for user 0\n",
      " --------------------------------------------\n",
      "importing datasets....\n"
     ]
    },
    {
     "name": "stderr",
     "output_type": "stream",
     "text": [
      "\n"
     ]
    },
    {
     "name": "stdout",
     "output_type": "stream",
     "text": [
      "selecting 30 simillar users...\n",
      "configuring movie formatting...\n",
      "creating the Graph...\n",
      "Staring training fo 30 iterations...\n"
     ]
    },
    {
     "name": "stderr",
     "output_type": "stream",
     "text": [
      "100%|███████████████████████████████████████████████████████████████████████████████████████████████████| 30/30 [00:00<00:00, 814.64it/s]"
     ]
    },
    {
     "name": "stdout",
     "output_type": "stream",
     "text": [
      "0\n",
      "Recommended ID's: [1920.0, 6818.0, 1920.0, 6818.0, 750.0]\n",
      "running training and testing for user 1\n",
      " --------------------------------------------\n",
      "importing datasets....\n",
      "selecting 30 simillar users...\n"
     ]
    },
    {
     "name": "stderr",
     "output_type": "stream",
     "text": [
      "\n"
     ]
    },
    {
     "name": "stdout",
     "output_type": "stream",
     "text": [
      "configuring movie formatting...\n",
      "creating the Graph...\n",
      "Staring training fo 30 iterations...\n"
     ]
    },
    {
     "name": "stderr",
     "output_type": "stream",
     "text": [
      "100%|███████████████████████████████████████████████████████████████████████████████████████████████████| 30/30 [00:00<00:00, 886.68it/s]"
     ]
    },
    {
     "name": "stdout",
     "output_type": "stream",
     "text": [
      "0\n",
      "Recommended ID's: [1507.0, 1920.0, 527.0, 1507.0, 1920.0]\n",
      "running training and testing for user 2\n",
      " --------------------------------------------\n",
      "importing datasets....\n"
     ]
    },
    {
     "name": "stderr",
     "output_type": "stream",
     "text": [
      "\n"
     ]
    },
    {
     "name": "stdout",
     "output_type": "stream",
     "text": [
      "selecting 30 simillar users...\n",
      "configuring movie formatting...\n",
      "creating the Graph...\n",
      "Staring training fo 30 iterations...\n"
     ]
    },
    {
     "name": "stderr",
     "output_type": "stream",
     "text": [
      "100%|███████████████████████████████████████████████████████████████████████████████████████████████████| 30/30 [00:00<00:00, 928.72it/s]"
     ]
    },
    {
     "name": "stdout",
     "output_type": "stream",
     "text": [
      "0\n",
      "Recommended ID's: [527.0, 527.0, 750.0, 6818.0, 527.0]\n",
      "running training and testing for user 3\n",
      " --------------------------------------------\n",
      "importing datasets....\n",
      "selecting 30 simillar users...\n"
     ]
    },
    {
     "name": "stderr",
     "output_type": "stream",
     "text": [
      "\n"
     ]
    },
    {
     "name": "stdout",
     "output_type": "stream",
     "text": [
      "configuring movie formatting...\n",
      "creating the Graph...\n",
      "Staring training fo 30 iterations...\n"
     ]
    },
    {
     "name": "stderr",
     "output_type": "stream",
     "text": [
      "  0%|                                                                                                             | 0/30 [00:00<?, ?it/s]\n"
     ]
    },
    {
     "ename": "TypeError",
     "evalue": "'float' object is not subscriptable",
     "output_type": "error",
     "traceback": [
      "\u001b[1;31m---------------------------------------------------------------------------\u001b[0m",
      "\u001b[1;31mTypeError\u001b[0m                                 Traceback (most recent call last)",
      "Input \u001b[1;32mIn [15]\u001b[0m, in \u001b[0;36m<cell line: 2>\u001b[1;34m()\u001b[0m\n\u001b[0;32m      4\u001b[0m \u001b[38;5;28;01mfor\u001b[39;00m i,rev_list \u001b[38;5;129;01min\u001b[39;00m \u001b[38;5;28menumerate\u001b[39m(train_revs):\n\u001b[0;32m      5\u001b[0m     \u001b[38;5;28mprint\u001b[39m(\u001b[38;5;124mf\u001b[39m\u001b[38;5;124m\"\u001b[39m\u001b[38;5;124mrunning training and testing for user \u001b[39m\u001b[38;5;132;01m{\u001b[39;00mi\u001b[38;5;132;01m}\u001b[39;00m\u001b[38;5;130;01m\\n\u001b[39;00m\u001b[38;5;124m --------------------------------------------\u001b[39m\u001b[38;5;124m\"\u001b[39m)\n\u001b[1;32m----> 6\u001b[0m     recs \u001b[38;5;241m=\u001b[39m \u001b[43mmain\u001b[49m\u001b[43m \u001b[49m\u001b[43m(\u001b[49m\u001b[43mnum_agents\u001b[49m\u001b[43m \u001b[49m\u001b[38;5;241;43m=\u001b[39;49m\u001b[38;5;241;43m30\u001b[39;49m\u001b[43m \u001b[49m\u001b[43m,\u001b[49m\u001b[43m \u001b[49m\u001b[43mnum_iter\u001b[49m\u001b[43m \u001b[49m\u001b[38;5;241;43m=\u001b[39;49m\u001b[43m \u001b[49m\u001b[38;5;241;43m30\u001b[39;49m\u001b[43m,\u001b[49m\u001b[43m \u001b[49m\u001b[43mnum_movies\u001b[49m\u001b[43m \u001b[49m\u001b[38;5;241;43m=\u001b[39;49m\u001b[43m \u001b[49m\u001b[38;5;241;43m5\u001b[39;49m\u001b[43m \u001b[49m\u001b[43m,\u001b[49m\u001b[43m \u001b[49m\u001b[43mgenre\u001b[49m\u001b[38;5;241;43m=\u001b[39;49m\u001b[43m[\u001b[49m\u001b[43mgenre\u001b[49m\u001b[43m]\u001b[49m\u001b[43m,\u001b[49m\u001b[43mgenre_exclude\u001b[49m\u001b[38;5;241;43m=\u001b[39;49m\u001b[43m[\u001b[49m\u001b[43m]\u001b[49m\u001b[43m,\u001b[49m\u001b[43m \u001b[49m\u001b[43mexclude_users\u001b[49m\u001b[43m \u001b[49m\u001b[38;5;241;43m=\u001b[39;49m\u001b[43m \u001b[49m\u001b[43mchosen_users\u001b[49m\u001b[43m \u001b[49m\u001b[43m,\u001b[49m\u001b[43m \u001b[49m\u001b[43muserlist\u001b[49m\u001b[43m \u001b[49m\u001b[38;5;241;43m=\u001b[39;49m\u001b[43m \u001b[49m\u001b[43mrev_list\u001b[49m\u001b[43m \u001b[49m\u001b[43m,\u001b[49m\u001b[43mrating_fn\u001b[49m\u001b[43m \u001b[49m\u001b[38;5;241;43m=\u001b[39;49m\u001b[43m \u001b[49m\u001b[38;5;124;43m\"\u001b[39;49m\u001b[38;5;124;43m./generation_saves/ratings_gen_1000.csv\u001b[39;49m\u001b[38;5;124;43m\"\u001b[39;49m\u001b[43m,\u001b[49m\u001b[43m \u001b[49m\u001b[43msimillarility_fn\u001b[49m\u001b[43m \u001b[49m\u001b[38;5;241;43m=\u001b[39;49m\u001b[43m \u001b[49m\u001b[38;5;124;43m\"\u001b[39;49m\u001b[38;5;124;43m./simillarity_matrix_normalized.csv\u001b[39;49m\u001b[38;5;124;43m\"\u001b[39;49m\u001b[43m,\u001b[49m\u001b[43m \u001b[49m\u001b[43malpha\u001b[49m\u001b[38;5;241;43m=\u001b[39;49m\u001b[43m \u001b[49m\u001b[38;5;241;43m0.2\u001b[39;49m\u001b[43m,\u001b[49m\u001b[43mbeta\u001b[49m\u001b[43m \u001b[49m\u001b[38;5;241;43m=\u001b[39;49m\u001b[38;5;241;43m0.8\u001b[39;49m\u001b[43m,\u001b[49m\u001b[43mdecay\u001b[49m\u001b[38;5;241;43m=\u001b[39;49m\u001b[38;5;241;43m0.05\u001b[39;49m\u001b[43m)\u001b[49m\n\u001b[0;32m      7\u001b[0m     precent_overlap, ra \u001b[38;5;241m=\u001b[39m evaluate_reccomendations(recs,test_revs[i])\n\u001b[0;32m      8\u001b[0m     \u001b[38;5;28;01mif\u001b[39;00m (precent_overlap \u001b[38;5;241m!=\u001b[39m \u001b[38;5;241m0\u001b[39m ):\n",
      "Input \u001b[1;32mIn [11]\u001b[0m, in \u001b[0;36mmain\u001b[1;34m(num_agents, num_iter, num_movies, genre, genre_exclude, exclude_users, userlist, rating_fn, simillarility_fn, alpha, beta, decay)\u001b[0m\n\u001b[0;32m     40\u001b[0m \u001b[38;5;28mprint\u001b[39m(\u001b[38;5;124mf\u001b[39m\u001b[38;5;124m\"\u001b[39m\u001b[38;5;124mStaring training fo \u001b[39m\u001b[38;5;132;01m{\u001b[39;00mnum_iter\u001b[38;5;132;01m}\u001b[39;00m\u001b[38;5;124m iterations...\u001b[39m\u001b[38;5;124m\"\u001b[39m)\n\u001b[0;32m     41\u001b[0m \u001b[38;5;28;01mfor\u001b[39;00m i \u001b[38;5;129;01min\u001b[39;00m tqdm(\u001b[38;5;28mrange\u001b[39m (\u001b[38;5;241m0\u001b[39m,num_iter)):\n\u001b[1;32m---> 42\u001b[0m     \u001b[43mgraph\u001b[49m\u001b[38;5;241;43m.\u001b[39;49m\u001b[43mone_iter\u001b[49m\u001b[43m(\u001b[49m\u001b[43m)\u001b[49m\n\u001b[0;32m     44\u001b[0m movies_user_already_watched \u001b[38;5;241m=\u001b[39m [mid \u001b[38;5;28;01mfor\u001b[39;00m mid,rate \u001b[38;5;129;01min\u001b[39;00m userlist ]\n\u001b[0;32m     45\u001b[0m recs \u001b[38;5;241m=\u001b[39m graph\u001b[38;5;241m.\u001b[39mcompute_best_rec (movies_user_already_watched)\n",
      "Input \u001b[1;32mIn [6]\u001b[0m, in \u001b[0;36mAnt_Graph.one_iter\u001b[1;34m(self)\u001b[0m\n\u001b[0;32m     88\u001b[0m \u001b[38;5;28mself\u001b[39m\u001b[38;5;241m.\u001b[39mants\u001b[38;5;241m.\u001b[39mclear()\n\u001b[0;32m     89\u001b[0m \u001b[38;5;28;01mfor\u001b[39;00m step \u001b[38;5;129;01min\u001b[39;00m \u001b[38;5;28mrange\u001b[39m(\u001b[38;5;241m0\u001b[39m,\u001b[38;5;28mself\u001b[39m\u001b[38;5;241m.\u001b[39mtrail_max_len):\n\u001b[0;32m     90\u001b[0m     \u001b[38;5;66;03m#print(\"test\")\u001b[39;00m\n\u001b[1;32m---> 91\u001b[0m     \u001b[38;5;28;43mself\u001b[39;49m\u001b[38;5;241;43m.\u001b[39;49m\u001b[43mants\u001b[49m\u001b[38;5;241;43m.\u001b[39;49m\u001b[43mmove_all_ants\u001b[49m\u001b[43m(\u001b[49m\u001b[38;5;28;43mself\u001b[39;49m\u001b[38;5;241;43m.\u001b[39;49m\u001b[43mgraph_edge_weights\u001b[49m\u001b[43m)\u001b[49m\n\u001b[0;32m     93\u001b[0m \u001b[38;5;28mself\u001b[39m\u001b[38;5;241m.\u001b[39mupdate_edge_weights()\n\u001b[0;32m     94\u001b[0m \u001b[38;5;28mself\u001b[39m\u001b[38;5;241m.\u001b[39mants\u001b[38;5;241m.\u001b[39mclear()\n",
      "Input \u001b[1;32mIn [4]\u001b[0m, in \u001b[0;36mAntColony.move_all_ants\u001b[1;34m(self, edge_weights)\u001b[0m\n\u001b[0;32m     22\u001b[0m     \u001b[38;5;28;01mdef\u001b[39;00m \u001b[38;5;21mmove_all_ants\u001b[39m (\u001b[38;5;28mself\u001b[39m,edge_weights):\n\u001b[0;32m     23\u001b[0m \u001b[38;5;66;03m#         print(\"moving all ants\")\u001b[39;00m\n\u001b[0;32m     24\u001b[0m \u001b[38;5;66;03m#         print(f\"num ants: {len(self.ants)}\")\u001b[39;00m\n\u001b[0;32m     25\u001b[0m         \u001b[38;5;28;01mfor\u001b[39;00m ant \u001b[38;5;129;01min\u001b[39;00m \u001b[38;5;28mself\u001b[39m\u001b[38;5;241m.\u001b[39mants:\n\u001b[1;32m---> 26\u001b[0m             movie_id \u001b[38;5;241m=\u001b[39m \u001b[38;5;28;43mself\u001b[39;49m\u001b[38;5;241;43m.\u001b[39;49m\u001b[43mdetermine_next_movie\u001b[49m\u001b[43m(\u001b[49m\u001b[43mant\u001b[49m\u001b[43m,\u001b[49m\u001b[43medge_weights\u001b[49m\u001b[43m[\u001b[49m\u001b[43mant\u001b[49m\u001b[38;5;241;43m.\u001b[39;49m\u001b[43mget_current\u001b[49m\u001b[43m \u001b[49m\u001b[43m(\u001b[49m\u001b[43m)\u001b[49m\u001b[43m]\u001b[49m\u001b[43m)\u001b[49m\n\u001b[0;32m     27\u001b[0m             ant\u001b[38;5;241m.\u001b[39mwatch_movie(movie_id)\n",
      "Input \u001b[1;32mIn [4]\u001b[0m, in \u001b[0;36mAntColony.determine_next_movie\u001b[1;34m(self, ant, edge_weights)\u001b[0m\n\u001b[0;32m     89\u001b[0m     temp \u001b[38;5;241m=\u001b[39m [k \u001b[38;5;28;01mfor\u001b[39;00m k \u001b[38;5;129;01min\u001b[39;00m edge_weights\u001b[38;5;241m.\u001b[39mkeys()] \n\u001b[0;32m     90\u001b[0m     choice \u001b[38;5;241m=\u001b[39m random\u001b[38;5;241m.\u001b[39mchoice(temp)\n\u001b[1;32m---> 91\u001b[0m \u001b[38;5;28;01mreturn\u001b[39;00m \u001b[38;5;241m0\u001b[39m \u001b[38;5;28;01mif\u001b[39;00m choice \u001b[38;5;241m==\u001b[39m [] \u001b[38;5;28;01melse\u001b[39;00m \u001b[43mchoice\u001b[49m\u001b[43m[\u001b[49m\u001b[38;5;241;43m0\u001b[39;49m\u001b[43m]\u001b[49m\n",
      "\u001b[1;31mTypeError\u001b[0m: 'float' object is not subscriptable"
     ]
    }
   ],
   "source": [
    "acc_scores = {}\n",
    "for genre in genres:\n",
    "    ra_list = []\n",
    "    for i,rev_list in enumerate(train_revs):\n",
    "        print(f\"running training and testing for user {i}\\n --------------------------------------------\")\n",
    "        recs = main (num_agents =30 , num_iter = 30, num_movies = 5 , genre=[genre],genre_exclude=[], exclude_users = chosen_users , userlist = rev_list ,rating_fn = \"./generation_saves/ratings_gen_1000.csv\", simillarility_fn = \"./simillarity_matrix_normalized.csv\", alpha= 0.2,beta =0.8,decay=0.05)\n",
    "        precent_overlap, ra = evaluate_reccomendations(recs,test_revs[i])\n",
    "        if (precent_overlap != 0 ):\n",
    "            ra_list.append(ra)\n",
    "\n",
    "    print(f\"genre: {genre}\")\n",
    "    if (len(ra_list) > 0):\n",
    "        print (f\"overall accuracy is {sum(ra_list)/len(ra_list)}\")\n",
    "        acc_scores [genre] = sum(ra_list)/len(ra_list)\n",
    "    \n",
    "print(acc_scores)"
   ]
  },
  {
   "cell_type": "code",
   "execution_count": 16,
   "id": "5592d6a1",
   "metadata": {},
   "outputs": [
    {
     "name": "stdout",
     "output_type": "stream",
     "text": [
      "{'Adventure': 0.726923076923077, 'Animation': 0.7000000000000001, 'Children': 0.788888888888889, 'Comedy': 0.66, 'Fantasy': 0.7875000000000001, 'Romance': 0.65, 'Drama': 0.7333333333333334, 'Action': 0.535, 'Crime': 0.9500000000000001, 'Thriller': 0.8100000000000002, 'Horror': 0.625, 'Mystery': 0.7555555555555555, 'Sci-Fi': 0.56, 'IMAX': 0.725, 'Documentary': 0.8}\n"
     ]
    }
   ],
   "source": [
    "print(acc_scores)"
   ]
  },
  {
   "cell_type": "code",
   "execution_count": null,
   "id": "7e731f39",
   "metadata": {},
   "outputs": [],
   "source": [
    "acc_scores_ex = {}\n",
    "count = 0 \n",
    "for genre in genres:\n",
    "    ra_list = []\n",
    "    for i,rev_list in enumerate(train_revs):\n",
    "        print(f\"running training and testing for user {i}\\n --------------------------------------------\")\n",
    "        recs = main (num_agents =30 , num_iter = 30, num_movies = 5 , genre=[],genre_exclude=[genre], exclude_users = chosen_users , userlist = rev_list ,rating_fn = \"./generation_saves/ratings_gen_1000.csv\", simillarility_fn = \"./simillarity_matrix_normalized.csv\", alpha= 0.2,beta =0.8,decay=0.05)\n",
    "        precent_overlap, ra = evaluate_reccomendations(recs,test_revs[i])\n",
    "        if (precent_overlap != 0 ):\n",
    "            ra_list.append(ra)\n",
    "    if (len(ra_list) > 0):\n",
    "        count+=1\n",
    "        print(f\"genre: {genre}\")\n",
    "        print (f\"overall accuracy is {sum(ra_list)/len(ra_list)}\")\n",
    "        acc_scores_ex [genre] = sum(ra_list)/len(ra_list)\n",
    "        if (count == 13):\n",
    "            break\n",
    "    "
   ]
  },
  {
   "cell_type": "code",
   "execution_count": null,
   "id": "54ccd39f",
   "metadata": {},
   "outputs": [],
   "source": [
    "print(acc_scores_ex)"
   ]
  },
  {
   "cell_type": "code",
   "execution_count": null,
   "id": "3db99881",
   "metadata": {},
   "outputs": [],
   "source": [
    "from itertools import combinations\n",
    "conjoined_genres  = combinations(genres, 2)\n",
    "count = 0 \n",
    "acc_scores_2 = {}\n",
    "for genre in genres:\n",
    "    ra_list = []\n",
    "    for i,rev_list in enumerate(train_revs):\n",
    "        print(f\"running training and testing for user {i}\\n --------------------------------------------\")\n",
    "        recs = main (num_agents =30 , num_iter = 30, num_movies = 5 , genre=[],genre_exclude=[genre], exclude_users = chosen_users , userlist = rev_list ,rating_fn = \"./generation_saves/ratings_gen_1000.csv\", simillarility_fn = \"./simillarity_matrix_normalized.csv\", alpha= 0.2,beta =0.8,decay=0.05)\n",
    "        precent_overlap, ra = evaluate_reccomendations(recs,test_revs[i])\n",
    "        if (precent_overlap != 0 ):\n",
    "            ra_list.append(ra)\n",
    "\n",
    "    if (len(ra_list) > 0):\n",
    "        print(f\"genre: {genre}\")\n",
    "        print (f\"overall accuracy is {sum(ra_list)/len(ra_list)}\")\n",
    "        acc_scores_2 [\"|\".join(genre)] = sum(ra_list)/len(ra_list)\n",
    "        count+=1\n",
    "        if (count == 13):\n",
    "            break\n",
    "\n",
    "print(acc_scores_2)"
   ]
  },
  {
   "cell_type": "code",
   "execution_count": null,
   "id": "d755a9e1",
   "metadata": {},
   "outputs": [],
   "source": [
    "from itertools import combinations\n",
    "conjoined_genres  = combinations(genres, 3)\n",
    "count = 0 \n",
    "acc_scores_3 = {}\n",
    "for genre in genres:\n",
    "    ra_list = []\n",
    "    for i,rev_list in enumerate(train_revs):\n",
    "        print(f\"running training and testing for user {i}\\n --------------------------------------------\")\n",
    "        recs = main (num_agents =30 , num_iter = 30, num_movies = 5 , genre=[],genre_exclude=[genre], exclude_users = chosen_users , userlist = rev_list ,rating_fn = \"./generation_saves/ratings_gen_1000.csv\", simillarility_fn = \"./simillarity_matrix_normalized.csv\", alpha= 0.2,beta =0.8,decay=0.05)\n",
    "        precent_overlap, ra = evaluate_reccomendations(recs,test_revs[i])\n",
    "        if (precent_overlap != 0 ):\n",
    "            ra_list.append(ra)\n",
    "\n",
    "    if (len(ra_list) > 0):\n",
    "        print(f\"genre: {genre}\")\n",
    "        print (f\"overall accuracy is {sum(ra_list)/len(ra_list)}\")\n",
    "        acc_scores_3 [\"|\".join(genre)] = sum(ra_list)/len(ra_list)\n",
    "        count+=1\n",
    "        if (count == 13):\n",
    "            break\n",
    "    \n",
    "print(acc_scores_3)"
   ]
  },
  {
   "cell_type": "code",
   "execution_count": null,
   "id": "163fb791",
   "metadata": {},
   "outputs": [],
   "source": []
  }
 ],
 "metadata": {
  "kernelspec": {
   "display_name": "Python 3 (ipykernel)",
   "language": "python",
   "name": "python3"
  },
  "language_info": {
   "codemirror_mode": {
    "name": "ipython",
    "version": 3
   },
   "file_extension": ".py",
   "mimetype": "text/x-python",
   "name": "python",
   "nbconvert_exporter": "python",
   "pygments_lexer": "ipython3",
   "version": "3.9.13"
  }
 },
 "nbformat": 4,
 "nbformat_minor": 5
}
